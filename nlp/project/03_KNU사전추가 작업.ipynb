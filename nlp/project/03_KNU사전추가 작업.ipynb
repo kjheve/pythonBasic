{
 "cells": [
  {
   "cell_type": "markdown",
   "id": "3b390e8c",
   "metadata": {},
   "source": [
    "## Import"
   ]
  },
  {
   "cell_type": "code",
   "execution_count": 158,
   "id": "4d7a42cf",
   "metadata": {},
   "outputs": [],
   "source": [
    "# 데이터 분석\n",
    "import pandas as pd\n",
    "import numpy as np"
   ]
  },
  {
   "cell_type": "code",
   "execution_count": 159,
   "id": "3f836eab",
   "metadata": {},
   "outputs": [],
   "source": [
    "# 시각화\n",
    "import seaborn as sns\n",
    "import matplotlib.pyplot as plt\n",
    "import koreanize_matplotlib"
   ]
  },
  {
   "cell_type": "code",
   "execution_count": 160,
   "id": "c5f21da7",
   "metadata": {},
   "outputs": [],
   "source": [
    "# 정규표현식\n",
    "import re"
   ]
  },
  {
   "cell_type": "code",
   "execution_count": 161,
   "id": "c12c6a60",
   "metadata": {},
   "outputs": [],
   "source": [
    "# 형태소분석 okt\n",
    "from konlpy.tag import Okt"
   ]
  },
  {
   "cell_type": "markdown",
   "id": "e31e15ac",
   "metadata": {},
   "source": [
    "## 감성사전으로 라벨링 작업"
   ]
  },
  {
   "cell_type": "markdown",
   "id": "71ff3711",
   "metadata": {},
   "source": [
    "### 어간 추출까지 완료된 파일불러오기"
   ]
  },
  {
   "cell_type": "code",
   "execution_count": 162,
   "id": "5546c036",
   "metadata": {},
   "outputs": [],
   "source": [
    "df_review_data = pd.read_csv('data/review_okt_final.csv', encoding='utf-8')"
   ]
  },
  {
   "cell_type": "code",
   "execution_count": 163,
   "id": "2be0bcfd",
   "metadata": {},
   "outputs": [
    {
     "data": {
      "text/html": [
       "<div>\n",
       "<style scoped>\n",
       "    .dataframe tbody tr th:only-of-type {\n",
       "        vertical-align: middle;\n",
       "    }\n",
       "\n",
       "    .dataframe tbody tr th {\n",
       "        vertical-align: top;\n",
       "    }\n",
       "\n",
       "    .dataframe thead th {\n",
       "        text-align: right;\n",
       "    }\n",
       "</style>\n",
       "<table border=\"1\" class=\"dataframe\">\n",
       "  <thead>\n",
       "    <tr style=\"text-align: right;\">\n",
       "      <th></th>\n",
       "      <th>review</th>\n",
       "      <th>시설분류</th>\n",
       "      <th>review2</th>\n",
       "      <th>review_okt</th>\n",
       "      <th>okt_stemmed</th>\n",
       "    </tr>\n",
       "  </thead>\n",
       "  <tbody>\n",
       "    <tr>\n",
       "      <th>0</th>\n",
       "      <td>?</td>\n",
       "      <td>문화</td>\n",
       "      <td>NaN</td>\n",
       "      <td>NaN</td>\n",
       "      <td>NaN</td>\n",
       "    </tr>\n",
       "    <tr>\n",
       "      <th>1</th>\n",
       "      <td>친절해요</td>\n",
       "      <td>문화</td>\n",
       "      <td>친절해요</td>\n",
       "      <td>친절해요</td>\n",
       "      <td>친절하다</td>\n",
       "    </tr>\n",
       "    <tr>\n",
       "      <th>2</th>\n",
       "      <td>좋아요 만족스러워요</td>\n",
       "      <td>문화</td>\n",
       "      <td>좋아요 만족스러워요</td>\n",
       "      <td>좋아요 만족스러워요</td>\n",
       "      <td>좋다 만족스럽다</td>\n",
       "    </tr>\n",
       "    <tr>\n",
       "      <th>3</th>\n",
       "      <td>와우~~</td>\n",
       "      <td>문화</td>\n",
       "      <td>와우</td>\n",
       "      <td>와우</td>\n",
       "      <td>와우</td>\n",
       "    </tr>\n",
       "    <tr>\n",
       "      <th>4</th>\n",
       "      <td>굿</td>\n",
       "      <td>문화</td>\n",
       "      <td>굿</td>\n",
       "      <td>굿</td>\n",
       "      <td>굿</td>\n",
       "    </tr>\n",
       "    <tr>\n",
       "      <th>...</th>\n",
       "      <td>...</td>\n",
       "      <td>...</td>\n",
       "      <td>...</td>\n",
       "      <td>...</td>\n",
       "      <td>...</td>\n",
       "    </tr>\n",
       "    <tr>\n",
       "      <th>141240</th>\n",
       "      <td>설사를해서 병원갔어요 배를 만져보고 꼼꼼히 살펴보시더니 약은 안먹어도 되겠다고 하셔...</td>\n",
       "      <td>동물병원</td>\n",
       "      <td>설사를해서 병원갔어요 배를 만져보고 꼼꼼히 살펴보시더니 약은 안먹어도 되겠다고 하셔...</td>\n",
       "      <td>설사 해서 병원 갔어요 배 만져 보고 꼼꼼히 살펴보시더니 약 안 먹어도 되겠다고 하...</td>\n",
       "      <td>설사 하다 병원 가다 배 만지다 보고 꼼꼼하다 살펴보다 약 안 먹다 되다 하다 주사...</td>\n",
       "    </tr>\n",
       "    <tr>\n",
       "      <th>141241</th>\n",
       "      <td>저희 천사 데려온 곳이고 중성화부터 혈액검사까지 전부 세세하게 봐주셔서 늘 감사드립...</td>\n",
       "      <td>동물병원</td>\n",
       "      <td>저희 천사 데려온 곳이고 중성화부터 혈액검사까지 전부 세세하게 봐주셔서 늘 감사드립니다</td>\n",
       "      <td>저희 천사 데려온 곳 중성 화 혈액 검사 전부 세세하게 봐주셔서 늘 감사 드립니다</td>\n",
       "      <td>저희 천사 데려오다 곳 중성 화 혈액 검사 전부 세다 보다 늘 감사 드리다</td>\n",
       "    </tr>\n",
       "    <tr>\n",
       "      <th>141242</th>\n",
       "      <td>친절하십니다</td>\n",
       "      <td>동물병원</td>\n",
       "      <td>친절하십니다</td>\n",
       "      <td>친절하십니다</td>\n",
       "      <td>친절하다</td>\n",
       "    </tr>\n",
       "    <tr>\n",
       "      <th>141243</th>\n",
       "      <td>진료 꼼꼼히 잘봐주세요 진료후 간식도 챙겨주시고 선생님께서 산책 가자고하니 요미가 ...</td>\n",
       "      <td>동물병원</td>\n",
       "      <td>진료 꼼꼼히 잘봐주세요 진료후 간식도 챙겨주시고 선생님께서 산책 가자고하니 요미가 ...</td>\n",
       "      <td>진료 꼼꼼히 잘 봐주세요 진료 후 간식 챙겨주시고 선생님 산책 가자고하니 요미 따라...</td>\n",
       "      <td>진료 꼼꼼하다 자다 보다 진료 후 간식 챙기다 선생님 산책 가다 요미 따라가다 처방...</td>\n",
       "    </tr>\n",
       "    <tr>\n",
       "      <th>141244</th>\n",
       "      <td>선생님들이 너무 친절하셔서 동물병원은 여기만 갑니다  두분 다 좋으시지만 여자원장님...</td>\n",
       "      <td>동물병원</td>\n",
       "      <td>선생님들이 너무 친절하셔서 동물병원은 여기만 갑니다 두분 다 좋으시지만 여자원장님이...</td>\n",
       "      <td>선생님 들 너무 친절하셔서 동물병원 여기 갑니다 두 분 다 좋으시지만 여자 원장 님...</td>\n",
       "      <td>선생님 들다 너무 친절하다 동물병원 여기 가다 두 분 다 좋다 여자 원장 님 특히 ...</td>\n",
       "    </tr>\n",
       "  </tbody>\n",
       "</table>\n",
       "<p>141245 rows × 5 columns</p>\n",
       "</div>"
      ],
      "text/plain": [
       "                                                   review  시설분류  \\\n",
       "0                                                       ?    문화   \n",
       "1                                                    친절해요    문화   \n",
       "2                                              좋아요 만족스러워요    문화   \n",
       "3                                                    와우~~    문화   \n",
       "4                                                       굿    문화   \n",
       "...                                                   ...   ...   \n",
       "141240  설사를해서 병원갔어요 배를 만져보고 꼼꼼히 살펴보시더니 약은 안먹어도 되겠다고 하셔...  동물병원   \n",
       "141241  저희 천사 데려온 곳이고 중성화부터 혈액검사까지 전부 세세하게 봐주셔서 늘 감사드립...  동물병원   \n",
       "141242                                             친절하십니다  동물병원   \n",
       "141243  진료 꼼꼼히 잘봐주세요 진료후 간식도 챙겨주시고 선생님께서 산책 가자고하니 요미가 ...  동물병원   \n",
       "141244  선생님들이 너무 친절하셔서 동물병원은 여기만 갑니다  두분 다 좋으시지만 여자원장님...  동물병원   \n",
       "\n",
       "                                                  review2  \\\n",
       "0                                                     NaN   \n",
       "1                                                    친절해요   \n",
       "2                                              좋아요 만족스러워요   \n",
       "3                                                     와우    \n",
       "4                                                       굿   \n",
       "...                                                   ...   \n",
       "141240  설사를해서 병원갔어요 배를 만져보고 꼼꼼히 살펴보시더니 약은 안먹어도 되겠다고 하셔...   \n",
       "141241  저희 천사 데려온 곳이고 중성화부터 혈액검사까지 전부 세세하게 봐주셔서 늘 감사드립니다    \n",
       "141242                                             친절하십니다   \n",
       "141243  진료 꼼꼼히 잘봐주세요 진료후 간식도 챙겨주시고 선생님께서 산책 가자고하니 요미가 ...   \n",
       "141244  선생님들이 너무 친절하셔서 동물병원은 여기만 갑니다 두분 다 좋으시지만 여자원장님이...   \n",
       "\n",
       "                                               review_okt  \\\n",
       "0                                                     NaN   \n",
       "1                                                    친절해요   \n",
       "2                                              좋아요 만족스러워요   \n",
       "3                                                      와우   \n",
       "4                                                       굿   \n",
       "...                                                   ...   \n",
       "141240  설사 해서 병원 갔어요 배 만져 보고 꼼꼼히 살펴보시더니 약 안 먹어도 되겠다고 하...   \n",
       "141241      저희 천사 데려온 곳 중성 화 혈액 검사 전부 세세하게 봐주셔서 늘 감사 드립니다   \n",
       "141242                                             친절하십니다   \n",
       "141243  진료 꼼꼼히 잘 봐주세요 진료 후 간식 챙겨주시고 선생님 산책 가자고하니 요미 따라...   \n",
       "141244  선생님 들 너무 친절하셔서 동물병원 여기 갑니다 두 분 다 좋으시지만 여자 원장 님...   \n",
       "\n",
       "                                              okt_stemmed  \n",
       "0                                                     NaN  \n",
       "1                                                    친절하다  \n",
       "2                                                좋다 만족스럽다  \n",
       "3                                                      와우  \n",
       "4                                                       굿  \n",
       "...                                                   ...  \n",
       "141240  설사 하다 병원 가다 배 만지다 보고 꼼꼼하다 살펴보다 약 안 먹다 되다 하다 주사...  \n",
       "141241          저희 천사 데려오다 곳 중성 화 혈액 검사 전부 세다 보다 늘 감사 드리다  \n",
       "141242                                               친절하다  \n",
       "141243  진료 꼼꼼하다 자다 보다 진료 후 간식 챙기다 선생님 산책 가다 요미 따라가다 처방...  \n",
       "141244  선생님 들다 너무 친절하다 동물병원 여기 가다 두 분 다 좋다 여자 원장 님 특히 ...  \n",
       "\n",
       "[141245 rows x 5 columns]"
      ]
     },
     "execution_count": 163,
     "metadata": {},
     "output_type": "execute_result"
    }
   ],
   "source": [
    "df_review_data"
   ]
  },
  {
   "cell_type": "markdown",
   "id": "f477ee16",
   "metadata": {},
   "source": [
    "### 감성사전 불러오기"
   ]
  },
  {
   "cell_type": "code",
   "execution_count": 164,
   "id": "b666ad96",
   "metadata": {},
   "outputs": [],
   "source": [
    "import json"
   ]
  },
  {
   "cell_type": "code",
   "execution_count": 165,
   "id": "b87e20a6",
   "metadata": {},
   "outputs": [],
   "source": [
    "with open('data/SentiWord_info.json', encoding='utf-8-sig', mode='r') as f:\n",
    "    Sentiword_info = json.load(f)"
   ]
  },
  {
   "cell_type": "code",
   "execution_count": 166,
   "id": "d4cba5ef",
   "metadata": {},
   "outputs": [],
   "source": [
    "sentiword_dic = pd.DataFrame(Sentiword_info)"
   ]
  },
  {
   "cell_type": "code",
   "execution_count": 167,
   "id": "9962b0fb",
   "metadata": {},
   "outputs": [
    {
     "data": {
      "text/html": [
       "<div>\n",
       "<style scoped>\n",
       "    .dataframe tbody tr th:only-of-type {\n",
       "        vertical-align: middle;\n",
       "    }\n",
       "\n",
       "    .dataframe tbody tr th {\n",
       "        vertical-align: top;\n",
       "    }\n",
       "\n",
       "    .dataframe thead th {\n",
       "        text-align: right;\n",
       "    }\n",
       "</style>\n",
       "<table border=\"1\" class=\"dataframe\">\n",
       "  <thead>\n",
       "    <tr style=\"text-align: right;\">\n",
       "      <th></th>\n",
       "      <th>word</th>\n",
       "      <th>word_root</th>\n",
       "      <th>polarity</th>\n",
       "    </tr>\n",
       "  </thead>\n",
       "  <tbody>\n",
       "    <tr>\n",
       "      <th>0</th>\n",
       "      <td>(-;</td>\n",
       "      <td>(</td>\n",
       "      <td>1</td>\n",
       "    </tr>\n",
       "    <tr>\n",
       "      <th>1</th>\n",
       "      <td>(;_;)</td>\n",
       "      <td>(;_;)</td>\n",
       "      <td>-1</td>\n",
       "    </tr>\n",
       "    <tr>\n",
       "      <th>2</th>\n",
       "      <td>(^^)</td>\n",
       "      <td>(^^)</td>\n",
       "      <td>1</td>\n",
       "    </tr>\n",
       "    <tr>\n",
       "      <th>3</th>\n",
       "      <td>(^-^)</td>\n",
       "      <td>(^-^)</td>\n",
       "      <td>1</td>\n",
       "    </tr>\n",
       "    <tr>\n",
       "      <th>4</th>\n",
       "      <td>(^^*</td>\n",
       "      <td>(</td>\n",
       "      <td>1</td>\n",
       "    </tr>\n",
       "    <tr>\n",
       "      <th>...</th>\n",
       "      <td>...</td>\n",
       "      <td>...</td>\n",
       "      <td>...</td>\n",
       "    </tr>\n",
       "    <tr>\n",
       "      <th>14849</th>\n",
       "      <td>반신반의하다</td>\n",
       "      <td>반신반의</td>\n",
       "      <td>0</td>\n",
       "    </tr>\n",
       "    <tr>\n",
       "      <th>14850</th>\n",
       "      <td>신비롭다</td>\n",
       "      <td>신비</td>\n",
       "      <td>1</td>\n",
       "    </tr>\n",
       "    <tr>\n",
       "      <th>14851</th>\n",
       "      <td>아리송하다</td>\n",
       "      <td>아리송</td>\n",
       "      <td>-1</td>\n",
       "    </tr>\n",
       "    <tr>\n",
       "      <th>14852</th>\n",
       "      <td>알쏭하다</td>\n",
       "      <td>알쏭하</td>\n",
       "      <td>-1</td>\n",
       "    </tr>\n",
       "    <tr>\n",
       "      <th>14853</th>\n",
       "      <td>알쏭달쏭하다</td>\n",
       "      <td>알쏭달쏭</td>\n",
       "      <td>-1</td>\n",
       "    </tr>\n",
       "  </tbody>\n",
       "</table>\n",
       "<p>14854 rows × 3 columns</p>\n",
       "</div>"
      ],
      "text/plain": [
       "         word word_root polarity\n",
       "0         (-;         (        1\n",
       "1       (;_;)     (;_;)       -1\n",
       "2        (^^)      (^^)        1\n",
       "3       (^-^)     (^-^)        1\n",
       "4        (^^*         (        1\n",
       "...       ...       ...      ...\n",
       "14849  반신반의하다      반신반의        0\n",
       "14850    신비롭다        신비        1\n",
       "14851   아리송하다       아리송       -1\n",
       "14852    알쏭하다       알쏭하       -1\n",
       "14853  알쏭달쏭하다      알쏭달쏭       -1\n",
       "\n",
       "[14854 rows x 3 columns]"
      ]
     },
     "execution_count": 167,
     "metadata": {},
     "output_type": "execute_result"
    }
   ],
   "source": [
    "sentiword_dic"
   ]
  },
  {
   "cell_type": "markdown",
   "id": "3c128f18",
   "metadata": {},
   "source": [
    "### 감성사전 추가하기"
   ]
  },
  {
   "cell_type": "code",
   "execution_count": 168,
   "id": "44b05395",
   "metadata": {},
   "outputs": [],
   "source": [
    "# 추가할 단어 있으면 추가하기\n",
    "new_row = {'word': '친절해요', 'word_root': '친절', 'polarity' : '2'}\n",
    "sentiword_dic = pd.concat([sentiword_dic, pd.DataFrame(new_row, index=[0])], ignore_index=True)"
   ]
  },
  {
   "cell_type": "code",
   "execution_count": 169,
   "id": "77752f91",
   "metadata": {},
   "outputs": [],
   "source": [
    "# 추가할 단어 있으면 추가하기\n",
    "new_row = {'word': '친절하다', 'word_root': '친절하다', 'polarity' : '2'}\n",
    "sentiword_dic = pd.concat([sentiword_dic, pd.DataFrame(new_row, index=[0])], ignore_index=True)"
   ]
  },
  {
   "cell_type": "code",
   "execution_count": 170,
   "id": "5d735649",
   "metadata": {},
   "outputs": [],
   "source": [
    "# 추가할 단어 있으면 추가하기\n",
    "new_row = {'word': '굿', 'word_root': '굿', 'polarity' : '1'}\n",
    "sentiword_dic = pd.concat([sentiword_dic, pd.DataFrame(new_row, index=[0])], ignore_index=True)"
   ]
  },
  {
   "cell_type": "code",
   "execution_count": 171,
   "id": "b1e20a96",
   "metadata": {},
   "outputs": [],
   "source": [
    "# 추가할 단어 있으면 추가하기\n",
    "new_row = {'word': '와우', 'word_root': '와우', 'polarity' : '1'}\n",
    "sentiword_dic = pd.concat([sentiword_dic, pd.DataFrame(new_row, index=[0])], ignore_index=True)"
   ]
  },
  {
   "cell_type": "code",
   "execution_count": 172,
   "id": "22131d41",
   "metadata": {},
   "outputs": [],
   "source": [
    "# 추가할 단어 있으면 추가하기\n",
    "new_row = {'word': 'ㅋㅋ', 'word_root': 'ㅋㅋ', 'polarity' : '1'}\n",
    "sentiword_dic = pd.concat([sentiword_dic, pd.DataFrame(new_row, index=[0])], ignore_index=True)"
   ]
  },
  {
   "cell_type": "code",
   "execution_count": 173,
   "id": "8659652d",
   "metadata": {},
   "outputs": [],
   "source": [
    "# 추가할 단어 있으면 추가하기\n",
    "new_row = {'word': '덥다', 'word_root': '덥다', 'polarity' : '-1'}\n",
    "sentiword_dic = pd.concat([sentiword_dic, pd.DataFrame(new_row, index=[0])], ignore_index=True)"
   ]
  },
  {
   "cell_type": "code",
   "execution_count": 174,
   "id": "672e815c",
   "metadata": {},
   "outputs": [],
   "source": [
    "# 추가할 단어 있으면 추가하기\n",
    "new_row = {'word': '춥다', 'word_root': '춥다', 'polarity' : '-1'}\n",
    "sentiword_dic = pd.concat([sentiword_dic, pd.DataFrame(new_row, index=[0])], ignore_index=True)"
   ]
  },
  {
   "cell_type": "code",
   "execution_count": 175,
   "id": "79384c31",
   "metadata": {},
   "outputs": [],
   "source": [
    "# 추가할 단어 있으면 추가하기\n",
    "new_row = {'word': '좀더', 'word_root': '좀더', 'polarity' : '-1'}\n",
    "sentiword_dic = pd.concat([sentiword_dic, pd.DataFrame(new_row, index=[0])], ignore_index=True)"
   ]
  },
  {
   "cell_type": "code",
   "execution_count": 176,
   "id": "4483c782",
   "metadata": {},
   "outputs": [],
   "source": [
    "# 추가할 단어 있으면 추가하기\n",
    "new_row = {'word': '춥', 'word_root': '춥', 'polarity' : '-1'}\n",
    "sentiword_dic = pd.concat([sentiword_dic, pd.DataFrame(new_row, index=[0])], ignore_index=True)"
   ]
  },
  {
   "cell_type": "code",
   "execution_count": 177,
   "id": "e40abb30",
   "metadata": {},
   "outputs": [],
   "source": [
    "# 추가할 단어 있으면 추가하기\n",
    "new_row = {'word': '힐링', 'word_root': '힐링', 'polarity' : '1'}\n",
    "sentiword_dic = pd.concat([sentiword_dic, pd.DataFrame(new_row, index=[0])], ignore_index=True)"
   ]
  },
  {
   "cell_type": "code",
   "execution_count": 178,
   "id": "d5f06e15",
   "metadata": {},
   "outputs": [],
   "source": [
    "# 추가할 단어 있으면 추가하기\n",
    "new_row = {'word': '자랑', 'word_root': '자랑', 'polarity' : '1'}\n",
    "sentiword_dic = pd.concat([sentiword_dic, pd.DataFrame(new_row, index=[0])], ignore_index=True)"
   ]
  },
  {
   "cell_type": "code",
   "execution_count": null,
   "id": "9d80dc94",
   "metadata": {},
   "outputs": [],
   "source": []
  },
  {
   "cell_type": "code",
   "execution_count": null,
   "id": "72e94e09",
   "metadata": {},
   "outputs": [],
   "source": []
  },
  {
   "cell_type": "code",
   "execution_count": null,
   "id": "f76d0a8a",
   "metadata": {},
   "outputs": [],
   "source": []
  },
  {
   "cell_type": "code",
   "execution_count": 179,
   "id": "0e46326f",
   "metadata": {},
   "outputs": [
    {
     "data": {
      "text/html": [
       "<div>\n",
       "<style scoped>\n",
       "    .dataframe tbody tr th:only-of-type {\n",
       "        vertical-align: middle;\n",
       "    }\n",
       "\n",
       "    .dataframe tbody tr th {\n",
       "        vertical-align: top;\n",
       "    }\n",
       "\n",
       "    .dataframe thead th {\n",
       "        text-align: right;\n",
       "    }\n",
       "</style>\n",
       "<table border=\"1\" class=\"dataframe\">\n",
       "  <thead>\n",
       "    <tr style=\"text-align: right;\">\n",
       "      <th></th>\n",
       "      <th>word</th>\n",
       "      <th>word_root</th>\n",
       "      <th>polarity</th>\n",
       "    </tr>\n",
       "  </thead>\n",
       "  <tbody>\n",
       "    <tr>\n",
       "      <th>14860</th>\n",
       "      <td>춥다</td>\n",
       "      <td>춥다</td>\n",
       "      <td>-1</td>\n",
       "    </tr>\n",
       "    <tr>\n",
       "      <th>14861</th>\n",
       "      <td>좀더</td>\n",
       "      <td>좀더</td>\n",
       "      <td>-1</td>\n",
       "    </tr>\n",
       "    <tr>\n",
       "      <th>14862</th>\n",
       "      <td>춥</td>\n",
       "      <td>춥</td>\n",
       "      <td>-1</td>\n",
       "    </tr>\n",
       "    <tr>\n",
       "      <th>14863</th>\n",
       "      <td>힐링</td>\n",
       "      <td>힐링</td>\n",
       "      <td>1</td>\n",
       "    </tr>\n",
       "    <tr>\n",
       "      <th>14864</th>\n",
       "      <td>자랑</td>\n",
       "      <td>자랑</td>\n",
       "      <td>1</td>\n",
       "    </tr>\n",
       "  </tbody>\n",
       "</table>\n",
       "</div>"
      ],
      "text/plain": [
       "      word word_root polarity\n",
       "14860   춥다        춥다       -1\n",
       "14861   좀더        좀더       -1\n",
       "14862    춥         춥       -1\n",
       "14863   힐링        힐링        1\n",
       "14864   자랑        자랑        1"
      ]
     },
     "execution_count": 179,
     "metadata": {},
     "output_type": "execute_result"
    }
   ],
   "source": [
    "sentiword_dic.tail()"
   ]
  },
  {
   "cell_type": "markdown",
   "id": "f755ae8c",
   "metadata": {},
   "source": [
    "### 라벨링 작업"
   ]
  },
  {
   "cell_type": "code",
   "execution_count": 180,
   "id": "8e58a188",
   "metadata": {},
   "outputs": [],
   "source": [
    "# 감정사전 key-value(단어 - 긍정부정값)\n",
    "hash_map = {}"
   ]
  },
  {
   "cell_type": "markdown",
   "id": "0e06237b",
   "metadata": {},
   "source": [
    "row에 word_root를 넣으면 어간 word를 넣으면 단어"
   ]
  },
  {
   "cell_type": "code",
   "execution_count": 181,
   "id": "200c93ff",
   "metadata": {},
   "outputs": [],
   "source": [
    "# 감정사전 key-value 값 해싱\n",
    "for index, row in sentiword_dic.iterrows():\n",
    "  hash_map[row['word']] = row['polarity']"
   ]
  },
  {
   "cell_type": "code",
   "execution_count": 182,
   "id": "c23bb111",
   "metadata": {},
   "outputs": [],
   "source": [
    "# 사전 점수 합계 구할꺼\n",
    "def calculate_sentiment_score(text):\n",
    "    if pd.isna(text):\n",
    "        return 0\n",
    "    score = 0\n",
    "    words = text.split()\n",
    "    for word in words:\n",
    "      score += int(hash_map.get(word,0))\n",
    "    return score"
   ]
  },
  {
   "cell_type": "code",
   "execution_count": 183,
   "id": "c3503f6f",
   "metadata": {},
   "outputs": [],
   "source": [
    "# 사전 점수 합계 구해서 label\n",
    "def calculate_sentiment_korean(text):\n",
    "    if pd.isna(text):\n",
    "        return 0\n",
    "    score = 0\n",
    "    words = text.split()\n",
    "    for word in words:\n",
    "      score += int(hash_map.get(word,0))\n",
    "\n",
    "    if score > 0: return 1\n",
    "    elif  score < 0 : return -1\n",
    "    else : return 0"
   ]
  },
  {
   "cell_type": "code",
   "execution_count": 184,
   "id": "209ad04d",
   "metadata": {},
   "outputs": [
    {
     "data": {
      "text/plain": [
       "0"
      ]
     },
     "execution_count": 184,
     "metadata": {},
     "output_type": "execute_result"
    }
   ],
   "source": [
    "calculate_sentiment_score('헐')"
   ]
  },
  {
   "cell_type": "code",
   "execution_count": 186,
   "id": "2871a547",
   "metadata": {},
   "outputs": [],
   "source": [
    "# 리뷰 데이터에 대한 감정 라벨링\n",
    "from tqdm import tqdm\n",
    "tqdm.pandas()\n",
    "df_review_data['score'] = df_review_data['okt_stemmed'].apply(calculate_sentiment_score)"
   ]
  },
  {
   "cell_type": "code",
   "execution_count": 187,
   "id": "4baaf299",
   "metadata": {},
   "outputs": [],
   "source": [
    "# 리뷰 데이터에 대한 감정 라벨링\n",
    "from tqdm import tqdm\n",
    "tqdm.pandas()\n",
    "df_review_data['label'] = df_review_data['okt_stemmed'].apply(calculate_sentiment_korean)"
   ]
  },
  {
   "cell_type": "code",
   "execution_count": 188,
   "id": "791161c4",
   "metadata": {},
   "outputs": [
    {
     "data": {
      "text/html": [
       "<div>\n",
       "<style scoped>\n",
       "    .dataframe tbody tr th:only-of-type {\n",
       "        vertical-align: middle;\n",
       "    }\n",
       "\n",
       "    .dataframe tbody tr th {\n",
       "        vertical-align: top;\n",
       "    }\n",
       "\n",
       "    .dataframe thead th {\n",
       "        text-align: right;\n",
       "    }\n",
       "</style>\n",
       "<table border=\"1\" class=\"dataframe\">\n",
       "  <thead>\n",
       "    <tr style=\"text-align: right;\">\n",
       "      <th></th>\n",
       "      <th>review</th>\n",
       "      <th>시설분류</th>\n",
       "      <th>review2</th>\n",
       "      <th>review_okt</th>\n",
       "      <th>okt_stemmed</th>\n",
       "      <th>score</th>\n",
       "      <th>label</th>\n",
       "    </tr>\n",
       "  </thead>\n",
       "  <tbody>\n",
       "    <tr>\n",
       "      <th>0</th>\n",
       "      <td>?</td>\n",
       "      <td>문화</td>\n",
       "      <td>NaN</td>\n",
       "      <td>NaN</td>\n",
       "      <td>NaN</td>\n",
       "      <td>0</td>\n",
       "      <td>0</td>\n",
       "    </tr>\n",
       "    <tr>\n",
       "      <th>1</th>\n",
       "      <td>친절해요</td>\n",
       "      <td>문화</td>\n",
       "      <td>친절해요</td>\n",
       "      <td>친절해요</td>\n",
       "      <td>친절하다</td>\n",
       "      <td>2</td>\n",
       "      <td>1</td>\n",
       "    </tr>\n",
       "    <tr>\n",
       "      <th>2</th>\n",
       "      <td>좋아요 만족스러워요</td>\n",
       "      <td>문화</td>\n",
       "      <td>좋아요 만족스러워요</td>\n",
       "      <td>좋아요 만족스러워요</td>\n",
       "      <td>좋다 만족스럽다</td>\n",
       "      <td>4</td>\n",
       "      <td>1</td>\n",
       "    </tr>\n",
       "    <tr>\n",
       "      <th>3</th>\n",
       "      <td>와우~~</td>\n",
       "      <td>문화</td>\n",
       "      <td>와우</td>\n",
       "      <td>와우</td>\n",
       "      <td>와우</td>\n",
       "      <td>1</td>\n",
       "      <td>1</td>\n",
       "    </tr>\n",
       "    <tr>\n",
       "      <th>4</th>\n",
       "      <td>굿</td>\n",
       "      <td>문화</td>\n",
       "      <td>굿</td>\n",
       "      <td>굿</td>\n",
       "      <td>굿</td>\n",
       "      <td>1</td>\n",
       "      <td>1</td>\n",
       "    </tr>\n",
       "    <tr>\n",
       "      <th>...</th>\n",
       "      <td>...</td>\n",
       "      <td>...</td>\n",
       "      <td>...</td>\n",
       "      <td>...</td>\n",
       "      <td>...</td>\n",
       "      <td>...</td>\n",
       "      <td>...</td>\n",
       "    </tr>\n",
       "    <tr>\n",
       "      <th>141240</th>\n",
       "      <td>설사를해서 병원갔어요 배를 만져보고 꼼꼼히 살펴보시더니 약은 안먹어도 되겠다고 하셔...</td>\n",
       "      <td>동물병원</td>\n",
       "      <td>설사를해서 병원갔어요 배를 만져보고 꼼꼼히 살펴보시더니 약은 안먹어도 되겠다고 하셔...</td>\n",
       "      <td>설사 해서 병원 갔어요 배 만져 보고 꼼꼼히 살펴보시더니 약 안 먹어도 되겠다고 하...</td>\n",
       "      <td>설사 하다 병원 가다 배 만지다 보고 꼼꼼하다 살펴보다 약 안 먹다 되다 하다 주사...</td>\n",
       "      <td>1</td>\n",
       "      <td>1</td>\n",
       "    </tr>\n",
       "    <tr>\n",
       "      <th>141241</th>\n",
       "      <td>저희 천사 데려온 곳이고 중성화부터 혈액검사까지 전부 세세하게 봐주셔서 늘 감사드립...</td>\n",
       "      <td>동물병원</td>\n",
       "      <td>저희 천사 데려온 곳이고 중성화부터 혈액검사까지 전부 세세하게 봐주셔서 늘 감사드립니다</td>\n",
       "      <td>저희 천사 데려온 곳 중성 화 혈액 검사 전부 세세하게 봐주셔서 늘 감사 드립니다</td>\n",
       "      <td>저희 천사 데려오다 곳 중성 화 혈액 검사 전부 세다 보다 늘 감사 드리다</td>\n",
       "      <td>1</td>\n",
       "      <td>1</td>\n",
       "    </tr>\n",
       "    <tr>\n",
       "      <th>141242</th>\n",
       "      <td>친절하십니다</td>\n",
       "      <td>동물병원</td>\n",
       "      <td>친절하십니다</td>\n",
       "      <td>친절하십니다</td>\n",
       "      <td>친절하다</td>\n",
       "      <td>2</td>\n",
       "      <td>1</td>\n",
       "    </tr>\n",
       "    <tr>\n",
       "      <th>141243</th>\n",
       "      <td>진료 꼼꼼히 잘봐주세요 진료후 간식도 챙겨주시고 선생님께서 산책 가자고하니 요미가 ...</td>\n",
       "      <td>동물병원</td>\n",
       "      <td>진료 꼼꼼히 잘봐주세요 진료후 간식도 챙겨주시고 선생님께서 산책 가자고하니 요미가 ...</td>\n",
       "      <td>진료 꼼꼼히 잘 봐주세요 진료 후 간식 챙겨주시고 선생님 산책 가자고하니 요미 따라...</td>\n",
       "      <td>진료 꼼꼼하다 자다 보다 진료 후 간식 챙기다 선생님 산책 가다 요미 따라가다 처방...</td>\n",
       "      <td>2</td>\n",
       "      <td>1</td>\n",
       "    </tr>\n",
       "    <tr>\n",
       "      <th>141244</th>\n",
       "      <td>선생님들이 너무 친절하셔서 동물병원은 여기만 갑니다  두분 다 좋으시지만 여자원장님...</td>\n",
       "      <td>동물병원</td>\n",
       "      <td>선생님들이 너무 친절하셔서 동물병원은 여기만 갑니다 두분 다 좋으시지만 여자원장님이...</td>\n",
       "      <td>선생님 들 너무 친절하셔서 동물병원 여기 갑니다 두 분 다 좋으시지만 여자 원장 님...</td>\n",
       "      <td>선생님 들다 너무 친절하다 동물병원 여기 가다 두 분 다 좋다 여자 원장 님 특히 ...</td>\n",
       "      <td>15</td>\n",
       "      <td>1</td>\n",
       "    </tr>\n",
       "  </tbody>\n",
       "</table>\n",
       "<p>141245 rows × 7 columns</p>\n",
       "</div>"
      ],
      "text/plain": [
       "                                                   review  시설분류  \\\n",
       "0                                                       ?    문화   \n",
       "1                                                    친절해요    문화   \n",
       "2                                              좋아요 만족스러워요    문화   \n",
       "3                                                    와우~~    문화   \n",
       "4                                                       굿    문화   \n",
       "...                                                   ...   ...   \n",
       "141240  설사를해서 병원갔어요 배를 만져보고 꼼꼼히 살펴보시더니 약은 안먹어도 되겠다고 하셔...  동물병원   \n",
       "141241  저희 천사 데려온 곳이고 중성화부터 혈액검사까지 전부 세세하게 봐주셔서 늘 감사드립...  동물병원   \n",
       "141242                                             친절하십니다  동물병원   \n",
       "141243  진료 꼼꼼히 잘봐주세요 진료후 간식도 챙겨주시고 선생님께서 산책 가자고하니 요미가 ...  동물병원   \n",
       "141244  선생님들이 너무 친절하셔서 동물병원은 여기만 갑니다  두분 다 좋으시지만 여자원장님...  동물병원   \n",
       "\n",
       "                                                  review2  \\\n",
       "0                                                     NaN   \n",
       "1                                                    친절해요   \n",
       "2                                              좋아요 만족스러워요   \n",
       "3                                                     와우    \n",
       "4                                                       굿   \n",
       "...                                                   ...   \n",
       "141240  설사를해서 병원갔어요 배를 만져보고 꼼꼼히 살펴보시더니 약은 안먹어도 되겠다고 하셔...   \n",
       "141241  저희 천사 데려온 곳이고 중성화부터 혈액검사까지 전부 세세하게 봐주셔서 늘 감사드립니다    \n",
       "141242                                             친절하십니다   \n",
       "141243  진료 꼼꼼히 잘봐주세요 진료후 간식도 챙겨주시고 선생님께서 산책 가자고하니 요미가 ...   \n",
       "141244  선생님들이 너무 친절하셔서 동물병원은 여기만 갑니다 두분 다 좋으시지만 여자원장님이...   \n",
       "\n",
       "                                               review_okt  \\\n",
       "0                                                     NaN   \n",
       "1                                                    친절해요   \n",
       "2                                              좋아요 만족스러워요   \n",
       "3                                                      와우   \n",
       "4                                                       굿   \n",
       "...                                                   ...   \n",
       "141240  설사 해서 병원 갔어요 배 만져 보고 꼼꼼히 살펴보시더니 약 안 먹어도 되겠다고 하...   \n",
       "141241      저희 천사 데려온 곳 중성 화 혈액 검사 전부 세세하게 봐주셔서 늘 감사 드립니다   \n",
       "141242                                             친절하십니다   \n",
       "141243  진료 꼼꼼히 잘 봐주세요 진료 후 간식 챙겨주시고 선생님 산책 가자고하니 요미 따라...   \n",
       "141244  선생님 들 너무 친절하셔서 동물병원 여기 갑니다 두 분 다 좋으시지만 여자 원장 님...   \n",
       "\n",
       "                                              okt_stemmed  score  label  \n",
       "0                                                     NaN      0      0  \n",
       "1                                                    친절하다      2      1  \n",
       "2                                                좋다 만족스럽다      4      1  \n",
       "3                                                      와우      1      1  \n",
       "4                                                       굿      1      1  \n",
       "...                                                   ...    ...    ...  \n",
       "141240  설사 하다 병원 가다 배 만지다 보고 꼼꼼하다 살펴보다 약 안 먹다 되다 하다 주사...      1      1  \n",
       "141241          저희 천사 데려오다 곳 중성 화 혈액 검사 전부 세다 보다 늘 감사 드리다      1      1  \n",
       "141242                                               친절하다      2      1  \n",
       "141243  진료 꼼꼼하다 자다 보다 진료 후 간식 챙기다 선생님 산책 가다 요미 따라가다 처방...      2      1  \n",
       "141244  선생님 들다 너무 친절하다 동물병원 여기 가다 두 분 다 좋다 여자 원장 님 특히 ...     15      1  \n",
       "\n",
       "[141245 rows x 7 columns]"
      ]
     },
     "execution_count": 188,
     "metadata": {},
     "output_type": "execute_result"
    }
   ],
   "source": [
    "df_review_data"
   ]
  },
  {
   "cell_type": "markdown",
   "id": "1d95469b",
   "metadata": {},
   "source": [
    "### 저장"
   ]
  },
  {
   "cell_type": "code",
   "execution_count": 101,
   "id": "1519901d",
   "metadata": {},
   "outputs": [],
   "source": [
    "df_review_data.to_csv('data/knu_review_okt.csv', index=False, encoding='utf-8-sig')"
   ]
  },
  {
   "cell_type": "code",
   "execution_count": 102,
   "id": "6cd6bc14",
   "metadata": {},
   "outputs": [],
   "source": [
    "df_review_data.to_excel('data/knu_review_okt.xlsx', index=False)"
   ]
  },
  {
   "cell_type": "code",
   "execution_count": null,
   "id": "7d0cca41",
   "metadata": {},
   "outputs": [],
   "source": []
  },
  {
   "cell_type": "code",
   "execution_count": null,
   "id": "c2161fd2",
   "metadata": {},
   "outputs": [],
   "source": []
  },
  {
   "cell_type": "code",
   "execution_count": null,
   "id": "efe78239",
   "metadata": {},
   "outputs": [],
   "source": []
  },
  {
   "cell_type": "code",
   "execution_count": null,
   "id": "ad08de6f",
   "metadata": {},
   "outputs": [],
   "source": []
  },
  {
   "cell_type": "markdown",
   "id": "52c530b2",
   "metadata": {},
   "source": [
    "분류"
   ]
  },
  {
   "cell_type": "code",
   "execution_count": 189,
   "id": "abafa248",
   "metadata": {},
   "outputs": [
    {
     "data": {
      "text/plain": [
       "(22660, 7)"
      ]
     },
     "execution_count": 189,
     "metadata": {},
     "output_type": "execute_result"
    }
   ],
   "source": [
    "df_review_data[df_review_data['label'] == 0].shape"
   ]
  },
  {
   "cell_type": "code",
   "execution_count": 190,
   "id": "4eeadcb8",
   "metadata": {},
   "outputs": [
    {
     "data": {
      "text/plain": [
       "(112536, 7)"
      ]
     },
     "execution_count": 190,
     "metadata": {},
     "output_type": "execute_result"
    }
   ],
   "source": [
    "df_review_data[df_review_data['label'] == 1].shape"
   ]
  },
  {
   "cell_type": "code",
   "execution_count": 191,
   "id": "2997fd0e",
   "metadata": {},
   "outputs": [
    {
     "data": {
      "text/plain": [
       "(6049, 7)"
      ]
     },
     "execution_count": 191,
     "metadata": {},
     "output_type": "execute_result"
    }
   ],
   "source": [
    "df_review_data[df_review_data['label'] == -1].shape"
   ]
  },
  {
   "cell_type": "code",
   "execution_count": 124,
   "id": "ef1595df",
   "metadata": {},
   "outputs": [],
   "source": [
    "df_review_data[df_review_data['label'] == 0].to_csv('data/0인거.csv', index=False, encoding='utf-8-sig')"
   ]
  },
  {
   "cell_type": "code",
   "execution_count": 125,
   "id": "8d0f3e58",
   "metadata": {},
   "outputs": [],
   "source": [
    "df_review_data[df_review_data['label'] == 1].to_csv('data/긍정인거.csv', index=False, encoding='utf-8-sig')"
   ]
  },
  {
   "cell_type": "code",
   "execution_count": 126,
   "id": "36730de4",
   "metadata": {},
   "outputs": [],
   "source": [
    "df_review_data[df_review_data['label'] == -1].to_csv('data/부정인거.csv', index=False, encoding='utf-8-sig')"
   ]
  },
  {
   "cell_type": "code",
   "execution_count": null,
   "id": "4e01fb02",
   "metadata": {},
   "outputs": [],
   "source": []
  },
  {
   "cell_type": "code",
   "execution_count": null,
   "id": "96e06b2b",
   "metadata": {},
   "outputs": [],
   "source": []
  },
  {
   "cell_type": "code",
   "execution_count": null,
   "id": "63d5cec6",
   "metadata": {},
   "outputs": [],
   "source": []
  },
  {
   "cell_type": "code",
   "execution_count": null,
   "id": "655c7628",
   "metadata": {},
   "outputs": [],
   "source": []
  }
 ],
 "metadata": {
  "kernelspec": {
   "display_name": "Python 3 (ipykernel)",
   "language": "python",
   "name": "python3"
  },
  "language_info": {
   "codemirror_mode": {
    "name": "ipython",
    "version": 3
   },
   "file_extension": ".py",
   "mimetype": "text/x-python",
   "name": "python",
   "nbconvert_exporter": "python",
   "pygments_lexer": "ipython3",
   "version": "3.11.5"
  },
  "toc": {
   "base_numbering": 1,
   "nav_menu": {},
   "number_sections": true,
   "sideBar": true,
   "skip_h1_title": false,
   "title_cell": "Table of Contents",
   "title_sidebar": "Contents",
   "toc_cell": false,
   "toc_position": {
    "height": "calc(100% - 180px)",
    "left": "10px",
    "top": "150px",
    "width": "349.091px"
   },
   "toc_section_display": true,
   "toc_window_display": false
  },
  "varInspector": {
   "cols": {
    "lenName": 16,
    "lenType": 16,
    "lenVar": 40
   },
   "kernels_config": {
    "python": {
     "delete_cmd_postfix": "",
     "delete_cmd_prefix": "del ",
     "library": "var_list.py",
     "varRefreshCmd": "print(var_dic_list())"
    },
    "r": {
     "delete_cmd_postfix": ") ",
     "delete_cmd_prefix": "rm(",
     "library": "var_list.r",
     "varRefreshCmd": "cat(var_dic_list()) "
    }
   },
   "types_to_exclude": [
    "module",
    "function",
    "builtin_function_or_method",
    "instance",
    "_Feature"
   ],
   "window_display": false
  }
 },
 "nbformat": 4,
 "nbformat_minor": 5
}
