{
 "cells": [
  {
   "cell_type": "code",
   "execution_count": 1,
   "id": "3bc95449",
   "metadata": {},
   "outputs": [],
   "source": [
    "# 데이터 분석\n",
    "import pandas as pd\n",
    "import numpy as np\n",
    "# 시각화\n",
    "import seaborn as sns\n",
    "import matplotlib.pyplot as plt\n",
    "import koreanize_matplotlib\n",
    "# 정규표현식\n",
    "import re\n",
    "# 형태소분석 okt\n",
    "from konlpy.tag import Okt"
   ]
  },
  {
   "cell_type": "markdown",
   "id": "e5e1c324",
   "metadata": {},
   "source": [
    "# KNU 사전"
   ]
  },
  {
   "cell_type": "code",
   "execution_count": 17,
   "id": "64f047ee",
   "metadata": {},
   "outputs": [
    {
     "data": {
      "text/html": [
       "<div>\n",
       "<style scoped>\n",
       "    .dataframe tbody tr th:only-of-type {\n",
       "        vertical-align: middle;\n",
       "    }\n",
       "\n",
       "    .dataframe tbody tr th {\n",
       "        vertical-align: top;\n",
       "    }\n",
       "\n",
       "    .dataframe thead th {\n",
       "        text-align: right;\n",
       "    }\n",
       "</style>\n",
       "<table border=\"1\" class=\"dataframe\">\n",
       "  <thead>\n",
       "    <tr style=\"text-align: right;\">\n",
       "      <th></th>\n",
       "      <th>review</th>\n",
       "      <th>시설분류</th>\n",
       "      <th>review2</th>\n",
       "      <th>review_okt</th>\n",
       "      <th>okt_stemmed</th>\n",
       "      <th>score</th>\n",
       "      <th>label</th>\n",
       "    </tr>\n",
       "  </thead>\n",
       "  <tbody>\n",
       "    <tr>\n",
       "      <th>0</th>\n",
       "      <td>?</td>\n",
       "      <td>문화</td>\n",
       "      <td>NaN</td>\n",
       "      <td>NaN</td>\n",
       "      <td>NaN</td>\n",
       "      <td>0</td>\n",
       "      <td>0</td>\n",
       "    </tr>\n",
       "    <tr>\n",
       "      <th>1</th>\n",
       "      <td>친절해요</td>\n",
       "      <td>문화</td>\n",
       "      <td>친절해요</td>\n",
       "      <td>친절해요</td>\n",
       "      <td>친절하다</td>\n",
       "      <td>2</td>\n",
       "      <td>1</td>\n",
       "    </tr>\n",
       "    <tr>\n",
       "      <th>2</th>\n",
       "      <td>좋아요 만족스러워요</td>\n",
       "      <td>문화</td>\n",
       "      <td>좋아요 만족스러워요</td>\n",
       "      <td>좋아요 만족스러워요</td>\n",
       "      <td>좋다 만족스럽다</td>\n",
       "      <td>4</td>\n",
       "      <td>1</td>\n",
       "    </tr>\n",
       "    <tr>\n",
       "      <th>3</th>\n",
       "      <td>와우~~</td>\n",
       "      <td>문화</td>\n",
       "      <td>와우</td>\n",
       "      <td>와우</td>\n",
       "      <td>와우</td>\n",
       "      <td>0</td>\n",
       "      <td>0</td>\n",
       "    </tr>\n",
       "    <tr>\n",
       "      <th>4</th>\n",
       "      <td>굿</td>\n",
       "      <td>문화</td>\n",
       "      <td>굿</td>\n",
       "      <td>굿</td>\n",
       "      <td>굿</td>\n",
       "      <td>1</td>\n",
       "      <td>1</td>\n",
       "    </tr>\n",
       "    <tr>\n",
       "      <th>5</th>\n",
       "      <td>구</td>\n",
       "      <td>문화</td>\n",
       "      <td>구</td>\n",
       "      <td>구</td>\n",
       "      <td>구</td>\n",
       "      <td>0</td>\n",
       "      <td>0</td>\n",
       "    </tr>\n",
       "    <tr>\n",
       "      <th>6</th>\n",
       "      <td>좋아요</td>\n",
       "      <td>문화</td>\n",
       "      <td>좋아요</td>\n",
       "      <td>좋아요</td>\n",
       "      <td>좋다</td>\n",
       "      <td>2</td>\n",
       "      <td>1</td>\n",
       "    </tr>\n",
       "    <tr>\n",
       "      <th>7</th>\n",
       "      <td>굿</td>\n",
       "      <td>문화</td>\n",
       "      <td>굿</td>\n",
       "      <td>굿</td>\n",
       "      <td>굿</td>\n",
       "      <td>1</td>\n",
       "      <td>1</td>\n",
       "    </tr>\n",
       "    <tr>\n",
       "      <th>8</th>\n",
       "      <td>좋아요</td>\n",
       "      <td>문화</td>\n",
       "      <td>좋아요</td>\n",
       "      <td>좋아요</td>\n",
       "      <td>좋다</td>\n",
       "      <td>2</td>\n",
       "      <td>1</td>\n",
       "    </tr>\n",
       "    <tr>\n",
       "      <th>9</th>\n",
       "      <td>맛나요</td>\n",
       "      <td>문화</td>\n",
       "      <td>맛나요</td>\n",
       "      <td>맛 요</td>\n",
       "      <td>맛 요</td>\n",
       "      <td>0</td>\n",
       "      <td>0</td>\n",
       "    </tr>\n",
       "  </tbody>\n",
       "</table>\n",
       "</div>"
      ],
      "text/plain": [
       "       review 시설분류     review2  review_okt okt_stemmed  score  label\n",
       "0           ?   문화         NaN         NaN         NaN      0      0\n",
       "1        친절해요   문화        친절해요        친절해요        친절하다      2      1\n",
       "2  좋아요 만족스러워요   문화  좋아요 만족스러워요  좋아요 만족스러워요    좋다 만족스럽다      4      1\n",
       "3        와우~~   문화         와우           와우          와우      0      0\n",
       "4           굿   문화           굿           굿           굿      1      1\n",
       "5           구   문화           구           구           구      0      0\n",
       "6         좋아요   문화         좋아요         좋아요          좋다      2      1\n",
       "7           굿   문화           굿           굿           굿      1      1\n",
       "8         좋아요   문화         좋아요         좋아요          좋다      2      1\n",
       "9         맛나요   문화         맛나요         맛 요         맛 요      0      0"
      ]
     },
     "execution_count": 17,
     "metadata": {},
     "output_type": "execute_result"
    }
   ],
   "source": [
    "df = pd.read_csv('data/knu_data_review_okt.csv', encoding='utf-8')\n",
    "df.head(10)"
   ]
  },
  {
   "cell_type": "code",
   "execution_count": 18,
   "id": "acfc9f5e",
   "metadata": {},
   "outputs": [
    {
     "data": {
      "text/plain": [
       "(22738, 7)"
      ]
     },
     "execution_count": 18,
     "metadata": {},
     "output_type": "execute_result"
    }
   ],
   "source": [
    "filt = df['label'] == 0\n",
    "df[filt].shape"
   ]
  },
  {
   "cell_type": "code",
   "execution_count": 19,
   "id": "2928706a",
   "metadata": {},
   "outputs": [
    {
     "data": {
      "text/plain": [
       "(112442, 7)"
      ]
     },
     "execution_count": 19,
     "metadata": {},
     "output_type": "execute_result"
    }
   ],
   "source": [
    "filt_1 = df['label'] == 1\n",
    "df[filt_1].shape"
   ]
  },
  {
   "cell_type": "code",
   "execution_count": 20,
   "id": "8975de7c",
   "metadata": {},
   "outputs": [
    {
     "data": {
      "text/plain": [
       "(6065, 7)"
      ]
     },
     "execution_count": 20,
     "metadata": {},
     "output_type": "execute_result"
    }
   ],
   "source": [
    "filt_2 = df['label'] == -1\n",
    "df[filt_2].shape"
   ]
  },
  {
   "cell_type": "code",
   "execution_count": null,
   "id": "1ac3e184",
   "metadata": {},
   "outputs": [],
   "source": []
  },
  {
   "cell_type": "code",
   "execution_count": null,
   "id": "181670da",
   "metadata": {},
   "outputs": [],
   "source": []
  },
  {
   "cell_type": "markdown",
   "id": "88e4a0a9",
   "metadata": {},
   "source": [
    "# 수동으로 만든 사전"
   ]
  },
  {
   "cell_type": "code",
   "execution_count": 12,
   "id": "11fd3e76",
   "metadata": {},
   "outputs": [
    {
     "data": {
      "text/html": [
       "<div>\n",
       "<style scoped>\n",
       "    .dataframe tbody tr th:only-of-type {\n",
       "        vertical-align: middle;\n",
       "    }\n",
       "\n",
       "    .dataframe tbody tr th {\n",
       "        vertical-align: top;\n",
       "    }\n",
       "\n",
       "    .dataframe thead th {\n",
       "        text-align: right;\n",
       "    }\n",
       "</style>\n",
       "<table border=\"1\" class=\"dataframe\">\n",
       "  <thead>\n",
       "    <tr style=\"text-align: right;\">\n",
       "      <th></th>\n",
       "      <th>review</th>\n",
       "      <th>label</th>\n",
       "      <th>review2</th>\n",
       "      <th>adj</th>\n",
       "      <th>verb</th>\n",
       "      <th>noun</th>\n",
       "      <th>exclamation</th>\n",
       "      <th>adj_stem</th>\n",
       "      <th>verb_stem</th>\n",
       "      <th>adj_score</th>\n",
       "      <th>verb_score</th>\n",
       "      <th>exclamation_score</th>\n",
       "      <th>score</th>\n",
       "    </tr>\n",
       "  </thead>\n",
       "  <tbody>\n",
       "    <tr>\n",
       "      <th>0</th>\n",
       "      <td>?</td>\n",
       "      <td>문화</td>\n",
       "      <td>NaN</td>\n",
       "      <td>NaN</td>\n",
       "      <td>NaN</td>\n",
       "      <td>NaN</td>\n",
       "      <td>NaN</td>\n",
       "      <td>NaN</td>\n",
       "      <td>NaN</td>\n",
       "      <td>0.0</td>\n",
       "      <td>0.0</td>\n",
       "      <td>0.0</td>\n",
       "      <td>0.0</td>\n",
       "    </tr>\n",
       "    <tr>\n",
       "      <th>1</th>\n",
       "      <td>친절해요</td>\n",
       "      <td>문화</td>\n",
       "      <td>친절해요</td>\n",
       "      <td>친절해요</td>\n",
       "      <td>NaN</td>\n",
       "      <td>NaN</td>\n",
       "      <td>NaN</td>\n",
       "      <td>친절하다</td>\n",
       "      <td>NaN</td>\n",
       "      <td>2.0</td>\n",
       "      <td>0.0</td>\n",
       "      <td>0.0</td>\n",
       "      <td>2.0</td>\n",
       "    </tr>\n",
       "    <tr>\n",
       "      <th>2</th>\n",
       "      <td>좋아요 만족스러워요</td>\n",
       "      <td>문화</td>\n",
       "      <td>좋아요 만족스러워요</td>\n",
       "      <td>좋아요 만족스러워요</td>\n",
       "      <td>NaN</td>\n",
       "      <td>NaN</td>\n",
       "      <td>NaN</td>\n",
       "      <td>좋다 만족스럽다</td>\n",
       "      <td>NaN</td>\n",
       "      <td>4.0</td>\n",
       "      <td>0.0</td>\n",
       "      <td>0.0</td>\n",
       "      <td>4.0</td>\n",
       "    </tr>\n",
       "    <tr>\n",
       "      <th>3</th>\n",
       "      <td>와우~~</td>\n",
       "      <td>문화</td>\n",
       "      <td>와우</td>\n",
       "      <td>NaN</td>\n",
       "      <td>NaN</td>\n",
       "      <td>와우</td>\n",
       "      <td>NaN</td>\n",
       "      <td>NaN</td>\n",
       "      <td>NaN</td>\n",
       "      <td>0.0</td>\n",
       "      <td>0.0</td>\n",
       "      <td>0.0</td>\n",
       "      <td>0.0</td>\n",
       "    </tr>\n",
       "    <tr>\n",
       "      <th>4</th>\n",
       "      <td>굿</td>\n",
       "      <td>문화</td>\n",
       "      <td>굿</td>\n",
       "      <td>NaN</td>\n",
       "      <td>NaN</td>\n",
       "      <td>굿</td>\n",
       "      <td>NaN</td>\n",
       "      <td>NaN</td>\n",
       "      <td>NaN</td>\n",
       "      <td>0.0</td>\n",
       "      <td>0.0</td>\n",
       "      <td>0.0</td>\n",
       "      <td>0.0</td>\n",
       "    </tr>\n",
       "    <tr>\n",
       "      <th>5</th>\n",
       "      <td>구</td>\n",
       "      <td>문화</td>\n",
       "      <td>구</td>\n",
       "      <td>NaN</td>\n",
       "      <td>NaN</td>\n",
       "      <td>구</td>\n",
       "      <td>NaN</td>\n",
       "      <td>NaN</td>\n",
       "      <td>NaN</td>\n",
       "      <td>0.0</td>\n",
       "      <td>0.0</td>\n",
       "      <td>0.0</td>\n",
       "      <td>0.0</td>\n",
       "    </tr>\n",
       "    <tr>\n",
       "      <th>6</th>\n",
       "      <td>좋아요</td>\n",
       "      <td>문화</td>\n",
       "      <td>좋아요</td>\n",
       "      <td>좋아요</td>\n",
       "      <td>NaN</td>\n",
       "      <td>NaN</td>\n",
       "      <td>NaN</td>\n",
       "      <td>좋다</td>\n",
       "      <td>NaN</td>\n",
       "      <td>2.0</td>\n",
       "      <td>0.0</td>\n",
       "      <td>0.0</td>\n",
       "      <td>2.0</td>\n",
       "    </tr>\n",
       "    <tr>\n",
       "      <th>7</th>\n",
       "      <td>굿</td>\n",
       "      <td>문화</td>\n",
       "      <td>굿</td>\n",
       "      <td>NaN</td>\n",
       "      <td>NaN</td>\n",
       "      <td>굿</td>\n",
       "      <td>NaN</td>\n",
       "      <td>NaN</td>\n",
       "      <td>NaN</td>\n",
       "      <td>0.0</td>\n",
       "      <td>0.0</td>\n",
       "      <td>0.0</td>\n",
       "      <td>0.0</td>\n",
       "    </tr>\n",
       "    <tr>\n",
       "      <th>8</th>\n",
       "      <td>좋아요</td>\n",
       "      <td>문화</td>\n",
       "      <td>좋아요</td>\n",
       "      <td>좋아요</td>\n",
       "      <td>NaN</td>\n",
       "      <td>NaN</td>\n",
       "      <td>NaN</td>\n",
       "      <td>좋다</td>\n",
       "      <td>NaN</td>\n",
       "      <td>2.0</td>\n",
       "      <td>0.0</td>\n",
       "      <td>0.0</td>\n",
       "      <td>2.0</td>\n",
       "    </tr>\n",
       "    <tr>\n",
       "      <th>9</th>\n",
       "      <td>맛나요</td>\n",
       "      <td>문화</td>\n",
       "      <td>맛나요</td>\n",
       "      <td>NaN</td>\n",
       "      <td>NaN</td>\n",
       "      <td>맛 요</td>\n",
       "      <td>NaN</td>\n",
       "      <td>NaN</td>\n",
       "      <td>NaN</td>\n",
       "      <td>0.0</td>\n",
       "      <td>0.0</td>\n",
       "      <td>0.0</td>\n",
       "      <td>0.0</td>\n",
       "    </tr>\n",
       "  </tbody>\n",
       "</table>\n",
       "</div>"
      ],
      "text/plain": [
       "       review label     review2         adj verb noun exclamation  adj_stem  \\\n",
       "0           ?    문화         NaN         NaN  NaN  NaN         NaN       NaN   \n",
       "1        친절해요    문화        친절해요        친절해요  NaN  NaN         NaN      친절하다   \n",
       "2  좋아요 만족스러워요    문화  좋아요 만족스러워요  좋아요 만족스러워요  NaN  NaN         NaN  좋다 만족스럽다   \n",
       "3        와우~~    문화          와우         NaN  NaN   와우         NaN       NaN   \n",
       "4           굿    문화           굿         NaN  NaN    굿         NaN       NaN   \n",
       "5           구    문화           구         NaN  NaN    구         NaN       NaN   \n",
       "6         좋아요    문화         좋아요         좋아요  NaN  NaN         NaN        좋다   \n",
       "7           굿    문화           굿         NaN  NaN    굿         NaN       NaN   \n",
       "8         좋아요    문화         좋아요         좋아요  NaN  NaN         NaN        좋다   \n",
       "9         맛나요    문화         맛나요         NaN  NaN  맛 요         NaN       NaN   \n",
       "\n",
       "  verb_stem  adj_score  verb_score  exclamation_score  score  \n",
       "0       NaN        0.0         0.0                0.0    0.0  \n",
       "1       NaN        2.0         0.0                0.0    2.0  \n",
       "2       NaN        4.0         0.0                0.0    4.0  \n",
       "3       NaN        0.0         0.0                0.0    0.0  \n",
       "4       NaN        0.0         0.0                0.0    0.0  \n",
       "5       NaN        0.0         0.0                0.0    0.0  \n",
       "6       NaN        2.0         0.0                0.0    2.0  \n",
       "7       NaN        0.0         0.0                0.0    0.0  \n",
       "8       NaN        2.0         0.0                0.0    2.0  \n",
       "9       NaN        0.0         0.0                0.0    0.0  "
      ]
     },
     "execution_count": 12,
     "metadata": {},
     "output_type": "execute_result"
    }
   ],
   "source": [
    "df_2 = pd.read_csv('data/senti_data_review_test2.csv', encoding='utf-8')\n",
    "df_2.head(10)"
   ]
  },
  {
   "cell_type": "code",
   "execution_count": 14,
   "id": "60618011",
   "metadata": {},
   "outputs": [
    {
     "data": {
      "text/plain": [
       "(92736, 13)"
      ]
     },
     "execution_count": 14,
     "metadata": {},
     "output_type": "execute_result"
    }
   ],
   "source": [
    "df_2[df_2['score'] > 0 ].shape"
   ]
  },
  {
   "cell_type": "code",
   "execution_count": 15,
   "id": "a8966459",
   "metadata": {},
   "outputs": [
    {
     "data": {
      "text/plain": [
       "(43795, 13)"
      ]
     },
     "execution_count": 15,
     "metadata": {},
     "output_type": "execute_result"
    }
   ],
   "source": [
    "df_2[df_2['score'] == 0 ].shape"
   ]
  },
  {
   "cell_type": "code",
   "execution_count": 16,
   "id": "41163096",
   "metadata": {},
   "outputs": [
    {
     "data": {
      "text/plain": [
       "(4723, 13)"
      ]
     },
     "execution_count": 16,
     "metadata": {},
     "output_type": "execute_result"
    }
   ],
   "source": [
    "df_2[df_2['score'] < 0 ].shape"
   ]
  },
  {
   "cell_type": "code",
   "execution_count": null,
   "id": "ea2372f8",
   "metadata": {},
   "outputs": [],
   "source": []
  }
 ],
 "metadata": {
  "kernelspec": {
   "display_name": "Python 3 (ipykernel)",
   "language": "python",
   "name": "python3"
  },
  "language_info": {
   "codemirror_mode": {
    "name": "ipython",
    "version": 3
   },
   "file_extension": ".py",
   "mimetype": "text/x-python",
   "name": "python",
   "nbconvert_exporter": "python",
   "pygments_lexer": "ipython3",
   "version": "3.11.5"
  },
  "toc": {
   "base_numbering": 1,
   "nav_menu": {},
   "number_sections": true,
   "sideBar": true,
   "skip_h1_title": false,
   "title_cell": "Table of Contents",
   "title_sidebar": "Contents",
   "toc_cell": false,
   "toc_position": {},
   "toc_section_display": true,
   "toc_window_display": false
  },
  "varInspector": {
   "cols": {
    "lenName": 16,
    "lenType": 16,
    "lenVar": 40
   },
   "kernels_config": {
    "python": {
     "delete_cmd_postfix": "",
     "delete_cmd_prefix": "del ",
     "library": "var_list.py",
     "varRefreshCmd": "print(var_dic_list())"
    },
    "r": {
     "delete_cmd_postfix": ") ",
     "delete_cmd_prefix": "rm(",
     "library": "var_list.r",
     "varRefreshCmd": "cat(var_dic_list()) "
    }
   },
   "types_to_exclude": [
    "module",
    "function",
    "builtin_function_or_method",
    "instance",
    "_Feature"
   ],
   "window_display": false
  }
 },
 "nbformat": 4,
 "nbformat_minor": 5
}
