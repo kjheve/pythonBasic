{
 "cells": [
  {
   "cell_type": "markdown",
   "id": "3b390e8c",
   "metadata": {},
   "source": [
    "## Import"
   ]
  },
  {
   "cell_type": "code",
   "execution_count": 50,
   "id": "4d7a42cf",
   "metadata": {},
   "outputs": [],
   "source": [
    "# 데이터 분석\n",
    "import pandas as pd\n",
    "import numpy as np"
   ]
  },
  {
   "cell_type": "code",
   "execution_count": 51,
   "id": "3f836eab",
   "metadata": {},
   "outputs": [],
   "source": [
    "# 시각화\n",
    "import seaborn as sns\n",
    "import matplotlib.pyplot as plt\n",
    "import koreanize_matplotlib"
   ]
  },
  {
   "cell_type": "code",
   "execution_count": 52,
   "id": "c5f21da7",
   "metadata": {},
   "outputs": [],
   "source": [
    "# 정규표현식\n",
    "import re"
   ]
  },
  {
   "cell_type": "code",
   "execution_count": 53,
   "id": "c12c6a60",
   "metadata": {},
   "outputs": [],
   "source": [
    "# 형태소분석 okt\n",
    "from konlpy.tag import Okt"
   ]
  },
  {
   "cell_type": "markdown",
   "id": "a053c739",
   "metadata": {},
   "source": [
    "## 파일 불러오기"
   ]
  },
  {
   "cell_type": "code",
   "execution_count": 54,
   "id": "b9031b5e",
   "metadata": {},
   "outputs": [
    {
     "data": {
      "text/html": [
       "<div>\n",
       "<style scoped>\n",
       "    .dataframe tbody tr th:only-of-type {\n",
       "        vertical-align: middle;\n",
       "    }\n",
       "\n",
       "    .dataframe tbody tr th {\n",
       "        vertical-align: top;\n",
       "    }\n",
       "\n",
       "    .dataframe thead th {\n",
       "        text-align: right;\n",
       "    }\n",
       "</style>\n",
       "<table border=\"1\" class=\"dataframe\">\n",
       "  <thead>\n",
       "    <tr style=\"text-align: right;\">\n",
       "      <th></th>\n",
       "      <th>review</th>\n",
       "      <th>시설분류</th>\n",
       "    </tr>\n",
       "  </thead>\n",
       "  <tbody>\n",
       "    <tr>\n",
       "      <th>0</th>\n",
       "      <td>?</td>\n",
       "      <td>문화</td>\n",
       "    </tr>\n",
       "    <tr>\n",
       "      <th>1</th>\n",
       "      <td>친절해요</td>\n",
       "      <td>문화</td>\n",
       "    </tr>\n",
       "    <tr>\n",
       "      <th>2</th>\n",
       "      <td>좋아요 만족스러워요</td>\n",
       "      <td>문화</td>\n",
       "    </tr>\n",
       "    <tr>\n",
       "      <th>3</th>\n",
       "      <td>와우~~</td>\n",
       "      <td>문화</td>\n",
       "    </tr>\n",
       "    <tr>\n",
       "      <th>4</th>\n",
       "      <td>굿</td>\n",
       "      <td>문화</td>\n",
       "    </tr>\n",
       "    <tr>\n",
       "      <th>...</th>\n",
       "      <td>...</td>\n",
       "      <td>...</td>\n",
       "    </tr>\n",
       "    <tr>\n",
       "      <th>141249</th>\n",
       "      <td>설사를해서 병원갔어요 배를 만져보고 꼼꼼히 살펴보시더니 약은 안먹어도 되겠다고 하셔...</td>\n",
       "      <td>동물병원</td>\n",
       "    </tr>\n",
       "    <tr>\n",
       "      <th>141250</th>\n",
       "      <td>저희 천사 데려온 곳이고 중성화부터 혈액검사까지 전부 세세하게 봐주셔서 늘 감사드립...</td>\n",
       "      <td>동물병원</td>\n",
       "    </tr>\n",
       "    <tr>\n",
       "      <th>141251</th>\n",
       "      <td>친절하십니다</td>\n",
       "      <td>동물병원</td>\n",
       "    </tr>\n",
       "    <tr>\n",
       "      <th>141252</th>\n",
       "      <td>진료 꼼꼼히 잘봐주세요 진료후 간식도 챙겨주시고 선생님께서 산책 가자고하니 요미가 ...</td>\n",
       "      <td>동물병원</td>\n",
       "    </tr>\n",
       "    <tr>\n",
       "      <th>141253</th>\n",
       "      <td>선생님들이 너무 친절하셔서 동물병원은 여기만 갑니다  두분 다 좋으시지만 여자원장님...</td>\n",
       "      <td>동물병원</td>\n",
       "    </tr>\n",
       "  </tbody>\n",
       "</table>\n",
       "<p>141254 rows × 2 columns</p>\n",
       "</div>"
      ],
      "text/plain": [
       "                                                   review  시설분류\n",
       "0                                                       ?    문화\n",
       "1                                                    친절해요    문화\n",
       "2                                              좋아요 만족스러워요    문화\n",
       "3                                                    와우~~    문화\n",
       "4                                                       굿    문화\n",
       "...                                                   ...   ...\n",
       "141249  설사를해서 병원갔어요 배를 만져보고 꼼꼼히 살펴보시더니 약은 안먹어도 되겠다고 하셔...  동물병원\n",
       "141250  저희 천사 데려온 곳이고 중성화부터 혈액검사까지 전부 세세하게 봐주셔서 늘 감사드립...  동물병원\n",
       "141251                                             친절하십니다  동물병원\n",
       "141252  진료 꼼꼼히 잘봐주세요 진료후 간식도 챙겨주시고 선생님께서 산책 가자고하니 요미가 ...  동물병원\n",
       "141253  선생님들이 너무 친절하셔서 동물병원은 여기만 갑니다  두분 다 좋으시지만 여자원장님...  동물병원\n",
       "\n",
       "[141254 rows x 2 columns]"
      ]
     },
     "execution_count": 54,
     "metadata": {},
     "output_type": "execute_result"
    }
   ],
   "source": [
    "df = pd.read_csv('review_data_2t.csv', encoding='utf-8')\n",
    "df"
   ]
  },
  {
   "cell_type": "markdown",
   "id": "a9558a55",
   "metadata": {},
   "source": [
    "## 함수"
   ]
  },
  {
   "cell_type": "markdown",
   "id": "56e0566c",
   "metadata": {},
   "source": [
    "### 한글만 추출 함수"
   ]
  },
  {
   "cell_type": "code",
   "execution_count": 55,
   "id": "c884b884",
   "metadata": {},
   "outputs": [],
   "source": [
    "# 한글만 추출 + 2개이상 공백 1개로 변환\n",
    "def extract_korean(text):\n",
    "    # 한글만 추출\n",
    "    text = re.sub(r'[^ㄱ-ㅎㅏ-ㅣ가-힣\\s]',' ',text)\n",
    "    # 공백 2개 이상인 경우 1개로 변환\n",
    "    text = re.sub(r'\\s+',' ',text)\n",
    "    return text\n"
   ]
  },
  {
   "cell_type": "markdown",
   "id": "77f3efc1",
   "metadata": {},
   "source": [
    "### 형용사 + 동사 추출 함수"
   ]
  },
  {
   "cell_type": "code",
   "execution_count": 56,
   "id": "e0917522",
   "metadata": {},
   "outputs": [],
   "source": [
    "# 조사 빼고 형태소 분류\n",
    "def get_adjectives(text):\n",
    "    okt = Okt() # okt 객체 생성\n",
    "    okt_pos = okt.pos(text)\n",
    "    join_text = []\n",
    "    for text, pos in okt_pos:\n",
    "        if not pos == 'Josa':\n",
    "            join_text.append(text)\n",
    "    return \" \".join(join_text)"
   ]
  },
  {
   "cell_type": "code",
   "execution_count": 57,
   "id": "dc3ed87d",
   "metadata": {},
   "outputs": [
    {
     "data": {
      "text/plain": [
       "[('설사', 'Noun'),\n",
       " ('를', 'Josa'),\n",
       " ('해서', 'Verb'),\n",
       " ('병원', 'Noun'),\n",
       " ('갔어요', 'Verb'),\n",
       " ('배', 'Noun'),\n",
       " ('를', 'Josa'),\n",
       " ('만져', 'Verb'),\n",
       " ('보고', 'Noun'),\n",
       " ('꼼꼼히', 'Adjective'),\n",
       " ('살펴보시더니', 'Verb'),\n",
       " ('약', 'Noun'),\n",
       " ('은', 'Josa'),\n",
       " ('안', 'VerbPrefix'),\n",
       " ('먹어도', 'Verb'),\n",
       " ('되겠다고', 'Verb'),\n",
       " ('하셔', 'Verb')]"
      ]
     },
     "execution_count": 57,
     "metadata": {},
     "output_type": "execute_result"
    }
   ],
   "source": [
    "okt = Okt()\n",
    "okt.pos('설사를해서 병원갔어요 배를 만져보고 꼼꼼히 살펴보시더니 약은 안먹어도 되겠다고 하셔')"
   ]
  },
  {
   "cell_type": "markdown",
   "id": "a1efc817",
   "metadata": {},
   "source": [
    "## 한글만 추출 (review2 생성)"
   ]
  },
  {
   "cell_type": "code",
   "execution_count": 58,
   "id": "85544160",
   "metadata": {},
   "outputs": [],
   "source": [
    "df['review2'] = df['review'].map(lambda review:extract_korean(review))"
   ]
  },
  {
   "cell_type": "code",
   "execution_count": 59,
   "id": "1822ae56",
   "metadata": {},
   "outputs": [
    {
     "data": {
      "text/html": [
       "<div>\n",
       "<style scoped>\n",
       "    .dataframe tbody tr th:only-of-type {\n",
       "        vertical-align: middle;\n",
       "    }\n",
       "\n",
       "    .dataframe tbody tr th {\n",
       "        vertical-align: top;\n",
       "    }\n",
       "\n",
       "    .dataframe thead th {\n",
       "        text-align: right;\n",
       "    }\n",
       "</style>\n",
       "<table border=\"1\" class=\"dataframe\">\n",
       "  <thead>\n",
       "    <tr style=\"text-align: right;\">\n",
       "      <th></th>\n",
       "      <th>review</th>\n",
       "      <th>시설분류</th>\n",
       "      <th>review2</th>\n",
       "    </tr>\n",
       "  </thead>\n",
       "  <tbody>\n",
       "    <tr>\n",
       "      <th>0</th>\n",
       "      <td>?</td>\n",
       "      <td>문화</td>\n",
       "      <td></td>\n",
       "    </tr>\n",
       "    <tr>\n",
       "      <th>1</th>\n",
       "      <td>친절해요</td>\n",
       "      <td>문화</td>\n",
       "      <td>친절해요</td>\n",
       "    </tr>\n",
       "    <tr>\n",
       "      <th>2</th>\n",
       "      <td>좋아요 만족스러워요</td>\n",
       "      <td>문화</td>\n",
       "      <td>좋아요 만족스러워요</td>\n",
       "    </tr>\n",
       "  </tbody>\n",
       "</table>\n",
       "</div>"
      ],
      "text/plain": [
       "       review 시설분류     review2\n",
       "0           ?   문화            \n",
       "1        친절해요   문화        친절해요\n",
       "2  좋아요 만족스러워요   문화  좋아요 만족스러워요"
      ]
     },
     "execution_count": 59,
     "metadata": {},
     "output_type": "execute_result"
    }
   ],
   "source": [
    "df.head(3)"
   ]
  },
  {
   "cell_type": "markdown",
   "id": "d213ba42",
   "metadata": {},
   "source": [
    "## 파생컬럼 생성"
   ]
  },
  {
   "cell_type": "code",
   "execution_count": 60,
   "id": "925d3cc8",
   "metadata": {},
   "outputs": [],
   "source": [
    "# 시간이 오래 걸리는 작업시 시각적으로 진행상황 수치로( %) 보여준다.\n",
    "from tqdm import tqdm\n",
    "tqdm.pandas()"
   ]
  },
  {
   "cell_type": "code",
   "execution_count": 61,
   "id": "7ea2bf9e",
   "metadata": {},
   "outputs": [
    {
     "name": "stderr",
     "output_type": "stream",
     "text": [
      "100%|██████████████████████████████████████████████████████████████████████| 141254/141254 [00:00<00:00, 152774.53it/s]\n",
      "100%|█████████████████████████████████████████████████████████████████████████| 141254/141254 [05:45<00:00, 408.43it/s]\n"
     ]
    }
   ],
   "source": [
    "df['review_okt'] = df['review'].progress_map(extract_korean).progress_map(get_adjectives)"
   ]
  },
  {
   "cell_type": "code",
   "execution_count": 62,
   "id": "10f16387",
   "metadata": {},
   "outputs": [
    {
     "data": {
      "text/html": [
       "<div>\n",
       "<style scoped>\n",
       "    .dataframe tbody tr th:only-of-type {\n",
       "        vertical-align: middle;\n",
       "    }\n",
       "\n",
       "    .dataframe tbody tr th {\n",
       "        vertical-align: top;\n",
       "    }\n",
       "\n",
       "    .dataframe thead th {\n",
       "        text-align: right;\n",
       "    }\n",
       "</style>\n",
       "<table border=\"1\" class=\"dataframe\">\n",
       "  <thead>\n",
       "    <tr style=\"text-align: right;\">\n",
       "      <th></th>\n",
       "      <th>review</th>\n",
       "      <th>시설분류</th>\n",
       "      <th>review2</th>\n",
       "      <th>review_okt</th>\n",
       "    </tr>\n",
       "  </thead>\n",
       "  <tbody>\n",
       "    <tr>\n",
       "      <th>0</th>\n",
       "      <td>?</td>\n",
       "      <td>문화</td>\n",
       "      <td></td>\n",
       "      <td></td>\n",
       "    </tr>\n",
       "    <tr>\n",
       "      <th>1</th>\n",
       "      <td>친절해요</td>\n",
       "      <td>문화</td>\n",
       "      <td>친절해요</td>\n",
       "      <td>친절해요</td>\n",
       "    </tr>\n",
       "    <tr>\n",
       "      <th>2</th>\n",
       "      <td>좋아요 만족스러워요</td>\n",
       "      <td>문화</td>\n",
       "      <td>좋아요 만족스러워요</td>\n",
       "      <td>좋아요 만족스러워요</td>\n",
       "    </tr>\n",
       "    <tr>\n",
       "      <th>3</th>\n",
       "      <td>와우~~</td>\n",
       "      <td>문화</td>\n",
       "      <td>와우</td>\n",
       "      <td>와우</td>\n",
       "    </tr>\n",
       "    <tr>\n",
       "      <th>4</th>\n",
       "      <td>굿</td>\n",
       "      <td>문화</td>\n",
       "      <td>굿</td>\n",
       "      <td>굿</td>\n",
       "    </tr>\n",
       "    <tr>\n",
       "      <th>...</th>\n",
       "      <td>...</td>\n",
       "      <td>...</td>\n",
       "      <td>...</td>\n",
       "      <td>...</td>\n",
       "    </tr>\n",
       "    <tr>\n",
       "      <th>141249</th>\n",
       "      <td>설사를해서 병원갔어요 배를 만져보고 꼼꼼히 살펴보시더니 약은 안먹어도 되겠다고 하셔...</td>\n",
       "      <td>동물병원</td>\n",
       "      <td>설사를해서 병원갔어요 배를 만져보고 꼼꼼히 살펴보시더니 약은 안먹어도 되겠다고 하셔...</td>\n",
       "      <td>설사 해서 병원 갔어요 배 만져 보고 꼼꼼히 살펴보시더니 약 안 먹어도 되겠다고 하...</td>\n",
       "    </tr>\n",
       "    <tr>\n",
       "      <th>141250</th>\n",
       "      <td>저희 천사 데려온 곳이고 중성화부터 혈액검사까지 전부 세세하게 봐주셔서 늘 감사드립...</td>\n",
       "      <td>동물병원</td>\n",
       "      <td>저희 천사 데려온 곳이고 중성화부터 혈액검사까지 전부 세세하게 봐주셔서 늘 감사드립니다</td>\n",
       "      <td>저희 천사 데려온 곳 중성 화 혈액 검사 전부 세세하게 봐주셔서 늘 감사 드립니다</td>\n",
       "    </tr>\n",
       "    <tr>\n",
       "      <th>141251</th>\n",
       "      <td>친절하십니다</td>\n",
       "      <td>동물병원</td>\n",
       "      <td>친절하십니다</td>\n",
       "      <td>친절하십니다</td>\n",
       "    </tr>\n",
       "    <tr>\n",
       "      <th>141252</th>\n",
       "      <td>진료 꼼꼼히 잘봐주세요 진료후 간식도 챙겨주시고 선생님께서 산책 가자고하니 요미가 ...</td>\n",
       "      <td>동물병원</td>\n",
       "      <td>진료 꼼꼼히 잘봐주세요 진료후 간식도 챙겨주시고 선생님께서 산책 가자고하니 요미가 ...</td>\n",
       "      <td>진료 꼼꼼히 잘 봐주세요 진료 후 간식 챙겨주시고 선생님 산책 가자고하니 요미 따라...</td>\n",
       "    </tr>\n",
       "    <tr>\n",
       "      <th>141253</th>\n",
       "      <td>선생님들이 너무 친절하셔서 동물병원은 여기만 갑니다  두분 다 좋으시지만 여자원장님...</td>\n",
       "      <td>동물병원</td>\n",
       "      <td>선생님들이 너무 친절하셔서 동물병원은 여기만 갑니다 두분 다 좋으시지만 여자원장님이...</td>\n",
       "      <td>선생님 들 너무 친절하셔서 동물병원 여기 갑니다 두 분 다 좋으시지만 여자 원장 님...</td>\n",
       "    </tr>\n",
       "  </tbody>\n",
       "</table>\n",
       "<p>141254 rows × 4 columns</p>\n",
       "</div>"
      ],
      "text/plain": [
       "                                                   review  시설분류  \\\n",
       "0                                                       ?    문화   \n",
       "1                                                    친절해요    문화   \n",
       "2                                              좋아요 만족스러워요    문화   \n",
       "3                                                    와우~~    문화   \n",
       "4                                                       굿    문화   \n",
       "...                                                   ...   ...   \n",
       "141249  설사를해서 병원갔어요 배를 만져보고 꼼꼼히 살펴보시더니 약은 안먹어도 되겠다고 하셔...  동물병원   \n",
       "141250  저희 천사 데려온 곳이고 중성화부터 혈액검사까지 전부 세세하게 봐주셔서 늘 감사드립...  동물병원   \n",
       "141251                                             친절하십니다  동물병원   \n",
       "141252  진료 꼼꼼히 잘봐주세요 진료후 간식도 챙겨주시고 선생님께서 산책 가자고하니 요미가 ...  동물병원   \n",
       "141253  선생님들이 너무 친절하셔서 동물병원은 여기만 갑니다  두분 다 좋으시지만 여자원장님...  동물병원   \n",
       "\n",
       "                                                  review2  \\\n",
       "0                                                           \n",
       "1                                                    친절해요   \n",
       "2                                              좋아요 만족스러워요   \n",
       "3                                                     와우    \n",
       "4                                                       굿   \n",
       "...                                                   ...   \n",
       "141249  설사를해서 병원갔어요 배를 만져보고 꼼꼼히 살펴보시더니 약은 안먹어도 되겠다고 하셔...   \n",
       "141250  저희 천사 데려온 곳이고 중성화부터 혈액검사까지 전부 세세하게 봐주셔서 늘 감사드립니다    \n",
       "141251                                             친절하십니다   \n",
       "141252  진료 꼼꼼히 잘봐주세요 진료후 간식도 챙겨주시고 선생님께서 산책 가자고하니 요미가 ...   \n",
       "141253  선생님들이 너무 친절하셔서 동물병원은 여기만 갑니다 두분 다 좋으시지만 여자원장님이...   \n",
       "\n",
       "                                               review_okt  \n",
       "0                                                          \n",
       "1                                                    친절해요  \n",
       "2                                              좋아요 만족스러워요  \n",
       "3                                                      와우  \n",
       "4                                                       굿  \n",
       "...                                                   ...  \n",
       "141249  설사 해서 병원 갔어요 배 만져 보고 꼼꼼히 살펴보시더니 약 안 먹어도 되겠다고 하...  \n",
       "141250      저희 천사 데려온 곳 중성 화 혈액 검사 전부 세세하게 봐주셔서 늘 감사 드립니다  \n",
       "141251                                             친절하십니다  \n",
       "141252  진료 꼼꼼히 잘 봐주세요 진료 후 간식 챙겨주시고 선생님 산책 가자고하니 요미 따라...  \n",
       "141253  선생님 들 너무 친절하셔서 동물병원 여기 갑니다 두 분 다 좋으시지만 여자 원장 님...  \n",
       "\n",
       "[141254 rows x 4 columns]"
      ]
     },
     "execution_count": 62,
     "metadata": {},
     "output_type": "execute_result"
    }
   ],
   "source": [
    "df"
   ]
  },
  {
   "cell_type": "markdown",
   "id": "db66bdaa",
   "metadata": {},
   "source": [
    "### 결측치 확인"
   ]
  },
  {
   "cell_type": "code",
   "execution_count": 63,
   "id": "5897de1c",
   "metadata": {},
   "outputs": [
    {
     "data": {
      "text/plain": [
       "review        0\n",
       "시설분류          0\n",
       "review2       0\n",
       "review_okt    0\n",
       "dtype: int64"
      ]
     },
     "execution_count": 63,
     "metadata": {},
     "output_type": "execute_result"
    }
   ],
   "source": [
    "df.isnull().sum()"
   ]
  },
  {
   "cell_type": "markdown",
   "id": "b2299da9",
   "metadata": {},
   "source": [
    "### 데이터의 값이 공백인거 NaN으로 변경"
   ]
  },
  {
   "cell_type": "code",
   "execution_count": 64,
   "id": "f7af23f5",
   "metadata": {},
   "outputs": [],
   "source": [
    "# 데이터값이 공백인거 NaN으로 변경\n",
    "df_NanTest = df.replace(r'^\\s*$', np.nan, regex=True)"
   ]
  },
  {
   "cell_type": "code",
   "execution_count": 65,
   "id": "d242fcc4",
   "metadata": {},
   "outputs": [
    {
     "data": {
      "text/html": [
       "<div>\n",
       "<style scoped>\n",
       "    .dataframe tbody tr th:only-of-type {\n",
       "        vertical-align: middle;\n",
       "    }\n",
       "\n",
       "    .dataframe tbody tr th {\n",
       "        vertical-align: top;\n",
       "    }\n",
       "\n",
       "    .dataframe thead th {\n",
       "        text-align: right;\n",
       "    }\n",
       "</style>\n",
       "<table border=\"1\" class=\"dataframe\">\n",
       "  <thead>\n",
       "    <tr style=\"text-align: right;\">\n",
       "      <th></th>\n",
       "      <th>review</th>\n",
       "      <th>시설분류</th>\n",
       "      <th>review2</th>\n",
       "      <th>review_okt</th>\n",
       "    </tr>\n",
       "  </thead>\n",
       "  <tbody>\n",
       "    <tr>\n",
       "      <th>0</th>\n",
       "      <td>?</td>\n",
       "      <td>문화</td>\n",
       "      <td>NaN</td>\n",
       "      <td>NaN</td>\n",
       "    </tr>\n",
       "    <tr>\n",
       "      <th>1</th>\n",
       "      <td>친절해요</td>\n",
       "      <td>문화</td>\n",
       "      <td>친절해요</td>\n",
       "      <td>친절해요</td>\n",
       "    </tr>\n",
       "    <tr>\n",
       "      <th>2</th>\n",
       "      <td>좋아요 만족스러워요</td>\n",
       "      <td>문화</td>\n",
       "      <td>좋아요 만족스러워요</td>\n",
       "      <td>좋아요 만족스러워요</td>\n",
       "    </tr>\n",
       "    <tr>\n",
       "      <th>3</th>\n",
       "      <td>와우~~</td>\n",
       "      <td>문화</td>\n",
       "      <td>와우</td>\n",
       "      <td>와우</td>\n",
       "    </tr>\n",
       "    <tr>\n",
       "      <th>4</th>\n",
       "      <td>굿</td>\n",
       "      <td>문화</td>\n",
       "      <td>굿</td>\n",
       "      <td>굿</td>\n",
       "    </tr>\n",
       "    <tr>\n",
       "      <th>...</th>\n",
       "      <td>...</td>\n",
       "      <td>...</td>\n",
       "      <td>...</td>\n",
       "      <td>...</td>\n",
       "    </tr>\n",
       "    <tr>\n",
       "      <th>141249</th>\n",
       "      <td>설사를해서 병원갔어요 배를 만져보고 꼼꼼히 살펴보시더니 약은 안먹어도 되겠다고 하셔...</td>\n",
       "      <td>동물병원</td>\n",
       "      <td>설사를해서 병원갔어요 배를 만져보고 꼼꼼히 살펴보시더니 약은 안먹어도 되겠다고 하셔...</td>\n",
       "      <td>설사 해서 병원 갔어요 배 만져 보고 꼼꼼히 살펴보시더니 약 안 먹어도 되겠다고 하...</td>\n",
       "    </tr>\n",
       "    <tr>\n",
       "      <th>141250</th>\n",
       "      <td>저희 천사 데려온 곳이고 중성화부터 혈액검사까지 전부 세세하게 봐주셔서 늘 감사드립...</td>\n",
       "      <td>동물병원</td>\n",
       "      <td>저희 천사 데려온 곳이고 중성화부터 혈액검사까지 전부 세세하게 봐주셔서 늘 감사드립니다</td>\n",
       "      <td>저희 천사 데려온 곳 중성 화 혈액 검사 전부 세세하게 봐주셔서 늘 감사 드립니다</td>\n",
       "    </tr>\n",
       "    <tr>\n",
       "      <th>141251</th>\n",
       "      <td>친절하십니다</td>\n",
       "      <td>동물병원</td>\n",
       "      <td>친절하십니다</td>\n",
       "      <td>친절하십니다</td>\n",
       "    </tr>\n",
       "    <tr>\n",
       "      <th>141252</th>\n",
       "      <td>진료 꼼꼼히 잘봐주세요 진료후 간식도 챙겨주시고 선생님께서 산책 가자고하니 요미가 ...</td>\n",
       "      <td>동물병원</td>\n",
       "      <td>진료 꼼꼼히 잘봐주세요 진료후 간식도 챙겨주시고 선생님께서 산책 가자고하니 요미가 ...</td>\n",
       "      <td>진료 꼼꼼히 잘 봐주세요 진료 후 간식 챙겨주시고 선생님 산책 가자고하니 요미 따라...</td>\n",
       "    </tr>\n",
       "    <tr>\n",
       "      <th>141253</th>\n",
       "      <td>선생님들이 너무 친절하셔서 동물병원은 여기만 갑니다  두분 다 좋으시지만 여자원장님...</td>\n",
       "      <td>동물병원</td>\n",
       "      <td>선생님들이 너무 친절하셔서 동물병원은 여기만 갑니다 두분 다 좋으시지만 여자원장님이...</td>\n",
       "      <td>선생님 들 너무 친절하셔서 동물병원 여기 갑니다 두 분 다 좋으시지만 여자 원장 님...</td>\n",
       "    </tr>\n",
       "  </tbody>\n",
       "</table>\n",
       "<p>141254 rows × 4 columns</p>\n",
       "</div>"
      ],
      "text/plain": [
       "                                                   review  시설분류  \\\n",
       "0                                                       ?    문화   \n",
       "1                                                    친절해요    문화   \n",
       "2                                              좋아요 만족스러워요    문화   \n",
       "3                                                    와우~~    문화   \n",
       "4                                                       굿    문화   \n",
       "...                                                   ...   ...   \n",
       "141249  설사를해서 병원갔어요 배를 만져보고 꼼꼼히 살펴보시더니 약은 안먹어도 되겠다고 하셔...  동물병원   \n",
       "141250  저희 천사 데려온 곳이고 중성화부터 혈액검사까지 전부 세세하게 봐주셔서 늘 감사드립...  동물병원   \n",
       "141251                                             친절하십니다  동물병원   \n",
       "141252  진료 꼼꼼히 잘봐주세요 진료후 간식도 챙겨주시고 선생님께서 산책 가자고하니 요미가 ...  동물병원   \n",
       "141253  선생님들이 너무 친절하셔서 동물병원은 여기만 갑니다  두분 다 좋으시지만 여자원장님...  동물병원   \n",
       "\n",
       "                                                  review2  \\\n",
       "0                                                     NaN   \n",
       "1                                                    친절해요   \n",
       "2                                              좋아요 만족스러워요   \n",
       "3                                                     와우    \n",
       "4                                                       굿   \n",
       "...                                                   ...   \n",
       "141249  설사를해서 병원갔어요 배를 만져보고 꼼꼼히 살펴보시더니 약은 안먹어도 되겠다고 하셔...   \n",
       "141250  저희 천사 데려온 곳이고 중성화부터 혈액검사까지 전부 세세하게 봐주셔서 늘 감사드립니다    \n",
       "141251                                             친절하십니다   \n",
       "141252  진료 꼼꼼히 잘봐주세요 진료후 간식도 챙겨주시고 선생님께서 산책 가자고하니 요미가 ...   \n",
       "141253  선생님들이 너무 친절하셔서 동물병원은 여기만 갑니다 두분 다 좋으시지만 여자원장님이...   \n",
       "\n",
       "                                               review_okt  \n",
       "0                                                     NaN  \n",
       "1                                                    친절해요  \n",
       "2                                              좋아요 만족스러워요  \n",
       "3                                                      와우  \n",
       "4                                                       굿  \n",
       "...                                                   ...  \n",
       "141249  설사 해서 병원 갔어요 배 만져 보고 꼼꼼히 살펴보시더니 약 안 먹어도 되겠다고 하...  \n",
       "141250      저희 천사 데려온 곳 중성 화 혈액 검사 전부 세세하게 봐주셔서 늘 감사 드립니다  \n",
       "141251                                             친절하십니다  \n",
       "141252  진료 꼼꼼히 잘 봐주세요 진료 후 간식 챙겨주시고 선생님 산책 가자고하니 요미 따라...  \n",
       "141253  선생님 들 너무 친절하셔서 동물병원 여기 갑니다 두 분 다 좋으시지만 여자 원장 님...  \n",
       "\n",
       "[141254 rows x 4 columns]"
      ]
     },
     "execution_count": 65,
     "metadata": {},
     "output_type": "execute_result"
    }
   ],
   "source": [
    "df_NanTest"
   ]
  },
  {
   "cell_type": "code",
   "execution_count": 66,
   "id": "efa85faf",
   "metadata": {},
   "outputs": [
    {
     "data": {
      "text/plain": [
       "review           9\n",
       "시설분류             0\n",
       "review2       4927\n",
       "review_okt    4928\n",
       "dtype: int64"
      ]
     },
     "execution_count": 66,
     "metadata": {},
     "output_type": "execute_result"
    }
   ],
   "source": [
    "df_NanTest.isnull().sum()"
   ]
  },
  {
   "cell_type": "markdown",
   "id": "bd052a0d",
   "metadata": {},
   "source": [
    "### review2(한글만 남긴 리뷰)의 컬럼 데이터가 NaN이면 제거"
   ]
  },
  {
   "cell_type": "code",
   "execution_count": 67,
   "id": "5832eb87",
   "metadata": {},
   "outputs": [],
   "source": [
    "df_NanTest.dropna(subset=['review'], inplace=True)"
   ]
  },
  {
   "cell_type": "code",
   "execution_count": 68,
   "id": "105bc697",
   "metadata": {},
   "outputs": [
    {
     "data": {
      "text/plain": [
       "review           0\n",
       "시설분류             0\n",
       "review2       4918\n",
       "review_okt    4919\n",
       "dtype: int64"
      ]
     },
     "execution_count": 68,
     "metadata": {},
     "output_type": "execute_result"
    }
   ],
   "source": [
    "df_NanTest.isnull().sum()"
   ]
  },
  {
   "cell_type": "code",
   "execution_count": 69,
   "id": "709063d9",
   "metadata": {},
   "outputs": [],
   "source": [
    "# df_NanTest.dropna(subset=['adj_verb'], inplace=True)"
   ]
  },
  {
   "cell_type": "code",
   "execution_count": 70,
   "id": "8e6df0b0",
   "metadata": {},
   "outputs": [],
   "source": [
    "# df_NanTest.isnull().sum()"
   ]
  },
  {
   "cell_type": "code",
   "execution_count": 71,
   "id": "7ae92890",
   "metadata": {},
   "outputs": [
    {
     "data": {
      "text/plain": [
       "(141245, 4)"
      ]
     },
     "execution_count": 71,
     "metadata": {},
     "output_type": "execute_result"
    }
   ],
   "source": [
    "df_NanTest.shape"
   ]
  },
  {
   "cell_type": "markdown",
   "id": "d284981f",
   "metadata": {},
   "source": [
    "## 저장"
   ]
  },
  {
   "cell_type": "code",
   "execution_count": 72,
   "id": "125bbd2d",
   "metadata": {},
   "outputs": [],
   "source": [
    "df_NanTest.to_csv('data/review_okt.csv', index=False, encoding='utf-8-sig')"
   ]
  },
  {
   "cell_type": "code",
   "execution_count": null,
   "id": "7636e52a",
   "metadata": {},
   "outputs": [],
   "source": []
  },
  {
   "cell_type": "code",
   "execution_count": null,
   "id": "cd57c180",
   "metadata": {},
   "outputs": [],
   "source": []
  },
  {
   "cell_type": "markdown",
   "id": "e31e15ac",
   "metadata": {},
   "source": [
    "## 감성사전으로 라벨링 작업"
   ]
  },
  {
   "cell_type": "markdown",
   "id": "fcaa1d6c",
   "metadata": {},
   "source": [
    "### 데이터프레임 불러오기"
   ]
  },
  {
   "cell_type": "code",
   "execution_count": 73,
   "id": "5585749c",
   "metadata": {},
   "outputs": [],
   "source": [
    "df_review_data = pd.read_csv('data/review_okt.csv', encoding='utf-8')"
   ]
  },
  {
   "cell_type": "code",
   "execution_count": 74,
   "id": "f6e1068b",
   "metadata": {},
   "outputs": [
    {
     "data": {
      "text/html": [
       "<div>\n",
       "<style scoped>\n",
       "    .dataframe tbody tr th:only-of-type {\n",
       "        vertical-align: middle;\n",
       "    }\n",
       "\n",
       "    .dataframe tbody tr th {\n",
       "        vertical-align: top;\n",
       "    }\n",
       "\n",
       "    .dataframe thead th {\n",
       "        text-align: right;\n",
       "    }\n",
       "</style>\n",
       "<table border=\"1\" class=\"dataframe\">\n",
       "  <thead>\n",
       "    <tr style=\"text-align: right;\">\n",
       "      <th></th>\n",
       "      <th>review</th>\n",
       "      <th>시설분류</th>\n",
       "      <th>review2</th>\n",
       "      <th>review_okt</th>\n",
       "    </tr>\n",
       "  </thead>\n",
       "  <tbody>\n",
       "    <tr>\n",
       "      <th>0</th>\n",
       "      <td>?</td>\n",
       "      <td>문화</td>\n",
       "      <td>NaN</td>\n",
       "      <td>NaN</td>\n",
       "    </tr>\n",
       "    <tr>\n",
       "      <th>1</th>\n",
       "      <td>친절해요</td>\n",
       "      <td>문화</td>\n",
       "      <td>친절해요</td>\n",
       "      <td>친절해요</td>\n",
       "    </tr>\n",
       "    <tr>\n",
       "      <th>2</th>\n",
       "      <td>좋아요 만족스러워요</td>\n",
       "      <td>문화</td>\n",
       "      <td>좋아요 만족스러워요</td>\n",
       "      <td>좋아요 만족스러워요</td>\n",
       "    </tr>\n",
       "    <tr>\n",
       "      <th>3</th>\n",
       "      <td>와우~~</td>\n",
       "      <td>문화</td>\n",
       "      <td>와우</td>\n",
       "      <td>와우</td>\n",
       "    </tr>\n",
       "    <tr>\n",
       "      <th>4</th>\n",
       "      <td>굿</td>\n",
       "      <td>문화</td>\n",
       "      <td>굿</td>\n",
       "      <td>굿</td>\n",
       "    </tr>\n",
       "    <tr>\n",
       "      <th>5</th>\n",
       "      <td>구</td>\n",
       "      <td>문화</td>\n",
       "      <td>구</td>\n",
       "      <td>구</td>\n",
       "    </tr>\n",
       "    <tr>\n",
       "      <th>6</th>\n",
       "      <td>좋아요</td>\n",
       "      <td>문화</td>\n",
       "      <td>좋아요</td>\n",
       "      <td>좋아요</td>\n",
       "    </tr>\n",
       "    <tr>\n",
       "      <th>7</th>\n",
       "      <td>굿</td>\n",
       "      <td>문화</td>\n",
       "      <td>굿</td>\n",
       "      <td>굿</td>\n",
       "    </tr>\n",
       "    <tr>\n",
       "      <th>8</th>\n",
       "      <td>좋아요</td>\n",
       "      <td>문화</td>\n",
       "      <td>좋아요</td>\n",
       "      <td>좋아요</td>\n",
       "    </tr>\n",
       "    <tr>\n",
       "      <th>9</th>\n",
       "      <td>맛나요</td>\n",
       "      <td>문화</td>\n",
       "      <td>맛나요</td>\n",
       "      <td>맛 요</td>\n",
       "    </tr>\n",
       "    <tr>\n",
       "      <th>10</th>\n",
       "      <td>굿</td>\n",
       "      <td>문화</td>\n",
       "      <td>굿</td>\n",
       "      <td>굿</td>\n",
       "    </tr>\n",
       "    <tr>\n",
       "      <th>11</th>\n",
       "      <td>휴일날 찾아간 각화제~\\n가을을 부르는 꽃이 피어있네요 ㅋㅋ</td>\n",
       "      <td>문화</td>\n",
       "      <td>휴일날 찾아간 각화제 가을을 부르는 꽃이 피어있네요 ㅋㅋ</td>\n",
       "      <td>휴일 날 찾아간 각 화제 가을 부르는 꽃 피어있네요 ㅋㅋ</td>\n",
       "    </tr>\n",
       "    <tr>\n",
       "      <th>12</th>\n",
       "      <td>산책하기 좋아요</td>\n",
       "      <td>문화</td>\n",
       "      <td>산책하기 좋아요</td>\n",
       "      <td>산책 하기 좋아요</td>\n",
       "    </tr>\n",
       "    <tr>\n",
       "      <th>13</th>\n",
       "      <td>처음 가봤는데 산책로가 잘 되어있네요~\\n한적하게 산책하며 힐링하기 좋습니다</td>\n",
       "      <td>문화</td>\n",
       "      <td>처음 가봤는데 산책로가 잘 되어있네요 한적하게 산책하며 힐링하기 좋습니다</td>\n",
       "      <td>처음 가봤는데 산책로 잘 되어있네요 한적하게 산책 하며 힐링 하기 좋습니다</td>\n",
       "    </tr>\n",
       "    <tr>\n",
       "      <th>14</th>\n",
       "      <td>굿</td>\n",
       "      <td>문화</td>\n",
       "      <td>굿</td>\n",
       "      <td>굿</td>\n",
       "    </tr>\n",
       "    <tr>\n",
       "      <th>15</th>\n",
       "      <td>굿</td>\n",
       "      <td>문화</td>\n",
       "      <td>굿</td>\n",
       "      <td>굿</td>\n",
       "    </tr>\n",
       "    <tr>\n",
       "      <th>16</th>\n",
       "      <td>보현사에서 시작~구릉산~갈매구릉산자락길~모다아울렛구리.갈매역까지 걷기\\n\\n갈매역 ...</td>\n",
       "      <td>문화</td>\n",
       "      <td>보현사에서 시작 구릉산 갈매구릉산자락길 모다아울렛구리 갈매역까지 걷기 갈매역 근처에...</td>\n",
       "      <td>보현사 시작 구릉 산 갈매 구릉 산 자락 길 모 아울렛 구리 갈매역 걷기 갈매역 근...</td>\n",
       "    </tr>\n",
       "    <tr>\n",
       "      <th>17</th>\n",
       "      <td>좋습니다</td>\n",
       "      <td>문화</td>\n",
       "      <td>좋습니다</td>\n",
       "      <td>좋습니다</td>\n",
       "    </tr>\n",
       "    <tr>\n",
       "      <th>18</th>\n",
       "      <td>굿</td>\n",
       "      <td>문화</td>\n",
       "      <td>굿</td>\n",
       "      <td>굿</td>\n",
       "    </tr>\n",
       "    <tr>\n",
       "      <th>19</th>\n",
       "      <td>굿</td>\n",
       "      <td>문화</td>\n",
       "      <td>굿</td>\n",
       "      <td>굿</td>\n",
       "    </tr>\n",
       "  </tbody>\n",
       "</table>\n",
       "</div>"
      ],
      "text/plain": [
       "                                               review 시설분류  \\\n",
       "0                                                   ?   문화   \n",
       "1                                                친절해요   문화   \n",
       "2                                          좋아요 만족스러워요   문화   \n",
       "3                                                와우~~   문화   \n",
       "4                                                   굿   문화   \n",
       "5                                                   구   문화   \n",
       "6                                                 좋아요   문화   \n",
       "7                                                   굿   문화   \n",
       "8                                                 좋아요   문화   \n",
       "9                                                 맛나요   문화   \n",
       "10                                                  굿   문화   \n",
       "11                 휴일날 찾아간 각화제~\\n가을을 부르는 꽃이 피어있네요 ㅋㅋ    문화   \n",
       "12                                           산책하기 좋아요   문화   \n",
       "13         처음 가봤는데 산책로가 잘 되어있네요~\\n한적하게 산책하며 힐링하기 좋습니다   문화   \n",
       "14                                                  굿   문화   \n",
       "15                                                  굿   문화   \n",
       "16  보현사에서 시작~구릉산~갈매구릉산자락길~모다아울렛구리.갈매역까지 걷기\\n\\n갈매역 ...   문화   \n",
       "17                                               좋습니다   문화   \n",
       "18                                                  굿   문화   \n",
       "19                                                  굿   문화   \n",
       "\n",
       "                                              review2  \\\n",
       "0                                                 NaN   \n",
       "1                                                친절해요   \n",
       "2                                          좋아요 만족스러워요   \n",
       "3                                                 와우    \n",
       "4                                                   굿   \n",
       "5                                                   구   \n",
       "6                                                 좋아요   \n",
       "7                                                   굿   \n",
       "8                                                 좋아요   \n",
       "9                                                 맛나요   \n",
       "10                                                  굿   \n",
       "11                   휴일날 찾아간 각화제 가을을 부르는 꽃이 피어있네요 ㅋㅋ    \n",
       "12                                           산책하기 좋아요   \n",
       "13           처음 가봤는데 산책로가 잘 되어있네요 한적하게 산책하며 힐링하기 좋습니다   \n",
       "14                                                  굿   \n",
       "15                                                  굿   \n",
       "16  보현사에서 시작 구릉산 갈매구릉산자락길 모다아울렛구리 갈매역까지 걷기 갈매역 근처에...   \n",
       "17                                               좋습니다   \n",
       "18                                                  굿   \n",
       "19                                                  굿   \n",
       "\n",
       "                                           review_okt  \n",
       "0                                                 NaN  \n",
       "1                                                친절해요  \n",
       "2                                          좋아요 만족스러워요  \n",
       "3                                                  와우  \n",
       "4                                                   굿  \n",
       "5                                                   구  \n",
       "6                                                 좋아요  \n",
       "7                                                   굿  \n",
       "8                                                 좋아요  \n",
       "9                                                 맛 요  \n",
       "10                                                  굿  \n",
       "11                    휴일 날 찾아간 각 화제 가을 부르는 꽃 피어있네요 ㅋㅋ  \n",
       "12                                          산책 하기 좋아요  \n",
       "13          처음 가봤는데 산책로 잘 되어있네요 한적하게 산책 하며 힐링 하기 좋습니다  \n",
       "14                                                  굿  \n",
       "15                                                  굿  \n",
       "16  보현사 시작 구릉 산 갈매 구릉 산 자락 길 모 아울렛 구리 갈매역 걷기 갈매역 근...  \n",
       "17                                               좋습니다  \n",
       "18                                                  굿  \n",
       "19                                                  굿  "
      ]
     },
     "execution_count": 74,
     "metadata": {},
     "output_type": "execute_result"
    }
   ],
   "source": [
    "df_review_data.head(20)"
   ]
  },
  {
   "cell_type": "markdown",
   "id": "98f2ba18",
   "metadata": {},
   "source": [
    "### 정규화, 어간 - 추출 함수"
   ]
  },
  {
   "cell_type": "code",
   "execution_count": 75,
   "id": "7ac6955d",
   "metadata": {},
   "outputs": [],
   "source": [
    "def extract_stemming(words, tokenizer):\n",
    "    # 문자열을 포함한 다양한 타입에서 NaN 확인\n",
    "    if pd.isna(words):\n",
    "        return\n",
    "\n",
    "    # 전체 텍스트에 대해 한 번에 형태소 분석을 수행\n",
    "    morphs = tokenizer.morphs(words, stem=True)\n",
    "    \n",
    "    # 결과에서 어간만 추출하여 조인\n",
    "    return ' '.join(morph for morph in morphs if morph)"
   ]
  },
  {
   "cell_type": "code",
   "execution_count": 76,
   "id": "2177ff56",
   "metadata": {},
   "outputs": [],
   "source": [
    "from konlpy.tag import Okt\n",
    "okt = Okt()"
   ]
  },
  {
   "cell_type": "code",
   "execution_count": 77,
   "id": "1f02daa1",
   "metadata": {},
   "outputs": [],
   "source": [
    "from tqdm import tqdm\n",
    "tqdm.pandas()\n",
    "from functools import partial"
   ]
  },
  {
   "cell_type": "code",
   "execution_count": 78,
   "id": "3b0654fa",
   "metadata": {},
   "outputs": [],
   "source": [
    "# extract_stem 함수에 대한 partial 함수 생성\n",
    "extract_stem_okt = partial(extract_stemming, tokenizer=okt)"
   ]
  },
  {
   "cell_type": "code",
   "execution_count": 79,
   "id": "b9251be3",
   "metadata": {},
   "outputs": [
    {
     "name": "stderr",
     "output_type": "stream",
     "text": [
      "100%|█████████████████████████████████████████████████████████████████████████| 141245/141245 [03:07<00:00, 752.99it/s]\n"
     ]
    }
   ],
   "source": [
    "df_review_data['okt_stemmed'] = df_review_data['review_okt'].progress_map(extract_stem_okt)"
   ]
  },
  {
   "cell_type": "code",
   "execution_count": 80,
   "id": "9f358202",
   "metadata": {},
   "outputs": [
    {
     "data": {
      "text/html": [
       "<div>\n",
       "<style scoped>\n",
       "    .dataframe tbody tr th:only-of-type {\n",
       "        vertical-align: middle;\n",
       "    }\n",
       "\n",
       "    .dataframe tbody tr th {\n",
       "        vertical-align: top;\n",
       "    }\n",
       "\n",
       "    .dataframe thead th {\n",
       "        text-align: right;\n",
       "    }\n",
       "</style>\n",
       "<table border=\"1\" class=\"dataframe\">\n",
       "  <thead>\n",
       "    <tr style=\"text-align: right;\">\n",
       "      <th></th>\n",
       "      <th>review</th>\n",
       "      <th>시설분류</th>\n",
       "      <th>review2</th>\n",
       "      <th>review_okt</th>\n",
       "      <th>okt_stemmed</th>\n",
       "    </tr>\n",
       "  </thead>\n",
       "  <tbody>\n",
       "    <tr>\n",
       "      <th>0</th>\n",
       "      <td>?</td>\n",
       "      <td>문화</td>\n",
       "      <td>NaN</td>\n",
       "      <td>NaN</td>\n",
       "      <td>None</td>\n",
       "    </tr>\n",
       "    <tr>\n",
       "      <th>1</th>\n",
       "      <td>친절해요</td>\n",
       "      <td>문화</td>\n",
       "      <td>친절해요</td>\n",
       "      <td>친절해요</td>\n",
       "      <td>친절하다</td>\n",
       "    </tr>\n",
       "    <tr>\n",
       "      <th>2</th>\n",
       "      <td>좋아요 만족스러워요</td>\n",
       "      <td>문화</td>\n",
       "      <td>좋아요 만족스러워요</td>\n",
       "      <td>좋아요 만족스러워요</td>\n",
       "      <td>좋다 만족스럽다</td>\n",
       "    </tr>\n",
       "    <tr>\n",
       "      <th>3</th>\n",
       "      <td>와우~~</td>\n",
       "      <td>문화</td>\n",
       "      <td>와우</td>\n",
       "      <td>와우</td>\n",
       "      <td>와우</td>\n",
       "    </tr>\n",
       "    <tr>\n",
       "      <th>4</th>\n",
       "      <td>굿</td>\n",
       "      <td>문화</td>\n",
       "      <td>굿</td>\n",
       "      <td>굿</td>\n",
       "      <td>굿</td>\n",
       "    </tr>\n",
       "    <tr>\n",
       "      <th>...</th>\n",
       "      <td>...</td>\n",
       "      <td>...</td>\n",
       "      <td>...</td>\n",
       "      <td>...</td>\n",
       "      <td>...</td>\n",
       "    </tr>\n",
       "    <tr>\n",
       "      <th>141240</th>\n",
       "      <td>설사를해서 병원갔어요 배를 만져보고 꼼꼼히 살펴보시더니 약은 안먹어도 되겠다고 하셔...</td>\n",
       "      <td>동물병원</td>\n",
       "      <td>설사를해서 병원갔어요 배를 만져보고 꼼꼼히 살펴보시더니 약은 안먹어도 되겠다고 하셔...</td>\n",
       "      <td>설사 해서 병원 갔어요 배 만져 보고 꼼꼼히 살펴보시더니 약 안 먹어도 되겠다고 하...</td>\n",
       "      <td>설사 하다 병원 가다 배 만지다 보고 꼼꼼하다 살펴보다 약 안 먹다 되다 하다 주사...</td>\n",
       "    </tr>\n",
       "    <tr>\n",
       "      <th>141241</th>\n",
       "      <td>저희 천사 데려온 곳이고 중성화부터 혈액검사까지 전부 세세하게 봐주셔서 늘 감사드립...</td>\n",
       "      <td>동물병원</td>\n",
       "      <td>저희 천사 데려온 곳이고 중성화부터 혈액검사까지 전부 세세하게 봐주셔서 늘 감사드립니다</td>\n",
       "      <td>저희 천사 데려온 곳 중성 화 혈액 검사 전부 세세하게 봐주셔서 늘 감사 드립니다</td>\n",
       "      <td>저희 천사 데려오다 곳 중성 화 혈액 검사 전부 세다 보다 늘 감사 드리다</td>\n",
       "    </tr>\n",
       "    <tr>\n",
       "      <th>141242</th>\n",
       "      <td>친절하십니다</td>\n",
       "      <td>동물병원</td>\n",
       "      <td>친절하십니다</td>\n",
       "      <td>친절하십니다</td>\n",
       "      <td>친절하다</td>\n",
       "    </tr>\n",
       "    <tr>\n",
       "      <th>141243</th>\n",
       "      <td>진료 꼼꼼히 잘봐주세요 진료후 간식도 챙겨주시고 선생님께서 산책 가자고하니 요미가 ...</td>\n",
       "      <td>동물병원</td>\n",
       "      <td>진료 꼼꼼히 잘봐주세요 진료후 간식도 챙겨주시고 선생님께서 산책 가자고하니 요미가 ...</td>\n",
       "      <td>진료 꼼꼼히 잘 봐주세요 진료 후 간식 챙겨주시고 선생님 산책 가자고하니 요미 따라...</td>\n",
       "      <td>진료 꼼꼼하다 자다 보다 진료 후 간식 챙기다 선생님 산책 가다 요미 따라가다 처방...</td>\n",
       "    </tr>\n",
       "    <tr>\n",
       "      <th>141244</th>\n",
       "      <td>선생님들이 너무 친절하셔서 동물병원은 여기만 갑니다  두분 다 좋으시지만 여자원장님...</td>\n",
       "      <td>동물병원</td>\n",
       "      <td>선생님들이 너무 친절하셔서 동물병원은 여기만 갑니다 두분 다 좋으시지만 여자원장님이...</td>\n",
       "      <td>선생님 들 너무 친절하셔서 동물병원 여기 갑니다 두 분 다 좋으시지만 여자 원장 님...</td>\n",
       "      <td>선생님 들다 너무 친절하다 동물병원 여기 가다 두 분 다 좋다 여자 원장 님 특히 ...</td>\n",
       "    </tr>\n",
       "  </tbody>\n",
       "</table>\n",
       "<p>141245 rows × 5 columns</p>\n",
       "</div>"
      ],
      "text/plain": [
       "                                                   review  시설분류  \\\n",
       "0                                                       ?    문화   \n",
       "1                                                    친절해요    문화   \n",
       "2                                              좋아요 만족스러워요    문화   \n",
       "3                                                    와우~~    문화   \n",
       "4                                                       굿    문화   \n",
       "...                                                   ...   ...   \n",
       "141240  설사를해서 병원갔어요 배를 만져보고 꼼꼼히 살펴보시더니 약은 안먹어도 되겠다고 하셔...  동물병원   \n",
       "141241  저희 천사 데려온 곳이고 중성화부터 혈액검사까지 전부 세세하게 봐주셔서 늘 감사드립...  동물병원   \n",
       "141242                                             친절하십니다  동물병원   \n",
       "141243  진료 꼼꼼히 잘봐주세요 진료후 간식도 챙겨주시고 선생님께서 산책 가자고하니 요미가 ...  동물병원   \n",
       "141244  선생님들이 너무 친절하셔서 동물병원은 여기만 갑니다  두분 다 좋으시지만 여자원장님...  동물병원   \n",
       "\n",
       "                                                  review2  \\\n",
       "0                                                     NaN   \n",
       "1                                                    친절해요   \n",
       "2                                              좋아요 만족스러워요   \n",
       "3                                                     와우    \n",
       "4                                                       굿   \n",
       "...                                                   ...   \n",
       "141240  설사를해서 병원갔어요 배를 만져보고 꼼꼼히 살펴보시더니 약은 안먹어도 되겠다고 하셔...   \n",
       "141241  저희 천사 데려온 곳이고 중성화부터 혈액검사까지 전부 세세하게 봐주셔서 늘 감사드립니다    \n",
       "141242                                             친절하십니다   \n",
       "141243  진료 꼼꼼히 잘봐주세요 진료후 간식도 챙겨주시고 선생님께서 산책 가자고하니 요미가 ...   \n",
       "141244  선생님들이 너무 친절하셔서 동물병원은 여기만 갑니다 두분 다 좋으시지만 여자원장님이...   \n",
       "\n",
       "                                               review_okt  \\\n",
       "0                                                     NaN   \n",
       "1                                                    친절해요   \n",
       "2                                              좋아요 만족스러워요   \n",
       "3                                                      와우   \n",
       "4                                                       굿   \n",
       "...                                                   ...   \n",
       "141240  설사 해서 병원 갔어요 배 만져 보고 꼼꼼히 살펴보시더니 약 안 먹어도 되겠다고 하...   \n",
       "141241      저희 천사 데려온 곳 중성 화 혈액 검사 전부 세세하게 봐주셔서 늘 감사 드립니다   \n",
       "141242                                             친절하십니다   \n",
       "141243  진료 꼼꼼히 잘 봐주세요 진료 후 간식 챙겨주시고 선생님 산책 가자고하니 요미 따라...   \n",
       "141244  선생님 들 너무 친절하셔서 동물병원 여기 갑니다 두 분 다 좋으시지만 여자 원장 님...   \n",
       "\n",
       "                                              okt_stemmed  \n",
       "0                                                    None  \n",
       "1                                                    친절하다  \n",
       "2                                                좋다 만족스럽다  \n",
       "3                                                      와우  \n",
       "4                                                       굿  \n",
       "...                                                   ...  \n",
       "141240  설사 하다 병원 가다 배 만지다 보고 꼼꼼하다 살펴보다 약 안 먹다 되다 하다 주사...  \n",
       "141241          저희 천사 데려오다 곳 중성 화 혈액 검사 전부 세다 보다 늘 감사 드리다  \n",
       "141242                                               친절하다  \n",
       "141243  진료 꼼꼼하다 자다 보다 진료 후 간식 챙기다 선생님 산책 가다 요미 따라가다 처방...  \n",
       "141244  선생님 들다 너무 친절하다 동물병원 여기 가다 두 분 다 좋다 여자 원장 님 특히 ...  \n",
       "\n",
       "[141245 rows x 5 columns]"
      ]
     },
     "execution_count": 80,
     "metadata": {},
     "output_type": "execute_result"
    }
   ],
   "source": [
    "df_review_data"
   ]
  },
  {
   "cell_type": "code",
   "execution_count": 81,
   "id": "89c1819d",
   "metadata": {},
   "outputs": [],
   "source": [
    "df_review_data.to_csv('data/review_okt_final.csv', index=False, encoding='utf-8-sig')"
   ]
  },
  {
   "cell_type": "code",
   "execution_count": 82,
   "id": "5546c036",
   "metadata": {},
   "outputs": [],
   "source": [
    "df_review_data = pd.read_csv('data/review_okt_final.csv', encoding='utf-8')"
   ]
  },
  {
   "cell_type": "markdown",
   "id": "f477ee16",
   "metadata": {},
   "source": [
    "### 감성사전 불러오기"
   ]
  },
  {
   "cell_type": "code",
   "execution_count": 83,
   "id": "b666ad96",
   "metadata": {},
   "outputs": [],
   "source": [
    "import json"
   ]
  },
  {
   "cell_type": "code",
   "execution_count": 84,
   "id": "b87e20a6",
   "metadata": {},
   "outputs": [],
   "source": [
    "with open('data/SentiWord_info.json', encoding='utf-8-sig', mode='r') as f:\n",
    "    Sentiword_info = json.load(f)"
   ]
  },
  {
   "cell_type": "code",
   "execution_count": 85,
   "id": "d4cba5ef",
   "metadata": {},
   "outputs": [],
   "source": [
    "sentiword_dic = pd.DataFrame(Sentiword_info)"
   ]
  },
  {
   "cell_type": "code",
   "execution_count": 86,
   "id": "9962b0fb",
   "metadata": {},
   "outputs": [
    {
     "data": {
      "text/html": [
       "<div>\n",
       "<style scoped>\n",
       "    .dataframe tbody tr th:only-of-type {\n",
       "        vertical-align: middle;\n",
       "    }\n",
       "\n",
       "    .dataframe tbody tr th {\n",
       "        vertical-align: top;\n",
       "    }\n",
       "\n",
       "    .dataframe thead th {\n",
       "        text-align: right;\n",
       "    }\n",
       "</style>\n",
       "<table border=\"1\" class=\"dataframe\">\n",
       "  <thead>\n",
       "    <tr style=\"text-align: right;\">\n",
       "      <th></th>\n",
       "      <th>word</th>\n",
       "      <th>word_root</th>\n",
       "      <th>polarity</th>\n",
       "    </tr>\n",
       "  </thead>\n",
       "  <tbody>\n",
       "    <tr>\n",
       "      <th>0</th>\n",
       "      <td>(-;</td>\n",
       "      <td>(</td>\n",
       "      <td>1</td>\n",
       "    </tr>\n",
       "    <tr>\n",
       "      <th>1</th>\n",
       "      <td>(;_;)</td>\n",
       "      <td>(;_;)</td>\n",
       "      <td>-1</td>\n",
       "    </tr>\n",
       "    <tr>\n",
       "      <th>2</th>\n",
       "      <td>(^^)</td>\n",
       "      <td>(^^)</td>\n",
       "      <td>1</td>\n",
       "    </tr>\n",
       "    <tr>\n",
       "      <th>3</th>\n",
       "      <td>(^-^)</td>\n",
       "      <td>(^-^)</td>\n",
       "      <td>1</td>\n",
       "    </tr>\n",
       "    <tr>\n",
       "      <th>4</th>\n",
       "      <td>(^^*</td>\n",
       "      <td>(</td>\n",
       "      <td>1</td>\n",
       "    </tr>\n",
       "    <tr>\n",
       "      <th>...</th>\n",
       "      <td>...</td>\n",
       "      <td>...</td>\n",
       "      <td>...</td>\n",
       "    </tr>\n",
       "    <tr>\n",
       "      <th>14849</th>\n",
       "      <td>반신반의하다</td>\n",
       "      <td>반신반의</td>\n",
       "      <td>0</td>\n",
       "    </tr>\n",
       "    <tr>\n",
       "      <th>14850</th>\n",
       "      <td>신비롭다</td>\n",
       "      <td>신비</td>\n",
       "      <td>1</td>\n",
       "    </tr>\n",
       "    <tr>\n",
       "      <th>14851</th>\n",
       "      <td>아리송하다</td>\n",
       "      <td>아리송</td>\n",
       "      <td>-1</td>\n",
       "    </tr>\n",
       "    <tr>\n",
       "      <th>14852</th>\n",
       "      <td>알쏭하다</td>\n",
       "      <td>알쏭하</td>\n",
       "      <td>-1</td>\n",
       "    </tr>\n",
       "    <tr>\n",
       "      <th>14853</th>\n",
       "      <td>알쏭달쏭하다</td>\n",
       "      <td>알쏭달쏭</td>\n",
       "      <td>-1</td>\n",
       "    </tr>\n",
       "  </tbody>\n",
       "</table>\n",
       "<p>14854 rows × 3 columns</p>\n",
       "</div>"
      ],
      "text/plain": [
       "         word word_root polarity\n",
       "0         (-;         (        1\n",
       "1       (;_;)     (;_;)       -1\n",
       "2        (^^)      (^^)        1\n",
       "3       (^-^)     (^-^)        1\n",
       "4        (^^*         (        1\n",
       "...       ...       ...      ...\n",
       "14849  반신반의하다      반신반의        0\n",
       "14850    신비롭다        신비        1\n",
       "14851   아리송하다       아리송       -1\n",
       "14852    알쏭하다       알쏭하       -1\n",
       "14853  알쏭달쏭하다      알쏭달쏭       -1\n",
       "\n",
       "[14854 rows x 3 columns]"
      ]
     },
     "execution_count": 86,
     "metadata": {},
     "output_type": "execute_result"
    }
   ],
   "source": [
    "sentiword_dic"
   ]
  },
  {
   "cell_type": "markdown",
   "id": "3c128f18",
   "metadata": {},
   "source": [
    "#### 감성사전 추가하기"
   ]
  },
  {
   "cell_type": "code",
   "execution_count": 87,
   "id": "44b05395",
   "metadata": {},
   "outputs": [],
   "source": [
    "# 추가할 단어 있으면 추가하기\n",
    "new_row = {'word': '친절해요', 'word_root': '친절', 'polarity' : '2'}\n",
    "sentiword_dic = pd.concat([sentiword_dic, pd.DataFrame(new_row, index=[0])], ignore_index=True)"
   ]
  },
  {
   "cell_type": "code",
   "execution_count": 88,
   "id": "77752f91",
   "metadata": {},
   "outputs": [],
   "source": [
    "# 추가할 단어 있으면 추가하기\n",
    "new_row = {'word': '친절하다', 'word_root': '친절', 'polarity' : '2'}\n",
    "sentiword_dic = pd.concat([sentiword_dic, pd.DataFrame(new_row, index=[0])], ignore_index=True)"
   ]
  },
  {
   "cell_type": "code",
   "execution_count": 89,
   "id": "5d735649",
   "metadata": {},
   "outputs": [],
   "source": [
    "# 추가할 단어 있으면 추가하기\n",
    "new_row = {'word': '굿', 'word_root': '굿', 'polarity' : '1'}\n",
    "sentiword_dic = pd.concat([sentiword_dic, pd.DataFrame(new_row, index=[0])], ignore_index=True)"
   ]
  },
  {
   "cell_type": "code",
   "execution_count": null,
   "id": "b1e20a96",
   "metadata": {},
   "outputs": [],
   "source": []
  },
  {
   "cell_type": "code",
   "execution_count": null,
   "id": "0e46326f",
   "metadata": {},
   "outputs": [],
   "source": []
  },
  {
   "cell_type": "markdown",
   "id": "f755ae8c",
   "metadata": {},
   "source": [
    "### 라벨링 작업"
   ]
  },
  {
   "cell_type": "code",
   "execution_count": 90,
   "id": "8e58a188",
   "metadata": {},
   "outputs": [],
   "source": [
    "# 감정사전 key-value(단어 - 긍정부정값)\n",
    "hash_map = {}"
   ]
  },
  {
   "cell_type": "code",
   "execution_count": 91,
   "id": "200c93ff",
   "metadata": {},
   "outputs": [],
   "source": [
    "# 감정사전 key-value 값 해싱\n",
    "for index, row in sentiword_dic.iterrows():\n",
    "  hash_map[row['word']] = row['polarity']"
   ]
  },
  {
   "cell_type": "code",
   "execution_count": 96,
   "id": "c23bb111",
   "metadata": {},
   "outputs": [],
   "source": [
    "def calculate_sentiment_score(text):\n",
    "    if pd.isna(text):\n",
    "        return 0\n",
    "    score = 0\n",
    "    words = text.split()\n",
    "    for word in words:\n",
    "      score += int(hash_map.get(word,0))\n",
    "    return score"
   ]
  },
  {
   "cell_type": "code",
   "execution_count": 97,
   "id": "c3503f6f",
   "metadata": {},
   "outputs": [],
   "source": [
    "# 리뷰값 불러와서 긍정 부정 분석\n",
    "def calculate_sentiment_korean(text):\n",
    "    if pd.isna(text):\n",
    "        return 0\n",
    "    score = 0\n",
    "    words = text.split()\n",
    "    for word in words:\n",
    "      score += int(hash_map.get(word,0))\n",
    "\n",
    "    if score > 0: return 1\n",
    "    elif  score < 0 : return -1\n",
    "    else : return 0"
   ]
  },
  {
   "cell_type": "code",
   "execution_count": 98,
   "id": "2871a547",
   "metadata": {},
   "outputs": [],
   "source": [
    "# 리뷰 데이터에 대한 감정 라벨링\n",
    "from tqdm import tqdm\n",
    "tqdm.pandas()\n",
    "df_review_data['score'] = df_review_data['okt_stemmed'].apply(calculate_sentiment_score)"
   ]
  },
  {
   "cell_type": "code",
   "execution_count": 99,
   "id": "4baaf299",
   "metadata": {},
   "outputs": [],
   "source": [
    "# 리뷰 데이터에 대한 감정 라벨링\n",
    "from tqdm import tqdm\n",
    "tqdm.pandas()\n",
    "df_review_data['label'] = df_review_data['okt_stemmed'].apply(calculate_sentiment_korean)"
   ]
  },
  {
   "cell_type": "code",
   "execution_count": 100,
   "id": "791161c4",
   "metadata": {},
   "outputs": [
    {
     "data": {
      "text/html": [
       "<div>\n",
       "<style scoped>\n",
       "    .dataframe tbody tr th:only-of-type {\n",
       "        vertical-align: middle;\n",
       "    }\n",
       "\n",
       "    .dataframe tbody tr th {\n",
       "        vertical-align: top;\n",
       "    }\n",
       "\n",
       "    .dataframe thead th {\n",
       "        text-align: right;\n",
       "    }\n",
       "</style>\n",
       "<table border=\"1\" class=\"dataframe\">\n",
       "  <thead>\n",
       "    <tr style=\"text-align: right;\">\n",
       "      <th></th>\n",
       "      <th>review</th>\n",
       "      <th>시설분류</th>\n",
       "      <th>review2</th>\n",
       "      <th>review_okt</th>\n",
       "      <th>okt_stemmed</th>\n",
       "      <th>score</th>\n",
       "      <th>label</th>\n",
       "    </tr>\n",
       "  </thead>\n",
       "  <tbody>\n",
       "    <tr>\n",
       "      <th>0</th>\n",
       "      <td>?</td>\n",
       "      <td>문화</td>\n",
       "      <td>NaN</td>\n",
       "      <td>NaN</td>\n",
       "      <td>NaN</td>\n",
       "      <td>0</td>\n",
       "      <td>0</td>\n",
       "    </tr>\n",
       "    <tr>\n",
       "      <th>1</th>\n",
       "      <td>친절해요</td>\n",
       "      <td>문화</td>\n",
       "      <td>친절해요</td>\n",
       "      <td>친절해요</td>\n",
       "      <td>친절하다</td>\n",
       "      <td>2</td>\n",
       "      <td>1</td>\n",
       "    </tr>\n",
       "    <tr>\n",
       "      <th>2</th>\n",
       "      <td>좋아요 만족스러워요</td>\n",
       "      <td>문화</td>\n",
       "      <td>좋아요 만족스러워요</td>\n",
       "      <td>좋아요 만족스러워요</td>\n",
       "      <td>좋다 만족스럽다</td>\n",
       "      <td>4</td>\n",
       "      <td>1</td>\n",
       "    </tr>\n",
       "    <tr>\n",
       "      <th>3</th>\n",
       "      <td>와우~~</td>\n",
       "      <td>문화</td>\n",
       "      <td>와우</td>\n",
       "      <td>와우</td>\n",
       "      <td>와우</td>\n",
       "      <td>0</td>\n",
       "      <td>0</td>\n",
       "    </tr>\n",
       "    <tr>\n",
       "      <th>4</th>\n",
       "      <td>굿</td>\n",
       "      <td>문화</td>\n",
       "      <td>굿</td>\n",
       "      <td>굿</td>\n",
       "      <td>굿</td>\n",
       "      <td>1</td>\n",
       "      <td>1</td>\n",
       "    </tr>\n",
       "    <tr>\n",
       "      <th>...</th>\n",
       "      <td>...</td>\n",
       "      <td>...</td>\n",
       "      <td>...</td>\n",
       "      <td>...</td>\n",
       "      <td>...</td>\n",
       "      <td>...</td>\n",
       "      <td>...</td>\n",
       "    </tr>\n",
       "    <tr>\n",
       "      <th>141240</th>\n",
       "      <td>설사를해서 병원갔어요 배를 만져보고 꼼꼼히 살펴보시더니 약은 안먹어도 되겠다고 하셔...</td>\n",
       "      <td>동물병원</td>\n",
       "      <td>설사를해서 병원갔어요 배를 만져보고 꼼꼼히 살펴보시더니 약은 안먹어도 되겠다고 하셔...</td>\n",
       "      <td>설사 해서 병원 갔어요 배 만져 보고 꼼꼼히 살펴보시더니 약 안 먹어도 되겠다고 하...</td>\n",
       "      <td>설사 하다 병원 가다 배 만지다 보고 꼼꼼하다 살펴보다 약 안 먹다 되다 하다 주사...</td>\n",
       "      <td>1</td>\n",
       "      <td>1</td>\n",
       "    </tr>\n",
       "    <tr>\n",
       "      <th>141241</th>\n",
       "      <td>저희 천사 데려온 곳이고 중성화부터 혈액검사까지 전부 세세하게 봐주셔서 늘 감사드립...</td>\n",
       "      <td>동물병원</td>\n",
       "      <td>저희 천사 데려온 곳이고 중성화부터 혈액검사까지 전부 세세하게 봐주셔서 늘 감사드립니다</td>\n",
       "      <td>저희 천사 데려온 곳 중성 화 혈액 검사 전부 세세하게 봐주셔서 늘 감사 드립니다</td>\n",
       "      <td>저희 천사 데려오다 곳 중성 화 혈액 검사 전부 세다 보다 늘 감사 드리다</td>\n",
       "      <td>1</td>\n",
       "      <td>1</td>\n",
       "    </tr>\n",
       "    <tr>\n",
       "      <th>141242</th>\n",
       "      <td>친절하십니다</td>\n",
       "      <td>동물병원</td>\n",
       "      <td>친절하십니다</td>\n",
       "      <td>친절하십니다</td>\n",
       "      <td>친절하다</td>\n",
       "      <td>2</td>\n",
       "      <td>1</td>\n",
       "    </tr>\n",
       "    <tr>\n",
       "      <th>141243</th>\n",
       "      <td>진료 꼼꼼히 잘봐주세요 진료후 간식도 챙겨주시고 선생님께서 산책 가자고하니 요미가 ...</td>\n",
       "      <td>동물병원</td>\n",
       "      <td>진료 꼼꼼히 잘봐주세요 진료후 간식도 챙겨주시고 선생님께서 산책 가자고하니 요미가 ...</td>\n",
       "      <td>진료 꼼꼼히 잘 봐주세요 진료 후 간식 챙겨주시고 선생님 산책 가자고하니 요미 따라...</td>\n",
       "      <td>진료 꼼꼼하다 자다 보다 진료 후 간식 챙기다 선생님 산책 가다 요미 따라가다 처방...</td>\n",
       "      <td>2</td>\n",
       "      <td>1</td>\n",
       "    </tr>\n",
       "    <tr>\n",
       "      <th>141244</th>\n",
       "      <td>선생님들이 너무 친절하셔서 동물병원은 여기만 갑니다  두분 다 좋으시지만 여자원장님...</td>\n",
       "      <td>동물병원</td>\n",
       "      <td>선생님들이 너무 친절하셔서 동물병원은 여기만 갑니다 두분 다 좋으시지만 여자원장님이...</td>\n",
       "      <td>선생님 들 너무 친절하셔서 동물병원 여기 갑니다 두 분 다 좋으시지만 여자 원장 님...</td>\n",
       "      <td>선생님 들다 너무 친절하다 동물병원 여기 가다 두 분 다 좋다 여자 원장 님 특히 ...</td>\n",
       "      <td>15</td>\n",
       "      <td>1</td>\n",
       "    </tr>\n",
       "  </tbody>\n",
       "</table>\n",
       "<p>141245 rows × 7 columns</p>\n",
       "</div>"
      ],
      "text/plain": [
       "                                                   review  시설분류  \\\n",
       "0                                                       ?    문화   \n",
       "1                                                    친절해요    문화   \n",
       "2                                              좋아요 만족스러워요    문화   \n",
       "3                                                    와우~~    문화   \n",
       "4                                                       굿    문화   \n",
       "...                                                   ...   ...   \n",
       "141240  설사를해서 병원갔어요 배를 만져보고 꼼꼼히 살펴보시더니 약은 안먹어도 되겠다고 하셔...  동물병원   \n",
       "141241  저희 천사 데려온 곳이고 중성화부터 혈액검사까지 전부 세세하게 봐주셔서 늘 감사드립...  동물병원   \n",
       "141242                                             친절하십니다  동물병원   \n",
       "141243  진료 꼼꼼히 잘봐주세요 진료후 간식도 챙겨주시고 선생님께서 산책 가자고하니 요미가 ...  동물병원   \n",
       "141244  선생님들이 너무 친절하셔서 동물병원은 여기만 갑니다  두분 다 좋으시지만 여자원장님...  동물병원   \n",
       "\n",
       "                                                  review2  \\\n",
       "0                                                     NaN   \n",
       "1                                                    친절해요   \n",
       "2                                              좋아요 만족스러워요   \n",
       "3                                                     와우    \n",
       "4                                                       굿   \n",
       "...                                                   ...   \n",
       "141240  설사를해서 병원갔어요 배를 만져보고 꼼꼼히 살펴보시더니 약은 안먹어도 되겠다고 하셔...   \n",
       "141241  저희 천사 데려온 곳이고 중성화부터 혈액검사까지 전부 세세하게 봐주셔서 늘 감사드립니다    \n",
       "141242                                             친절하십니다   \n",
       "141243  진료 꼼꼼히 잘봐주세요 진료후 간식도 챙겨주시고 선생님께서 산책 가자고하니 요미가 ...   \n",
       "141244  선생님들이 너무 친절하셔서 동물병원은 여기만 갑니다 두분 다 좋으시지만 여자원장님이...   \n",
       "\n",
       "                                               review_okt  \\\n",
       "0                                                     NaN   \n",
       "1                                                    친절해요   \n",
       "2                                              좋아요 만족스러워요   \n",
       "3                                                      와우   \n",
       "4                                                       굿   \n",
       "...                                                   ...   \n",
       "141240  설사 해서 병원 갔어요 배 만져 보고 꼼꼼히 살펴보시더니 약 안 먹어도 되겠다고 하...   \n",
       "141241      저희 천사 데려온 곳 중성 화 혈액 검사 전부 세세하게 봐주셔서 늘 감사 드립니다   \n",
       "141242                                             친절하십니다   \n",
       "141243  진료 꼼꼼히 잘 봐주세요 진료 후 간식 챙겨주시고 선생님 산책 가자고하니 요미 따라...   \n",
       "141244  선생님 들 너무 친절하셔서 동물병원 여기 갑니다 두 분 다 좋으시지만 여자 원장 님...   \n",
       "\n",
       "                                              okt_stemmed  score  label  \n",
       "0                                                     NaN      0      0  \n",
       "1                                                    친절하다      2      1  \n",
       "2                                                좋다 만족스럽다      4      1  \n",
       "3                                                      와우      0      0  \n",
       "4                                                       굿      1      1  \n",
       "...                                                   ...    ...    ...  \n",
       "141240  설사 하다 병원 가다 배 만지다 보고 꼼꼼하다 살펴보다 약 안 먹다 되다 하다 주사...      1      1  \n",
       "141241          저희 천사 데려오다 곳 중성 화 혈액 검사 전부 세다 보다 늘 감사 드리다      1      1  \n",
       "141242                                               친절하다      2      1  \n",
       "141243  진료 꼼꼼하다 자다 보다 진료 후 간식 챙기다 선생님 산책 가다 요미 따라가다 처방...      2      1  \n",
       "141244  선생님 들다 너무 친절하다 동물병원 여기 가다 두 분 다 좋다 여자 원장 님 특히 ...     15      1  \n",
       "\n",
       "[141245 rows x 7 columns]"
      ]
     },
     "execution_count": 100,
     "metadata": {},
     "output_type": "execute_result"
    }
   ],
   "source": [
    "df_review_data"
   ]
  },
  {
   "cell_type": "code",
   "execution_count": 101,
   "id": "1519901d",
   "metadata": {},
   "outputs": [],
   "source": [
    "df_review_data.to_csv('data/knu_data_review_okt.csv', index=False, encoding='utf-8-sig')"
   ]
  },
  {
   "cell_type": "code",
   "execution_count": 102,
   "id": "6cd6bc14",
   "metadata": {},
   "outputs": [],
   "source": [
    "df_review_data.to_excel('data/knu_data_review_okt.xlsx', index=False)"
   ]
  },
  {
   "cell_type": "code",
   "execution_count": null,
   "id": "7d0cca41",
   "metadata": {},
   "outputs": [],
   "source": []
  },
  {
   "cell_type": "code",
   "execution_count": null,
   "id": "b0516369",
   "metadata": {},
   "outputs": [],
   "source": []
  }
 ],
 "metadata": {
  "kernelspec": {
   "display_name": "Python 3 (ipykernel)",
   "language": "python",
   "name": "python3"
  },
  "language_info": {
   "codemirror_mode": {
    "name": "ipython",
    "version": 3
   },
   "file_extension": ".py",
   "mimetype": "text/x-python",
   "name": "python",
   "nbconvert_exporter": "python",
   "pygments_lexer": "ipython3",
   "version": "3.11.5"
  },
  "toc": {
   "base_numbering": 1,
   "nav_menu": {},
   "number_sections": true,
   "sideBar": true,
   "skip_h1_title": false,
   "title_cell": "Table of Contents",
   "title_sidebar": "Contents",
   "toc_cell": false,
   "toc_position": {
    "height": "calc(100% - 180px)",
    "left": "10px",
    "top": "150px",
    "width": "349.091px"
   },
   "toc_section_display": true,
   "toc_window_display": false
  },
  "varInspector": {
   "cols": {
    "lenName": 16,
    "lenType": 16,
    "lenVar": 40
   },
   "kernels_config": {
    "python": {
     "delete_cmd_postfix": "",
     "delete_cmd_prefix": "del ",
     "library": "var_list.py",
     "varRefreshCmd": "print(var_dic_list())"
    },
    "r": {
     "delete_cmd_postfix": ") ",
     "delete_cmd_prefix": "rm(",
     "library": "var_list.r",
     "varRefreshCmd": "cat(var_dic_list()) "
    }
   },
   "types_to_exclude": [
    "module",
    "function",
    "builtin_function_or_method",
    "instance",
    "_Feature"
   ],
   "window_display": false
  }
 },
 "nbformat": 4,
 "nbformat_minor": 5
}
