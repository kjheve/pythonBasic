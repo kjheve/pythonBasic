{
 "cells": [
  {
   "cell_type": "code",
   "execution_count": 1,
   "id": "8b5bffdd",
   "metadata": {},
   "outputs": [],
   "source": [
    "import pandas as pd\n",
    "import numpy as np\n",
    "import re\n",
    "from konlpy.tag import Okt"
   ]
  },
  {
   "cell_type": "code",
   "execution_count": 2,
   "id": "0644b906",
   "metadata": {},
   "outputs": [],
   "source": [
    "df = pd.read_csv('./data/review_data_2t.csv')"
   ]
  },
  {
   "cell_type": "code",
   "execution_count": 4,
   "id": "a2764aa3",
   "metadata": {},
   "outputs": [
    {
     "name": "stdout",
     "output_type": "stream",
     "text": [
      "<class 'pandas.core.frame.DataFrame'>\n",
      "RangeIndex: 141254 entries, 0 to 141253\n",
      "Data columns (total 2 columns):\n",
      " #   Column  Non-Null Count   Dtype \n",
      "---  ------  --------------   ----- \n",
      " 0   review  141254 non-null  object\n",
      " 1   시설분류    141254 non-null  object\n",
      "dtypes: object(2)\n",
      "memory usage: 2.2+ MB\n"
     ]
    }
   ],
   "source": [
    "df.info()"
   ]
  },
  {
   "cell_type": "code",
   "execution_count": 5,
   "id": "a330bbaa",
   "metadata": {},
   "outputs": [
    {
     "data": {
      "text/html": [
       "<div>\n",
       "<style scoped>\n",
       "    .dataframe tbody tr th:only-of-type {\n",
       "        vertical-align: middle;\n",
       "    }\n",
       "\n",
       "    .dataframe tbody tr th {\n",
       "        vertical-align: top;\n",
       "    }\n",
       "\n",
       "    .dataframe thead th {\n",
       "        text-align: right;\n",
       "    }\n",
       "</style>\n",
       "<table border=\"1\" class=\"dataframe\">\n",
       "  <thead>\n",
       "    <tr style=\"text-align: right;\">\n",
       "      <th></th>\n",
       "      <th>review</th>\n",
       "      <th>시설분류</th>\n",
       "    </tr>\n",
       "  </thead>\n",
       "  <tbody>\n",
       "    <tr>\n",
       "      <th>0</th>\n",
       "      <td>?</td>\n",
       "      <td>문화</td>\n",
       "    </tr>\n",
       "    <tr>\n",
       "      <th>1</th>\n",
       "      <td>친절해요</td>\n",
       "      <td>문화</td>\n",
       "    </tr>\n",
       "  </tbody>\n",
       "</table>\n",
       "</div>"
      ],
      "text/plain": [
       "  review 시설분류\n",
       "0      ?   문화\n",
       "1   친절해요   문화"
      ]
     },
     "execution_count": 5,
     "metadata": {},
     "output_type": "execute_result"
    }
   ],
   "source": [
    "df.head(2)"
   ]
  },
  {
   "cell_type": "code",
   "execution_count": 6,
   "id": "0a7f75b2",
   "metadata": {},
   "outputs": [],
   "source": [
    "df.columns = ['review','label']"
   ]
  },
  {
   "cell_type": "code",
   "execution_count": 7,
   "id": "504dd4fd",
   "metadata": {},
   "outputs": [
    {
     "data": {
      "text/html": [
       "<div>\n",
       "<style scoped>\n",
       "    .dataframe tbody tr th:only-of-type {\n",
       "        vertical-align: middle;\n",
       "    }\n",
       "\n",
       "    .dataframe tbody tr th {\n",
       "        vertical-align: top;\n",
       "    }\n",
       "\n",
       "    .dataframe thead th {\n",
       "        text-align: right;\n",
       "    }\n",
       "</style>\n",
       "<table border=\"1\" class=\"dataframe\">\n",
       "  <thead>\n",
       "    <tr style=\"text-align: right;\">\n",
       "      <th></th>\n",
       "      <th>review</th>\n",
       "      <th>label</th>\n",
       "    </tr>\n",
       "  </thead>\n",
       "  <tbody>\n",
       "    <tr>\n",
       "      <th>0</th>\n",
       "      <td>?</td>\n",
       "      <td>문화</td>\n",
       "    </tr>\n",
       "    <tr>\n",
       "      <th>1</th>\n",
       "      <td>친절해요</td>\n",
       "      <td>문화</td>\n",
       "    </tr>\n",
       "  </tbody>\n",
       "</table>\n",
       "</div>"
      ],
      "text/plain": [
       "  review label\n",
       "0      ?    문화\n",
       "1   친절해요    문화"
      ]
     },
     "execution_count": 7,
     "metadata": {},
     "output_type": "execute_result"
    }
   ],
   "source": [
    "df.head(2)"
   ]
  },
  {
   "cell_type": "code",
   "execution_count": 8,
   "id": "a8deb5e4",
   "metadata": {},
   "outputs": [],
   "source": [
    "# 정규 표현식을 사용하여 한글만 추출\n",
    "def extract_korean(text):\n",
    "\n",
    "    # 한글과 공백만 추출\n",
    "    text = re.sub(r'[^ㄱ-ㅎㅏ-ㅣ가-힣\\s]','',text)\n",
    "    # 공백 2개 이상인경우 1개로 변환\n",
    "    text = re.sub(r'\\s+',' ',text)\n",
    "\n",
    "    return text"
   ]
  },
  {
   "cell_type": "code",
   "execution_count": 27,
   "id": "56abd069",
   "metadata": {},
   "outputs": [],
   "source": [
    "# 형태소 분석 및 특정 품사 추출 함수\n",
    "def extract_pos(text) :\n",
    "    okt = Okt()\n",
    "    pos_data = okt.pos(text)\n",
    "    adj = ' '.join([word for word, tag in pos_data if tag in ['Adjective']])\n",
    "    verb = ' '.join([word for word, tag in pos_data if tag in ['Verb']])\n",
    "    noun = ' '.join([word for word, tag in pos_data if tag in ['Noun']])\n",
    "    exclamation = ' '.join([word for word, tag in pos_data if tag in ['Exclamation']])\n",
    "    \n",
    "    # 각 품사에 대해 값이 없는 경우 NaN 할당\n",
    "    adj = adj if adj else np.nan\n",
    "    verb = verb if verb else np.nan\n",
    "    noun = noun if noun else np.nan\n",
    "    exclamation = exclamation if exclamation else np.nan\n",
    "    \n",
    "    return adj, verb, noun, exclamation                        \n",
    "                            "
   ]
  },
  {
   "cell_type": "code",
   "execution_count": 28,
   "id": "6edf008d",
   "metadata": {},
   "outputs": [],
   "source": [
    "# 한글만 추출하여 새로운 컬럼에 저장\n",
    "df['review2'] = df['review'].map(extract_korean)"
   ]
  },
  {
   "cell_type": "code",
   "execution_count": 38,
   "id": "8e8eaead",
   "metadata": {},
   "outputs": [
    {
     "data": {
      "text/html": [
       "<div>\n",
       "<style scoped>\n",
       "    .dataframe tbody tr th:only-of-type {\n",
       "        vertical-align: middle;\n",
       "    }\n",
       "\n",
       "    .dataframe tbody tr th {\n",
       "        vertical-align: top;\n",
       "    }\n",
       "\n",
       "    .dataframe thead th {\n",
       "        text-align: right;\n",
       "    }\n",
       "</style>\n",
       "<table border=\"1\" class=\"dataframe\">\n",
       "  <thead>\n",
       "    <tr style=\"text-align: right;\">\n",
       "      <th></th>\n",
       "      <th>review</th>\n",
       "      <th>label</th>\n",
       "      <th>review2</th>\n",
       "    </tr>\n",
       "  </thead>\n",
       "  <tbody>\n",
       "    <tr>\n",
       "      <th>0</th>\n",
       "      <td>?</td>\n",
       "      <td>문화</td>\n",
       "      <td></td>\n",
       "    </tr>\n",
       "    <tr>\n",
       "      <th>1</th>\n",
       "      <td>친절해요</td>\n",
       "      <td>문화</td>\n",
       "      <td>친절해요</td>\n",
       "    </tr>\n",
       "    <tr>\n",
       "      <th>2</th>\n",
       "      <td>좋아요 만족스러워요</td>\n",
       "      <td>문화</td>\n",
       "      <td>좋아요 만족스러워요</td>\n",
       "    </tr>\n",
       "    <tr>\n",
       "      <th>3</th>\n",
       "      <td>와우~~</td>\n",
       "      <td>문화</td>\n",
       "      <td>와우</td>\n",
       "    </tr>\n",
       "    <tr>\n",
       "      <th>4</th>\n",
       "      <td>굿</td>\n",
       "      <td>문화</td>\n",
       "      <td>굿</td>\n",
       "    </tr>\n",
       "  </tbody>\n",
       "</table>\n",
       "</div>"
      ],
      "text/plain": [
       "       review label     review2\n",
       "0           ?    문화            \n",
       "1        친절해요    문화        친절해요\n",
       "2  좋아요 만족스러워요    문화  좋아요 만족스러워요\n",
       "3        와우~~    문화          와우\n",
       "4           굿    문화           굿"
      ]
     },
     "metadata": {},
     "output_type": "display_data"
    },
    {
     "data": {
      "text/html": [
       "<div>\n",
       "<style scoped>\n",
       "    .dataframe tbody tr th:only-of-type {\n",
       "        vertical-align: middle;\n",
       "    }\n",
       "\n",
       "    .dataframe tbody tr th {\n",
       "        vertical-align: top;\n",
       "    }\n",
       "\n",
       "    .dataframe thead th {\n",
       "        text-align: right;\n",
       "    }\n",
       "</style>\n",
       "<table border=\"1\" class=\"dataframe\">\n",
       "  <thead>\n",
       "    <tr style=\"text-align: right;\">\n",
       "      <th></th>\n",
       "      <th>review</th>\n",
       "      <th>label</th>\n",
       "      <th>review2</th>\n",
       "      <th>adj</th>\n",
       "      <th>verb</th>\n",
       "      <th>noun</th>\n",
       "      <th>exclamation</th>\n",
       "    </tr>\n",
       "  </thead>\n",
       "  <tbody>\n",
       "    <tr>\n",
       "      <th>0</th>\n",
       "      <td>?</td>\n",
       "      <td>문화</td>\n",
       "      <td></td>\n",
       "      <td>NaN</td>\n",
       "      <td>NaN</td>\n",
       "      <td>NaN</td>\n",
       "      <td>NaN</td>\n",
       "    </tr>\n",
       "    <tr>\n",
       "      <th>1</th>\n",
       "      <td>친절해요</td>\n",
       "      <td>문화</td>\n",
       "      <td>친절해요</td>\n",
       "      <td>친절해요</td>\n",
       "      <td>NaN</td>\n",
       "      <td>NaN</td>\n",
       "      <td>NaN</td>\n",
       "    </tr>\n",
       "    <tr>\n",
       "      <th>2</th>\n",
       "      <td>좋아요 만족스러워요</td>\n",
       "      <td>문화</td>\n",
       "      <td>좋아요 만족스러워요</td>\n",
       "      <td>좋아요 만족스러워요</td>\n",
       "      <td>NaN</td>\n",
       "      <td>NaN</td>\n",
       "      <td>NaN</td>\n",
       "    </tr>\n",
       "    <tr>\n",
       "      <th>3</th>\n",
       "      <td>와우~~</td>\n",
       "      <td>문화</td>\n",
       "      <td>와우</td>\n",
       "      <td>NaN</td>\n",
       "      <td>NaN</td>\n",
       "      <td>와우</td>\n",
       "      <td>NaN</td>\n",
       "    </tr>\n",
       "    <tr>\n",
       "      <th>4</th>\n",
       "      <td>굿</td>\n",
       "      <td>문화</td>\n",
       "      <td>굿</td>\n",
       "      <td>NaN</td>\n",
       "      <td>NaN</td>\n",
       "      <td>굿</td>\n",
       "      <td>NaN</td>\n",
       "    </tr>\n",
       "  </tbody>\n",
       "</table>\n",
       "</div>"
      ],
      "text/plain": [
       "       review label     review2         adj  verb noun  exclamation\n",
       "0           ?    문화                     NaN   NaN  NaN          NaN\n",
       "1        친절해요    문화        친절해요        친절해요   NaN  NaN          NaN\n",
       "2  좋아요 만족스러워요    문화  좋아요 만족스러워요  좋아요 만족스러워요   NaN  NaN          NaN\n",
       "3        와우~~    문화          와우         NaN   NaN   와우          NaN\n",
       "4           굿    문화           굿         NaN   NaN    굿          NaN"
      ]
     },
     "execution_count": 38,
     "metadata": {},
     "output_type": "execute_result"
    }
   ],
   "source": [
    "df_test = df.head(5).copy()\n",
    "display(df_test)\n",
    "df_test[['adj','verb','noun','exclamation']] = df_test['review2'].apply(extract_pos).apply(pd.Series)\n",
    "df_test"
   ]
  },
  {
   "cell_type": "code",
   "execution_count": null,
   "id": "da606301",
   "metadata": {},
   "outputs": [
    {
     "name": "stderr",
     "output_type": "stream",
     "text": [
      " 76%|███████████████████████████████████████████████████████▊                 | 107898/141254 [04:51<01:25, 392.41it/s]"
     ]
    }
   ],
   "source": [
    "from tqdm import tqdm\n",
    "tqdm.pandas()\n",
    "# 형용사,동사,명사, 감탄사 추출\n",
    "df[['adj','verb','noun','exclamation']] = df['review2'].progress_apply(extract_pos).progress_apply(pd.Series)"
   ]
  },
  {
   "cell_type": "code",
   "execution_count": null,
   "id": "88f39389",
   "metadata": {},
   "outputs": [],
   "source": [
    "df.to_csv('./data/review_data_2t_1.csv',index=False)"
   ]
  }
 ],
 "metadata": {
  "kernelspec": {
   "display_name": "Python 3 (ipykernel)",
   "language": "python",
   "name": "python3"
  },
  "language_info": {
   "codemirror_mode": {
    "name": "ipython",
    "version": 3
   },
   "file_extension": ".py",
   "mimetype": "text/x-python",
   "name": "python",
   "nbconvert_exporter": "python",
   "pygments_lexer": "ipython3",
   "version": "3.11.5"
  },
  "toc": {
   "base_numbering": 1,
   "nav_menu": {},
   "number_sections": true,
   "sideBar": true,
   "skip_h1_title": false,
   "title_cell": "Table of Contents",
   "title_sidebar": "Contents",
   "toc_cell": false,
   "toc_position": {},
   "toc_section_display": true,
   "toc_window_display": false
  },
  "varInspector": {
   "cols": {
    "lenName": 16,
    "lenType": 16,
    "lenVar": 40
   },
   "kernels_config": {
    "python": {
     "delete_cmd_postfix": "",
     "delete_cmd_prefix": "del ",
     "library": "var_list.py",
     "varRefreshCmd": "print(var_dic_list())"
    },
    "r": {
     "delete_cmd_postfix": ") ",
     "delete_cmd_prefix": "rm(",
     "library": "var_list.r",
     "varRefreshCmd": "cat(var_dic_list()) "
    }
   },
   "types_to_exclude": [
    "module",
    "function",
    "builtin_function_or_method",
    "instance",
    "_Feature"
   ],
   "window_display": false
  }
 },
 "nbformat": 4,
 "nbformat_minor": 5
}
