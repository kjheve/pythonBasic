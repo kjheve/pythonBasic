{
  "nbformat": 4,
  "nbformat_minor": 0,
  "metadata": {
    "colab": {
      "provenance": [],
      "authorship_tag": "ABX9TyMiOeAkI3RRvmqHBhPFpC1L",
      "include_colab_link": true
    },
    "kernelspec": {
      "name": "python3",
      "display_name": "Python 3"
    },
    "language_info": {
      "name": "python"
    }
  },
  "cells": [
    {
      "cell_type": "markdown",
      "metadata": {
        "id": "view-in-github",
        "colab_type": "text"
      },
      "source": [
        "<a href=\"https://colab.research.google.com/github/kjheve/pythonBasic/blob/main/practice.ipynb\" target=\"_parent\"><img src=\"https://colab.research.google.com/assets/colab-badge.svg\" alt=\"Open In Colab\"/></a>"
      ]
    },
    {
      "cell_type": "markdown",
      "source": [
        "## 파이썬 시작하기\n",
        "- https://wikidocs.net/book/922"
      ],
      "metadata": {
        "id": "seRyky-tFBiq"
      }
    },
    {
      "cell_type": "code",
      "source": [
        "# print 기초\n",
        "print(\"naver\", \"kakao\", \"samsng\", sep=\";\")\n",
        "print(\"naver\", \"kakao\", \"samsng\", sep=\"/\")"
      ],
      "metadata": {
        "colab": {
          "base_uri": "https://localhost:8080/"
        },
        "id": "qYM_ksDCFJeo",
        "outputId": "01d1507a-2e99-401d-ff83-ed0e9a029d9d"
      },
      "execution_count": null,
      "outputs": [
        {
          "output_type": "stream",
          "name": "stdout",
          "text": [
            "naver;kakao;samsng\n",
            "naver/kakao/samsng\n"
          ]
        }
      ]
    },
    {
      "cell_type": "code",
      "source": [
        "# print \\n 줄바꿈 / end=\"\" 줄바꿈 안하기\n",
        "print(\"first\\nsecond\"); print(\"3rd\", end=\"\"); print(\"4th\")"
      ],
      "metadata": {
        "colab": {
          "base_uri": "https://localhost:8080/"
        },
        "id": "aiJYpIcJFUFC",
        "outputId": "156bbd08-277b-4e47-8236-8d3bfc044c8e"
      },
      "execution_count": null,
      "outputs": [
        {
          "output_type": "stream",
          "name": "stdout",
          "text": [
            "first\n",
            "second\n",
            "3rd4th\n"
          ]
        }
      ]
    },
    {
      "cell_type": "markdown",
      "source": [
        "## 파이썬 변수"
      ],
      "metadata": {
        "id": "MZpoqId1C2hK"
      }
    },
    {
      "cell_type": "code",
      "execution_count": null,
      "metadata": {
        "colab": {
          "base_uri": "https://localhost:8080/"
        },
        "id": "EqvwAl4CAd3j",
        "outputId": "6ece275c-c7b6-40d4-a939-481a7612bd46"
      },
      "outputs": [
        {
          "output_type": "stream",
          "name": "stdout",
          "text": [
            "298000000000000 <class 'int'>\n",
            "50000 <class 'int'>\n",
            "15.79 <class 'float'>\n"
          ]
        }
      ],
      "source": [
        "시가총액 = 298000000000000\n",
        "현재가 = 50000\n",
        "PER = 15.79\n",
        "print(시가총액, type(시가총액))\n",
        "print(현재가, type(현재가))\n",
        "print(PER, type(PER))"
      ]
    },
    {
      "cell_type": "code",
      "source": [
        "num = \"720\"\n",
        "num_int = int(num)\n",
        "print(num_int, type(num_int))"
      ],
      "metadata": {
        "colab": {
          "base_uri": "https://localhost:8080/"
        },
        "id": "NnLUzhPRCDZA",
        "outputId": "5453b1c7-e87b-41f1-9982-5e099959edf4"
      },
      "execution_count": null,
      "outputs": [
        {
          "output_type": "stream",
          "name": "stdout",
          "text": [
            "720 <class 'int'>\n"
          ]
        }
      ]
    },
    {
      "cell_type": "markdown",
      "source": [
        "## 파이썬 문자열"
      ],
      "metadata": {
        "id": "v4YGhmX1CyBa"
      }
    },
    {
      "cell_type": "code",
      "source": [
        "# 문자열 인덱싱\n",
        "str = 'python'\n",
        "print(str[0], str[2])"
      ],
      "metadata": {
        "colab": {
          "base_uri": "https://localhost:8080/"
        },
        "id": "0g4zc6q7CiUF",
        "outputId": "fc99ce18-01ea-4f28-d3e7-1f7d1a5e03b5"
      },
      "execution_count": null,
      "outputs": [
        {
          "output_type": "stream",
          "name": "stdout",
          "text": [
            "p t\n"
          ]
        }
      ]
    },
    {
      "cell_type": "code",
      "source": [
        "# 문자열 슬라이싱\n",
        "str = '24가 2210'\n",
        "print(str[4:])\n",
        "print(str[-4:])\n",
        "print(str[-4:6])"
      ],
      "metadata": {
        "colab": {
          "base_uri": "https://localhost:8080/"
        },
        "id": "RMpIjbgKDCRh",
        "outputId": "f3b8073b-9577-4a27-e8fb-afb42b7a3259"
      },
      "execution_count": null,
      "outputs": [
        {
          "output_type": "stream",
          "name": "stdout",
          "text": [
            "2210\n",
            "2210\n",
            "22\n"
          ]
        }
      ]
    },
    {
      "cell_type": "code",
      "source": [
        "# 문자열 인덱싱\n",
        "str = '홀짝홀짝홀짝'\n",
        "print(str[::2])"
      ],
      "metadata": {
        "colab": {
          "base_uri": "https://localhost:8080/"
        },
        "id": "SZtbGR6wDvnq",
        "outputId": "d7764369-3bbe-42d7-ed4c-aa0cf03c8953"
      },
      "execution_count": null,
      "outputs": [
        {
          "output_type": "stream",
          "name": "stdout",
          "text": [
            "홀홀홀\n"
          ]
        }
      ]
    },
    {
      "cell_type": "code",
      "source": [
        "# 문자열 슬라이싱\n",
        "str = 'python'\n",
        "print(str[::-1])"
      ],
      "metadata": {
        "colab": {
          "base_uri": "https://localhost:8080/"
        },
        "id": "InuIYk4CD8Uy",
        "outputId": "2f100809-9f0b-4395-bd5b-86eff1e84dd3"
      },
      "execution_count": null,
      "outputs": [
        {
          "output_type": "stream",
          "name": "stdout",
          "text": [
            "nohtyp\n"
          ]
        }
      ]
    },
    {
      "cell_type": "code",
      "source": [
        "# 문자열 치환\n",
        "p_num = \"010-1111-2222\"\n",
        "print(p_num.replace(\"-\", \" \"))\n",
        "print(p_num.replace(\"-\", \"\"))"
      ],
      "metadata": {
        "colab": {
          "base_uri": "https://localhost:8080/"
        },
        "id": "8vjbzrgKEFw6",
        "outputId": "3b03f0ac-f45a-4dd0-9284-2c58e4998f65"
      },
      "execution_count": null,
      "outputs": [
        {
          "output_type": "stream",
          "name": "stdout",
          "text": [
            "010 1111 2222\n"
          ]
        }
      ]
    },
    {
      "cell_type": "code",
      "source": [
        "# 문자열 다루기\n",
        "url = 'http://sharebook.kr'\n",
        "split = url.split(\".\")\n",
        "print(split[-1])"
      ],
      "metadata": {
        "colab": {
          "base_uri": "https://localhost:8080/"
        },
        "id": "KH9uw0SnEVzB",
        "outputId": "35da0d56-3bdb-404c-8a97-b8dae92e0f4f"
      },
      "execution_count": null,
      "outputs": [
        {
          "output_type": "stream",
          "name": "stdout",
          "text": [
            "kr\n"
          ]
        }
      ]
    },
    {
      "cell_type": "code",
      "source": [
        "# replace 메서드 소문자 'a'를 대문자 'A'로\n",
        "str = 'abcdef2a3545a2451a'\n",
        "print(str.replace('a', 'A'))"
      ],
      "metadata": {
        "colab": {
          "base_uri": "https://localhost:8080/"
        },
        "id": "mAYHSecFEcR_",
        "outputId": "8a292732-4b76-458b-b85a-8d3eb78fa677"
      },
      "execution_count": null,
      "outputs": [
        {
          "output_type": "stream",
          "name": "stdout",
          "text": [
            "Abcdef2A3545A2451A\n"
          ]
        }
      ]
    },
    {
      "cell_type": "code",
      "source": [
        "# 문자열 출력\n",
        "name1 = '김민수'\n",
        "age1 = 10\n",
        "name2 = '이철희'\n",
        "age2 = 13\n",
        "name3 = '나역시'\n",
        "age3 = 11\n",
        "\n",
        "print(f'이름 : {name1} 나이 : {age1}')            # f-string\n",
        "print(\"이름 : %s 나이 : %d\" % (name2, age2))      # print 포맷팅\n",
        "print(\"이름 : {} 나이 : {}\" .format(name3, age3)) # format() 메서드"
      ],
      "metadata": {
        "colab": {
          "base_uri": "https://localhost:8080/"
        },
        "id": "gIXrJYfjGqEj",
        "outputId": "9a403c39-0972-4869-b859-f683802c2391"
      },
      "execution_count": null,
      "outputs": [
        {
          "output_type": "stream",
          "name": "stdout",
          "text": [
            "이름 : 김민수 나이 : 10\n",
            "이름 : 이철희 나이 : 13\n",
            "이름 : 나역시 나이 : 11\n"
          ]
        }
      ]
    },
    {
      "cell_type": "code",
      "source": [
        "# 컴마 제거하기\n",
        "str = \"5,969,782,550\"\n",
        "replace_str = str.replace(\",\", \"\")\n",
        "int_str = int(replace_str)\n",
        "print(int_str)\n",
        "print(type(int_str))"
      ],
      "metadata": {
        "colab": {
          "base_uri": "https://localhost:8080/"
        },
        "id": "TFLVTABmHXBJ",
        "outputId": "94793055-bf64-49b3-ebd6-1174529a46ba"
      },
      "execution_count": null,
      "outputs": [
        {
          "output_type": "stream",
          "name": "stdout",
          "text": [
            "5969782550\n",
            "<class 'int'>\n"
          ]
        }
      ]
    },
    {
      "cell_type": "code",
      "source": [
        "# 문자열 슬라이싱\n",
        "str = \"2024/03(E) (IFRS연결)\"\n",
        "print(str[:7])"
      ],
      "metadata": {
        "colab": {
          "base_uri": "https://localhost:8080/"
        },
        "id": "D1YreOlsIY29",
        "outputId": "920605d7-f430-4396-b280-36899b5d4eb9"
      },
      "execution_count": null,
      "outputs": [
        {
          "output_type": "stream",
          "name": "stdout",
          "text": [
            "2024/03\n"
          ]
        }
      ]
    },
    {
      "cell_type": "code",
      "source": [
        "# strip 메서드\n",
        "data = \"   삼성전자   \"\n",
        "print(data.strip())\n",
        "\n",
        "# rstrip 메서드\n",
        "data2 = \"240312              \"\n",
        "print(data2.rstrip())\n",
        "\n",
        "# lstrip 메서드\n",
        "data3 = \"             240312\"\n",
        "print(data3.lstrip())"
      ],
      "metadata": {
        "colab": {
          "base_uri": "https://localhost:8080/"
        },
        "id": "avO5NQs9ImU4",
        "outputId": "c3ce19dc-030d-4fa8-a704-5baa9c8535c9"
      },
      "execution_count": null,
      "outputs": [
        {
          "output_type": "stream",
          "name": "stdout",
          "text": [
            "삼성전자\n",
            "240312\n",
            "240312\n"
          ]
        }
      ]
    },
    {
      "cell_type": "code",
      "source": [
        "str = 'btc_krw'\n",
        "\n",
        "# upper 메서드\n",
        "upper_str = str.upper()\n",
        "print(f'upper() 메소드 = {upper_str}')\n",
        "\n",
        "# lower 메서드\n",
        "lower_str = upper_str.lower()\n",
        "print(f'lower() 메소드 = {lower_str}')\n",
        "\n",
        "#capitalize 메서드\n",
        "cap_str = lower_str.capitalize()\n",
        "print (f'첫글자만 대문자 = {cap_str}')"
      ],
      "metadata": {
        "colab": {
          "base_uri": "https://localhost:8080/"
        },
        "id": "gVclwNklIw0D",
        "outputId": "ae66986b-e8d0-4728-f27e-52666a7a505c"
      },
      "execution_count": null,
      "outputs": [
        {
          "output_type": "stream",
          "name": "stdout",
          "text": [
            "upper() 메소드 = BTC_KRW\n",
            "lower() 메소드 = btc_krw\n",
            "첫글자만 대문자 = Btc_krw\n"
          ]
        }
      ]
    },
    {
      "cell_type": "code",
      "source": [
        "# endswith 메서드\n",
        "file_name = \"보고서.xlsx\"\n",
        "file_name.endswith(\"xlsx\")"
      ],
      "metadata": {
        "colab": {
          "base_uri": "https://localhost:8080/"
        },
        "id": "ehFXTxJ4I7QP",
        "outputId": "dd3b1d2f-cbb7-4b71-ad8c-e2b2c81999d7"
      },
      "execution_count": null,
      "outputs": [
        {
          "output_type": "execute_result",
          "data": {
            "text/plain": [
              "True"
            ]
          },
          "metadata": {},
          "execution_count": 79
        }
      ]
    },
    {
      "cell_type": "code",
      "source": [
        "# startswith\n",
        "file_name2 = \"2024_보고서.xlsx\"\n",
        "file_name2.startswith(\"2024\")"
      ],
      "metadata": {
        "colab": {
          "base_uri": "https://localhost:8080/"
        },
        "id": "Mj5aizK1Js7C",
        "outputId": "665acfbd-baea-4fbd-f2fa-eff101a19cbc"
      },
      "execution_count": null,
      "outputs": [
        {
          "output_type": "execute_result",
          "data": {
            "text/plain": [
              "True"
            ]
          },
          "metadata": {},
          "execution_count": 80
        }
      ]
    },
    {
      "cell_type": "code",
      "source": [
        "# split 메서드\n",
        "a = \"hello World\"\n",
        "a.split(\" \")\n",
        "\n",
        "data = \"2024-03-12\"\n",
        "data.split(\"-\")"
      ],
      "metadata": {
        "colab": {
          "base_uri": "https://localhost:8080/"
        },
        "id": "4UwdON-EKYJ6",
        "outputId": "ffe5ba3c-82de-46da-c871-63f93e2c42bd"
      },
      "execution_count": null,
      "outputs": [
        {
          "output_type": "execute_result",
          "data": {
            "text/plain": [
              "['2024', '03', '12']"
            ]
          },
          "metadata": {},
          "execution_count": 82
        }
      ]
    },
    {
      "cell_type": "markdown",
      "source": [
        "## 파이썬 리스트"
      ],
      "metadata": {
        "id": "iq8MlycJLSGp"
      }
    },
    {
      "cell_type": "code",
      "source": [
        "# 리스트 생성\n",
        "movie = [\"닥터 스트레인지\", \"스플릿\", \"럭키\"]\n",
        "print(movie)"
      ],
      "metadata": {
        "colab": {
          "base_uri": "https://localhost:8080/"
        },
        "id": "BFPfFOtHKia4",
        "outputId": "05fbf768-e383-44c0-aa25-072bc75c7d2d"
      },
      "execution_count": null,
      "outputs": [
        {
          "output_type": "stream",
          "name": "stdout",
          "text": [
            "['닥터 스트레인지', '스플릿', '럭키']\n"
          ]
        }
      ]
    },
    {
      "cell_type": "code",
      "source": [
        "# 리스트에 원소 추가\n",
        "movie.append(\"배트맨\")\n",
        "print(movie)"
      ],
      "metadata": {
        "colab": {
          "base_uri": "https://localhost:8080/"
        },
        "id": "eCxPTaJEKxUv",
        "outputId": "d8ceb9f6-0d92-4c5f-cd16-87596ae7ea16"
      },
      "execution_count": null,
      "outputs": [
        {
          "output_type": "stream",
          "name": "stdout",
          "text": [
            "['닥터 스트레인지', '스플릿', '럭키', '배트맨']\n"
          ]
        }
      ]
    },
    {
      "cell_type": "code",
      "source": [
        "# 원소 사이에 원소 추가\n",
        "movie.insert(1, \"슈퍼맨\")\n",
        "print(movie)"
      ],
      "metadata": {
        "colab": {
          "base_uri": "https://localhost:8080/"
        },
        "id": "Z6iMABaFLlPK",
        "outputId": "6a9df261-e4ca-4c05-be07-13d74bdd98df"
      },
      "execution_count": null,
      "outputs": [
        {
          "output_type": "stream",
          "name": "stdout",
          "text": [
            "['닥터 스트레인지', '슈퍼맨', '스플릿', '럭키', '배트맨']\n"
          ]
        }
      ]
    },
    {
      "cell_type": "code",
      "source": [
        "# 원소 삭제\n",
        "movie.remove(\"럭키\")\n",
        "print(movie)"
      ],
      "metadata": {
        "colab": {
          "base_uri": "https://localhost:8080/"
        },
        "id": "QTVus1UBS90I",
        "outputId": "b17a6c9e-1162-4078-ae6f-7f09546da0fc"
      },
      "execution_count": null,
      "outputs": [
        {
          "output_type": "stream",
          "name": "stdout",
          "text": [
            "['닥터 스트레인지', '슈퍼맨', '스플릿', '배트맨']\n"
          ]
        }
      ]
    },
    {
      "cell_type": "code",
      "source": [
        "# 원소 삭제2\n",
        "del movie[1]\n",
        "del movie[1]\n",
        "print(movie)"
      ],
      "metadata": {
        "colab": {
          "base_uri": "https://localhost:8080/"
        },
        "id": "mNdBR3myTMFt",
        "outputId": "c526c8c8-66e5-49a9-f992-3bc0d02d5a24"
      },
      "execution_count": null,
      "outputs": [
        {
          "output_type": "stream",
          "name": "stdout",
          "text": [
            "['닥터 스트레인지', '배트맨']\n"
          ]
        }
      ]
    },
    {
      "cell_type": "code",
      "source": [
        "# 리스트에 저장된 데이터의 개수\n",
        "print(len(movie))"
      ],
      "metadata": {
        "colab": {
          "base_uri": "https://localhost:8080/"
        },
        "id": "02qIkRnaTT65",
        "outputId": "fc02b79f-6590-47f4-9de8-69ffbffe4e47"
      },
      "execution_count": null,
      "outputs": [
        {
          "output_type": "stream",
          "name": "stdout",
          "text": [
            "2\n"
          ]
        }
      ]
    },
    {
      "cell_type": "code",
      "source": [
        "# join 메소드\n",
        "print(\" \".join(movie))\n",
        "print(\"/\".join(movie))\n",
        "print(\"\\n\".join(movie))"
      ],
      "metadata": {
        "colab": {
          "base_uri": "https://localhost:8080/"
        },
        "id": "863IcJwFTkdR",
        "outputId": "15b0be6a-4268-43cf-81c4-135a95617a82"
      },
      "execution_count": null,
      "outputs": [
        {
          "output_type": "stream",
          "name": "stdout",
          "text": [
            "닥터 스트레인지 배트맨\n",
            "닥터 스트레인지/배트맨\n",
            "닥터 스트레인지\n",
            "배트맨\n"
          ]
        }
      ]
    },
    {
      "cell_type": "code",
      "source": [
        "# 리스트 정렬\n",
        "num = [2, 4, 3, 1, 5, 10, 9]\n",
        "num.sort()\n",
        "print(num)"
      ],
      "metadata": {
        "colab": {
          "base_uri": "https://localhost:8080/"
        },
        "id": "T2ulThdfT-Xi",
        "outputId": "f9f3b0a6-8376-46e1-e051-9219ea15b2aa"
      },
      "execution_count": null,
      "outputs": [
        {
          "output_type": "stream",
          "name": "stdout",
          "text": [
            "[1, 2, 3, 4, 5, 9, 10]\n"
          ]
        }
      ]
    },
    {
      "cell_type": "markdown",
      "source": [
        "## 파이썬 튜플"
      ],
      "metadata": {
        "id": "5OCQXVjvUqZf"
      }
    },
    {
      "cell_type": "code",
      "source": [
        "# 비어있는 튜플\n",
        "my_variable = ()\n",
        "print(type(my_variable))"
      ],
      "metadata": {
        "colab": {
          "base_uri": "https://localhost:8080/"
        },
        "id": "1ftNZE9GUUHO",
        "outputId": "235d3896-0e57-4b32-c350-0f51ed303210"
      },
      "execution_count": null,
      "outputs": [
        {
          "output_type": "stream",
          "name": "stdout",
          "text": [
            "<class 'tuple'>\n"
          ]
        }
      ]
    },
    {
      "cell_type": "code",
      "source": [
        "movie = (\"닥터 스트레인지\", \"스플릿\", \"럭키\")\n",
        "print(movie)"
      ],
      "metadata": {
        "colab": {
          "base_uri": "https://localhost:8080/"
        },
        "id": "wd3chFUkU4Tl",
        "outputId": "3b0f0c09-bdc9-4ba1-dfc2-bf144550520f"
      },
      "execution_count": null,
      "outputs": [
        {
          "output_type": "stream",
          "name": "stdout",
          "text": [
            "('닥터 스트레인지', '스플릿', '럭키')\n"
          ]
        }
      ]
    },
    {
      "cell_type": "code",
      "source": [
        "# 숫자 1이 저장된 튜플을 생성\n",
        "tuple = (1)\n",
        "print(type(tuple)) # 이러면 정수형\n",
        "\n",
        "tuple = (1, )\n",
        "print(type(tuple)) # 하나의 데이터는 1 뒤에 ,를 붙여야 tuple로 됨"
      ],
      "metadata": {
        "colab": {
          "base_uri": "https://localhost:8080/"
        },
        "id": "mHjwqTCIVAEy",
        "outputId": "163a3492-8fed-4d42-8507-254384d26713"
      },
      "execution_count": null,
      "outputs": [
        {
          "output_type": "stream",
          "name": "stdout",
          "text": [
            "<class 'int'>\n",
            "<class 'tuple'>\n"
          ]
        }
      ]
    },
    {
      "cell_type": "code",
      "source": [
        "# 리스트는 원소의 값을 변경할 수 있음\n",
        "test_list = [1, 2, 3]\n",
        "test_list[0] = 'a'\n",
        "print(test_list)\n",
        "\n",
        "# 튜플은 원소의 값을 변경할 수 없음\n",
        "test_tuple = (1, 2, 3)\n",
        "# test_tuple[0] = 'a' # 정상작동을 위해 주석처리\n",
        "print(test_tuple)"
      ],
      "metadata": {
        "colab": {
          "base_uri": "https://localhost:8080/"
        },
        "id": "Wy-xTCYrVKz4",
        "outputId": "7bd5cf74-986f-4fbb-abbf-7437b4687714"
      },
      "execution_count": null,
      "outputs": [
        {
          "output_type": "stream",
          "name": "stdout",
          "text": [
            "['a', 2, 3]\n",
            "(1, 2, 3)\n"
          ]
        }
      ]
    },
    {
      "cell_type": "code",
      "source": [
        "# 원칙적으로 튜플은 괄호와 함께 데이터를 정의해야 하지만, 사용자 편의를 위해 괄호 없이도 동작\n",
        "t = 1, 2, 3, 4\n",
        "print(type(t))\n",
        "print(t)"
      ],
      "metadata": {
        "colab": {
          "base_uri": "https://localhost:8080/"
        },
        "id": "wtO9tPEqVutx",
        "outputId": "950937ed-535a-4693-d55d-7617e51ba02d"
      },
      "execution_count": null,
      "outputs": [
        {
          "output_type": "stream",
          "name": "stdout",
          "text": [
            "<class 'tuple'>\n",
            "(1, 2, 3, 4)\n"
          ]
        }
      ]
    },
    {
      "cell_type": "code",
      "source": [
        "t = ('a', 'b', 'c')\n",
        "# 변수 t에 아래와 같은 값이 저장되어 있다. 변수 t가 ('A', 'b', 'c') 튜플을 가리키도록 수정\n",
        "t = ('A', 'b', 'c') # 그냥 새로운 튜플 생성\n",
        "print(t)"
      ],
      "metadata": {
        "colab": {
          "base_uri": "https://localhost:8080/"
        },
        "id": "XQ4BlI06WK_f",
        "outputId": "c6eb2786-beac-4bf4-d6ec-f342f3748eb7"
      },
      "execution_count": null,
      "outputs": [
        {
          "output_type": "stream",
          "name": "stdout",
          "text": [
            "('A', 'b', 'c')\n"
          ]
        }
      ]
    },
    {
      "cell_type": "code",
      "source": [
        "# 튜플을 리스트로 변환\n",
        "interest = ('삼성전자', 'LG전자', 'SK Hynix')\n",
        "print(list(interest))"
      ],
      "metadata": {
        "colab": {
          "base_uri": "https://localhost:8080/"
        },
        "id": "Q_56jo4cWlTZ",
        "outputId": "5add9b33-2306-4c0d-b1db-c5e95a1bdc38"
      },
      "execution_count": null,
      "outputs": [
        {
          "output_type": "stream",
          "name": "stdout",
          "text": [
            "['삼성전자', 'LG전자', 'SK Hynix']\n"
          ]
        }
      ]
    },
    {
      "cell_type": "code",
      "source": [
        "# 튜플 언패킹(Unpacking)\n",
        "temp = ('apple', 'banana', 'cake')\n",
        "a, b, c = temp\n",
        "print(a, b, c)\n",
        "print(a)\n",
        "print(b)\n",
        "print(c)"
      ],
      "metadata": {
        "colab": {
          "base_uri": "https://localhost:8080/"
        },
        "id": "iMArMHPqWxr1",
        "outputId": "a5f71dad-5e50-410f-80f1-9240d9123c28"
      },
      "execution_count": null,
      "outputs": [
        {
          "output_type": "stream",
          "name": "stdout",
          "text": [
            "apple banana cake\n",
            "apple\n",
            "banana\n",
            "cake\n"
          ]
        }
      ]
    },
    {
      "cell_type": "markdown",
      "source": [
        "## 파이썬 딕셔너리"
      ],
      "metadata": {
        "id": "UjJf1k_AX7qs"
      }
    },
    {
      "cell_type": "code",
      "source": [
        "# 별 표현식\n",
        "a, b, *c = (0, 1, 2, 3, 4, 5)\n",
        "print(a)\n",
        "print(b)\n",
        "print(c)\n",
        "print('='*50)\n",
        "\n",
        "# 좌측 8개의 값만 valid_score 변수에 바인딩\n",
        "scores = [8.8, 8.9, 8.7, 9.2, 9.3, 9.7, 9.9, 9.5, 7.8, 9.4]\n",
        "*valid_score, _, _ = scores\n",
        "print(valid_score)\n",
        "\n",
        "# 우측 8개의 값만 valid_score 변수에 바인딩\n",
        "_, _, *valid_score = scores\n",
        "print(valid_score)\n",
        "\n",
        "# 가운데 8개의 값만 valid_score 변수에 바인딩\n",
        "_, *valid_score, _ = scores\n",
        "print(valid_score)"
      ],
      "metadata": {
        "colab": {
          "base_uri": "https://localhost:8080/"
        },
        "id": "mXgiEch2XgVO",
        "outputId": "6cd4e3e7-8bea-4411-8a51-db880b78a759"
      },
      "execution_count": null,
      "outputs": [
        {
          "output_type": "stream",
          "name": "stdout",
          "text": [
            "0\n",
            "1\n",
            "[2, 3, 4, 5]\n",
            "==================================================\n",
            "[8.8, 8.9, 8.7, 9.2, 9.3, 9.7, 9.9, 9.5]\n",
            "[8.7, 9.2, 9.3, 9.7, 9.9, 9.5, 7.8, 9.4]\n",
            "[8.9, 8.7, 9.2, 9.3, 9.7, 9.9, 9.5, 7.8]\n"
          ]
        }
      ]
    },
    {
      "cell_type": "code",
      "source": [
        "# 비어있는 딕셔너리\n",
        "temp = {}\n",
        "print(type(temp))\n",
        "print(temp)\n",
        "\n",
        "# 키, 값으로 안들어가면 set\n",
        "temp = {1}\n",
        "print(type(temp))\n",
        "print(temp)"
      ],
      "metadata": {
        "colab": {
          "base_uri": "https://localhost:8080/"
        },
        "id": "fP4BHMM_YyUd",
        "outputId": "d969b127-5438-4891-b002-9499bef83c27"
      },
      "execution_count": null,
      "outputs": [
        {
          "output_type": "stream",
          "name": "stdout",
          "text": [
            "<class 'dict'>\n",
            "{}\n",
            "<class 'set'>\n",
            "{1}\n"
          ]
        }
      ]
    },
    {
      "cell_type": "code",
      "source": [
        "# 아이스크림과 가격을 딕셔너리로 구성\n",
        "ice = {\"메로나\":1000, \"폴라포\":1200, \"빵파레\":1800}\n",
        "print(ice)\n",
        "print(type(ice))\n",
        "\n",
        "# 딕셔너리 추가\n",
        "ice[\"죠스바\"] = 1200\n",
        "ice[\"월드콘\"] = 1500\n",
        "print(ice)"
      ],
      "metadata": {
        "colab": {
          "base_uri": "https://localhost:8080/"
        },
        "id": "k41z5SL9Z8tR",
        "outputId": "862c9776-de10-4e51-9c0b-65a7c2aaea8e"
      },
      "execution_count": null,
      "outputs": [
        {
          "output_type": "stream",
          "name": "stdout",
          "text": [
            "{'메로나': 1000, '폴라포': 1200, '빵파레': 1800}\n",
            "<class 'dict'>\n",
            "{'메로나': 1000, '폴라포': 1200, '빵파레': 1800, '죠스바': 1200, '월드콘': 1500}\n"
          ]
        }
      ]
    },
    {
      "cell_type": "code",
      "source": [
        "# 메로나 가격 출력\n",
        "ice['메로나']"
      ],
      "metadata": {
        "colab": {
          "base_uri": "https://localhost:8080/"
        },
        "id": "TFpHk5sXaZ90",
        "outputId": "10220108-88b6-4c88-f9ed-20ce60467827"
      },
      "execution_count": null,
      "outputs": [
        {
          "output_type": "execute_result",
          "data": {
            "text/plain": [
              "1000"
            ]
          },
          "metadata": {},
          "execution_count": 163
        }
      ]
    },
    {
      "cell_type": "code",
      "source": [
        "# 딕셔너리 수정\n",
        "ice['메로나'] = 2000\n",
        "print(ice)"
      ],
      "metadata": {
        "colab": {
          "base_uri": "https://localhost:8080/"
        },
        "id": "vgJy526xbE06",
        "outputId": "7013a179-5c99-4971-d7d8-a6ecad6cac2c"
      },
      "execution_count": null,
      "outputs": [
        {
          "output_type": "stream",
          "name": "stdout",
          "text": [
            "{'메로나': 2000, '폴라포': 1200, '빵파레': 1800, '죠스바': 1200, '월드콘': 1500}\n"
          ]
        }
      ]
    },
    {
      "cell_type": "code",
      "source": [
        "# 딕셔너리 삭제\n",
        "del ice['메로나']\n",
        "print(ice)"
      ],
      "metadata": {
        "colab": {
          "base_uri": "https://localhost:8080/"
        },
        "id": "1bgLYhD9bR0M",
        "outputId": "fe568c68-8367-462e-c1e3-21e28c61c18f"
      },
      "execution_count": null,
      "outputs": [
        {
          "output_type": "stream",
          "name": "stdout",
          "text": [
            "{'폴라포': 1200, '빵파레': 1800, '죠스바': 1200, '월드콘': 1500}\n"
          ]
        }
      ]
    },
    {
      "cell_type": "code",
      "source": [
        "# 이름을 키값, 리스트를 딕셔너리의 값\n",
        "item = {\"메로나\":[300, 20],\n",
        "        \"비비빅\":[400, 3],\n",
        "        \"죠스바\": [250, 100] }\n",
        "print(item)\n",
        "print(type(item))"
      ],
      "metadata": {
        "colab": {
          "base_uri": "https://localhost:8080/"
        },
        "id": "GW648B-7bl_2",
        "outputId": "0e1fd466-7047-4132-fbf8-e2d7657ebbe3"
      },
      "execution_count": null,
      "outputs": [
        {
          "output_type": "stream",
          "name": "stdout",
          "text": [
            "{'메로나': [300, 20], '비비빅': [400, 3], '죠스바': [250, 100]}\n",
            "<class 'dict'>\n"
          ]
        }
      ]
    },
    {
      "cell_type": "code",
      "source": [
        "# 메로나의 가격\n",
        "print(item[\"메로나\"][0])\n",
        "\n",
        "# 메로나의 재고\n",
        "print(item[\"메로나\"][1])"
      ],
      "metadata": {
        "colab": {
          "base_uri": "https://localhost:8080/"
        },
        "id": "5lwOr6hvgezE",
        "outputId": "6ec0a965-2fac-45d4-be0a-e27a3ff39e28"
      },
      "execution_count": null,
      "outputs": [
        {
          "output_type": "stream",
          "name": "stdout",
          "text": [
            "300\n",
            "20\n"
          ]
        }
      ]
    },
    {
      "cell_type": "code",
      "source": [
        "# 딕셔너리\n",
        "icecream = {'탱크보이':1200, '폴라포':1200, '빵파레':1800, '월드콘':1500, '메로나':1000}\n",
        "print(icecream)\n",
        "\n",
        "# keys() 메서드 list로 담기\n",
        "ice = list(icecream.keys())\n",
        "print(ice)\n",
        "\n",
        "# values() 메서드 list로 담기\n",
        "price = list(icecream.values())\n",
        "print(price)\n",
        "\n",
        "# 가격의 총 합계\n",
        "sum_price = sum(icecream.values())\n",
        "print(f'가격의 총 합계 : {sum_price}')"
      ],
      "metadata": {
        "colab": {
          "base_uri": "https://localhost:8080/"
        },
        "id": "5Z54kK_OgoPA",
        "outputId": "14b61f28-3179-451c-a12b-818f37401d04"
      },
      "execution_count": null,
      "outputs": [
        {
          "output_type": "stream",
          "name": "stdout",
          "text": [
            "{'탱크보이': 1200, '폴라포': 1200, '빵파레': 1800, '월드콘': 1500, '메로나': 1000}\n",
            "['탱크보이', '폴라포', '빵파레', '월드콘', '메로나']\n",
            "[1200, 1200, 1800, 1500, 1000]\n",
            "가격의 총 합계 : 6700\n"
          ]
        }
      ]
    },
    {
      "cell_type": "code",
      "source": [
        "# 딕셔너리 update 메서드\n",
        "new_product = {'팥빙수':2700, '아맛나':1000}\n",
        "\n",
        "icecream.update(new_product)\n",
        "print(icecream)"
      ],
      "metadata": {
        "colab": {
          "base_uri": "https://localhost:8080/"
        },
        "id": "hxFTr_pbi19C",
        "outputId": "86b40846-6a48-4071-a567-78c6be3b444e"
      },
      "execution_count": null,
      "outputs": [
        {
          "output_type": "stream",
          "name": "stdout",
          "text": [
            "{'탱크보이': 1200, '폴라포': 1200, '빵파레': 1800, '월드콘': 1500, '메로나': 1000, '팥빙수': 2700, '아맛나': 1000}\n"
          ]
        }
      ]
    },
    {
      "cell_type": "code",
      "source": [
        "# zip과 dict\n",
        "# zip은 같은 인덱스에 위치한 요소들을 묶어서 튜플로 반환\n",
        "# dict(딕셔너리) 키-값 쌍 자료구조로 변환\n",
        "\n",
        "# 튜플과 리스트를 하나의 딕셔너리로 변환 (두 개의 튜플도 가능)\n",
        "keys = ('apple', 'prear', 'peach')\n",
        "vals = [300, 250, 400]\n",
        "\n",
        "result = dict(zip(keys, vals))\n",
        "print(result)"
      ],
      "metadata": {
        "colab": {
          "base_uri": "https://localhost:8080/"
        },
        "id": "xij_NHgdjsIF",
        "outputId": "10c79747-9d12-42e7-ae6d-3220319c9bbf"
      },
      "execution_count": null,
      "outputs": [
        {
          "output_type": "stream",
          "name": "stdout",
          "text": [
            "{'apple': 300, 'prear': 250, 'peach': 400}\n"
          ]
        }
      ]
    },
    {
      "cell_type": "markdown",
      "source": [
        "## 파이썬 분기문"
      ],
      "metadata": {
        "id": "LNM_ShmskcgM"
      }
    },
    {
      "cell_type": "code",
      "source": [
        "# 사용자로부터 입력받은 문자열을 두 번 출력\n",
        "str = input(\"사용자 입력 : \")\n",
        "print(str*2)"
      ],
      "metadata": {
        "colab": {
          "base_uri": "https://localhost:8080/"
        },
        "id": "IrTAcoZekEof",
        "outputId": "ba834db9-9429-4659-877d-14348efd0a91"
      },
      "execution_count": null,
      "outputs": [
        {
          "output_type": "stream",
          "name": "stdout",
          "text": [
            "사용자 입력 : 안녕하세요\n",
            "안녕하세요안녕하세요\n"
          ]
        }
      ]
    },
    {
      "cell_type": "code",
      "source": [
        "# 사용자로부터 하나의 숫자를 입력받고, 입력 받은 숫자에 10을 더해 출력\n",
        "num = int(input(\"숫자를 입력하세요 : \"))\n",
        "print(num+10)"
      ],
      "metadata": {
        "colab": {
          "base_uri": "https://localhost:8080/"
        },
        "id": "-cDRASofk3Gt",
        "outputId": "b5286c1c-0a72-436d-f050-1972b16d1eda"
      },
      "execution_count": null,
      "outputs": [
        {
          "output_type": "stream",
          "name": "stdout",
          "text": [
            "숫자를 입력하세요 : 5\n",
            "15\n"
          ]
        }
      ]
    },
    {
      "cell_type": "code",
      "source": [
        "# 사용자로부터 하나의 숫자를 입력 받고 짝수/홀수를 판별\n",
        "num = int(input(\"숫자를 입력하세요 : \"))\n",
        "\n",
        "if num % 2 == 0 :\n",
        "  print(\"짝수\")\n",
        "else :\n",
        "  print(\"홀수\")"
      ],
      "metadata": {
        "colab": {
          "base_uri": "https://localhost:8080/"
        },
        "id": "pSAeJGdulGjU",
        "outputId": "54f659f3-3e39-4772-eb3f-2c7f8935f82f"
      },
      "execution_count": null,
      "outputs": [
        {
          "output_type": "stream",
          "name": "stdout",
          "text": [
            "숫자를 입력하세요 : 30\n",
            "짝수\n"
          ]
        }
      ]
    },
    {
      "cell_type": "code",
      "source": [
        "# 사용자로부터 값을 입력 받은 후 해당 값에 20을 더한 값을 출력\n",
        "# 단, 사용자가 입력한 값과 20을 더한 계산 값이 255를 초과하는 경우 255를 출력\n",
        "\n",
        "num = int(input(\"숫자를 입력하세요 : \"))\n",
        "\n",
        "plus_num = num + 20\n",
        "if plus_num > 255 :\n",
        "  plus_num = 255\n",
        "print(plus_num)"
      ],
      "metadata": {
        "colab": {
          "base_uri": "https://localhost:8080/"
        },
        "id": "QTvWCqWZnBIu",
        "outputId": "a2343690-dbdb-4311-dcb1-e0fa54301e24"
      },
      "execution_count": null,
      "outputs": [
        {
          "output_type": "stream",
          "name": "stdout",
          "text": [
            "숫자를 입력하세요 : 240\n",
            "255\n"
          ]
        }
      ]
    },
    {
      "cell_type": "code",
      "source": [
        "# 입력 받고 20을 뺀 값, 출력값의 범위 0~255\n",
        "\n",
        "num = int(input(\"숫자를 입력하세요 : \"))\n",
        "\n",
        "minus_num = num - 20\n",
        "\n",
        "if minus_num > 255 :\n",
        "  minus_num = 255\n",
        "elif minus_num < 0 :\n",
        "  minus_num = 0\n",
        "\n",
        "print(minus_num)\n"
      ],
      "metadata": {
        "colab": {
          "base_uri": "https://localhost:8080/"
        },
        "id": "SZfNqPCFnnQd",
        "outputId": "87acb224-da8f-40aa-f204-5c4551b74583"
      },
      "execution_count": null,
      "outputs": [
        {
          "output_type": "stream",
          "name": "stdout",
          "text": [
            "숫자를 입력하세요 : 15\n",
            "0\n"
          ]
        }
      ]
    },
    {
      "cell_type": "code",
      "source": [
        "# 사용자로부터 입력 받은 시각이 정각인지 판별\n",
        "time = input(\"현재시간 입력 : \")\n",
        "\n",
        "if time[-2:] == \"00\" :\n",
        "  print(\"정각\")\n",
        "else :\n",
        "  print(\"정각이 아님\")"
      ],
      "metadata": {
        "colab": {
          "base_uri": "https://localhost:8080/"
        },
        "id": "EeUbi8w9otLK",
        "outputId": "ff89a646-4e89-460f-c14e-342ba7cb99d3"
      },
      "execution_count": null,
      "outputs": [
        {
          "output_type": "stream",
          "name": "stdout",
          "text": [
            "현재시간 입력 : 16:51\n",
            "정각이 아님\n"
          ]
        }
      ]
    },
    {
      "cell_type": "code",
      "source": [
        "# 사용자로 입력받은 단어가 아래 fruit 리스트에 포함되어 있는지를 확인\n",
        "fruit = ['사과', '포도', '홍시']\n",
        "\n",
        "user = input(\"과일 입력 : \")\n",
        "\n",
        "if user in fruit :\n",
        "  print(\"리스트에 포함 되어 있습니다\")\n",
        "else :\n",
        "  print(\"리스트에 포함 되어있지 않습니다\")"
      ],
      "metadata": {
        "colab": {
          "base_uri": "https://localhost:8080/"
        },
        "id": "2lL9PywZpTnm",
        "outputId": "c805bb01-eff8-44d8-f9d6-a3e935e9ce11"
      },
      "execution_count": null,
      "outputs": [
        {
          "output_type": "stream",
          "name": "stdout",
          "text": [
            "과일 입력 : 사과\n",
            "리스트에 포함 되어 있습니다\n"
          ]
        }
      ]
    },
    {
      "cell_type": "code",
      "source": [
        "# 아래와 같이 fruit 딕셔너리가 정의되어 있다.\n",
        "# 사용자가 입력한 값이 딕셔너리 키 (key) 값에 포함되었다면 \"정답입니다\"를 아닐 경우 \"오답입니다\" 출력하라.\n",
        "fruit = {'봄': '딸기',\n",
        "         '여름': '토마토',\n",
        "         '가을': '사과'}\n",
        "user = input(\"좋아하는 계절은 : \")\n",
        "\n",
        "if user in fruit :\n",
        "  print(\"정답\")\n",
        "else :\n",
        "  print(\"오답\")"
      ],
      "metadata": {
        "colab": {
          "base_uri": "https://localhost:8080/"
        },
        "id": "7r31jh8_ptAh",
        "outputId": "6abe6d8f-ef1f-4eba-db36-3a6f45fc865b"
      },
      "execution_count": null,
      "outputs": [
        {
          "output_type": "stream",
          "name": "stdout",
          "text": [
            "좋아하는 계절은 : 겨울\n",
            "오답\n"
          ]
        }
      ]
    },
    {
      "cell_type": "code",
      "source": [
        "# 아래와 같이 fruit 딕셔너리가 정의되어 있다.\n",
        "# 사용자가 입력한 값이 딕셔너리 값 (value)에 포함되었다면 \"정답입니다\"를 아닐 경우 \"오답입니다\" 출력하라.\n",
        "fruit = {'봄': '딸기',\n",
        "         '여름': '토마토',\n",
        "         '가을': '사과'}\n",
        "user = input(\"좋아하는 과일은? : \")\n",
        "\n",
        "if user in fruit.values() :\n",
        "  print(\"정답\")\n",
        "else :\n",
        "  print(\"오답\")"
      ],
      "metadata": {
        "colab": {
          "base_uri": "https://localhost:8080/"
        },
        "id": "HUChPxFWqyjW",
        "outputId": "b6333784-f975-4ec3-8771-8bede81b2369"
      },
      "execution_count": null,
      "outputs": [
        {
          "output_type": "stream",
          "name": "stdout",
          "text": [
            "좋아하는 과일은? : 사과\n",
            "정답\n"
          ]
        }
      ]
    },
    {
      "cell_type": "code",
      "source": [
        "# 사용자로부터 문자 한 개를 입력 받고\n",
        "# 소문자일 경우 대문자로 / 대문자 일 경우 소문자로 변경해서 출력하라.\n",
        "user = input(\"알파벳 입력 : \")\n",
        "\n",
        "if user.isupper() :\n",
        "  print(user.lower())\n",
        "else :\n",
        "  print(user.upper())"
      ],
      "metadata": {
        "colab": {
          "base_uri": "https://localhost:8080/"
        },
        "id": "WgIQmDTVrDWj",
        "outputId": "4d6b8aec-38fb-4404-caf4-b7d7f27f01d0"
      },
      "execution_count": null,
      "outputs": [
        {
          "output_type": "stream",
          "name": "stdout",
          "text": [
            "알파벳 입력 : b\n",
            "B\n"
          ]
        }
      ]
    },
    {
      "cell_type": "code",
      "source": [
        "# 사용자로부터 점수를 입력 받아 점수 구간에 따라 학점 출력\n",
        "score = int(input(\"점수 입력 : \"))\n",
        "\n",
        "if (score > 80) :\n",
        "  print(\"A 학점 입니다.\")\n",
        "elif (score > 60) :\n",
        "  print(\"B 학점 입니다.\")\n",
        "elif (score > 40) :\n",
        "  print(\"C 학점 입니다.\")\n",
        "elif (score > 20) :\n",
        "  print(\"D 학점 입니다.\")\n",
        "else :\n",
        "  print(\"E 학점 입니다.\")"
      ],
      "metadata": {
        "colab": {
          "base_uri": "https://localhost:8080/"
        },
        "id": "LBwSLwYRrrIy",
        "outputId": "ff2043a6-38ed-46cf-ed78-986bc5564471"
      },
      "execution_count": null,
      "outputs": [
        {
          "output_type": "stream",
          "name": "stdout",
          "text": [
            "점수 입력 : 77\n",
            "B 학점 입니다.\n"
          ]
        }
      ]
    },
    {
      "cell_type": "code",
      "source": [
        "# 사용자로부터 달러, 엔, 유로, 또는 위안 금액을 입력받은 후 이를 원으로 변환하는 프로그램을 작성하라.\n",
        "# 각 통화별 환율은 다음과 같다.\n",
        "exchange = {'달러' : 1167,\n",
        "            '엔' : 1.096,\n",
        "            '유로' : 1268,\n",
        "            '위안' : 171}\n",
        "\n",
        "money = input(\"입력 (ex.100 달러) : \")\n",
        "num, currency = money.split(\" \")\n",
        "# print(num); print(currency)\n",
        "print(f'{float(num) * exchange[currency]} 원')\n",
        "\n",
        "# ★★★★★★★ 언패킹, 패킹 인가? 어렵"
      ],
      "metadata": {
        "colab": {
          "base_uri": "https://localhost:8080/"
        },
        "id": "s7_Vrzp1sd2V",
        "outputId": "d4523208-b793-4261-8d76-d7b3777d1337"
      },
      "execution_count": null,
      "outputs": [
        {
          "output_type": "stream",
          "name": "stdout",
          "text": [
            "입력 (ex.100 달러) : 1000 달러\n",
            "1167000.0 원\n"
          ]
        }
      ]
    },
    {
      "cell_type": "code",
      "source": [
        "# 사용자로부터 세 개의 숫자를 입력 받은 후 가장 큰 숫자를 출력\n",
        "num1 = int(input(\"첫 번째 숫자 입력 : \"))\n",
        "num2 = int(input(\"두 번째 숫자 입력 : \"))\n",
        "num3 = int(input(\"세 번째 숫자 입력 : \"))\n",
        "\n",
        "max_num = num1\n",
        "if (max_num < num2) :\n",
        "  max_num = num2\n",
        "if (max_num < num3) :\n",
        "  max_num = num3\n",
        "\n",
        "print(max_num)"
      ],
      "metadata": {
        "colab": {
          "base_uri": "https://localhost:8080/"
        },
        "id": "O4tKGMFuuAvp",
        "outputId": "0987fff1-63e7-464b-d591-fe329032a1d3"
      },
      "execution_count": null,
      "outputs": [
        {
          "output_type": "stream",
          "name": "stdout",
          "text": [
            "첫 번째 숫자 입력 : 5\n",
            "두 번째 숫자 입력 : 4\n",
            "세 번째 숫자 입력 : 6\n",
            "6\n"
          ]
        }
      ]
    },
    {
      "cell_type": "code",
      "source": [
        "# 휴대폰 번호 앞자리에 따라 통신사는 아래와 같이 구분된다.\n",
        "# 011 = SKT, 016 = KT, 019 = LGU, 010 = 알수없음\n",
        "# 사용자로부터 휴대전화 번호를 입력 받고, 통신사를 출력하는 프로그램을 작성하라.\n",
        "\n",
        "telNum = input(\"휴대전화 번호 입력 : \")\n",
        "tel = telNum.split(\"-\")[0]\n",
        "\n",
        "if tel == \"011\" :\n",
        "  com = \"SKT\"\n",
        "elif tel == \"016\" :\n",
        "  com = \"KT\"\n",
        "elif tel == \"019\" :\n",
        "  com = \"LGU\"\n",
        "else :\n",
        "  com = \"알수 없음\"\n",
        "\n",
        "print(f'당신은 {com} 사용자 입니다.')"
      ],
      "metadata": {
        "colab": {
          "base_uri": "https://localhost:8080/"
        },
        "id": "KOHH0A9cxF7r",
        "outputId": "25afbe3d-985b-4e0d-d53f-082df58ffa69"
      },
      "execution_count": null,
      "outputs": [
        {
          "output_type": "stream",
          "name": "stdout",
          "text": [
            "휴대전화 번호 입력 : 011-519-7216\n",
            "당신은 SKT 사용자 입니다.\n"
          ]
        }
      ]
    },
    {
      "cell_type": "code",
      "source": [
        "# 주민등록 번호의 뒷자리 7자리 중 두번째와 세번째는 지역코드를 의미\n",
        "# 주민등록 번호 입력받은 후 출생지가 서울인지 아닌지 판단하는 코드를 작성 (00~08 : 서울)\n",
        "\n",
        "people_id = input(\"주민등록번호 : \")\n",
        "\n",
        "lastnum = people_id.split('-')[1]\n",
        "if (int(lastnum[1:3]) <= 8) :\n",
        "  print(\"출생지가 서울 입니다.\")\n",
        "else :\n",
        "  print(\"출생지가 서울이 아닙니다.\")"
      ],
      "metadata": {
        "id": "1sy9Q9oXyePz",
        "colab": {
          "base_uri": "https://localhost:8080/"
        },
        "outputId": "2434da55-3d4d-44f2-a260-3c15c5af19ca"
      },
      "execution_count": null,
      "outputs": [
        {
          "output_type": "stream",
          "name": "stdout",
          "text": [
            "주민등록번호 : 880828-2024222\n",
            "출생지가 서울 입니다.\n"
          ]
        }
      ]
    },
    {
      "cell_type": "code",
      "source": [
        "# 주민등록번호는 13자리로 구성되는데 마지막 자리수는 주민등록번호의 유효성을 체크하는데 사용된다.\n",
        "# 먼저 앞에서부터 12자리의 숫자에 2, 3, 4, 5, 6, 7, 8, 9, 2, 3, 4, 5를 차례로 곱한 뒤 그 값을 전부 더한다.\n",
        "# 연산 결과 값을 11로 나누면 나머지가 나오는데 11에서 나머지를 뺀 값이 주민등록번호의 마지막 번호가 된다.\n",
        "\n",
        "num = input(\"주민등록번호 입력 : \")\n",
        "calc1 = int(num[0])*2 + int(num[1])*3 + int(num[2])*4 + int(num[3])*5 + int(num[4])*6 + int(num[5])*7\n",
        "calc2 = int(num[7])*8 + int(num[8])*9 + int(num[9])*2 + int(num[10])*3 + int(num[11])*4 + int(num[12])*5\n",
        "calc3 = (calc1 + calc2) % 11\n",
        "calc4 = 11 - calc3\n",
        "calc5 = str(calc4)\n",
        "\n",
        "if num[-1] == calc5[-1] :\n",
        "  print(\"유효한 주민등록번호 입니다.\")\n",
        "else :\n",
        "  print(\"유효하지 않은 주민등록번호 입니다.\")"
      ],
      "metadata": {
        "colab": {
          "base_uri": "https://localhost:8080/"
        },
        "id": "OchELFxhm2Yx",
        "outputId": "023ee10d-4013-4fa6-e985-0d667e45fde3"
      },
      "execution_count": null,
      "outputs": [
        {
          "output_type": "stream",
          "name": "stdout",
          "text": [
            "주민등록번호 입력 : 240312-1028342\n",
            "유효한 주민등록번호 입니다.\n"
          ]
        }
      ]
    },
    {
      "cell_type": "code",
      "source": [
        "# 비트코인의 가격 정보를 딕셔너리로 가져오는 코드\n",
        "import requests\n",
        "btc = requests.get(\"https://api.bithumb.com/public/ticker/\").json()['data']\n",
        "# print(btc)\n",
        "# ---------------------------------------------------------------------------------------\n",
        "# btc 딕셔너리 안에는 시가, 종가, 최고가, 최저가 등이 저장되어 있다.\n",
        "# 최고가와 최저가의 차이를 변동폭으로 정의할 때 (시가 + 변동폭)이\n",
        "# 최고가 보다 높을 경우 \"상승장\", 그렇지 않은 경우 \"하락장\" 문자열을 출력하라.\n",
        "# 24.03.12 기준\n",
        "# btc = {'opening_price': '101140000', 'closing_price': '101043000', 'min_price': '99766000', 'max_price': '101570000'}\n",
        "\n",
        "최고가 = float(btc['max_price'])\n",
        "최저가 = float(btc['min_price'])\n",
        "시가 = float(btc['opening_price'])\n",
        "변동폭 = 최고가 - 최저가\n",
        "\n",
        "if (시가+변동폭) > 최고가:\n",
        "  print(\"상승장\")\n",
        "else:\n",
        "  print(\"하락장\")"
      ],
      "metadata": {
        "colab": {
          "base_uri": "https://localhost:8080/"
        },
        "id": "IIgSEzfJp5Kh",
        "outputId": "dced2f4e-e3bc-4356-a720-dfbd080126ed"
      },
      "execution_count": null,
      "outputs": [
        {
          "output_type": "stream",
          "name": "stdout",
          "text": [
            "상승장\n"
          ]
        }
      ]
    },
    {
      "cell_type": "markdown",
      "source": [
        "## 파이썬 반복문\n",
        "- https://wikidocs.net/78562"
      ],
      "metadata": {
        "id": "aXYckLWYuJ7g"
      }
    },
    {
      "cell_type": "code",
      "source": [
        "# 저장된 문자열의 길이를 구하기 (len())\n",
        "list = ['SK하이닉스', '삼성전자', 'LG전자']\n",
        "for i in list:\n",
        "  print(len(i))"
      ],
      "metadata": {
        "id": "iqraAuzTuMI8",
        "colab": {
          "base_uri": "https://localhost:8080/"
        },
        "outputId": "c763f511-34f1-465c-9bf2-909c2285bc41"
      },
      "execution_count": null,
      "outputs": [
        {
          "output_type": "stream",
          "name": "stdout",
          "text": [
            "6\n",
            "4\n",
            "4\n"
          ]
        }
      ]
    },
    {
      "cell_type": "code",
      "source": [
        "# 리스트의 동물 이름의 첫 글자만 출력\n",
        "list = ['dog', 'cat', 'parrot']\n",
        "for i in list:\n",
        "  print(i[0])"
      ],
      "metadata": {
        "colab": {
          "base_uri": "https://localhost:8080/"
        },
        "id": "bLpLelJvL7T1",
        "outputId": "f75485e2-7bbd-4819-ea90-a0c5d6bf92a4"
      },
      "execution_count": null,
      "outputs": [
        {
          "output_type": "stream",
          "name": "stdout",
          "text": [
            "d\n",
            "c\n",
            "p\n"
          ]
        }
      ]
    },
    {
      "cell_type": "code",
      "source": [
        "# for문 + 슬라이싱\n",
        "list = [\"가\", \"나\", \"다\", \"라\"]\n",
        "for i in list[1:]:\n",
        "  print(i)"
      ],
      "metadata": {
        "colab": {
          "base_uri": "https://localhost:8080/"
        },
        "id": "azcdDHcBLno0",
        "outputId": "72fee349-0366-45e9-f556-12527bf9acd7"
      },
      "execution_count": null,
      "outputs": [
        {
          "output_type": "stream",
          "name": "stdout",
          "text": [
            "나\n",
            "다\n",
            "라\n"
          ]
        }
      ]
    },
    {
      "cell_type": "code",
      "source": [
        "# 리스트에서 세 글자 이상의 문자를 화면에 출력\n",
        "list = ['I', 'study', 'python', 'language', '!']\n",
        "for i in list:\n",
        "  if len(i) >= 3:\n",
        "    print(i)"
      ],
      "metadata": {
        "id": "zRmPPJBCM_9o",
        "colab": {
          "base_uri": "https://localhost:8080/"
        },
        "outputId": "963a161b-a450-49d7-f3d4-eff58ffab4c3"
      },
      "execution_count": null,
      "outputs": [
        {
          "output_type": "stream",
          "name": "stdout",
          "text": [
            "study\n",
            "python\n",
            "language\n"
          ]
        }
      ]
    },
    {
      "cell_type": "code",
      "source": [
        "# isupper() 메서드 = 대문자 여부 판별\n",
        "# 리스트에서 대문자만 화면에 출력\n",
        "\n",
        "list = ['A', 'b', 'c', 'D']\n",
        "for i in list:\n",
        "  if i.isupper():\n",
        "    print(i)\n",
        "print(\"=\"*5, \"소문자출력은 아래\", \"=\"*5)\n",
        "for i in list:\n",
        "  if not i.isupper():\n",
        "    print(i)"
      ],
      "metadata": {
        "colab": {
          "base_uri": "https://localhost:8080/"
        },
        "id": "AiuoB_2_P6XO",
        "outputId": "aae1115b-7c75-473b-8b0f-5e03d43fc8c1"
      },
      "execution_count": null,
      "outputs": [
        {
          "output_type": "stream",
          "name": "stdout",
          "text": [
            "A\n",
            "D\n",
            "===== 소문자출력은 아래 =====\n",
            "b\n",
            "c\n"
          ]
        }
      ]
    },
    {
      "cell_type": "code",
      "source": [
        "# 이름의 첫 글자를 대문자로 변경해서 출력\n",
        "list = ['dog', 'cat', 'parrot']\n",
        "\n",
        "for i in list:\n",
        "  print(i[0].upper() + i[1:])"
      ],
      "metadata": {
        "colab": {
          "base_uri": "https://localhost:8080/"
        },
        "id": "Yh_hASzaQSeg",
        "outputId": "d954d5b9-1ae9-41bd-f464-f42fe93dde22"
      },
      "execution_count": null,
      "outputs": [
        {
          "output_type": "stream",
          "name": "stdout",
          "text": [
            "Dog\n",
            "Cat\n",
            "Parrot\n"
          ]
        }
      ]
    },
    {
      "cell_type": "code",
      "source": [
        "# 파일 이름이 저장된 리스트에서 확장자를 제거하고\n",
        "# 파일 이름만 화면에 출력하라.\n",
        "list = ['hello.py', 'ex01.py', 'intro.hwp']\n",
        "\n",
        "for i in list:\n",
        "  split = i.split(\".\")\n",
        "  print(split[0])"
      ],
      "metadata": {
        "colab": {
          "base_uri": "https://localhost:8080/"
        },
        "id": "hqcntB3IRD4Z",
        "outputId": "eb5f5c40-2ee2-49ca-c833-a4c3844cbf53"
      },
      "execution_count": null,
      "outputs": [
        {
          "output_type": "stream",
          "name": "stdout",
          "text": [
            "hello\n",
            "ex01\n",
            "intro\n"
          ]
        }
      ]
    },
    {
      "cell_type": "code",
      "source": [
        "# 파일 이름이 저장된 리스트에서\n",
        "# 확장자가 .h인 파일 이름을 출력하라.\n",
        "list = ['intra.h', 'intra.c', 'define.h', 'run.py']\n",
        "for i in list:\n",
        "  split = i.split(\".\")\n",
        "  if split[1] == 'h':\n",
        "    print(i)"
      ],
      "metadata": {
        "colab": {
          "base_uri": "https://localhost:8080/"
        },
        "id": "V03IZWALR6D-",
        "outputId": "1a222ab7-ad4b-4957-d0b7-e1905292d38d"
      },
      "execution_count": null,
      "outputs": [
        {
          "output_type": "stream",
          "name": "stdout",
          "text": [
            "intra.h\n",
            "define.h\n"
          ]
        }
      ]
    },
    {
      "cell_type": "code",
      "source": [
        "# 월드컵은 4년에 한 번 개최된다.\n",
        "# range()를 사용하여 2002~2050년까지 중 월드컵이 개최되는 연도를 출력하라.\n",
        "for i in range(2002, 2050+1, 4):\n",
        "  print(i)"
      ],
      "metadata": {
        "colab": {
          "base_uri": "https://localhost:8080/"
        },
        "id": "3uHCuwjBSoZJ",
        "outputId": "1b420ec6-003b-43d6-a268-017e055f7dc5"
      },
      "execution_count": null,
      "outputs": [
        {
          "output_type": "stream",
          "name": "stdout",
          "text": [
            "2002\n",
            "2006\n",
            "2010\n",
            "2014\n",
            "2018\n",
            "2022\n",
            "2026\n",
            "2030\n",
            "2034\n",
            "2038\n",
            "2042\n",
            "2046\n",
            "2050\n"
          ]
        }
      ]
    },
    {
      "cell_type": "code",
      "source": [
        "# 1부터 30까지의 숫자 중 3의 배수 출력\n",
        "for i in range(3, 30+1, 3):\n",
        "  print(i)"
      ],
      "metadata": {
        "colab": {
          "base_uri": "https://localhost:8080/"
        },
        "id": "mU-ctWkYV4_c",
        "outputId": "41651f3e-c553-4911-e42f-dd4474a3f3ce"
      },
      "execution_count": null,
      "outputs": [
        {
          "output_type": "stream",
          "name": "stdout",
          "text": [
            "3\n",
            "6\n",
            "9\n",
            "12\n",
            "15\n",
            "18\n",
            "21\n",
            "24\n",
            "27\n",
            "30\n"
          ]
        }
      ]
    },
    {
      "cell_type": "code",
      "source": [
        "# 99부터 0까지 1씩 감소하는 숫자들을 출력\n",
        "\n",
        "for i in range(99, 0, -1):\n",
        "  print(i, end='')\n",
        "\n",
        "print('')\n",
        "\n",
        "for i in range(99+1):\n",
        "  print(99 - i, end='')"
      ],
      "metadata": {
        "colab": {
          "base_uri": "https://localhost:8080/"
        },
        "id": "CRcy-vjuWC8q",
        "outputId": "5cd3feaf-fbbc-45bb-b4f0-16d9b5e2301a"
      },
      "execution_count": null,
      "outputs": [
        {
          "output_type": "stream",
          "name": "stdout",
          "text": [
            "999897969594939291908988878685848382818079787776757473727170696867666564636261605958575655545352515049484746454443424140393837363534333231302928272625242322212019181716151413121110987654321\n",
            "9998979695949392919089888786858483828180797877767574737271706968676665646362616059585756555453525150494847464544434241403938373635343332313029282726252423222120191817161514131211109876543210"
          ]
        }
      ]
    },
    {
      "cell_type": "code",
      "source": [
        "# 0.0 0.1 0.2 ... 0.9 출력\n",
        "for i in range(10):\n",
        "  print(i/10)"
      ],
      "metadata": {
        "colab": {
          "base_uri": "https://localhost:8080/"
        },
        "id": "_Kl3ASWXWjLi",
        "outputId": "3436383d-98dd-4f9e-e715-b76241c56214"
      },
      "execution_count": null,
      "outputs": [
        {
          "output_type": "stream",
          "name": "stdout",
          "text": [
            "0.0\n",
            "0.1\n",
            "0.2\n",
            "0.3\n",
            "0.4\n",
            "0.5\n",
            "0.6\n",
            "0.7\n",
            "0.8\n",
            "0.9\n"
          ]
        }
      ]
    },
    {
      "cell_type": "code",
      "source": [
        "# 1~10까지의 숫자에 대해 모두 더한 값을 출력하는 프로ㅡ램을 for 문을 사용하여 작성\n",
        "sum = 0\n",
        "for i in range(1, 10+1):\n",
        "  sum += i\n",
        "print(sum)"
      ],
      "metadata": {
        "colab": {
          "base_uri": "https://localhost:8080/"
        },
        "id": "Gjk6CGkAXVjK",
        "outputId": "a4186cf1-eeee-47c2-bafd-36dd962e1721"
      },
      "execution_count": null,
      "outputs": [
        {
          "output_type": "stream",
          "name": "stdout",
          "text": [
            "55\n"
          ]
        }
      ]
    },
    {
      "cell_type": "code",
      "source": [
        "# 리스트의 데이터 for문과 range문 사용\n",
        "price_list = [32100, 32150, 32000, 32500]\n",
        "for i in range(len(price_list)):\n",
        "  print(price_list[i])\n",
        "\n",
        "# ★ enumerate()\n",
        "# for 인덱스, 요소 in enumerate(반복가능한객체) :\n",
        "for idx, data in enumerate(price_list):\n",
        "  print(idx, data)"
      ],
      "metadata": {
        "colab": {
          "base_uri": "https://localhost:8080/"
        },
        "id": "kiZnsFKMX35Z",
        "outputId": "efa1b63d-cbe9-4455-e740-9705bcb6ed83"
      },
      "execution_count": null,
      "outputs": [
        {
          "output_type": "stream",
          "name": "stdout",
          "text": [
            "32100\n",
            "32150\n",
            "32000\n",
            "32500\n",
            "0 32100\n",
            "1 32150\n",
            "2 32000\n",
            "3 32500\n"
          ]
        }
      ]
    },
    {
      "cell_type": "code",
      "source": [
        "# my_list를 아래와 같이 출력\n",
        "# 가 나\n",
        "# 나 다\n",
        "# 다 라\n",
        "my_list = ['가', '나', '다', '라']\n",
        "for i in range(len(my_list)-1):     # 4-1 = 3 => 0~2까지 반복\n",
        "  print(my_list[i], my_list[i+1])\n",
        "\n",
        "# i = 0\n",
        "# 가, 나\n",
        "# i = 1\n",
        "# 나, 다\n",
        "# i = 2\n",
        "# 다, 라\n",
        "\n",
        "print(\"=== 이렇게도 가능 ===\")\n",
        "for i in range(1, len(my_list)):     # 4 => 1~3까지 반복\n",
        "  print(my_list[i-1], my_list[i])"
      ],
      "metadata": {
        "colab": {
          "base_uri": "https://localhost:8080/"
        },
        "id": "nsiLqf6TbXPf",
        "outputId": "fc0db2bf-2d0e-4c80-9ab3-04de6b4d5d63"
      },
      "execution_count": null,
      "outputs": [
        {
          "output_type": "stream",
          "name": "stdout",
          "text": [
            "가 나\n",
            "나 다\n",
            "다 라\n",
            "=== 이렇게도 가능 ===\n",
            "가 나\n",
            "나 다\n",
            "다 라\n"
          ]
        }
      ]
    },
    {
      "cell_type": "code",
      "source": [
        "# 위의 꺼 업그레이드\n",
        "my_list = ['가', '나', '다', '라', '마']\n",
        "for i in range(len(my_list)-2):             # 4 => 0~3까지\n",
        "  print(my_list[i], my_list[i+1], my_list[i+2])"
      ],
      "metadata": {
        "colab": {
          "base_uri": "https://localhost:8080/"
        },
        "id": "pH7Ork2Edg9k",
        "outputId": "aa8c0a97-0e47-4282-d9dd-a74800ddfa19"
      },
      "execution_count": null,
      "outputs": [
        {
          "output_type": "stream",
          "name": "stdout",
          "text": [
            "가 나 다\n",
            "나 다 라\n",
            "다 라 마\n"
          ]
        }
      ]
    },
    {
      "cell_type": "code",
      "source": [
        "# 위의 꺼 반대로\n",
        "my_list = ['가', '나', '다', '라']\n",
        "for i in range(len(my_list)-1, 0, -1):\n",
        "  print(my_list[i], my_list[i-1])"
      ],
      "metadata": {
        "colab": {
          "base_uri": "https://localhost:8080/"
        },
        "id": "7sYxHfnBfBaI",
        "outputId": "b20ca07e-0f41-4d7e-f575-344c2f54c154"
      },
      "execution_count": null,
      "outputs": [
        {
          "output_type": "stream",
          "name": "stdout",
          "text": [
            "라 다\n",
            "다 나\n",
            "나 가\n"
          ]
        }
      ]
    },
    {
      "cell_type": "code",
      "source": [
        "# 리스트의 4개의 정수, 각각의 데이터에 대해 자신과 우측값과 차분값을 화면에 출력\n",
        "list = [100, 200, 400, 800]\n",
        "for i in range(len(list) - 1):\n",
        "  print(list[i+1]-list[i])"
      ],
      "metadata": {
        "colab": {
          "base_uri": "https://localhost:8080/"
        },
        "id": "GN5qYTMdfqdW",
        "outputId": "77b0c6c0-ced6-49b8-892d-fded5cbe0e25"
      },
      "execution_count": null,
      "outputs": [
        {
          "output_type": "stream",
          "name": "stdout",
          "text": [
            "100\n",
            "200\n",
            "400\n"
          ]
        }
      ]
    },
    {
      "cell_type": "code",
      "source": [
        "# 아래 표에서 하나의 행을 하나의 리스트로, 총 3개의 리스트를 갖는 이차원 리스트 apart를 정의\n",
        "apart = [['101호', '102호'], ['201호', '202호'], ['301호', '302호']]\n",
        "print(apart)"
      ],
      "metadata": {
        "colab": {
          "base_uri": "https://localhost:8080/"
        },
        "id": "E7Uo-CWcgWDx",
        "outputId": "2b9a4e16-769f-46b3-a494-fd7d24f3fc41"
      },
      "execution_count": null,
      "outputs": [
        {
          "output_type": "stream",
          "name": "stdout",
          "text": [
            "[['101호', '102호'], ['201호', '202호'], ['301호', '302호']]\n"
          ]
        }
      ]
    },
    {
      "cell_type": "code",
      "source": [
        "# 리스트에 저장된 데이터를 아래와 같이 출력\n",
        "apart = [[101, 102], [201, 202], [301, 302]]\n",
        "for i in apart:\n",
        "  for j in i:\n",
        "    print(j, \"호\")\n",
        "\n",
        "print(\"=\"*10)\n",
        "# 행만 반대로 출력\n",
        "for i in apart[::-1]:\n",
        "  for j in i:\n",
        "    print(j, \"호\")\n",
        "\n",
        "print(\"=\"*10)\n",
        "# 열까지 반대로 출력\n",
        "for i in apart[::-1]:\n",
        "  for j in i[::-1]:\n",
        "    print(j, \"호\")"
      ],
      "metadata": {
        "colab": {
          "base_uri": "https://localhost:8080/"
        },
        "id": "DIQ3xl8uj6ZB",
        "outputId": "7e6607c9-6f97-457f-e7d7-7faa5285b6fd"
      },
      "execution_count": null,
      "outputs": [
        {
          "output_type": "stream",
          "name": "stdout",
          "text": [
            "101 호\n",
            "102 호\n",
            "201 호\n",
            "202 호\n",
            "301 호\n",
            "302 호\n",
            "==========\n",
            "301 호\n",
            "302 호\n",
            "201 호\n",
            "202 호\n",
            "101 호\n",
            "102 호\n",
            "==========\n",
            "302 호\n",
            "301 호\n",
            "202 호\n",
            "201 호\n",
            "102 호\n",
            "101 호\n"
          ]
        }
      ]
    },
    {
      "cell_type": "code",
      "source": [
        "# 리스트에 저장된 데이터를 아래와 같이 출력\n",
        "apart = [[101, 102], [201, 202], [301, 302]]\n",
        "for i in apart:\n",
        "  for j in i:\n",
        "    print(j, \"호\")\n",
        "  print(\"-\"*5)"
      ],
      "metadata": {
        "colab": {
          "base_uri": "https://localhost:8080/"
        },
        "id": "tlJbOOdUkqBs",
        "outputId": "1a44819c-c1ac-4f90-e378-6415d220dc70"
      },
      "execution_count": null,
      "outputs": [
        {
          "output_type": "stream",
          "name": "stdout",
          "text": [
            "101 호\n",
            "102 호\n",
            "-----\n",
            "201 호\n",
            "202 호\n",
            "-----\n",
            "301 호\n",
            "302 호\n",
            "-----\n"
          ]
        }
      ]
    },
    {
      "cell_type": "markdown",
      "source": [
        "## 파이썬 함수\n",
        "\n",
        "* https://wikidocs.net/23905\n",
        "\n"
      ],
      "metadata": {
        "id": "Txr4q6fhuJyV"
      }
    },
    {
      "cell_type": "code",
      "source": [
        "# 하나의 리스트를 입력받아 짝수만 화면에 출력하는 print_even 함수를 정의\n",
        "\n",
        "list = [1, 3, 2, 10, 12, 11, 15]\n",
        "\n",
        "def print_even(lst) :\n",
        "  for i in lst:\n",
        "    if i % 2 == 0:\n",
        "      print(i)\n",
        "\n",
        "print_even(list)"
      ],
      "metadata": {
        "colab": {
          "base_uri": "https://localhost:8080/"
        },
        "id": "wdKp0EUq0ua8",
        "outputId": "1f518340-5552-45fe-ccc4-790971fb65bb"
      },
      "execution_count": null,
      "outputs": [
        {
          "output_type": "stream",
          "name": "stdout",
          "text": [
            "2\n",
            "10\n",
            "12\n"
          ]
        }
      ]
    },
    {
      "cell_type": "code",
      "source": [
        "# 하나의 딕셔너리를 입력받아 딕셔너리의 key 값을 화면에 출력하는 print_keys 함수를 정의하라\n",
        "\n",
        "dic = {\"이름\":\"김말똥\", \"나이\":30, \"성별\":0}\n",
        "\n",
        "def print_keys(dic) :\n",
        "  for i in dic.keys():\n",
        "    print(i)\n",
        "\n",
        "print_keys(dic)"
      ],
      "metadata": {
        "colab": {
          "base_uri": "https://localhost:8080/"
        },
        "id": "n-1PUbAj1Hdm",
        "outputId": "adffb5a7-7c08-4c9d-c239-b934466311a6"
      },
      "execution_count": null,
      "outputs": [
        {
          "output_type": "stream",
          "name": "stdout",
          "text": [
            "이름\n",
            "나이\n",
            "성별\n"
          ]
        }
      ]
    },
    {
      "cell_type": "code",
      "source": [
        "# my_dict에는 날짜를 키값으로 OHLC가 리스트로 저장돼 있다.\n",
        "# my_dict와 날짜 키값을 입력받아 OHLC 리스트를 출력하는 print_value_by_key 함수를 정의하라.\n",
        "\n",
        "my_dict = {\"10/26\" : [100, 130, 100, 100],\n",
        "           \"10/27\" : [10, 12, 10, 11]}\n",
        "\n",
        "def print_value_by_key(my_dict, key):\n",
        "  print(my_dict[key])\n",
        "\n",
        "print_value_by_key(my_dict, \"10/26\")"
      ],
      "metadata": {
        "colab": {
          "base_uri": "https://localhost:8080/"
        },
        "id": "3MwN8ezY1uXy",
        "outputId": "fa0e3233-93e7-40a2-a3f7-2f3bbf4097a5"
      },
      "execution_count": null,
      "outputs": [
        {
          "output_type": "stream",
          "name": "stdout",
          "text": [
            "[100, 130, 100, 100]\n"
          ]
        }
      ]
    },
    {
      "cell_type": "code",
      "source": [
        "# 문자열을 입력받아 각 문자들로 구성된 리스트로 반환하는 make_list 함수를 정의\n",
        "\n",
        "def make_list(string):\n",
        "  new_list = []\n",
        "  for i in range(len(string)):\n",
        "    new_list.append(string[i])\n",
        "  print(new_list)\n",
        "make_list(\"abcd\")"
      ],
      "metadata": {
        "colab": {
          "base_uri": "https://localhost:8080/"
        },
        "id": "0CmOefYQ2Mfp",
        "outputId": "5d4f6ef5-1303-4311-a757-186381ff7bea"
      },
      "execution_count": null,
      "outputs": [
        {
          "output_type": "stream",
          "name": "stdout",
          "text": [
            "['a', 'b', 'c', 'd']\n"
          ]
        }
      ]
    },
    {
      "cell_type": "code",
      "source": [
        "# 숫자로 구성된 하나의 리스트를 입력받아, 짝수들을 추출하여 리스트로 반환하는\n",
        "# pickup_even 함수를 구현하라\n",
        "\n",
        "list = [3, 4, 5, 6, 7, 8]\n",
        "\n",
        "def pickup_even(list):\n",
        "  even_list = []\n",
        "  for i in list:\n",
        "    if i % 2 == 0:\n",
        "      even_list.append(i)\n",
        "  return even_list\n",
        "\n",
        "print(pickup_even(list))"
      ],
      "metadata": {
        "colab": {
          "base_uri": "https://localhost:8080/"
        },
        "id": "7xqQ1-HN4eOk",
        "outputId": "133e22c9-83f9-45c0-f0d4-6fd871eaec41"
      },
      "execution_count": null,
      "outputs": [
        {
          "output_type": "stream",
          "name": "stdout",
          "text": [
            "[4, 6, 8]\n"
          ]
        }
      ]
    },
    {
      "cell_type": "code",
      "source": [
        "# 콤마가 포함된 문자열 숫자를 입력받아 정수로 변환하는 convert_int 함수를 정의하라.\n",
        "\n",
        "def convert_int(string):\n",
        "  split = string.split(\",\")\n",
        "  # print(split)\n",
        "  join = int(''.join(split))  # ★join 사용법\n",
        "  print(join)\n",
        "\n",
        "convert_int(\"1,234,567\")\n",
        "\n",
        "# 다른 방법 (replace사용)\n",
        "def convert_r_int(string) :\n",
        "    return int(string.replace(',', ''))\n",
        "print(convert_r_int(\"1,234,567\"))"
      ],
      "metadata": {
        "colab": {
          "base_uri": "https://localhost:8080/"
        },
        "id": "iQCrDJob5Jy8",
        "outputId": "d13d97ec-8bfc-40bb-f94c-0d32d2f93fb6"
      },
      "execution_count": null,
      "outputs": [
        {
          "output_type": "stream",
          "name": "stdout",
          "text": [
            "1234567\n",
            "1234567\n"
          ]
        }
      ]
    },
    {
      "cell_type": "markdown",
      "source": [
        "## 파이썬 모듈"
      ],
      "metadata": {
        "id": "c5TiJjXyFDUS"
      }
    },
    {
      "cell_type": "code",
      "source": [
        "# datetime 모듈을 사용해서 현재 시간을 화면에 출력해보세요\n",
        "import datetime\n",
        "\n",
        "now = datetime.datetime.now()\n",
        "print(now)\n",
        "print(type(now))"
      ],
      "metadata": {
        "colab": {
          "base_uri": "https://localhost:8080/"
        },
        "id": "NFVE3y7eFIR_",
        "outputId": "b97ca496-c8f9-483f-f2d6-4eecf9d751d2"
      },
      "execution_count": null,
      "outputs": [
        {
          "output_type": "stream",
          "name": "stdout",
          "text": [
            "2024-03-13 04:32:30.562695\n",
            "<class 'datetime.datetime'>\n"
          ]
        }
      ]
    },
    {
      "cell_type": "code",
      "source": [
        "# datetime 모듈의 timedelta를 사용해서\n",
        "# 오늘로부터 5일, 4일, 3일, 2일, 1일 전의 날짜를 화면에 출력해보세요.\n",
        "import datetime\n",
        "\n",
        "now = datetime.datetime.now()\n",
        "\n",
        "for day in range(5, 0, -1):\n",
        "    delta = datetime.timedelta(day)\n",
        "    date = now - delta\n",
        "    print(date)"
      ],
      "metadata": {
        "colab": {
          "base_uri": "https://localhost:8080/"
        },
        "id": "vC5VycodFQOv",
        "outputId": "c0e134ea-3425-4fe6-a1c3-ddf89262e2fb"
      },
      "execution_count": null,
      "outputs": [
        {
          "output_type": "stream",
          "name": "stdout",
          "text": [
            "2024-03-08 04:36:32.433354\n",
            "2024-03-09 04:36:32.433354\n",
            "2024-03-10 04:36:32.433354\n",
            "2024-03-11 04:36:32.433354\n",
            "2024-03-12 04:36:32.433354\n"
          ]
        }
      ]
    },
    {
      "cell_type": "code",
      "source": [
        "# 현재시간을 얻어온 후 다음과 같은 포맷으로 시간을 출력해보세요. (18:35:01)\n",
        "# strftime 메서드를 사용하세요.\n",
        "import datetime\n",
        "\n",
        "now = datetime.datetime.now()\n",
        "print(now.strftime(\"%H:%M:%S\"))"
      ],
      "metadata": {
        "colab": {
          "base_uri": "https://localhost:8080/"
        },
        "id": "EJK9JfMZGP87",
        "outputId": "35ef6957-e605-4d47-d456-17efa80b1ca2"
      },
      "execution_count": null,
      "outputs": [
        {
          "output_type": "stream",
          "name": "stdout",
          "text": [
            "04:39:49\n"
          ]
        }
      ]
    },
    {
      "cell_type": "code",
      "source": [
        "# strptime\n",
        "# datetime.datetime.strptime 메서드를 사용하면 문자열 형식의 시간을\n",
        "# datetime.datetime 타입의 시간 값으로 만들어줍니다.\n",
        "# \"2024-03-13\"의 문자열을 시간 타입으로 변환해보세요.\n",
        "\n",
        "import datetime\n",
        "\n",
        "day = \"2024-03-13\"\n",
        "ret = datetime.datetime.strptime(day, \"%Y-%m-%d\")\n",
        "print(ret)\n",
        "print(type(ret))"
      ],
      "metadata": {
        "colab": {
          "base_uri": "https://localhost:8080/"
        },
        "id": "jxLbQqmEGnoH",
        "outputId": "a82696b3-a916-49da-d2aa-93e744a5608a"
      },
      "execution_count": null,
      "outputs": [
        {
          "output_type": "stream",
          "name": "stdout",
          "text": [
            "2024-03-13 00:00:00\n",
            "<class 'datetime.datetime'>\n"
          ]
        }
      ]
    },
    {
      "cell_type": "markdown",
      "source": [
        "https://wikidocs.net/7040"
      ],
      "metadata": {
        "id": "icF7tTrHIZHr"
      }
    }
  ]
}