{
  "nbformat": 4,
  "nbformat_minor": 0,
  "metadata": {
    "colab": {
      "provenance": [],
      "collapsed_sections": [
        "GA2I9kDBTiTe"
      ],
      "mount_file_id": "1IqLrmHyqSQcsqO4voqIpB9d1RHINmqAL",
      "authorship_tag": "ABX9TyNGMe11eG0aBWpeO3jHhV0t",
      "include_colab_link": true
    },
    "kernelspec": {
      "name": "python3",
      "display_name": "Python 3"
    },
    "language_info": {
      "name": "python"
    }
  },
  "cells": [
    {
      "cell_type": "markdown",
      "metadata": {
        "id": "view-in-github",
        "colab_type": "text"
      },
      "source": [
        "<a href=\"https://colab.research.google.com/github/kjheve/pythonBasic/blob/main/day04.ipynb\" target=\"_parent\"><img src=\"https://colab.research.google.com/assets/colab-badge.svg\" alt=\"Open In Colab\"/></a>"
      ]
    },
    {
      "cell_type": "markdown",
      "source": [
        "### 은행 계좌 클래스 설계하기\n",
        "* 속성 : 잔액\n",
        "* 행위 : 입금, 출금, 잔액조회\n",
        "  * 입금 : 1회 입금한도는 4만원 초과할 수 없다\n",
        "\n",
        "  * 출금 : 1회 출금한도는 4만원을 초과할 수 없다\n",
        "  * 잔액 : 마이너스 잔액(잔고)는 허용하지 않는다\n",
        "* 메뉴 구성 : 1.입금 2.출금 3.잔액 4.종료"
      ],
      "metadata": {
        "id": "GA2I9kDBTiTe"
      }
    },
    {
      "cell_type": "code",
      "source": [
        "# 예외처리 class\n",
        "class AccountException(Exception):\n",
        "  def __init__(self, errmsg): # 생성자\n",
        "    self.errmsg = errmsg\n",
        "\n",
        "  def __str__(self):    # JAVA에서 toString()으로 생각하자\n",
        "    return self.errmsg"
      ],
      "metadata": {
        "id": "0BBp_4oivVfB"
      },
      "execution_count": 54,
      "outputs": []
    },
    {
      "cell_type": "code",
      "source": [
        "class Account: # 계좌 class\n",
        "  pass\n",
        "\n",
        "  # 생성자\n",
        "  def __init__(self):\n",
        "    self.balance = 0\n",
        "\n",
        "  # 입금\n",
        "  def deposit(self, money):\n",
        "    if money > 40000:\n",
        "      raise AccountException('1회 입금한도는 4만원을 초과할 수 없습니다.')\n",
        "    if money < 0:\n",
        "      raise AccountException('?????? 음수는 입금 불가')\n",
        "    self.balance += money\n",
        "\n",
        "  # 출금\n",
        "  def withdraw(self, money):\n",
        "    if money > 40000:\n",
        "      raise AccountException('1회 입금한도는 4만원을 초과할 수 없습니다.')\n",
        "    if self.balance - money <0:\n",
        "      raise AccountException(f'[🚨]잔액이 부족합니다 (현재 잔액 : {self.balance})')\n",
        "      return\n",
        "    self.balance -= money\n",
        "\n",
        "  # 잔액조회\n",
        "  def getBalance(self):\n",
        "    return self.balance"
      ],
      "metadata": {
        "id": "9oyRkqA0ZcH1"
      },
      "execution_count": 63,
      "outputs": []
    },
    {
      "cell_type": "code",
      "source": [
        "# 실행문 -----------------------------------------------------------------------------\n",
        "account = Account()\n",
        "\n",
        "stop = False\n",
        "while not stop:\n",
        "  try:\n",
        "    print('='*15)\n",
        "    print(\"[1]입금 [2]출금 [3]잔액조회 [4]종료\")\n",
        "    print(\"=\"*15)\n",
        "    menu = int(input(\"메뉴를 선택 > \"))\n",
        "\n",
        "    if menu == 4:       #종료\n",
        "      stop = True\n",
        "      break\n",
        "    elif menu == 1:     #입금\n",
        "      money = int(input(\"입금액을 입력 해 주세요 : \"))\n",
        "      account.deposit(money)\n",
        "    elif menu == 2:     #출금\n",
        "      money = int(input(\"출금액을 입력 해 주세요 : \"))\n",
        "      account.withdraw(money)\n",
        "    elif menu == 3:     #잔액조회\n",
        "      print(f'잔액 : {account.getBalance()}')\n",
        "    else:\n",
        "      print('숫자 1~4를 입력 하시오')\n",
        "\n",
        "  except AccountException as e:\n",
        "    print(e)\n",
        "  else:         # 현재 코드에서는 없어도됨\n",
        "    continue\n",
        "\n",
        "print('🚨프로그램 종료🚨')"
      ],
      "metadata": {
        "colab": {
          "base_uri": "https://localhost:8080/"
        },
        "id": "6yOW9obUVXUu",
        "outputId": "9c758e99-29f6-4b0c-ab1b-6a18987c9919"
      },
      "execution_count": 56,
      "outputs": [
        {
          "output_type": "stream",
          "name": "stdout",
          "text": [
            "===============\n",
            "[1]입금 [2]출금 [3]잔액조회 [4]종료\n",
            "===============\n",
            "메뉴를 선택 > 1\n",
            "입금액을 입력 해 주세요 : -5\n",
            "===============\n",
            "[1]입금 [2]출금 [3]잔액조회 [4]종료\n",
            "===============\n",
            "메뉴를 선택 > 2\n",
            "출금액을 입력 해 주세요 : 1\n",
            "[🚨]잔액이 부족합니다 (현재 잔액 : -5)\n",
            "===============\n",
            "[1]입금 [2]출금 [3]잔액조회 [4]종료\n",
            "===============\n",
            "메뉴를 선택 > 1\n",
            "입금액을 입력 해 주세요 : 500000\n",
            "1회 입금한도는 4만원을 초과할 수 없습니다.\n",
            "===============\n",
            "[1]입금 [2]출금 [3]잔액조회 [4]종료\n",
            "===============\n",
            "메뉴를 선택 > 3\n",
            "잔액 : -5\n",
            "===============\n",
            "[1]입금 [2]출금 [3]잔액조회 [4]종료\n",
            "===============\n",
            "메뉴를 선택 > 4\n",
            "🚨프로그램 종료🚨\n"
          ]
        }
      ]
    },
    {
      "cell_type": "code",
      "source": [
        "# 실행문2 (match 사용) ------------------------------------------------------------------\n",
        "account = Account()\n",
        "\n",
        "stop = False\n",
        "while not stop:\n",
        "  try:\n",
        "    print('='*15)\n",
        "    print(\"[1]입금 [2]출금 [3]잔액조회 [4]종료\")\n",
        "    print(\"=\"*15)\n",
        "    menu = int(input(\"메뉴를 선택 > \"))\n",
        "    match menu:\n",
        "      case 4:\n",
        "        stop = True\n",
        "      case 1:\n",
        "        money = int(input(\"입금액을 입력 해 주세요 : \"))\n",
        "        account.deposit(money)\n",
        "      case 2:\n",
        "        money = int(input(\"출금액을 입력 해 주세요 : \"))\n",
        "        account.withdraw(money)\n",
        "      case 3:\n",
        "        print(f'잔액 : {account.getBalance()}')\n",
        "      case 5 | 6 | 7:\n",
        "        print('match에서 이런것도 가능')\n",
        "      case _:\n",
        "        print('숫자 1~4를 입력 하시오')\n",
        "\n",
        "  except AccountException as e:\n",
        "    print(e)\n",
        "  else:         # 현재 코드에서는 없어도됨\n",
        "    continue\n",
        "\n",
        "print('🚨프로그램 종료🚨')"
      ],
      "metadata": {
        "colab": {
          "base_uri": "https://localhost:8080/"
        },
        "id": "BAOIm1xLzATl",
        "outputId": "9be3758c-39ba-41c0-fb11-0b92768c2bf9"
      },
      "execution_count": 65,
      "outputs": [
        {
          "output_type": "stream",
          "name": "stdout",
          "text": [
            "===============\n",
            "[1]입금 [2]출금 [3]잔액조회 [4]종료\n",
            "===============\n",
            "메뉴를 선택 > 1\n",
            "입금액을 입력 해 주세요 : -5000\n",
            "?????? 음수는 입금 불가\n",
            "===============\n",
            "[1]입금 [2]출금 [3]잔액조회 [4]종료\n",
            "===============\n",
            "메뉴를 선택 > 1\n",
            "입금액을 입력 해 주세요 : 30000\n",
            "===============\n",
            "[1]입금 [2]출금 [3]잔액조회 [4]종료\n",
            "===============\n",
            "메뉴를 선택 > 2\n",
            "출금액을 입력 해 주세요 : 10000\n",
            "===============\n",
            "[1]입금 [2]출금 [3]잔액조회 [4]종료\n",
            "===============\n",
            "메뉴를 선택 > 3\n",
            "잔액 : 20000\n",
            "===============\n",
            "[1]입금 [2]출금 [3]잔액조회 [4]종료\n",
            "===============\n",
            "메뉴를 선택 > 6\n",
            "match에서 이런것도 가능\n",
            "===============\n",
            "[1]입금 [2]출금 [3]잔액조회 [4]종료\n",
            "===============\n",
            "메뉴를 선택 > 5\n",
            "match에서 이런것도 가능\n",
            "===============\n",
            "[1]입금 [2]출금 [3]잔액조회 [4]종료\n",
            "===============\n",
            "메뉴를 선택 > 4\n",
            "🚨프로그램 종료🚨\n"
          ]
        }
      ]
    },
    {
      "cell_type": "markdown",
      "source": [
        "### 예외처리"
      ],
      "metadata": {
        "id": "iyXYBhYghkCv"
      }
    },
    {
      "cell_type": "code",
      "source": [
        "print('1')\n",
        "\n",
        "try:            # 예외가 예상되는 코드\n",
        "  result = 1/0\n",
        "except ZeroDivisionError as e:  #예외 발생시 실행할 코드\n",
        "  print(e)\n",
        "  print(dir(e)) # 객체의 멤버 보는 함수\n",
        "else:           # 예외가 발생하지 않았을 때 실행코드\n",
        "  print('예와가 발생하지 않음')\n",
        "finally:        # 예외 발생 상관없이 실행할 코드\n",
        "  print('예외 발생 상관없이 실행')\n",
        "print('2')"
      ],
      "metadata": {
        "colab": {
          "base_uri": "https://localhost:8080/"
        },
        "id": "nP6DUGnBhp8T",
        "outputId": "9c569119-df9e-46b4-e01e-2e9c0c1830f7"
      },
      "execution_count": 23,
      "outputs": [
        {
          "output_type": "stream",
          "name": "stdout",
          "text": [
            "1\n",
            "division by zero\n",
            "['__cause__', '__class__', '__context__', '__delattr__', '__dict__', '__dir__', '__doc__', '__eq__', '__format__', '__ge__', '__getattribute__', '__gt__', '__hash__', '__init__', '__init_subclass__', '__le__', '__lt__', '__ne__', '__new__', '__reduce__', '__reduce_ex__', '__repr__', '__setattr__', '__setstate__', '__sizeof__', '__str__', '__subclasshook__', '__suppress_context__', '__traceback__', 'args', 'with_traceback']\n",
            "예외 발생 상관없이 실행\n",
            "2\n"
          ]
        }
      ]
    },
    {
      "cell_type": "code",
      "source": [
        "data = [1, 2, 3]\n",
        "\n",
        "try:\n",
        "  print(data[1])\n",
        "  print(data[3]) # 리스트에 없는 인덱스\n",
        "except IndexError as e:\n",
        "  print(e)\n",
        "  pass\n",
        "finally:\n",
        "  print('예외 발생 상관없이 실행')\n"
      ],
      "metadata": {
        "colab": {
          "base_uri": "https://localhost:8080/"
        },
        "id": "qISD-F_1jcK6",
        "outputId": "98b0867d-14ac-4421-e821-1aaf5f23f5a0"
      },
      "execution_count": 26,
      "outputs": [
        {
          "output_type": "stream",
          "name": "stdout",
          "text": [
            "2\n",
            "list index out of range\n",
            "예외 발생 상관없이 실행\n"
          ]
        }
      ]
    },
    {
      "cell_type": "code",
      "source": [
        "def f1(num1, num2):\n",
        "  try:\n",
        "    result = num1 / num2\n",
        "  except :\n",
        "    raise Exception('피젯수는 0이 될 수 없습니다!') # 일부러 오류 발생시키기\n",
        "  return result\n",
        "\n",
        "try:\n",
        "  print(f1(10, 0))\n",
        "except Exception as e:\n",
        "  print(e)\n",
        "  print('예외발생')"
      ],
      "metadata": {
        "colab": {
          "base_uri": "https://localhost:8080/"
        },
        "id": "ywEwf4WOk_hw",
        "outputId": "715157a0-1e14-4e2c-ea78-6cc7c252242c"
      },
      "execution_count": 36,
      "outputs": [
        {
          "output_type": "stream",
          "name": "stdout",
          "text": [
            "피젯수는 0이 될 수 없습니다!\n",
            "예외발생\n"
          ]
        }
      ]
    },
    {
      "cell_type": "code",
      "source": [
        "# ★★★ 예외 만들기 ★★★\n",
        "class MyError(Exception):\n",
        "    def __str__(self):\n",
        "        return \"~~피젯수는 0이 될 수 없습니다~~\"\n",
        "\n",
        "def f2(num1, num2):\n",
        "  try:\n",
        "    result = num1 / num2\n",
        "  except :\n",
        "    raise MyError()\n",
        "  else :\n",
        "    return result\n",
        "\n",
        "try:\n",
        "  print(f2(10, 0))\n",
        "except MyError as e:\n",
        "  print(e)"
      ],
      "metadata": {
        "colab": {
          "base_uri": "https://localhost:8080/"
        },
        "id": "OzSCZ6wGm4p1",
        "outputId": "ae9a8f61-d6f1-4929-dfbb-5c4e0a4df95b"
      },
      "execution_count": 50,
      "outputs": [
        {
          "output_type": "stream",
          "name": "stdout",
          "text": [
            "~~피젯수는 0이 될 수 없습니다~~\n"
          ]
        }
      ]
    },
    {
      "cell_type": "markdown",
      "source": [
        "## 정규표현식\n",
        "> * re 모듈의 주요 함수\n",
        "> * 탐욕 vs 비탐욕\n",
        "> * 그룹핑\n",
        "> * 전방/후방 탐색"
      ],
      "metadata": {
        "id": "mLB-w-i27Wi_"
      }
    },
    {
      "cell_type": "code",
      "source": [
        "# re 모듈의 주요 함수\n",
        "import re"
      ],
      "metadata": {
        "id": "4xygwENp7WNJ"
      },
      "execution_count": 66,
      "outputs": []
    },
    {
      "cell_type": "markdown",
      "source": [
        "### re.match\n",
        " * 문자열이 특정 패턴으로 시작하는지 확인"
      ],
      "metadata": {
        "id": "zBcCi-R5AsY3"
      }
    },
    {
      "cell_type": "code",
      "source": [
        "# re.match()\n",
        "pattern = r'파이썬'\n",
        "text = '파이썬을 배우자'\n",
        "\n",
        "match = re.match(pattern, text)\n",
        "print(type(match))\n",
        "if match:\n",
        "  print(\"매치됨\", match.group())\n",
        "else:\n",
        "  print(\"매치되지 않음\")"
      ],
      "metadata": {
        "colab": {
          "base_uri": "https://localhost:8080/"
        },
        "id": "DCqPO4ls-UG6",
        "outputId": "ad7ea749-4d15-4efe-cbc4-dd5af5cf6949"
      },
      "execution_count": 74,
      "outputs": [
        {
          "output_type": "stream",
          "name": "stdout",
          "text": [
            "<class 're.Match'>\n",
            "매치됨 파이썬\n"
          ]
        }
      ]
    },
    {
      "cell_type": "code",
      "source": [
        "help(re.match)\n",
        "#re.match?           # ?를 쓰면 페이지 오른쪽에 도움말이 나타남"
      ],
      "metadata": {
        "colab": {
          "base_uri": "https://localhost:8080/"
        },
        "id": "EdGJgYdb-_Gj",
        "outputId": "ae22dcc7-4b89-4773-8ef8-e24ed052d3f2"
      },
      "execution_count": 70,
      "outputs": [
        {
          "output_type": "stream",
          "name": "stdout",
          "text": [
            "Help on function match in module re:\n",
            "\n",
            "match(pattern, string, flags=0)\n",
            "    Try to apply the pattern at the start of the string, returning\n",
            "    a Match object, or None if no match was found.\n",
            "\n"
          ]
        }
      ]
    },
    {
      "cell_type": "code",
      "source": [],
      "metadata": {
        "id": "Alwi8VRKCNAC"
      },
      "execution_count": null,
      "outputs": []
    },
    {
      "cell_type": "markdown",
      "source": [
        "### re.search\n",
        "* 문자열 내에 특정 패턴을 찾고자 할 때 사용"
      ],
      "metadata": {
        "id": "6VU4YMOuAz8H"
      }
    },
    {
      "cell_type": "code",
      "source": [
        "# re.search()\n",
        "# match는 처음부터 찾기 때문에 '배우자'를 넣으면 찾질 못함\n",
        "pattern = r'배우자'\n",
        "text = '파이썬을 배우자, 파이썬!!'\n",
        "\n",
        "search = re.search(pattern, text)\n",
        "print(type(search))\n",
        "\n",
        "if search:\n",
        "  print(\"매치됨\", search.group())\n",
        "else:\n",
        "  print(\"매치되지 않음\")"
      ],
      "metadata": {
        "colab": {
          "base_uri": "https://localhost:8080/"
        },
        "id": "wX9mrAxS_T91",
        "outputId": "d2203319-294e-4d98-f8c5-20a028f360d3"
      },
      "execution_count": 86,
      "outputs": [
        {
          "output_type": "stream",
          "name": "stdout",
          "text": [
            "<class 're.Match'>\n",
            "매치됨 배우자\n"
          ]
        }
      ]
    },
    {
      "cell_type": "markdown",
      "source": [
        "### re.findall()\n",
        "* 매치되는 모든 문자열을 찾고자 할 때"
      ],
      "metadata": {
        "id": "M7O6IuwmBBuz"
      }
    },
    {
      "cell_type": "code",
      "source": [
        "# re.findall()\n",
        "# 매치되는 모든 문자열을 찾음\n",
        "pattern = r'파이썬'\n",
        "text = '파이썬을 배우자, 파이썬!!'\n",
        "\n",
        "findall = re.findall(pattern, text)\n",
        "print(type(findall))\n",
        "print(len(findall))\n",
        "print(f'두번째요소 : {findall[1]}')\n",
        "\n",
        "for ele in findall:\n",
        "  print(ele)"
      ],
      "metadata": {
        "colab": {
          "base_uri": "https://localhost:8080/"
        },
        "id": "SbMln86oBGSs",
        "outputId": "69bfe562-974a-47f2-9c63-cf5f2dde44d8"
      },
      "execution_count": 89,
      "outputs": [
        {
          "output_type": "stream",
          "name": "stdout",
          "text": [
            "<class 'list'>\n",
            "2\n",
            "두번째요소 : 파이썬\n",
            "파이썬\n",
            "파이썬\n"
          ]
        }
      ]
    },
    {
      "cell_type": "markdown",
      "source": [
        "### re.finditer()\n",
        "* 매치되는 모든 문자열을 찾고자할 때\n",
        "* 매치되는 문자열을 요소로 갖는 **이터러블객체**로 반환"
      ],
      "metadata": {
        "id": "dFD0hqYVCS45"
      }
    },
    {
      "cell_type": "code",
      "source": [
        "# re.finditer()\n",
        "pattern = r'파이썬'\n",
        "text = '파이썬을 배우자, 파이썬!!'\n",
        "\n",
        "finditer = re.finditer(pattern, text)\n",
        "print(type(finditer))\n",
        "\n",
        "for ele in finditer:\n",
        "  print(ele)\n",
        "  print(ele.group())\n",
        "  print(ele.span())"
      ],
      "metadata": {
        "id": "_W6H8vLcCSVY",
        "colab": {
          "base_uri": "https://localhost:8080/"
        },
        "outputId": "89a9d6af-1519-4b32-d1ef-dc02762a84ce"
      },
      "execution_count": 91,
      "outputs": [
        {
          "output_type": "stream",
          "name": "stdout",
          "text": [
            "<class 'callable_iterator'>\n",
            "<re.Match object; span=(0, 3), match='파이썬'>\n",
            "파이썬\n",
            "(0, 3)\n",
            "<re.Match object; span=(10, 13), match='파이썬'>\n",
            "파이썬\n",
            "(10, 13)\n"
          ]
        }
      ]
    },
    {
      "cell_type": "markdown",
      "source": [
        "### re.sub()\n",
        "* 문자열 내에서 특정 패턴을 찾아 변경하고자 할 때 사용\n",
        "* 대체된 문자열의 결과를 반환\n",
        "\n"
      ],
      "metadata": {
        "id": "F7F1F-MuDgZz"
      }
    },
    {
      "cell_type": "code",
      "source": [
        "pattern = r'파이썬'\n",
        "text = '파이썬은 재미있다, 파이썬!'\n",
        "replacement = 'Python'\n",
        "\n",
        "subbed_text = re.sub(pattern, replacement, text)\n",
        "print(type(subbed_text))\n",
        "print(subbed_text)"
      ],
      "metadata": {
        "id": "PDPyZeV5DsQ-",
        "colab": {
          "base_uri": "https://localhost:8080/"
        },
        "outputId": "1811038d-fc96-4fef-8e2a-e22c6e609aae"
      },
      "execution_count": 96,
      "outputs": [
        {
          "output_type": "stream",
          "name": "stdout",
          "text": [
            "<class 'str'>\n",
            "Python은 재미있다, Python!\n"
          ]
        }
      ]
    },
    {
      "cell_type": "markdown",
      "source": [
        "### re.compile()\n",
        "* 같은 패턴을 반복해서 사용\n",
        "* 정규표현식 패턴을 컴파일하여 Pattern객체를 생성"
      ],
      "metadata": {
        "id": "_iSXpzFvEn_K"
      }
    },
    {
      "cell_type": "code",
      "source": [
        "pattern = re.compile(r'파이썬')     # 반복해서 사용\n",
        "print(type(pattern))\n",
        "\n",
        "text = '파이썬을 배우자'\n",
        "match = pattern.match(text)      # re.match(pattern, text)\n",
        "if match:\n",
        "  print(match.group())\n",
        "\n",
        "search = pattern.search(text)    # re.search(pattern, text)\n",
        "if search:\n",
        "  print(search.group())"
      ],
      "metadata": {
        "colab": {
          "base_uri": "https://localhost:8080/"
        },
        "id": "6nRJnWNKE3CJ",
        "outputId": "8d6c929e-83f5-434f-8f61-efbd0f57bbd5"
      },
      "execution_count": 103,
      "outputs": [
        {
          "output_type": "stream",
          "name": "stdout",
          "text": [
            "<class 're.Pattern'>\n",
            "파이썬\n",
            "파이썬\n"
          ]
        }
      ]
    },
    {
      "cell_type": "markdown",
      "source": [
        "### 탐욕적 vs 비탐욕적\n",
        "> 탐욕 / 비탐욕 패턴\n",
        "* 수량자와 함께 사용되어 기본적으로는 탐욕매칭함\n",
        "* 수량자와 ?를 함께 사용하여 수량자 탐욕을 제한할 수 있다."
      ],
      "metadata": {
        "id": "3Pzg8IBqV5b2"
      }
    },
    {
      "cell_type": "code",
      "source": [
        "pattern = 'a.*b'     # 탐욕적\n",
        "pattern2 = 'a.*?b'   # 비탐욕적\n",
        "text = 'a1ba2ba3b'\n",
        "\n",
        "findall = re.findall(pattern, text)\n",
        "print(findall)\n",
        "findall = re.findall(pattern2, text)\n",
        "print(findall)"
      ],
      "metadata": {
        "colab": {
          "base_uri": "https://localhost:8080/"
        },
        "id": "TcRUf8ryicly",
        "outputId": "b546795c-a37f-4615-e0dd-759268abd021"
      },
      "execution_count": 108,
      "outputs": [
        {
          "output_type": "stream",
          "name": "stdout",
          "text": [
            "['a1ba2ba3b']\n",
            "['a1b', 'a2b', 'a3b']\n"
          ]
        }
      ]
    },
    {
      "cell_type": "markdown",
      "source": [
        "### 그룹핑 : ( ), (? )\n",
        "* ( ) : 여러문자를 하나의 단위처리, 캡쳐링하여 나중에 참조\n",
        "* (?: ) : 여러문자를 하나의 단위처리, 캡쳐링(X)"
      ],
      "metadata": {
        "id": "34rXUYstkP7g"
      }
    },
    {
      "cell_type": "code",
      "source": [
        "# pattern1 = \"\\w+@\\w+\\.\\w+\"              # 그룹핑 안했을 때\n",
        "# pattern2 = \"(\\w+)@(\\w+)\\.(\\w+)\"        # ( )그룹핑\n",
        "pattern3 = \"(?:\\w+)@(?:\\w+)\\.(?:\\w+)\"        # (? )그룹핑\n",
        "text = '이메일 주소는 example@naver.com 입니다'\n",
        "search = re.search(pattern3, text)\n",
        "\n",
        "print(search)\n",
        "print(search.group())\n",
        "# print(search.group(1))\n",
        "# print(search.group(2))\n",
        "# print(search.group(3))"
      ],
      "metadata": {
        "colab": {
          "base_uri": "https://localhost:8080/"
        },
        "id": "brJV1H-gk4FP",
        "outputId": "bb92f368-5af6-4d0e-d447-99249e11bc67"
      },
      "execution_count": 123,
      "outputs": [
        {
          "output_type": "stream",
          "name": "stdout",
          "text": [
            "<re.Match object; span=(8, 25), match='example@naver.com'>\n",
            "example@naver.com\n"
          ]
        }
      ]
    },
    {
      "cell_type": "markdown",
      "source": [
        "### 전방/후방 탐색\n",
        "* 양의 전방 탐색 (Positive Lookahead) : (?= )\n",
        "* 음의 전방 탐색 (Negative Lookahead) : (?! )\n",
        "* 양의 후방 탐색 (Positive Lookbehind) : (?<= )\n",
        "* 음의 후방 탐색 (Negative Lookbehind) : (?<! )"
      ],
      "metadata": {
        "id": "C_qs2x4Cmxbk"
      }
    },
    {
      "cell_type": "code",
      "source": [
        "# 양의 전방 탐색  (.com의 전방)\n",
        "import re\n",
        "\n",
        "pattern1 = r'http://[^ ]+(?=\\.com)'\n",
        "\n",
        "text = \"Visit our website at http://example.com or http://sample.com\"\n",
        "\n",
        "\n",
        "matches = re.findall(pattern1, text)\n",
        "print(f'양의 전방 탐색 : {matches}')"
      ],
      "metadata": {
        "colab": {
          "base_uri": "https://localhost:8080/"
        },
        "id": "t9V-dp1Hp6_m",
        "outputId": "058ae5ca-e15e-444d-df3a-099885a39ba5"
      },
      "execution_count": 125,
      "outputs": [
        {
          "output_type": "stream",
          "name": "stdout",
          "text": [
            "양의 전방 탐색 : ['http://example', 'http://sample']\n"
          ]
        }
      ]
    },
    {
      "cell_type": "code",
      "source": [
        "# 음의 전방 탐색\n",
        "import re\n",
        "\n",
        "text = \"testing test pool tested tester\"\n",
        "pattern = r'test(?!ing)'   #test다음 ing이 아닌 경우만 찾기\n",
        "\n",
        "matches = re.findall(pattern, text)\n",
        "print(matches)"
      ],
      "metadata": {
        "colab": {
          "base_uri": "https://localhost:8080/"
        },
        "id": "9_LIaZwqxHX4",
        "outputId": "be0cf197-98a1-4622-cbd4-47c4755bf927"
      },
      "execution_count": 127,
      "outputs": [
        {
          "output_type": "stream",
          "name": "stdout",
          "text": [
            "['test', 'test', 'test']\n"
          ]
        }
      ]
    },
    {
      "cell_type": "code",
      "source": [
        "# 양의 후방 탐색\n",
        "import re\n",
        "\n",
        "text = \"The price is $5.99 for the first item and $10 for the second.\"\n",
        "pattern = r'(?<=\\$)\\d+(?:\\.\\d+)?'\n",
        "\n",
        "matches = re.findall(pattern, text)\n",
        "print(matches)\n",
        "matches = re.finditer(pattern, text)\n",
        "for ele in matches:\n",
        "  print(ele)"
      ],
      "metadata": {
        "colab": {
          "base_uri": "https://localhost:8080/"
        },
        "id": "uVpTa9aQxHf4",
        "outputId": "a17c40b9-3751-4bc2-8d37-d5b876d88840"
      },
      "execution_count": 141,
      "outputs": [
        {
          "output_type": "stream",
          "name": "stdout",
          "text": [
            "['5.99', '10']\n",
            "<re.Match object; span=(14, 18), match='5.99'>\n",
            "<re.Match object; span=(43, 45), match='10'>\n"
          ]
        }
      ]
    },
    {
      "cell_type": "code",
      "source": [
        "# 음의 후방 탐색\n",
        "import re\n",
        "\n",
        "pattern = r'(?<!not\\s)good'\n",
        "text = \"The cake is not good but the pie is very good\"\n",
        "\n",
        "matches = re.findall(pattern, text)\n",
        "print(matches)                        # 뒤에있는 good\n",
        "\n",
        "matches = re.finditer(pattern, text)  # 뒤에있는 good이라는것을 확인\n",
        "for ele in matches:\n",
        "  print(ele)"
      ],
      "metadata": {
        "colab": {
          "base_uri": "https://localhost:8080/"
        },
        "id": "Iidcx9dLw2lR",
        "outputId": "a41b2a17-1906-4770-9edd-e7a6380c0f6e"
      },
      "execution_count": 130,
      "outputs": [
        {
          "output_type": "stream",
          "name": "stdout",
          "text": [
            "['good']\n",
            "<re.Match object; span=(41, 45), match='good'>\n"
          ]
        }
      ]
    },
    {
      "cell_type": "markdown",
      "source": [
        "### 로그파일에서 특정 패턴 찾기"
      ],
      "metadata": {
        "id": "mVl9K-EF8vEy"
      }
    },
    {
      "cell_type": "code",
      "source": [
        "import re\n",
        "\n",
        "err_messages = []\n",
        "file = open(\"/content/spring.log\", mode='r', encoding='utf-8') # 파일 읽어오기\n",
        "\n",
        "pattern = \"2024-03-\\d{2}.*(ERROR | WARN).*\"\n",
        "\n",
        "for line in file:\n",
        "  match = re.match(pattern, line)\n",
        "  if match:\n",
        "    err_messages.append(match.group().strip())\n",
        "\n",
        "for msg in err_messages:\n",
        "  print(msg)"
      ],
      "metadata": {
        "colab": {
          "base_uri": "https://localhost:8080/"
        },
        "id": "Yjd5fQ0e_pNE",
        "outputId": "2db45c63-0de1-4179-dc32-ee8a42ba555e"
      },
      "execution_count": 163,
      "outputs": [
        {
          "output_type": "stream",
          "name": "stdout",
          "text": [
            "2024-03-14T16:56:01.832+09:00  WARN 12280 --- [restartedMain] c.zaxxer.hikari.util.DriverDataSource    : Registered driver with driverClassName=oracle.jdbc.driver.OracleDriver was not found, trying direct instantiation.\n",
            "2024-03-14T16:56:03.756+09:00  WARN 12280 --- [restartedMain] org.hibernate.dialect.Dialect            : HHH000511: The 18.0.0 version for [org.hibernate.dialect.OracleDialect] is no longer supported, hence certain features may not work properly. The minimum supported version is 19.0.0. Check the community dialects project for available legacy versions.\n",
            "2024-03-14T16:56:05.129+09:00  WARN 12280 --- [restartedMain] JpaBaseConfiguration$JpaWebConfiguration : spring.jpa.open-in-view is enabled by default. Therefore, database queries may be performed during view rendering. Explicitly configure spring.jpa.open-in-view to disable this warning\n",
            "2024-03-14T17:09:25.654+09:00  WARN 3716 --- [restartedMain] c.zaxxer.hikari.util.DriverDataSource    : Registered driver with driverClassName=oracle.jdbc.driver.OracleDriver was not found, trying direct instantiation.\n",
            "2024-03-14T17:09:26.900+09:00 ERROR 3716 --- [restartedMain] com.zaxxer.hikari.pool.HikariPool        : HikariPool-1 - Exception during pool initialization.\n",
            "2024-03-14T17:09:27.896+09:00  WARN 3716 --- [restartedMain] c.zaxxer.hikari.util.DriverDataSource    : Registered driver with driverClassName=oracle.jdbc.driver.OracleDriver was not found, trying direct instantiation.\n",
            "2024-03-14T17:09:28.904+09:00 ERROR 3716 --- [restartedMain] com.zaxxer.hikari.pool.HikariPool        : HikariPool-1 - Exception during pool initialization.\n",
            "2024-03-14T17:09:28.909+09:00  WARN 3716 --- [restartedMain] o.h.e.j.e.i.JdbcEnvironmentInitiator     : HHH000342: Could not obtain connection to query metadata\n",
            "2024-03-14T17:09:28.914+09:00 ERROR 3716 --- [restartedMain] j.LocalContainerEntityManagerFactoryBean : Failed to initialize JPA EntityManagerFactory: Unable to create requested service [org.hibernate.engine.jdbc.env.spi.JdbcEnvironment] due to: Unable to determine Dialect without JDBC metadata (please set 'jakarta.persistence.jdbc.url' for common cases or 'hibernate.dialect' when a custom Dialect implementation must be provided)\n",
            "2024-03-14T17:09:28.914+09:00  WARN 3716 --- [restartedMain] ConfigServletWebServerApplicationContext : Exception encountered during context initialization - cancelling refresh attempt: org.springframework.beans.factory.BeanCreationException: Error creating bean with name 'entityManagerFactory' defined in class path resource [org/springframework/boot/autoconfigure/orm/jpa/HibernateJpaConfiguration.class]: Unable to create requested service [org.hibernate.engine.jdbc.env.spi.JdbcEnvironment] due to: Unable to determine Dialect without JDBC metadata (please set 'jakarta.persistence.jdbc.url' for common cases or 'hibernate.dialect' when a custom Dialect implementation must be provided)\n",
            "2024-03-14T17:09:28.965+09:00 ERROR 3716 --- [restartedMain] o.s.boot.SpringApplication               : Application run failed\n"
          ]
        }
      ]
    }
  ]
}