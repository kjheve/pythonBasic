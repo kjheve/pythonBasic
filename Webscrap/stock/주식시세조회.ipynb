{
 "cells": [
  {
   "cell_type": "code",
   "execution_count": 510,
   "id": "22d71923",
   "metadata": {},
   "outputs": [],
   "source": [
    "import requests\n",
    "import pandas as pd\n",
    "import json\n",
    "import math\n",
    "import time\n",
    "import matplotlib.pyplot as plt"
   ]
  },
  {
   "cell_type": "code",
   "execution_count": 511,
   "id": "573ccb1d",
   "metadata": {},
   "outputs": [],
   "source": [
    "# 폰트설정\n",
    "plt.rc(\"font\", family='Malgun Gothic')\n",
    "\n",
    "# 마이너스폰트 설정\n",
    "plt.rc(\"axes\", unicode_minus=False)"
   ]
  },
  {
   "cell_type": "code",
   "execution_count": 512,
   "id": "76860d7c",
   "metadata": {},
   "outputs": [],
   "source": [
    "url = 'https://apis.data.go.kr/1160100/service/GetStockSecuritiesInfoService/getStockPriceInfo'"
   ]
  },
  {
   "cell_type": "code",
   "execution_count": 513,
   "id": "409064c8",
   "metadata": {},
   "outputs": [],
   "source": [
    "params = {    \n",
    "    \"serviceKey\" : \"ZNDMSK1BGpTDfkdspDstsvTtnu8NEvdRgJ119e3M/awgSc0nPTOTT5mr8YoQ+M2MK3WGTCNS1tFugk0P74ZTUw==\",\n",
    "    \"numOfRows\" : \"1\",\n",
    "    \"pageNo\" : \"1\",\n",
    "    \"resultType\" : \"json\" ,\n",
    "    \"itmsNm\" : \"LG화학\",\n",
    "    \"beginBasDt\" : \"20200101\",\n",
    "    \"endBasDt\" : \"20241231\"\n",
    "}"
   ]
  },
  {
   "cell_type": "code",
   "execution_count": 514,
   "id": "c568b1f9",
   "metadata": {},
   "outputs": [
    {
     "data": {
      "text/plain": [
       "200"
      ]
     },
     "execution_count": 514,
     "metadata": {},
     "output_type": "execute_result"
    }
   ],
   "source": [
    "res = requests.get(url, params=params)\n",
    "res.raise_for_status()\n",
    "res.status_code"
   ]
  },
  {
   "cell_type": "code",
   "execution_count": 515,
   "id": "da70db86",
   "metadata": {},
   "outputs": [
    {
     "data": {
      "text/plain": [
       "'https://apis.data.go.kr/1160100/service/GetStockSecuritiesInfoService/getStockPriceInfo?serviceKey=ZNDMSK1BGpTDfkdspDstsvTtnu8NEvdRgJ119e3M%2FawgSc0nPTOTT5mr8YoQ%2BM2MK3WGTCNS1tFugk0P74ZTUw%3D%3D&numOfRows=1&pageNo=1&resultType=json&itmsNm=LG%ED%99%94%ED%95%99&beginBasDt=20200101&endBasDt=20241231'"
      ]
     },
     "execution_count": 515,
     "metadata": {},
     "output_type": "execute_result"
    }
   ],
   "source": [
    "res.url"
   ]
  },
  {
   "cell_type": "code",
   "execution_count": 516,
   "id": "18f85ff0",
   "metadata": {},
   "outputs": [
    {
     "data": {
      "text/plain": [
       "'{\"response\":{\"header\":{\"resultCode\":\"00\",\"resultMsg\":\"NORMAL SERVICE.\"},\"body\":{\"numOfRows\":1,\"pageNo\":1,\"totalCount\":1051,\"items\":{\"item\":[{\"basDt\":\"20240403\",\"srtnCd\":\"051910\",\"isinCd\":\"KR7051910008\",\"itmsNm\":\"LG화학\",\"mrktCtg\":\"KOSPI\",\"clpr\":\"403000\",\"vs\":\"-21000\",\"fltRt\":\"-4.95\",\"mkp\":\"416000\",\"hipr\":\"418500\",\"lopr\":\"400500\",\"trqu\":\"479871\",\"trPrc\":\"194455220500\",\"lstgStCnt\":\"70592343\",\"mrktTotAmt\":\"28448714229000\"}]}}}}'"
      ]
     },
     "execution_count": 516,
     "metadata": {},
     "output_type": "execute_result"
    }
   ],
   "source": [
    "json_str = res.text\n",
    "res.text"
   ]
  },
  {
   "cell_type": "code",
   "execution_count": 517,
   "id": "80027228",
   "metadata": {},
   "outputs": [
    {
     "data": {
      "text/plain": [
       "dict"
      ]
     },
     "execution_count": 517,
     "metadata": {},
     "output_type": "execute_result"
    }
   ],
   "source": [
    "# json 포맷 문자열을 파이썬의 딕셔너리로 변환\n",
    "dictionary = json.loads(json_str)\n",
    "type(dictionary)"
   ]
  },
  {
   "cell_type": "code",
   "execution_count": 518,
   "id": "d8965d26",
   "metadata": {},
   "outputs": [
    {
     "data": {
      "text/plain": [
       "{'response': {'header': {'resultCode': '00', 'resultMsg': 'NORMAL SERVICE.'},\n",
       "  'body': {'numOfRows': 1,\n",
       "   'pageNo': 1,\n",
       "   'totalCount': 1051,\n",
       "   'items': {'item': [{'basDt': '20240403',\n",
       "      'srtnCd': '051910',\n",
       "      'isinCd': 'KR7051910008',\n",
       "      'itmsNm': 'LG화학',\n",
       "      'mrktCtg': 'KOSPI',\n",
       "      'clpr': '403000',\n",
       "      'vs': '-21000',\n",
       "      'fltRt': '-4.95',\n",
       "      'mkp': '416000',\n",
       "      'hipr': '418500',\n",
       "      'lopr': '400500',\n",
       "      'trqu': '479871',\n",
       "      'trPrc': '194455220500',\n",
       "      'lstgStCnt': '70592343',\n",
       "      'mrktTotAmt': '28448714229000'}]}}}}"
      ]
     },
     "execution_count": 518,
     "metadata": {},
     "output_type": "execute_result"
    }
   ],
   "source": [
    "dictionary"
   ]
  },
  {
   "cell_type": "code",
   "execution_count": 519,
   "id": "6b2b8676",
   "metadata": {},
   "outputs": [],
   "source": [
    "# # 'item' 키에 해당하는 데이터를 데이터프레임으로 변환\n",
    "# df = pd.json_normalize(dictionary['response']['body']['items']['item'])\n",
    "# df"
   ]
  },
  {
   "cell_type": "code",
   "execution_count": 520,
   "id": "0133c09f",
   "metadata": {},
   "outputs": [
    {
     "data": {
      "text/plain": [
       "1051"
      ]
     },
     "execution_count": 520,
     "metadata": {},
     "output_type": "execute_result"
    }
   ],
   "source": [
    "totalCount = dictionary['response']['body']['totalCount']\n",
    "totalCount"
   ]
  },
  {
   "cell_type": "code",
   "execution_count": 521,
   "id": "d5bd9a38",
   "metadata": {},
   "outputs": [],
   "source": [
    "# 한번에 조회 수 : 1000건\n",
    "max_numOfRows = 1000"
   ]
  },
  {
   "cell_type": "code",
   "execution_count": 522,
   "id": "8fca0653",
   "metadata": {},
   "outputs": [
    {
     "data": {
      "text/plain": [
       "2"
      ]
     },
     "execution_count": 522,
     "metadata": {},
     "output_type": "execute_result"
    }
   ],
   "source": [
    "# http 요청 횟수\n",
    "request_cnt = math.ceil(totalCount / max_numOfRows)\n",
    "request_cnt"
   ]
  },
  {
   "cell_type": "code",
   "execution_count": 523,
   "id": "c4b595ed",
   "metadata": {},
   "outputs": [],
   "source": [
    "def get_params (numOfRows, req_cnt):\n",
    "    params = {    \n",
    "    \"serviceKey\" : \"ZNDMSK1BGpTDfkdspDstsvTtnu8NEvdRgJ119e3M/awgSc0nPTOTT5mr8YoQ+M2MK3WGTCNS1tFugk0P74ZTUw==\",\n",
    "    \"numOfRows\" : numOfRows,\n",
    "    \"pageNo\" : req_cnt,\n",
    "    \"resultType\" : \"json\" ,\n",
    "    \"itmsNm\" : \"LG화학\",\n",
    "    \"beginBasDt\" : \"20200101\",\n",
    "    \"endBasDt\" : \"20240404\"\n",
    "    }\n",
    "    print(params)\n",
    "    return params"
   ]
  },
  {
   "cell_type": "code",
   "execution_count": 524,
   "id": "df4c8bc5",
   "metadata": {},
   "outputs": [
    {
     "name": "stdout",
     "output_type": "stream",
     "text": [
      "{'serviceKey': 'ZNDMSK1BGpTDfkdspDstsvTtnu8NEvdRgJ119e3M/awgSc0nPTOTT5mr8YoQ+M2MK3WGTCNS1tFugk0P74ZTUw==', 'numOfRows': 1000, 'pageNo': 1, 'resultType': 'json', 'itmsNm': 'LG화학', 'beginBasDt': '20200101', 'endBasDt': '20240404'}\n",
      "{'serviceKey': 'ZNDMSK1BGpTDfkdspDstsvTtnu8NEvdRgJ119e3M/awgSc0nPTOTT5mr8YoQ+M2MK3WGTCNS1tFugk0P74ZTUw==', 'numOfRows': 1000, 'pageNo': 2, 'resultType': 'json', 'itmsNm': 'LG화학', 'beginBasDt': '20200101', 'endBasDt': '20240404'}\n"
     ]
    }
   ],
   "source": [
    "df = pd.DataFrame()\n",
    "for i in range(1, request_cnt+1):\n",
    "    res = requests.get(url, params=get_params(max_numOfRows, i))\n",
    "    res.raise_for_status()\n",
    "    time.sleep(2)\n",
    "\n",
    "    if res.status_code == 200:\n",
    "        # json포맷 문자열을 파이썬의 딕셔너리로 변환\n",
    "        dictionary = json.loads(res.text)\n",
    "\n",
    "        # 'item'키에 해당하는 데이터를 데이터프레임으로 변환\n",
    "        df_temp = pd.json_normalize(dictionary['response']['body']['items']['item'])\n",
    "#         display(df_temp) # 불러오는거 찍어보기\n",
    "        df = pd.concat([df, df_temp])\n",
    "    else:\n",
    "        print('가져오기 실패')\n",
    "        break\n",
    "    "
   ]
  },
  {
   "cell_type": "code",
   "execution_count": 525,
   "id": "cf26c713",
   "metadata": {},
   "outputs": [],
   "source": [
    "# df"
   ]
  },
  {
   "cell_type": "code",
   "execution_count": 526,
   "id": "7d9284bd",
   "metadata": {},
   "outputs": [
    {
     "data": {
      "text/plain": [
       "(1051, 15)"
      ]
     },
     "execution_count": 526,
     "metadata": {},
     "output_type": "execute_result"
    }
   ],
   "source": [
    "df.shape"
   ]
  },
  {
   "cell_type": "code",
   "execution_count": 527,
   "id": "ee8f45ad",
   "metadata": {},
   "outputs": [],
   "source": [
    "# 엑셀로 저장\n",
    "df.to_excel('LG화학주가추세.xlsx', index=False)"
   ]
  },
  {
   "cell_type": "code",
   "execution_count": 528,
   "id": "fd8b06fc",
   "metadata": {},
   "outputs": [],
   "source": [
    "lg_stock_info = pd.read_excel('LG화학주가추세.xlsx')"
   ]
  },
  {
   "cell_type": "code",
   "execution_count": 529,
   "id": "271affed",
   "metadata": {},
   "outputs": [
    {
     "name": "stdout",
     "output_type": "stream",
     "text": [
      "<class 'pandas.core.frame.DataFrame'>\n",
      "RangeIndex: 1051 entries, 0 to 1050\n",
      "Data columns (total 15 columns):\n",
      " #   Column      Non-Null Count  Dtype  \n",
      "---  ------      --------------  -----  \n",
      " 0   basDt       1051 non-null   int64  \n",
      " 1   srtnCd      1051 non-null   int64  \n",
      " 2   isinCd      1051 non-null   object \n",
      " 3   itmsNm      1051 non-null   object \n",
      " 4   mrktCtg     1051 non-null   object \n",
      " 5   clpr        1051 non-null   int64  \n",
      " 6   vs          1051 non-null   int64  \n",
      " 7   fltRt       1051 non-null   float64\n",
      " 8   mkp         1051 non-null   int64  \n",
      " 9   hipr        1051 non-null   int64  \n",
      " 10  lopr        1051 non-null   int64  \n",
      " 11  trqu        1051 non-null   int64  \n",
      " 12  trPrc       1051 non-null   int64  \n",
      " 13  lstgStCnt   1051 non-null   int64  \n",
      " 14  mrktTotAmt  1051 non-null   int64  \n",
      "dtypes: float64(1), int64(11), object(3)\n",
      "memory usage: 123.3+ KB\n"
     ]
    }
   ],
   "source": [
    "lg_stock_info.info()"
   ]
  },
  {
   "cell_type": "code",
   "execution_count": 530,
   "id": "e0eaaa4d",
   "metadata": {},
   "outputs": [],
   "source": [
    "lg_stock_info['basDt'] = lg_stock_info['basDt'].map(lambda x: f'{str(x)[:4]}-{str(x)[4:6]}-{str(x)[6:]}')"
   ]
  },
  {
   "cell_type": "code",
   "execution_count": 531,
   "id": "e69c8d09",
   "metadata": {},
   "outputs": [],
   "source": [
    "lg_stock_info['basDt'] = pd.to_datetime(lg_stock_info['basDt'])"
   ]
  },
  {
   "cell_type": "code",
   "execution_count": 532,
   "id": "f238145c",
   "metadata": {},
   "outputs": [
    {
     "data": {
      "text/plain": [
       "basDt         datetime64[ns]\n",
       "srtnCd                 int64\n",
       "isinCd                object\n",
       "itmsNm                object\n",
       "mrktCtg               object\n",
       "clpr                   int64\n",
       "vs                     int64\n",
       "fltRt                float64\n",
       "mkp                    int64\n",
       "hipr                   int64\n",
       "lopr                   int64\n",
       "trqu                   int64\n",
       "trPrc                  int64\n",
       "lstgStCnt              int64\n",
       "mrktTotAmt             int64\n",
       "dtype: object"
      ]
     },
     "execution_count": 532,
     "metadata": {},
     "output_type": "execute_result"
    }
   ],
   "source": [
    "lg_stock_info.dtypes"
   ]
  },
  {
   "cell_type": "code",
   "execution_count": 533,
   "id": "e71b8934",
   "metadata": {},
   "outputs": [
    {
     "data": {
      "text/html": [
       "<div>\n",
       "<style scoped>\n",
       "    .dataframe tbody tr th:only-of-type {\n",
       "        vertical-align: middle;\n",
       "    }\n",
       "\n",
       "    .dataframe tbody tr th {\n",
       "        vertical-align: top;\n",
       "    }\n",
       "\n",
       "    .dataframe thead th {\n",
       "        text-align: right;\n",
       "    }\n",
       "</style>\n",
       "<table border=\"1\" class=\"dataframe\">\n",
       "  <thead>\n",
       "    <tr style=\"text-align: right;\">\n",
       "      <th></th>\n",
       "      <th>basDt</th>\n",
       "      <th>srtnCd</th>\n",
       "      <th>isinCd</th>\n",
       "      <th>itmsNm</th>\n",
       "      <th>mrktCtg</th>\n",
       "      <th>clpr</th>\n",
       "      <th>vs</th>\n",
       "      <th>fltRt</th>\n",
       "      <th>mkp</th>\n",
       "      <th>hipr</th>\n",
       "      <th>lopr</th>\n",
       "      <th>trqu</th>\n",
       "      <th>trPrc</th>\n",
       "      <th>lstgStCnt</th>\n",
       "      <th>mrktTotAmt</th>\n",
       "    </tr>\n",
       "  </thead>\n",
       "  <tbody>\n",
       "    <tr>\n",
       "      <th>0</th>\n",
       "      <td>2024-04-03</td>\n",
       "      <td>51910</td>\n",
       "      <td>KR7051910008</td>\n",
       "      <td>LG화학</td>\n",
       "      <td>KOSPI</td>\n",
       "      <td>403000</td>\n",
       "      <td>-21000</td>\n",
       "      <td>-4.95</td>\n",
       "      <td>416000</td>\n",
       "      <td>418500</td>\n",
       "      <td>400500</td>\n",
       "      <td>479871</td>\n",
       "      <td>194455220500</td>\n",
       "      <td>70592343</td>\n",
       "      <td>28448714229000</td>\n",
       "    </tr>\n",
       "  </tbody>\n",
       "</table>\n",
       "</div>"
      ],
      "text/plain": [
       "       basDt  srtnCd        isinCd itmsNm mrktCtg    clpr     vs  fltRt  \\\n",
       "0 2024-04-03   51910  KR7051910008   LG화학   KOSPI  403000 -21000  -4.95   \n",
       "\n",
       "      mkp    hipr    lopr    trqu         trPrc  lstgStCnt      mrktTotAmt  \n",
       "0  416000  418500  400500  479871  194455220500   70592343  28448714229000  "
      ]
     },
     "execution_count": 533,
     "metadata": {},
     "output_type": "execute_result"
    }
   ],
   "source": [
    "lg_stock_info.head(1)"
   ]
  },
  {
   "cell_type": "code",
   "execution_count": 543,
   "id": "f7a04864",
   "metadata": {},
   "outputs": [
    {
     "data": {
      "image/png": "[encoded data removed]",
      "text/plain": [
       "<Figure size 1000x600 with 1 Axes>"
      ]
     },
     "metadata": {},
     "output_type": "display_data"
    }
   ],
   "source": [
    "from matplotlib.ticker import FuncFormatter\n",
    "\n",
    "plt.figure(figsize=(10, 6))\n",
    "plt.plot(lg_stock_info['basDt'], lg_stock_info['clpr'])\n",
    "\n",
    "plt.gca().yaxis.set_major_formatter(FuncFormatter(lambda x, _: '{:,}'.format(x)))\n",
    "\n",
    "plt.title('LG화학 일별 종가 변동')\n",
    "plt.xlabel('날짜')\n",
    "plt.ylabel('종가', rotation='horizontal')\n",
    "plt.xticks(rotation=45)\n",
    "plt.grid(True)\n",
    "plt.show()"
   ]
  },
  {
   "cell_type": "code",
   "execution_count": null,
   "id": "915725b7",
   "metadata": {},
   "outputs": [],
   "source": []
  }
 ],
 "metadata": {
  "kernelspec": {
   "display_name": "Python 3 (ipykernel)",
   "language": "python",
   "name": "python3"
  },
  "language_info": {
   "codemirror_mode": {
    "name": "ipython",
    "version": 3
   },
   "file_extension": ".py",
   "mimetype": "text/x-python",
   "name": "python",
   "nbconvert_exporter": "python",
   "pygments_lexer": "ipython3",
   "version": "3.11.5"
  },
  "toc": {
   "base_numbering": 1,
   "nav_menu": {},
   "number_sections": true,
   "sideBar": true,
   "skip_h1_title": false,
   "title_cell": "Table of Contents",
   "title_sidebar": "Contents",
   "toc_cell": false,
   "toc_position": {},
   "toc_section_display": true,
   "toc_window_display": false
  },
  "varInspector": {
   "cols": {
    "lenName": 16,
    "lenType": 16,
    "lenVar": 40
   },
   "kernels_config": {
    "python": {
     "delete_cmd_postfix": "",
     "delete_cmd_prefix": "del ",
     "library": "var_list.py",
     "varRefreshCmd": "print(var_dic_list())"
    },
    "r": {
     "delete_cmd_postfix": ") ",
     "delete_cmd_prefix": "rm(",
     "library": "var_list.r",
     "varRefreshCmd": "cat(var_dic_list()) "
    }
   },
   "types_to_exclude": [
    "module",
    "function",
    "builtin_function_or_method",
    "instance",
    "_Feature"
   ],
   "window_display": false
  }
 },
 "nbformat": 4,
 "nbformat_minor": 5
}
