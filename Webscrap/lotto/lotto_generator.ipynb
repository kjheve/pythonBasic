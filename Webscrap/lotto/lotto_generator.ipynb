{
 "cells": [
  {
   "cell_type": "markdown",
   "id": "e347f69d",
   "metadata": {},
   "source": [
    "## Selenium Import"
   ]
  },
  {
   "cell_type": "code",
   "execution_count": 55,
   "id": "18093d61",
   "metadata": {},
   "outputs": [],
   "source": [
    "# selenium 라이브러리에서 webdriver 모듈 임포트, 웹 브라우저를 자동으로 제어하기 위한 기능을 제공\n",
    "from selenium import webdriver\n",
    "# 크롬 웹드라이버를 위한 서비스 객체를 사용하기 위해 Service 모듈 임포트\n",
    "from selenium.webdriver.chrome.service import Service\n",
    "# 크롬 드라이버의 자동 업데이트를 위해 webdriver_manager에서 ChromeDriverManager를 임포트\n",
    "from webdriver_manager.chrome import ChromeDriverManager\n",
    "# 크롬 옵션을 설정하기 위한 Options 모듈을 임포트 일반적으로 브라우저의 특정 옵션을 설정할 때 사용\n",
    "from selenium.webdriver.chrome.options import Options\n",
    "# html요소 접근\n",
    "from selenium.webdriver.common.by import By\n",
    "from selenium.webdriver.common.keys import Keys\n",
    "\n",
    "import time\n",
    "import pyautogui\n",
    "\n",
    "# 크롬 브라우저 꺼짐 방지\n",
    "chrome_options = Options()\n",
    "chrome_options.add_experimental_option(\"detach\",True)\n",
    "# 불필요한 에레 메세지 제거\n",
    "chrome_options.add_experimental_option(\"excludeSwitches\",[\"enable-logging\"])\n",
    "\n",
    "from bs4 import BeautifulSoup\n",
    "import pandas as pd"
   ]
  },
  {
   "cell_type": "markdown",
   "id": "5a59f4d0",
   "metadata": {},
   "source": [
    "### 크롬 실행"
   ]
  },
  {
   "cell_type": "code",
   "execution_count": 56,
   "id": "393d1a39",
   "metadata": {},
   "outputs": [],
   "source": [
    "# ChromeDriverManager를 사용해 버전에 맞는 웹드라이버를 다운로드하여 해당 경로를 셀레니움에 전달\n",
    "driver = webdriver.Chrome(service=Service(ChromeDriverManager().install()), options=chrome_options)\n",
    "# 웹페이지가 로딩될대까지 5초대기\n",
    "driver.implicitly_wait(5)\n",
    "# 브라우저 크기 최대화\n",
    "driver.maximize_window()"
   ]
  },
  {
   "cell_type": "markdown",
   "id": "3b20a445",
   "metadata": {},
   "source": [
    "### 시작 페이지"
   ]
  },
  {
   "cell_type": "code",
   "execution_count": 57,
   "id": "fa85e134",
   "metadata": {},
   "outputs": [],
   "source": [
    "url = 'https://dhlottery.co.kr/gameResult.do?method=byWin'\n",
    "driver.get(url)"
   ]
  },
  {
   "attachments": {
    "image-2.png": {
     "image/png": "[encoded data removed]"
    }
   },
   "cell_type": "markdown",
   "id": "1974c886",
   "metadata": {},
   "source": [
    "### 웹페이지에서 그림과 같이 수행하기\n",
    "![image-2.png](attachment:image-2.png)"
   ]
  },
  {
   "cell_type": "code",
   "execution_count": 58,
   "id": "e0bdc3cf",
   "metadata": {},
   "outputs": [],
   "source": [
    "start = driver.find_element(By.CSS_SELECTOR, '#drwNoStart')\n",
    "start.click()\n",
    "time.sleep(1)\n",
    "pyautogui.press('END') # END키 누르기\n",
    "time.sleep(1)\n",
    "start.click()"
   ]
  },
  {
   "cell_type": "code",
   "execution_count": 59,
   "id": "3dba8a9c",
   "metadata": {},
   "outputs": [],
   "source": [
    "end = driver.find_element(By.CSS_SELECTOR, '#drwNoEnd')\n",
    "end.click()\n",
    "time.sleep(1)\n",
    "pyautogui.press('HOME') # HOME키 누르기\n",
    "time.sleep(1)\n",
    "end.click()"
   ]
  },
  {
   "cell_type": "markdown",
   "id": "3f436a11",
   "metadata": {},
   "source": [
    "### 엑셀 다운로드 버튼 클릭"
   ]
  },
  {
   "cell_type": "code",
   "execution_count": 60,
   "id": "35563d02",
   "metadata": {},
   "outputs": [],
   "source": [
    "downloadBtn = driver.find_element(By.CSS_SELECTOR, '#exelBtn')\n",
    "downloadBtn.click()\n",
    "time.sleep(2)"
   ]
  },
  {
   "cell_type": "markdown",
   "id": "608de544",
   "metadata": {},
   "source": [
    "### 다운로드 받은 엑셀 파일 경로"
   ]
  },
  {
   "cell_type": "code",
   "execution_count": 61,
   "id": "c497001d",
   "metadata": {},
   "outputs": [],
   "source": [
    "xls_file_path = 'C:\\\\Users\\\\kh502\\\\Downloads\\\\excel.xls'"
   ]
  },
  {
   "cell_type": "markdown",
   "id": "ea390d33",
   "metadata": {},
   "source": [
    "### 파일 열기"
   ]
  },
  {
   "cell_type": "code",
   "execution_count": 62,
   "id": "1e149155",
   "metadata": {},
   "outputs": [],
   "source": [
    "with open(xls_file_path, 'r', encoding='EUC-KR') as file:\n",
    "    html_content = file.read()"
   ]
  },
  {
   "cell_type": "markdown",
   "id": "ab1e3fce",
   "metadata": {},
   "source": [
    "### BeautifulSoup으로 parser"
   ]
  },
  {
   "cell_type": "code",
   "execution_count": 63,
   "id": "e39d61a3",
   "metadata": {},
   "outputs": [],
   "source": [
    "soup = BeautifulSoup(html_content, 'html.parser')"
   ]
  },
  {
   "cell_type": "markdown",
   "id": "163ec568",
   "metadata": {},
   "source": [
    "### DataFrame으로 변환 후 저장"
   ]
  },
  {
   "cell_type": "code",
   "execution_count": 64,
   "id": "32cb86ad",
   "metadata": {},
   "outputs": [],
   "source": [
    "# str(soup) : BeautifulSoup 객체를 문자열로 변환합니다.\n",
    "# pd.read_html() : HTML 테이블을 DataFrame으로 읽어오기\n",
    "tables = pd.read_html(str(soup))\n",
    "\n",
    "df = tables[1].iloc[2:]\n",
    "df.columns = tables[1].iloc[1]\n",
    "df.to_excel('D:\\\\kdit\\\\myjupyter\\Webscrap\\\\lotto\\\\data_generator\\\\lotto.xlsx', index=False) # 저장하기"
   ]
  },
  {
   "cell_type": "code",
   "execution_count": 65,
   "id": "78c6c425",
   "metadata": {},
   "outputs": [
    {
     "data": {
      "text/plain": [
       "(1113, 20)"
      ]
     },
     "execution_count": 65,
     "metadata": {},
     "output_type": "execute_result"
    }
   ],
   "source": [
    "df.shape"
   ]
  },
  {
   "cell_type": "markdown",
   "id": "a656dec0",
   "metadata": {},
   "source": [
    "### Selenium 종료"
   ]
  },
  {
   "cell_type": "code",
   "execution_count": 66,
   "id": "60115b31",
   "metadata": {},
   "outputs": [],
   "source": [
    "# 현재 포커스된 창만 닫기\n",
    "# driver.close()\n",
    "\n",
    "# 웹드라이버와 함께 연결된 모든 창을 닫고 셀레니엄 세션을 완전히 종료\n",
    "driver.quit()"
   ]
  },
  {
   "cell_type": "markdown",
   "id": "865ab967",
   "metadata": {},
   "source": [
    "## 데이터 분석 및 로또 생성"
   ]
  },
  {
   "cell_type": "markdown",
   "id": "3127ade4",
   "metadata": {},
   "source": [
    "### 저장한 파일 읽기"
   ]
  },
  {
   "cell_type": "code",
   "execution_count": 67,
   "id": "811a5044",
   "metadata": {},
   "outputs": [],
   "source": [
    "df = pd.read_excel('D:\\\\kdit\\\\myjupyter\\Webscrap\\\\lotto\\\\data_generator\\\\lotto.xlsx')"
   ]
  },
  {
   "cell_type": "markdown",
   "id": "c200a21a",
   "metadata": {},
   "source": [
    "### 필요한 컬럼만 가져오기 (과거 당첨 로또 번호 6자리 목록)"
   ]
  },
  {
   "cell_type": "code",
   "execution_count": 77,
   "id": "25dabd85",
   "metadata": {},
   "outputs": [],
   "source": [
    "past_lotto_number_list = df.iloc[:, -7:-1]"
   ]
  },
  {
   "cell_type": "markdown",
   "id": "90af925a",
   "metadata": {},
   "source": [
    "### 각 열의 가중치 계산"
   ]
  },
  {
   "cell_type": "code",
   "execution_count": 79,
   "id": "7206eafa",
   "metadata": {},
   "outputs": [],
   "source": [
    "weights = [ past_lotto_number_list[str(i)].value_counts(normalize=True) for i in range(1, 6+1) ]"
   ]
  },
  {
   "cell_type": "markdown",
   "id": "8a4104a1",
   "metadata": {},
   "source": [
    "### generate_numbers 함수"
   ]
  },
  {
   "cell_type": "code",
   "execution_count": 113,
   "id": "bb1f52da",
   "metadata": {},
   "outputs": [],
   "source": [
    "def generate_numbers(past_lotto_number_list, weights):\n",
    "    dupCnt = 0\n",
    "    \n",
    "    while True:\n",
    "        # 가중치를 반영한 로또 번호 생성\n",
    "        numbers = sorted([ np.random.choice(i.index, p=i.values) for i in weights ])\n",
    "        # 중복 (과거 당첨 번호)\n",
    "        if not any((past_lotto_number_list == numbers).all(axis=1)):\n",
    "            return numbers\n",
    "        else:\n",
    "            dupCnt += 1\n",
    "            print(f'중복 {dupCnt}')\n",
    "    \n",
    "# numbers = []\n",
    "# for i in weights:\n",
    "#     choice = np.random.choice(i.index, p=i.values)\n",
    "#     numbers.append(choice)"
   ]
  },
  {
   "cell_type": "markdown",
   "id": "22a8f407",
   "metadata": {},
   "source": [
    "### 사용자에게 로또번호 추출 횟수 입력받기"
   ]
  },
  {
   "cell_type": "code",
   "execution_count": 114,
   "id": "a060b844",
   "metadata": {},
   "outputs": [
    {
     "name": "stdout",
     "output_type": "stream",
     "text": [
      "로또번호 몇개를 생성할까요? : 100\n"
     ]
    }
   ],
   "source": [
    "# cnt = int(input('로또번호 몇개를 생성할까요? : '))\n",
    "cnt = 5"
   ]
  },
  {
   "cell_type": "markdown",
   "id": "949a3102",
   "metadata": {},
   "source": [
    "### 횟수 입력 받은거 출력"
   ]
  },
  {
   "cell_type": "code",
   "execution_count": 115,
   "id": "d1b5224b",
   "metadata": {},
   "outputs": [
    {
     "name": "stdout",
     "output_type": "stream",
     "text": [
      "1번째 추출된 번호 : [1, 4, 17, 20, 41, 45]\n",
      "2번째 추출된 번호 : [10, 12, 19, 27, 31, 44]\n",
      "3번째 추출된 번호 : [17, 20, 20, 24, 31, 43]\n",
      "4번째 추출된 번호 : [3, 26, 26, 33, 34, 35]\n",
      "5번째 추출된 번호 : [11, 12, 13, 15, 31, 44]\n",
      "6번째 추출된 번호 : [5, 7, 14, 29, 34, 41]\n",
      "7번째 추출된 번호 : [1, 15, 15, 32, 35, 43]\n",
      "8번째 추출된 번호 : [2, 15, 30, 34, 37, 45]\n",
      "9번째 추출된 번호 : [2, 3, 19, 20, 25, 39]\n",
      "10번째 추출된 번호 : [17, 18, 25, 27, 28, 39]\n",
      "11번째 추출된 번호 : [6, 17, 27, 29, 33, 35]\n",
      "12번째 추출된 번호 : [1, 16, 29, 29, 31, 38]\n",
      "13번째 추출된 번호 : [1, 14, 17, 22, 39, 44]\n",
      "14번째 추출된 번호 : [3, 16, 22, 29, 38, 40]\n",
      "15번째 추출된 번호 : [4, 11, 13, 30, 33, 36]\n",
      "16번째 추출된 번호 : [1, 18, 24, 26, 28, 40]\n",
      "17번째 추출된 번호 : [6, 12, 20, 25, 35, 44]\n",
      "18번째 추출된 번호 : [3, 16, 27, 33, 34, 45]\n",
      "19번째 추출된 번호 : [4, 15, 19, 19, 39, 40]\n",
      "20번째 추출된 번호 : [1, 11, 19, 20, 33, 42]\n",
      "21번째 추출된 번호 : [4, 8, 15, 21, 29, 45]\n",
      "22번째 추출된 번호 : [8, 15, 27, 35, 38, 42]\n",
      "23번째 추출된 번호 : [1, 5, 23, 25, 41, 41]\n",
      "24번째 추출된 번호 : [2, 14, 16, 32, 33, 37]\n",
      "25번째 추출된 번호 : [1, 8, 11, 21, 38, 42]\n",
      "26번째 추출된 번호 : [2, 2, 29, 37, 41, 41]\n",
      "27번째 추출된 번호 : [10, 12, 21, 29, 29, 45]\n",
      "28번째 추출된 번호 : [10, 12, 12, 13, 35, 40]\n",
      "29번째 추출된 번호 : [1, 8, 19, 35, 37, 44]\n",
      "30번째 추출된 번호 : [1, 20, 22, 34, 38, 41]\n",
      "31번째 추출된 번호 : [4, 12, 19, 36, 39, 43]\n",
      "32번째 추출된 번호 : [7, 10, 33, 35, 35, 39]\n",
      "33번째 추출된 번호 : [2, 11, 30, 34, 35, 41]\n",
      "34번째 추출된 번호 : [3, 3, 17, 32, 36, 39]\n",
      "35번째 추출된 번호 : [3, 7, 15, 32, 33, 40]\n",
      "36번째 추출된 번호 : [3, 19, 20, 33, 39, 44]\n",
      "37번째 추출된 번호 : [4, 15, 15, 19, 33, 42]\n",
      "38번째 추출된 번호 : [12, 16, 24, 35, 36, 40]\n",
      "39번째 추출된 번호 : [2, 7, 17, 22, 33, 37]\n",
      "40번째 추출된 번호 : [5, 8, 19, 27, 38, 45]\n",
      "41번째 추출된 번호 : [1, 7, 8, 17, 39, 43]\n",
      "42번째 추출된 번호 : [12, 17, 21, 22, 34, 41]\n",
      "43번째 추출된 번호 : [19, 20, 23, 23, 40, 44]\n",
      "44번째 추출된 번호 : [13, 18, 24, 25, 27, 33]\n",
      "45번째 추출된 번호 : [3, 22, 22, 24, 38, 43]\n",
      "46번째 추출된 번호 : [12, 23, 25, 26, 31, 40]\n",
      "47번째 추출된 번호 : [1, 12, 22, 27, 30, 45]\n",
      "48번째 추출된 번호 : [1, 15, 18, 20, 31, 32]\n",
      "49번째 추출된 번호 : [4, 11, 11, 27, 41, 45]\n",
      "50번째 추출된 번호 : [15, 17, 18, 34, 35, 37]\n",
      "51번째 추출된 번호 : [1, 6, 14, 27, 43, 44]\n",
      "52번째 추출된 번호 : [1, 10, 12, 34, 37, 45]\n",
      "53번째 추출된 번호 : [1, 8, 17, 25, 32, 33]\n",
      "54번째 추출된 번호 : [3, 20, 20, 26, 35, 39]\n",
      "55번째 추출된 번호 : [1, 18, 22, 25, 30, 40]\n",
      "56번째 추출된 번호 : [3, 5, 22, 23, 30, 31]\n",
      "57번째 추출된 번호 : [2, 5, 5, 32, 39, 45]\n",
      "58번째 추출된 번호 : [4, 11, 19, 24, 26, 44]\n",
      "59번째 추출된 번호 : [2, 3, 25, 35, 36, 41]\n",
      "60번째 추출된 번호 : [4, 8, 14, 16, 33, 38]\n",
      "61번째 추출된 번호 : [5, 10, 18, 24, 27, 35]\n",
      "62번째 추출된 번호 : [2, 17, 19, 28, 28, 30]\n",
      "63번째 추출된 번호 : [2, 4, 14, 37, 40, 41]\n",
      "64번째 추출된 번호 : [10, 19, 19, 28, 39, 43]\n",
      "65번째 추출된 번호 : [1, 7, 13, 22, 27, 38]\n",
      "66번째 추출된 번호 : [1, 16, 23, 27, 35, 45]\n",
      "67번째 추출된 번호 : [3, 7, 20, 21, 35, 38]\n",
      "68번째 추출된 번호 : [4, 12, 18, 28, 35, 40]\n",
      "69번째 추출된 번호 : [3, 5, 11, 22, 33, 38]\n",
      "70번째 추출된 번호 : [4, 13, 14, 26, 34, 43]\n",
      "71번째 추출된 번호 : [4, 15, 26, 29, 30, 45]\n",
      "72번째 추출된 번호 : [11, 13, 24, 27, 32, 44]\n",
      "73번째 추출된 번호 : [4, 8, 22, 29, 35, 45]\n",
      "74번째 추출된 번호 : [4, 12, 26, 34, 35, 44]\n",
      "75번째 추출된 번호 : [16, 16, 20, 21, 32, 39]\n",
      "76번째 추출된 번호 : [3, 19, 22, 28, 40, 45]\n",
      "77번째 추출된 번호 : [1, 17, 19, 22, 29, 41]\n",
      "78번째 추출된 번호 : [7, 10, 13, 21, 30, 41]\n",
      "79번째 추출된 번호 : [3, 11, 17, 26, 31, 39]\n",
      "80번째 추출된 번호 : [4, 14, 18, 32, 33, 34]\n",
      "81번째 추출된 번호 : [3, 6, 16, 25, 38, 42]\n",
      "82번째 추출된 번호 : [4, 5, 14, 30, 41, 43]\n",
      "83번째 추출된 번호 : [8, 9, 27, 29, 34, 38]\n",
      "84번째 추출된 번호 : [7, 12, 13, 27, 38, 38]\n",
      "85번째 추출된 번호 : [1, 9, 14, 34, 39, 41]\n",
      "86번째 추출된 번호 : [8, 17, 20, 33, 37, 37]\n",
      "87번째 추출된 번호 : [4, 8, 31, 35, 37, 37]\n",
      "88번째 추출된 번호 : [2, 16, 21, 31, 33, 39]\n",
      "89번째 추출된 번호 : [10, 20, 21, 27, 39, 43]\n",
      "90번째 추출된 번호 : [11, 16, 18, 25, 39, 39]\n",
      "91번째 추출된 번호 : [1, 11, 25, 31, 36, 43]\n",
      "92번째 추출된 번호 : [12, 13, 14, 23, 36, 39]\n",
      "93번째 추출된 번호 : [2, 8, 19, 21, 26, 42]\n",
      "94번째 추출된 번호 : [3, 8, 15, 36, 38, 42]\n",
      "95번째 추출된 번호 : [5, 15, 27, 33, 35, 41]\n",
      "96번째 추출된 번호 : [3, 16, 24, 30, 34, 38]\n",
      "97번째 추출된 번호 : [3, 11, 17, 28, 34, 43]\n",
      "98번째 추출된 번호 : [11, 12, 19, 19, 30, 36]\n",
      "99번째 추출된 번호 : [4, 4, 26, 32, 34, 44]\n",
      "100번째 추출된 번호 : [3, 10, 11, 13, 32, 45]\n"
     ]
    }
   ],
   "source": [
    "for i in range(cnt):\n",
    "    number = generate_numbers(past_lotto_number_list, weights)\n",
    "    print(f'{i+1}번째 추출된 번호 : {number}')"
   ]
  },
  {
   "cell_type": "code",
   "execution_count": null,
   "id": "93861398",
   "metadata": {},
   "outputs": [],
   "source": []
  }
 ],
 "metadata": {
  "kernelspec": {
   "display_name": "Python 3 (ipykernel)",
   "language": "python",
   "name": "python3"
  },
  "language_info": {
   "codemirror_mode": {
    "name": "ipython",
    "version": 3
   },
   "file_extension": ".py",
   "mimetype": "text/x-python",
   "name": "python",
   "nbconvert_exporter": "python",
   "pygments_lexer": "ipython3",
   "version": "3.11.5"
  },
  "toc": {
   "base_numbering": 1,
   "nav_menu": {},
   "number_sections": true,
   "sideBar": true,
   "skip_h1_title": false,
   "title_cell": "Table of Contents",
   "title_sidebar": "Contents",
   "toc_cell": false,
   "toc_position": {},
   "toc_section_display": true,
   "toc_window_display": false
  },
  "varInspector": {
   "cols": {
    "lenName": 16,
    "lenType": 16,
    "lenVar": 40
   },
   "kernels_config": {
    "python": {
     "delete_cmd_postfix": "",
     "delete_cmd_prefix": "del ",
     "library": "var_list.py",
     "varRefreshCmd": "print(var_dic_list())"
    },
    "r": {
     "delete_cmd_postfix": ") ",
     "delete_cmd_prefix": "rm(",
     "library": "var_list.r",
     "varRefreshCmd": "cat(var_dic_list()) "
    }
   },
   "types_to_exclude": [
    "module",
    "function",
    "builtin_function_or_method",
    "instance",
    "_Feature"
   ],
   "window_display": false
  }
 },
 "nbformat": 4,
 "nbformat_minor": 5
}
