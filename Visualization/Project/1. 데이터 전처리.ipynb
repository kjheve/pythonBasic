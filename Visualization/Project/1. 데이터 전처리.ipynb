{
 "cells": [
  {
   "cell_type": "markdown",
   "id": "1f62d9fc",
   "metadata": {},
   "source": [
    "**전국 반려동물 시설 분석**\n",
    "***"
   ]
  },
  {
   "cell_type": "markdown",
   "id": "00c94a10",
   "metadata": {},
   "source": [
    "## 데이터 분석과 시각화를 위한 설정"
   ]
  },
  {
   "cell_type": "code",
   "execution_count": 17,
   "id": "b665a841",
   "metadata": {},
   "outputs": [],
   "source": [
    "import pandas as pd                # 데이터 분석을 위해 pandas\n",
    "import numpy as np                 # 수치계산을 위해 numpy\n",
    "import matplotlib.pyplot as plt    # 시각화를 위해 mapplotlib, seaborn를 불러온다.\n",
    "import seaborn as sns\n",
    "import folium                      # 지도 시각화를 위한 라이브러리\n",
    "import json\n"
   ]
  },
  {
   "cell_type": "code",
   "execution_count": 18,
   "id": "e73f232e",
   "metadata": {},
   "outputs": [],
   "source": [
    "# 한글 설정 & 마이너스 표시\n",
    "plt.rc('font', family='Malgun Gothic')\n",
    "plt.rc('axes', unicode_minus=False)"
   ]
  },
  {
   "cell_type": "markdown",
   "id": "df0b5aea",
   "metadata": {},
   "source": [
    "## 파일 열기\n",
    "공공데이터포털 : 한국문화정보원_전국 반려동물 동반 가능 문화시설 위치 데이터"
   ]
  },
  {
   "cell_type": "code",
   "execution_count": 19,
   "id": "3f5a8b1d",
   "metadata": {},
   "outputs": [],
   "source": [
    "# CSV 파일 읽기\n",
    "df = pd.read_csv('data/data.csv', encoding='cp949')"
   ]
  },
  {
   "cell_type": "markdown",
   "id": "e38d52a9",
   "metadata": {},
   "source": [
    "## 데이터 전처리"
   ]
  },
  {
   "cell_type": "code",
   "execution_count": null,
   "id": "fbdaa1bc",
   "metadata": {},
   "outputs": [],
   "source": [
    "# df.info()"
   ]
  },
  {
   "cell_type": "code",
   "execution_count": 20,
   "id": "d5cd1c5f",
   "metadata": {},
   "outputs": [
    {
     "data": {
      "text/plain": [
       "시설명                 0\n",
       "카테고리1               0\n",
       "카테고리2               0\n",
       "카테고리3               0\n",
       "시도 명칭               0\n",
       "시군구 명칭            145\n",
       "법정읍면동명칭            44\n",
       "리 명칭            19134\n",
       "번지                 57\n",
       "도로명 이름            306\n",
       "건물 번호             306\n",
       "위도                  0\n",
       "경도                  0\n",
       "우편번호               72\n",
       "도로명주소             306\n",
       "지번주소                0\n",
       "전화번호                0\n",
       "홈페이지                0\n",
       "휴무일                 0\n",
       "운영시간                0\n",
       "주차 가능여부             0\n",
       "입장(이용료)가격 정보        0\n",
       "반려동물 동반 가능정보        0\n",
       "반려동물 전용 정보          0\n",
       "입장 가능 동물 크기         0\n",
       "반려동물 제한사항           0\n",
       "장소(실내) 여부           0\n",
       "장소(실외)여부            0\n",
       "기본 정보_장소설명          0\n",
       "애견 동반 추가 요금         0\n",
       "최종작성일               0\n",
       "dtype: int64"
      ]
     },
     "execution_count": 20,
     "metadata": {},
     "output_type": "execute_result"
    }
   ],
   "source": [
    "# 결측치확인\n",
    "df.isnull().sum()"
   ]
  },
  {
   "cell_type": "markdown",
   "id": "08fff127",
   "metadata": {},
   "source": [
    "### 데이터 확인"
   ]
  },
  {
   "cell_type": "code",
   "execution_count": 21,
   "id": "5f70d822",
   "metadata": {},
   "outputs": [
    {
     "data": {
      "text/plain": [
       "Index(['시설명', '카테고리1', '카테고리2', '카테고리3', '시도 명칭', '시군구 명칭', '법정읍면동명칭', '리 명칭',\n",
       "       '번지', '도로명 이름', '건물 번호', '위도', '경도', '우편번호', '도로명주소', '지번주소', '전화번호',\n",
       "       '홈페이지', '휴무일', '운영시간', '주차 가능여부', '입장(이용료)가격 정보', '반려동물 동반 가능정보',\n",
       "       '반려동물 전용 정보', '입장 가능 동물 크기', '반려동물 제한사항', '장소(실내) 여부', '장소(실외)여부',\n",
       "       '기본 정보_장소설명', '애견 동반 추가 요금', '최종작성일'],\n",
       "      dtype='object')"
      ]
     },
     "execution_count": 21,
     "metadata": {},
     "output_type": "execute_result"
    }
   ],
   "source": [
    "df.columns"
   ]
  },
  {
   "cell_type": "code",
   "execution_count": 22,
   "id": "b1854637",
   "metadata": {},
   "outputs": [
    {
     "data": {
      "text/plain": [
       "array(['동물약국', '미술관', '카페', '동물병원', '반려동물용품', '미용', '문예회관', '펜션', '식당',\n",
       "       '여행지', '위탁관리', '박물관', '호텔'], dtype=object)"
      ]
     },
     "execution_count": 22,
     "metadata": {},
     "output_type": "execute_result"
    }
   ],
   "source": [
    "df['카테고리3'].unique()"
   ]
  },
  {
   "cell_type": "code",
   "execution_count": 23,
   "id": "12936017",
   "metadata": {},
   "outputs": [
    {
     "data": {
      "text/plain": [
       "array(['경기도', '전라남도', '서울특별시', '인천광역시', '경상북도', '대구광역시', '세종특별자치시',\n",
       "       '전라북도', '경상남도', '강원도', '부산광역시', '광주광역시', '대전광역시', '충청북도',\n",
       "       '제주특별자치도', '충청남도', '울산광역시'], dtype=object)"
      ]
     },
     "execution_count": 23,
     "metadata": {},
     "output_type": "execute_result"
    }
   ],
   "source": [
    "df['시도 명칭'].unique()"
   ]
  },
  {
   "cell_type": "code",
   "execution_count": 24,
   "id": "4e82c98b",
   "metadata": {},
   "outputs": [],
   "source": [
    "# df['주차 가능여부'].unique()"
   ]
  },
  {
   "cell_type": "code",
   "execution_count": 25,
   "id": "f0f240cd",
   "metadata": {},
   "outputs": [],
   "source": [
    "# df['반려동물 동반 가능정보'].unique()"
   ]
  },
  {
   "cell_type": "code",
   "execution_count": 26,
   "id": "39ebd8a1",
   "metadata": {},
   "outputs": [
    {
     "data": {
      "text/plain": [
       "array(['해당없음', '반려동물 전용'], dtype=object)"
      ]
     },
     "execution_count": 26,
     "metadata": {},
     "output_type": "execute_result"
    }
   ],
   "source": [
    "df['반려동물 전용 정보'].unique()"
   ]
  },
  {
   "cell_type": "code",
   "execution_count": 27,
   "id": "2530f545",
   "metadata": {},
   "outputs": [],
   "source": [
    "# df['애견 동반 추가 요금'].unique()"
   ]
  },
  {
   "cell_type": "code",
   "execution_count": 28,
   "id": "d4253db9",
   "metadata": {},
   "outputs": [],
   "source": [
    "# df['입장 가능 동물 크기'].unique()"
   ]
  },
  {
   "cell_type": "code",
   "execution_count": 29,
   "id": "fa303904",
   "metadata": {},
   "outputs": [],
   "source": [
    "# df['반려동물 제한사항'].unique()"
   ]
  },
  {
   "cell_type": "code",
   "execution_count": 30,
   "id": "8a2743c7",
   "metadata": {},
   "outputs": [],
   "source": [
    "# df['카테고리1'].unique()"
   ]
  },
  {
   "cell_type": "code",
   "execution_count": 31,
   "id": "621624f2",
   "metadata": {},
   "outputs": [],
   "source": [
    "# df['카테고리2'].unique()"
   ]
  },
  {
   "cell_type": "markdown",
   "id": "d64e6c8d",
   "metadata": {},
   "source": [
    "### 동반 가능한 곳만 데이터 추려내기"
   ]
  },
  {
   "cell_type": "code",
   "execution_count": 32,
   "id": "dc5110e5",
   "metadata": {},
   "outputs": [
    {
     "data": {
      "text/plain": [
       "(23929, 31)"
      ]
     },
     "execution_count": 32,
     "metadata": {},
     "output_type": "execute_result"
    }
   ],
   "source": [
    "df.shape"
   ]
  },
  {
   "cell_type": "code",
   "execution_count": 33,
   "id": "28e674da",
   "metadata": {},
   "outputs": [
    {
     "data": {
      "text/plain": [
       "(21139, 31)"
      ]
     },
     "execution_count": 33,
     "metadata": {},
     "output_type": "execute_result"
    }
   ],
   "source": [
    "filter = df['반려동물 동반 가능정보'] == '동반가능'\n",
    "df = df[filter]\n",
    "df.shape"
   ]
  },
  {
   "cell_type": "markdown",
   "id": "3bb17e6d",
   "metadata": {},
   "source": [
    "### 컬럼명 변경하고 사용하지 않는 데이터 제거"
   ]
  },
  {
   "cell_type": "code",
   "execution_count": 34,
   "id": "aec2e25a",
   "metadata": {},
   "outputs": [],
   "source": [
    "# 필요한 데이터만 가져올 컬럼명\n",
    "columns = ['시설명', '시도 명칭', '시군구 명칭', '카테고리3', '위도', '경도', '도로명주소',\n",
    "            '지번주소', '전화번호', '홈페이지', '휴무일', '운영시간',\n",
    "            '주차 가능여부', '입장(이용료)가격 정보', '입장 가능 동물 크기',\n",
    "            '반려동물 제한사항', '기본 정보_장소설명', '애견 동반 추가 요금']\n",
    "# columns"
   ]
  },
  {
   "cell_type": "code",
   "execution_count": 35,
   "id": "6a6f2e82",
   "metadata": {},
   "outputs": [],
   "source": [
    "# 필요한 데이터만 가져오기\n",
    "df = df[columns].copy()"
   ]
  },
  {
   "cell_type": "code",
   "execution_count": 36,
   "id": "3ca398e0",
   "metadata": {},
   "outputs": [
    {
     "data": {
      "text/plain": [
       "['시설명',\n",
       " '행정구역',\n",
       " '시군구',\n",
       " '시설분류',\n",
       " '위도',\n",
       " '경도',\n",
       " '도로명주소',\n",
       " '지번주소',\n",
       " '전화번호',\n",
       " '홈페이지',\n",
       " '휴무일',\n",
       " '운영시간',\n",
       " '주차가능여부',\n",
       " '이용료정보',\n",
       " '크기제한',\n",
       " '기타제한사항',\n",
       " '장소요약',\n",
       " '동반시추가요금']"
      ]
     },
     "execution_count": 36,
     "metadata": {},
     "output_type": "execute_result"
    }
   ],
   "source": [
    "# 새로운 컬럼 이름\n",
    "col_names = ['시설명', '행정구역', '시군구', '시설분류', '위도', '경도', '도로명주소',\n",
    "             '지번주소', '전화번호', '홈페이지', '휴무일', '운영시간',\n",
    "            '주차가능여부', '이용료정보', '크기제한', '기타제한사항',\n",
    "            '장소요약', '동반시추가요금']\n",
    "col_names"
   ]
  },
  {
   "cell_type": "code",
   "execution_count": 37,
   "id": "a864dd9c",
   "metadata": {},
   "outputs": [],
   "source": [
    "# 새로운 컬럼이름을 기존 컬럼에 덮어씌우기\n",
    "df.columns = col_names"
   ]
  },
  {
   "cell_type": "code",
   "execution_count": 38,
   "id": "127702dc",
   "metadata": {},
   "outputs": [
    {
     "data": {
      "text/html": [
       "<div>\n",
       "<style scoped>\n",
       "    .dataframe tbody tr th:only-of-type {\n",
       "        vertical-align: middle;\n",
       "    }\n",
       "\n",
       "    .dataframe tbody tr th {\n",
       "        vertical-align: top;\n",
       "    }\n",
       "\n",
       "    .dataframe thead th {\n",
       "        text-align: right;\n",
       "    }\n",
       "</style>\n",
       "<table border=\"1\" class=\"dataframe\">\n",
       "  <thead>\n",
       "    <tr style=\"text-align: right;\">\n",
       "      <th></th>\n",
       "      <th>시설명</th>\n",
       "      <th>행정구역</th>\n",
       "      <th>시군구</th>\n",
       "      <th>시설분류</th>\n",
       "      <th>위도</th>\n",
       "      <th>경도</th>\n",
       "      <th>도로명주소</th>\n",
       "      <th>지번주소</th>\n",
       "      <th>전화번호</th>\n",
       "      <th>홈페이지</th>\n",
       "      <th>휴무일</th>\n",
       "      <th>운영시간</th>\n",
       "      <th>주차가능여부</th>\n",
       "      <th>이용료정보</th>\n",
       "      <th>크기제한</th>\n",
       "      <th>기타제한사항</th>\n",
       "      <th>장소요약</th>\n",
       "      <th>동반시추가요금</th>\n",
       "    </tr>\n",
       "  </thead>\n",
       "  <tbody>\n",
       "    <tr>\n",
       "      <th>0</th>\n",
       "      <td>1004 약국</td>\n",
       "      <td>경기도</td>\n",
       "      <td>고양시 덕양구</td>\n",
       "      <td>동물약국</td>\n",
       "      <td>37.644543</td>\n",
       "      <td>126.886336</td>\n",
       "      <td>경기도 고양시 덕양구 동세로 19</td>\n",
       "      <td>경기도 고양시 덕양구 동산동 352-1</td>\n",
       "      <td>02-381-5052</td>\n",
       "      <td>정보없음</td>\n",
       "      <td>매주 토, 일, 법정공휴일</td>\n",
       "      <td>월~금 09:00~18:00</td>\n",
       "      <td>주차가능</td>\n",
       "      <td>변동</td>\n",
       "      <td>모두 가능</td>\n",
       "      <td>제한사항 없음</td>\n",
       "      <td>동물약국</td>\n",
       "      <td>없음</td>\n",
       "    </tr>\n",
       "  </tbody>\n",
       "</table>\n",
       "</div>"
      ],
      "text/plain": [
       "       시설명 행정구역      시군구  시설분류         위도          경도               도로명주소  \\\n",
       "0  1004 약국  경기도  고양시 덕양구  동물약국  37.644543  126.886336  경기도 고양시 덕양구 동세로 19   \n",
       "\n",
       "                    지번주소         전화번호  홈페이지             휴무일             운영시간  \\\n",
       "0  경기도 고양시 덕양구 동산동 352-1  02-381-5052  정보없음  매주 토, 일, 법정공휴일  월~금 09:00~18:00   \n",
       "\n",
       "  주차가능여부 이용료정보   크기제한   기타제한사항  장소요약 동반시추가요금  \n",
       "0   주차가능    변동  모두 가능  제한사항 없음  동물약국      없음  "
      ]
     },
     "execution_count": 38,
     "metadata": {},
     "output_type": "execute_result"
    }
   ],
   "source": [
    "df.head(1)"
   ]
  },
  {
   "cell_type": "code",
   "execution_count": 39,
   "id": "8c2214e2",
   "metadata": {},
   "outputs": [],
   "source": [
    "# df['행정구역'].describe()"
   ]
  },
  {
   "cell_type": "code",
   "execution_count": 40,
   "id": "0b49f71b",
   "metadata": {},
   "outputs": [],
   "source": [
    "# df['시설분류'].describe()"
   ]
  },
  {
   "cell_type": "code",
   "execution_count": 41,
   "id": "5e1f220d",
   "metadata": {},
   "outputs": [
    {
     "data": {
      "text/plain": [
       "array(['동물약국', '카페', '동물병원', '반려동물용품', '미용', '문예회관', '펜션', '식당', '여행지',\n",
       "       '위탁관리', '박물관', '미술관', '호텔'], dtype=object)"
      ]
     },
     "execution_count": 41,
     "metadata": {},
     "output_type": "execute_result"
    }
   ],
   "source": [
    "df['시설분류'].unique()"
   ]
  },
  {
   "cell_type": "code",
   "execution_count": 42,
   "id": "62ad1c68",
   "metadata": {},
   "outputs": [],
   "source": [
    "# df.dtypes"
   ]
  },
  {
   "cell_type": "markdown",
   "id": "d3ee0da9",
   "metadata": {},
   "source": [
    "### 중복확인"
   ]
  },
  {
   "cell_type": "code",
   "execution_count": 46,
   "id": "418c58ff",
   "metadata": {},
   "outputs": [
    {
     "data": {
      "text/plain": [
       "0"
      ]
     },
     "execution_count": 46,
     "metadata": {},
     "output_type": "execute_result"
    }
   ],
   "source": [
    "df.duplicated().sum()"
   ]
  },
  {
   "cell_type": "markdown",
   "id": "df7e360e",
   "metadata": {},
   "source": [
    "### 시설분류 단순화"
   ]
  },
  {
   "cell_type": "code",
   "execution_count": 44,
   "id": "456831b4",
   "metadata": {},
   "outputs": [
    {
     "data": {
      "text/plain": [
       "array(['동물약국', '카페', '동물병원', '반려동물용품', '미용', '문예회관', '펜션', '식당', '여행지',\n",
       "       '위탁관리', '박물관', '미술관', '호텔'], dtype=object)"
      ]
     },
     "execution_count": 44,
     "metadata": {},
     "output_type": "execute_result"
    }
   ],
   "source": [
    "df['시설분류'].unique()"
   ]
  },
  {
   "cell_type": "code",
   "execution_count": 47,
   "id": "6e0c8abc",
   "metadata": {
    "scrolled": true
   },
   "outputs": [
    {
     "data": {
      "text/plain": [
       "시설분류\n",
       "동물약국      8440\n",
       "동물병원      4486\n",
       "반려동물용품    3821\n",
       "미용        2004\n",
       "여행지        872\n",
       "카페         795\n",
       "펜션         407\n",
       "박물관        215\n",
       "위탁관리        61\n",
       "미술관         19\n",
       "식당          14\n",
       "문예회관         4\n",
       "호텔           1\n",
       "Name: count, dtype: int64"
      ]
     },
     "execution_count": 47,
     "metadata": {},
     "output_type": "execute_result"
    }
   ],
   "source": [
    "df['시설분류'].value_counts()"
   ]
  },
  {
   "attachments": {
    "image.png": {
     "image/png": "[encoded data removed]"
    }
   },
   "cell_type": "markdown",
   "id": "c5233fca",
   "metadata": {},
   "source": [
    "![image.png](attachment:image.png)"
   ]
  },
  {
   "cell_type": "code",
   "execution_count": 48,
   "id": "bb83ddc9",
   "metadata": {},
   "outputs": [],
   "source": [
    "# 의료시설은 많아서 안합침\n",
    "# filt1 = df['시설분류'].isin(['동물약국', '동물병원'])\n",
    "# df.loc[filt1, '시설분류'] = '의료'\n",
    "filt2 = df['시설분류'].isin(['여행지', '박물관', '미술관', '문예회관'])\n",
    "df.loc[filt2, '시설분류'] = '문화'\n",
    "filt3 = df['시설분류'].isin(['펜션', '위탁관리', '호텔'])\n",
    "df.loc[filt3, '시설분류'] = '위탁및숙박'\n",
    "filt4 = df['시설분류'].isin(['카페', '식당'])\n",
    "df.loc[filt4, '시설분류'] = '카페및식당'\n",
    "\n",
    "# 시설분류 단순화 최종 7개\n",
    "# => 동물약국, 동물병원, 반려동물용품, 미용, 카페및식당, 문화, 위탁및숙박"
   ]
  },
  {
   "cell_type": "markdown",
   "id": "d42d8db9",
   "metadata": {},
   "source": [
    "## 결측치 확인"
   ]
  },
  {
   "cell_type": "markdown",
   "id": "33f1e850",
   "metadata": {},
   "source": [
    "### 결측치 합계"
   ]
  },
  {
   "cell_type": "code",
   "execution_count": 49,
   "id": "5492eb55",
   "metadata": {},
   "outputs": [
    {
     "data": {
      "text/plain": [
       "시설명          0\n",
       "행정구역         0\n",
       "시군구        134\n",
       "시설분류         0\n",
       "위도           0\n",
       "경도           0\n",
       "도로명주소      306\n",
       "지번주소         0\n",
       "전화번호         0\n",
       "홈페이지         0\n",
       "휴무일          0\n",
       "운영시간         0\n",
       "주차가능여부       0\n",
       "이용료정보        0\n",
       "크기제한         0\n",
       "기타제한사항       0\n",
       "장소요약         0\n",
       "동반시추가요금      0\n",
       "dtype: int64"
      ]
     },
     "execution_count": 49,
     "metadata": {},
     "output_type": "execute_result"
    }
   ],
   "source": [
    "df.isnull().sum()"
   ]
  },
  {
   "cell_type": "code",
   "execution_count": 50,
   "id": "04df453e",
   "metadata": {},
   "outputs": [],
   "source": [
    "# df.head(1)"
   ]
  },
  {
   "attachments": {
    "image.png": {
     "image/png": "[encoded data removed]"
    }
   },
   "cell_type": "markdown",
   "id": "ccf92600",
   "metadata": {},
   "source": [
    "### 세종특별자치시 세종시로 넣기\n",
    "- GeoJSON으로 지도 그릴 때 '시군구' 명칭이 있어야함\n",
    "![image.png](attachment:image.png)"
   ]
  },
  {
   "cell_type": "code",
   "execution_count": 51,
   "id": "5ebf9e09",
   "metadata": {},
   "outputs": [],
   "source": [
    "filt = df['행정구역'] == '세종특별자치시'\n",
    "df.loc[filt, '시군구'] = '세종시'"
   ]
  },
  {
   "cell_type": "code",
   "execution_count": 52,
   "id": "d5dffeed",
   "metadata": {},
   "outputs": [
    {
     "data": {
      "text/plain": [
       "시설명          0\n",
       "행정구역         0\n",
       "시군구          0\n",
       "시설분류         0\n",
       "위도           0\n",
       "경도           0\n",
       "도로명주소      306\n",
       "지번주소         0\n",
       "전화번호         0\n",
       "홈페이지         0\n",
       "휴무일          0\n",
       "운영시간         0\n",
       "주차가능여부       0\n",
       "이용료정보        0\n",
       "크기제한         0\n",
       "기타제한사항       0\n",
       "장소요약         0\n",
       "동반시추가요금      0\n",
       "dtype: int64"
      ]
     },
     "execution_count": 52,
     "metadata": {},
     "output_type": "execute_result"
    }
   ],
   "source": [
    "# 결측치 확인\n",
    "df.isnull().sum()"
   ]
  },
  {
   "cell_type": "markdown",
   "id": "abb506b9",
   "metadata": {},
   "source": [
    "### 도로명주소 결측치값 '정보없음'으로 변경"
   ]
  },
  {
   "cell_type": "code",
   "execution_count": 53,
   "id": "7c28d37a",
   "metadata": {},
   "outputs": [],
   "source": [
    "df['도로명주소'] = df['도로명주소'].fillna('정보없음')"
   ]
  },
  {
   "cell_type": "code",
   "execution_count": 54,
   "id": "9a95594b",
   "metadata": {},
   "outputs": [
    {
     "data": {
      "text/plain": [
       "306"
      ]
     },
     "execution_count": 54,
     "metadata": {},
     "output_type": "execute_result"
    }
   ],
   "source": [
    "(df['도로명주소'] == '정보없음').sum()"
   ]
  },
  {
   "cell_type": "code",
   "execution_count": 55,
   "id": "bd2cd366",
   "metadata": {},
   "outputs": [
    {
     "data": {
      "text/plain": [
       "0"
      ]
     },
     "execution_count": 55,
     "metadata": {},
     "output_type": "execute_result"
    }
   ],
   "source": [
    "#결측치 확인\n",
    "df['도로명주소'].isnull().sum()"
   ]
  },
  {
   "cell_type": "markdown",
   "id": "3683e668",
   "metadata": {},
   "source": [
    "## 파일 저장하기"
   ]
  },
  {
   "cell_type": "code",
   "execution_count": 56,
   "id": "59a2790a",
   "metadata": {},
   "outputs": [],
   "source": [
    "df.to_csv('data/animal_facility.csv', encoding='cp949', index=False)"
   ]
  },
  {
   "cell_type": "markdown",
   "id": "aa2f644c",
   "metadata": {},
   "source": [
    "## 파일 불러오기"
   ]
  },
  {
   "cell_type": "code",
   "execution_count": 57,
   "id": "d53f7c66",
   "metadata": {},
   "outputs": [],
   "source": [
    "df = pd.read_csv('data/animal_facility.csv', encoding='cp949')"
   ]
  },
  {
   "cell_type": "code",
   "execution_count": 58,
   "id": "62fe92ac",
   "metadata": {},
   "outputs": [
    {
     "data": {
      "text/html": [
       "<div>\n",
       "<style scoped>\n",
       "    .dataframe tbody tr th:only-of-type {\n",
       "        vertical-align: middle;\n",
       "    }\n",
       "\n",
       "    .dataframe tbody tr th {\n",
       "        vertical-align: top;\n",
       "    }\n",
       "\n",
       "    .dataframe thead th {\n",
       "        text-align: right;\n",
       "    }\n",
       "</style>\n",
       "<table border=\"1\" class=\"dataframe\">\n",
       "  <thead>\n",
       "    <tr style=\"text-align: right;\">\n",
       "      <th></th>\n",
       "      <th>시설명</th>\n",
       "      <th>행정구역</th>\n",
       "      <th>시군구</th>\n",
       "      <th>시설분류</th>\n",
       "      <th>위도</th>\n",
       "      <th>경도</th>\n",
       "      <th>도로명주소</th>\n",
       "      <th>지번주소</th>\n",
       "      <th>전화번호</th>\n",
       "      <th>홈페이지</th>\n",
       "      <th>휴무일</th>\n",
       "      <th>운영시간</th>\n",
       "      <th>주차가능여부</th>\n",
       "      <th>이용료정보</th>\n",
       "      <th>크기제한</th>\n",
       "      <th>기타제한사항</th>\n",
       "      <th>장소요약</th>\n",
       "      <th>동반시추가요금</th>\n",
       "    </tr>\n",
       "  </thead>\n",
       "  <tbody>\n",
       "    <tr>\n",
       "      <th>0</th>\n",
       "      <td>1004 약국</td>\n",
       "      <td>경기도</td>\n",
       "      <td>고양시 덕양구</td>\n",
       "      <td>동물약국</td>\n",
       "      <td>37.644543</td>\n",
       "      <td>126.886336</td>\n",
       "      <td>경기도 고양시 덕양구 동세로 19</td>\n",
       "      <td>경기도 고양시 덕양구 동산동 352-1</td>\n",
       "      <td>02-381-5052</td>\n",
       "      <td>정보없음</td>\n",
       "      <td>매주 토, 일, 법정공휴일</td>\n",
       "      <td>월~금 09:00~18:00</td>\n",
       "      <td>주차가능</td>\n",
       "      <td>변동</td>\n",
       "      <td>모두 가능</td>\n",
       "      <td>제한사항 없음</td>\n",
       "      <td>동물약국</td>\n",
       "      <td>없음</td>\n",
       "    </tr>\n",
       "    <tr>\n",
       "      <th>1</th>\n",
       "      <td>100세건강약국</td>\n",
       "      <td>경기도</td>\n",
       "      <td>안양시 만안구</td>\n",
       "      <td>동물약국</td>\n",
       "      <td>37.407150</td>\n",
       "      <td>126.914837</td>\n",
       "      <td>경기도 안양시 만안구 안양로 408</td>\n",
       "      <td>경기도 안양시 만안구 안양동 856-4</td>\n",
       "      <td>031-465-1320</td>\n",
       "      <td>정보없음</td>\n",
       "      <td>매주 일요일, 법정공휴일</td>\n",
       "      <td>월~금 09:00~21:00, 토 09:00~20:00</td>\n",
       "      <td>주차 불가</td>\n",
       "      <td>변동</td>\n",
       "      <td>모두 가능</td>\n",
       "      <td>제한사항 없음</td>\n",
       "      <td>동물약국</td>\n",
       "      <td>없음</td>\n",
       "    </tr>\n",
       "    <tr>\n",
       "      <th>2</th>\n",
       "      <td>100세약국</td>\n",
       "      <td>서울특별시</td>\n",
       "      <td>영등포구</td>\n",
       "      <td>동물약국</td>\n",
       "      <td>37.533260</td>\n",
       "      <td>126.903741</td>\n",
       "      <td>서울특별시 영등포구 양평로 24</td>\n",
       "      <td>서울특별시 영등포구 당산동6가 217-4</td>\n",
       "      <td>02-2678-8217</td>\n",
       "      <td>정보없음</td>\n",
       "      <td>매주 일요일, 법정공휴일</td>\n",
       "      <td>월~금 08:30~21:00, 토 08:30~18:30</td>\n",
       "      <td>주차 불가</td>\n",
       "      <td>변동</td>\n",
       "      <td>모두 가능</td>\n",
       "      <td>제한사항 없음</td>\n",
       "      <td>동물약국</td>\n",
       "      <td>없음</td>\n",
       "    </tr>\n",
       "    <tr>\n",
       "      <th>3</th>\n",
       "      <td>100세약국</td>\n",
       "      <td>경기도</td>\n",
       "      <td>수원시 팔달구</td>\n",
       "      <td>동물약국</td>\n",
       "      <td>37.276272</td>\n",
       "      <td>127.030911</td>\n",
       "      <td>경기도 수원시 팔달구 경수대로 568</td>\n",
       "      <td>경기도 수원시 팔달구 인계동 942-4</td>\n",
       "      <td>031-239-4801</td>\n",
       "      <td>정보없음</td>\n",
       "      <td>매주 일요일, 법정공휴일</td>\n",
       "      <td>월~금 09:00~19:00, 토 09:00~15:00</td>\n",
       "      <td>주차 불가</td>\n",
       "      <td>변동</td>\n",
       "      <td>모두 가능</td>\n",
       "      <td>제한사항 없음</td>\n",
       "      <td>동물약국</td>\n",
       "      <td>없음</td>\n",
       "    </tr>\n",
       "    <tr>\n",
       "      <th>4</th>\n",
       "      <td>100세약국</td>\n",
       "      <td>인천광역시</td>\n",
       "      <td>남동구</td>\n",
       "      <td>동물약국</td>\n",
       "      <td>37.462072</td>\n",
       "      <td>126.708644</td>\n",
       "      <td>인천광역시 남동구 남동대로 892</td>\n",
       "      <td>인천광역시 남동구 간석동 207-3</td>\n",
       "      <td>032-427-7585</td>\n",
       "      <td>정보없음</td>\n",
       "      <td>매주 토, 일</td>\n",
       "      <td>월~금 08:30~22:00</td>\n",
       "      <td>주차 불가</td>\n",
       "      <td>변동</td>\n",
       "      <td>모두 가능</td>\n",
       "      <td>제한사항 없음</td>\n",
       "      <td>동물약국</td>\n",
       "      <td>없음</td>\n",
       "    </tr>\n",
       "    <tr>\n",
       "      <th>...</th>\n",
       "      <td>...</td>\n",
       "      <td>...</td>\n",
       "      <td>...</td>\n",
       "      <td>...</td>\n",
       "      <td>...</td>\n",
       "      <td>...</td>\n",
       "      <td>...</td>\n",
       "      <td>...</td>\n",
       "      <td>...</td>\n",
       "      <td>...</td>\n",
       "      <td>...</td>\n",
       "      <td>...</td>\n",
       "      <td>...</td>\n",
       "      <td>...</td>\n",
       "      <td>...</td>\n",
       "      <td>...</td>\n",
       "      <td>...</td>\n",
       "      <td>...</td>\n",
       "    </tr>\n",
       "    <tr>\n",
       "      <th>21134</th>\n",
       "      <td>y동물병원</td>\n",
       "      <td>대구광역시</td>\n",
       "      <td>수성구</td>\n",
       "      <td>동물병원</td>\n",
       "      <td>35.842243</td>\n",
       "      <td>128.697815</td>\n",
       "      <td>대구광역시 수성구 달구벌대로 3116-1</td>\n",
       "      <td>대구광역시 수성구 시지동 258-14</td>\n",
       "      <td>053-791-7532</td>\n",
       "      <td>정보없음</td>\n",
       "      <td>매주 일요일</td>\n",
       "      <td>월~금 09:30~19:00, 토 09:30~18:30</td>\n",
       "      <td>주차가능</td>\n",
       "      <td>변동</td>\n",
       "      <td>모두 가능</td>\n",
       "      <td>제한사항 없음</td>\n",
       "      <td>일반동물병원, 일요일 야간 예약진료 가능</td>\n",
       "      <td>없음</td>\n",
       "    </tr>\n",
       "    <tr>\n",
       "      <th>21135</th>\n",
       "      <td>YOLO오시개</td>\n",
       "      <td>부산광역시</td>\n",
       "      <td>사상구</td>\n",
       "      <td>카페및식당</td>\n",
       "      <td>35.150589</td>\n",
       "      <td>129.012454</td>\n",
       "      <td>부산광역시 사상구 가야대로366번길 10</td>\n",
       "      <td>부산광역시 사상구 주례동 60-55</td>\n",
       "      <td>0507-1318-4786</td>\n",
       "      <td>http://instagram.com/yolo_playdogs</td>\n",
       "      <td>매주 화요일</td>\n",
       "      <td>수~월 13:00~20:00</td>\n",
       "      <td>주차가능</td>\n",
       "      <td>10000원</td>\n",
       "      <td>모두 가능</td>\n",
       "      <td>제한사항 없음</td>\n",
       "      <td>애견카페, 호텔</td>\n",
       "      <td>2,000~6,000원</td>\n",
       "    </tr>\n",
       "    <tr>\n",
       "      <th>21136</th>\n",
       "      <td>YS유통</td>\n",
       "      <td>경기도</td>\n",
       "      <td>파주시</td>\n",
       "      <td>반려동물용품</td>\n",
       "      <td>37.751561</td>\n",
       "      <td>126.844647</td>\n",
       "      <td>경기도 파주시 조리읍 장곡로 120-35</td>\n",
       "      <td>경기도 파주시 조리읍 장곡리 73-3</td>\n",
       "      <td>031-942-8377</td>\n",
       "      <td>http://www.irina.co.kr/</td>\n",
       "      <td>매주 토, 일</td>\n",
       "      <td>월~금 10:00~17:00</td>\n",
       "      <td>주차가능</td>\n",
       "      <td>없음</td>\n",
       "      <td>모두 가능</td>\n",
       "      <td>제한사항 없음</td>\n",
       "      <td>온라인쇼핑몰, 강아지용품, 반려동물 원목가구</td>\n",
       "      <td>없음</td>\n",
       "    </tr>\n",
       "    <tr>\n",
       "      <th>21137</th>\n",
       "      <td>ZOO동물병원</td>\n",
       "      <td>서울특별시</td>\n",
       "      <td>성북구</td>\n",
       "      <td>동물병원</td>\n",
       "      <td>37.601998</td>\n",
       "      <td>127.019541</td>\n",
       "      <td>서울특별시 성북구 정릉로 328</td>\n",
       "      <td>서울특별시 성북구 정릉동 16-162</td>\n",
       "      <td>02-914-5545</td>\n",
       "      <td>정보없음</td>\n",
       "      <td>매주 일요일</td>\n",
       "      <td>월~금 10:00~19:00, 토 10:00~17:00</td>\n",
       "      <td>주차 불가</td>\n",
       "      <td>변동</td>\n",
       "      <td>모두 가능</td>\n",
       "      <td>제한사항 없음</td>\n",
       "      <td>일반동물병원</td>\n",
       "      <td>없음</td>\n",
       "    </tr>\n",
       "    <tr>\n",
       "      <th>21138</th>\n",
       "      <td>ZOO동물병원</td>\n",
       "      <td>울산광역시</td>\n",
       "      <td>남구</td>\n",
       "      <td>동물병원</td>\n",
       "      <td>35.543654</td>\n",
       "      <td>129.347126</td>\n",
       "      <td>울산광역시 남구 돋질로 385-1</td>\n",
       "      <td>울산광역시 남구 삼산동 180-33</td>\n",
       "      <td>052-903-8275</td>\n",
       "      <td>정보없음</td>\n",
       "      <td>매주 일요일</td>\n",
       "      <td>월~토 09:30~19:00</td>\n",
       "      <td>주차가능</td>\n",
       "      <td>변동</td>\n",
       "      <td>모두 가능</td>\n",
       "      <td>제한사항 없음</td>\n",
       "      <td>일반동물병원</td>\n",
       "      <td>없음</td>\n",
       "    </tr>\n",
       "  </tbody>\n",
       "</table>\n",
       "<p>21139 rows × 18 columns</p>\n",
       "</div>"
      ],
      "text/plain": [
       "            시설명   행정구역      시군구    시설분류         위도          경도  \\\n",
       "0       1004 약국    경기도  고양시 덕양구    동물약국  37.644543  126.886336   \n",
       "1      100세건강약국    경기도  안양시 만안구    동물약국  37.407150  126.914837   \n",
       "2        100세약국  서울특별시     영등포구    동물약국  37.533260  126.903741   \n",
       "3        100세약국    경기도  수원시 팔달구    동물약국  37.276272  127.030911   \n",
       "4        100세약국  인천광역시      남동구    동물약국  37.462072  126.708644   \n",
       "...         ...    ...      ...     ...        ...         ...   \n",
       "21134     y동물병원  대구광역시      수성구    동물병원  35.842243  128.697815   \n",
       "21135   YOLO오시개  부산광역시      사상구   카페및식당  35.150589  129.012454   \n",
       "21136      YS유통    경기도      파주시  반려동물용품  37.751561  126.844647   \n",
       "21137   ZOO동물병원  서울특별시      성북구    동물병원  37.601998  127.019541   \n",
       "21138   ZOO동물병원  울산광역시       남구    동물병원  35.543654  129.347126   \n",
       "\n",
       "                        도로명주소                    지번주소            전화번호  \\\n",
       "0          경기도 고양시 덕양구 동세로 19   경기도 고양시 덕양구 동산동 352-1     02-381-5052   \n",
       "1         경기도 안양시 만안구 안양로 408   경기도 안양시 만안구 안양동 856-4    031-465-1320   \n",
       "2           서울특별시 영등포구 양평로 24  서울특별시 영등포구 당산동6가 217-4    02-2678-8217   \n",
       "3        경기도 수원시 팔달구 경수대로 568   경기도 수원시 팔달구 인계동 942-4    031-239-4801   \n",
       "4          인천광역시 남동구 남동대로 892     인천광역시 남동구 간석동 207-3    032-427-7585   \n",
       "...                       ...                     ...             ...   \n",
       "21134  대구광역시 수성구 달구벌대로 3116-1    대구광역시 수성구 시지동 258-14    053-791-7532   \n",
       "21135  부산광역시 사상구 가야대로366번길 10     부산광역시 사상구 주례동 60-55  0507-1318-4786   \n",
       "21136  경기도 파주시 조리읍 장곡로 120-35    경기도 파주시 조리읍 장곡리 73-3    031-942-8377   \n",
       "21137       서울특별시 성북구 정릉로 328    서울특별시 성북구 정릉동 16-162     02-914-5545   \n",
       "21138      울산광역시 남구 돋질로 385-1     울산광역시 남구 삼산동 180-33    052-903-8275   \n",
       "\n",
       "                                     홈페이지             휴무일  \\\n",
       "0                                    정보없음  매주 토, 일, 법정공휴일   \n",
       "1                                    정보없음   매주 일요일, 법정공휴일   \n",
       "2                                    정보없음   매주 일요일, 법정공휴일   \n",
       "3                                    정보없음   매주 일요일, 법정공휴일   \n",
       "4                                    정보없음         매주 토, 일   \n",
       "...                                   ...             ...   \n",
       "21134                                정보없음          매주 일요일   \n",
       "21135  http://instagram.com/yolo_playdogs          매주 화요일   \n",
       "21136             http://www.irina.co.kr/         매주 토, 일   \n",
       "21137                                정보없음          매주 일요일   \n",
       "21138                                정보없음          매주 일요일   \n",
       "\n",
       "                                 운영시간 주차가능여부   이용료정보   크기제한   기타제한사항  \\\n",
       "0                     월~금 09:00~18:00   주차가능      변동  모두 가능  제한사항 없음   \n",
       "1      월~금 09:00~21:00, 토 09:00~20:00  주차 불가      변동  모두 가능  제한사항 없음   \n",
       "2      월~금 08:30~21:00, 토 08:30~18:30  주차 불가      변동  모두 가능  제한사항 없음   \n",
       "3      월~금 09:00~19:00, 토 09:00~15:00  주차 불가      변동  모두 가능  제한사항 없음   \n",
       "4                     월~금 08:30~22:00  주차 불가      변동  모두 가능  제한사항 없음   \n",
       "...                               ...    ...     ...    ...      ...   \n",
       "21134  월~금 09:30~19:00, 토 09:30~18:30   주차가능      변동  모두 가능  제한사항 없음   \n",
       "21135                 수~월 13:00~20:00   주차가능  10000원  모두 가능  제한사항 없음   \n",
       "21136                 월~금 10:00~17:00   주차가능      없음  모두 가능  제한사항 없음   \n",
       "21137  월~금 10:00~19:00, 토 10:00~17:00  주차 불가      변동  모두 가능  제한사항 없음   \n",
       "21138                 월~토 09:30~19:00   주차가능      변동  모두 가능  제한사항 없음   \n",
       "\n",
       "                           장소요약       동반시추가요금  \n",
       "0                          동물약국            없음  \n",
       "1                          동물약국            없음  \n",
       "2                          동물약국            없음  \n",
       "3                          동물약국            없음  \n",
       "4                          동물약국            없음  \n",
       "...                         ...           ...  \n",
       "21134    일반동물병원, 일요일 야간 예약진료 가능            없음  \n",
       "21135                  애견카페, 호텔  2,000~6,000원  \n",
       "21136  온라인쇼핑몰, 강아지용품, 반려동물 원목가구            없음  \n",
       "21137                    일반동물병원            없음  \n",
       "21138                    일반동물병원            없음  \n",
       "\n",
       "[21139 rows x 18 columns]"
      ]
     },
     "execution_count": 58,
     "metadata": {},
     "output_type": "execute_result"
    }
   ],
   "source": [
    "df"
   ]
  },
  {
   "cell_type": "code",
   "execution_count": null,
   "id": "2e510998",
   "metadata": {},
   "outputs": [],
   "source": []
  },
  {
   "cell_type": "code",
   "execution_count": null,
   "id": "12924284",
   "metadata": {},
   "outputs": [],
   "source": []
  },
  {
   "cell_type": "code",
   "execution_count": null,
   "id": "4af2842f",
   "metadata": {},
   "outputs": [],
   "source": []
  },
  {
   "cell_type": "code",
   "execution_count": null,
   "id": "0e11e954",
   "metadata": {},
   "outputs": [],
   "source": []
  },
  {
   "cell_type": "code",
   "execution_count": null,
   "id": "2d765c64",
   "metadata": {},
   "outputs": [],
   "source": []
  },
  {
   "cell_type": "code",
   "execution_count": null,
   "id": "5dc3626b",
   "metadata": {},
   "outputs": [],
   "source": []
  },
  {
   "cell_type": "code",
   "execution_count": null,
   "id": "8ecdfbc5",
   "metadata": {},
   "outputs": [],
   "source": []
  },
  {
   "cell_type": "code",
   "execution_count": null,
   "id": "82565e09",
   "metadata": {},
   "outputs": [],
   "source": []
  },
  {
   "cell_type": "code",
   "execution_count": null,
   "id": "84457f06",
   "metadata": {},
   "outputs": [],
   "source": []
  }
 ],
 "metadata": {
  "kernelspec": {
   "display_name": "Python 3 (ipykernel)",
   "language": "python",
   "name": "python3"
  },
  "language_info": {
   "codemirror_mode": {
    "name": "ipython",
    "version": 3
   },
   "file_extension": ".py",
   "mimetype": "text/x-python",
   "name": "python",
   "nbconvert_exporter": "python",
   "pygments_lexer": "ipython3",
   "version": "3.11.5"
  },
  "toc": {
   "base_numbering": 1,
   "nav_menu": {},
   "number_sections": true,
   "sideBar": true,
   "skip_h1_title": false,
   "title_cell": "Table of Contents",
   "title_sidebar": "Contents",
   "toc_cell": false,
   "toc_position": {},
   "toc_section_display": true,
   "toc_window_display": false
  },
  "varInspector": {
   "cols": {
    "lenName": 16,
    "lenType": 16,
    "lenVar": 40
   },
   "kernels_config": {
    "python": {
     "delete_cmd_postfix": "",
     "delete_cmd_prefix": "del ",
     "library": "var_list.py",
     "varRefreshCmd": "print(var_dic_list())"
    },
    "r": {
     "delete_cmd_postfix": ") ",
     "delete_cmd_prefix": "rm(",
     "library": "var_list.r",
     "varRefreshCmd": "cat(var_dic_list()) "
    }
   },
   "types_to_exclude": [
    "module",
    "function",
    "builtin_function_or_method",
    "instance",
    "_Feature"
   ],
   "window_display": false
  }
 },
 "nbformat": 4,
 "nbformat_minor": 5
}
