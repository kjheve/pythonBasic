{
 "cells": [
  {
   "cell_type": "markdown",
   "id": "1f62d9fc",
   "metadata": {},
   "source": [
    "**전국 반려동물 시설 분석**\n",
    "***"
   ]
  },
  {
   "cell_type": "markdown",
   "id": "00c94a10",
   "metadata": {},
   "source": [
    "## 데이터 분석과 시각화를 위한 설정"
   ]
  },
  {
   "cell_type": "code",
   "execution_count": 196,
   "id": "b665a841",
   "metadata": {},
   "outputs": [],
   "source": [
    "import pandas as pd                # 데이터 분석을 위해 pandas\n",
    "import numpy as np                 # 수치계산을 위해 numpy\n",
    "import matplotlib.pyplot as plt    # 시각화를 위해 mapplotlib, seaborn를 불러온다.\n",
    "import seaborn as sns\n",
    "import folium                      # 지도 시각화를 위한 라이브러리\n",
    "import json\n",
    "\n",
    "# 한글 설정 & 마이너스 표시\n",
    "plt.rc('font', family='Malgun Gothic')\n",
    "plt.rc('axes', unicode_minus=False)"
   ]
  },
  {
   "cell_type": "markdown",
   "id": "df0b5aea",
   "metadata": {},
   "source": [
    "## 파일 열기"
   ]
  },
  {
   "cell_type": "code",
   "execution_count": 197,
   "id": "3f5a8b1d",
   "metadata": {},
   "outputs": [],
   "source": [
    "# CSV 파일 읽기\n",
    "df = pd.read_csv('data/data.csv', encoding='cp949')"
   ]
  },
  {
   "cell_type": "markdown",
   "id": "e38d52a9",
   "metadata": {},
   "source": [
    "## 데이터 전처리"
   ]
  },
  {
   "cell_type": "code",
   "execution_count": null,
   "id": "fbdaa1bc",
   "metadata": {},
   "outputs": [],
   "source": [
    "df.info()"
   ]
  },
  {
   "cell_type": "code",
   "execution_count": 198,
   "id": "d5cd1c5f",
   "metadata": {},
   "outputs": [
    {
     "data": {
      "text/plain": [
       "시설명                 0\n",
       "카테고리1               0\n",
       "카테고리2               0\n",
       "카테고리3               0\n",
       "시도 명칭               0\n",
       "시군구 명칭            145\n",
       "법정읍면동명칭            44\n",
       "리 명칭            19134\n",
       "번지                 57\n",
       "도로명 이름            306\n",
       "건물 번호             306\n",
       "위도                  0\n",
       "경도                  0\n",
       "우편번호               72\n",
       "도로명주소             306\n",
       "지번주소                0\n",
       "전화번호                0\n",
       "홈페이지                0\n",
       "휴무일                 0\n",
       "운영시간                0\n",
       "주차 가능여부             0\n",
       "입장(이용료)가격 정보        0\n",
       "반려동물 동반 가능정보        0\n",
       "반려동물 전용 정보          0\n",
       "입장 가능 동물 크기         0\n",
       "반려동물 제한사항           0\n",
       "장소(실내) 여부           0\n",
       "장소(실외)여부            0\n",
       "기본 정보_장소설명          0\n",
       "애견 동반 추가 요금         0\n",
       "최종작성일               0\n",
       "dtype: int64"
      ]
     },
     "execution_count": 198,
     "metadata": {},
     "output_type": "execute_result"
    }
   ],
   "source": [
    "df.isnull().sum()"
   ]
  },
  {
   "cell_type": "markdown",
   "id": "08fff127",
   "metadata": {},
   "source": [
    "### 데이터 확인"
   ]
  },
  {
   "cell_type": "code",
   "execution_count": 199,
   "id": "5f70d822",
   "metadata": {},
   "outputs": [
    {
     "data": {
      "text/plain": [
       "Index(['시설명', '카테고리1', '카테고리2', '카테고리3', '시도 명칭', '시군구 명칭', '법정읍면동명칭', '리 명칭',\n",
       "       '번지', '도로명 이름', '건물 번호', '위도', '경도', '우편번호', '도로명주소', '지번주소', '전화번호',\n",
       "       '홈페이지', '휴무일', '운영시간', '주차 가능여부', '입장(이용료)가격 정보', '반려동물 동반 가능정보',\n",
       "       '반려동물 전용 정보', '입장 가능 동물 크기', '반려동물 제한사항', '장소(실내) 여부', '장소(실외)여부',\n",
       "       '기본 정보_장소설명', '애견 동반 추가 요금', '최종작성일'],\n",
       "      dtype='object')"
      ]
     },
     "execution_count": 199,
     "metadata": {},
     "output_type": "execute_result"
    }
   ],
   "source": [
    "df.columns"
   ]
  },
  {
   "cell_type": "code",
   "execution_count": 200,
   "id": "b1854637",
   "metadata": {},
   "outputs": [
    {
     "data": {
      "text/plain": [
       "array(['동물약국', '미술관', '카페', '동물병원', '반려동물용품', '미용', '문예회관', '펜션', '식당',\n",
       "       '여행지', '위탁관리', '박물관', '호텔'], dtype=object)"
      ]
     },
     "execution_count": 200,
     "metadata": {},
     "output_type": "execute_result"
    }
   ],
   "source": [
    "df['카테고리3'].unique()"
   ]
  },
  {
   "cell_type": "code",
   "execution_count": 201,
   "id": "12936017",
   "metadata": {},
   "outputs": [
    {
     "data": {
      "text/plain": [
       "array(['경기도', '전라남도', '서울특별시', '인천광역시', '경상북도', '대구광역시', '세종특별자치시',\n",
       "       '전라북도', '경상남도', '강원도', '부산광역시', '광주광역시', '대전광역시', '충청북도',\n",
       "       '제주특별자치도', '충청남도', '울산광역시'], dtype=object)"
      ]
     },
     "execution_count": 201,
     "metadata": {},
     "output_type": "execute_result"
    }
   ],
   "source": [
    "df['시도 명칭'].unique()"
   ]
  },
  {
   "cell_type": "code",
   "execution_count": 202,
   "id": "4e82c98b",
   "metadata": {},
   "outputs": [
    {
     "data": {
      "text/plain": [
       "array(['주차가능', '주차 불가'], dtype=object)"
      ]
     },
     "execution_count": 202,
     "metadata": {},
     "output_type": "execute_result"
    }
   ],
   "source": [
    "df['주차 가능여부'].unique()"
   ]
  },
  {
   "cell_type": "code",
   "execution_count": 203,
   "id": "f0f240cd",
   "metadata": {},
   "outputs": [
    {
     "data": {
      "text/plain": [
       "array(['동반가능', '동반불가'], dtype=object)"
      ]
     },
     "execution_count": 203,
     "metadata": {},
     "output_type": "execute_result"
    }
   ],
   "source": [
    "df['반려동물 동반 가능정보'].unique()"
   ]
  },
  {
   "cell_type": "code",
   "execution_count": 204,
   "id": "39ebd8a1",
   "metadata": {},
   "outputs": [
    {
     "data": {
      "text/plain": [
       "array(['해당없음', '반려동물 전용'], dtype=object)"
      ]
     },
     "execution_count": 204,
     "metadata": {},
     "output_type": "execute_result"
    }
   ],
   "source": [
    "df['반려동물 전용 정보'].unique()"
   ]
  },
  {
   "cell_type": "code",
   "execution_count": 205,
   "id": "2530f545",
   "metadata": {},
   "outputs": [],
   "source": [
    "# df['애견 동반 추가 요금'].unique()"
   ]
  },
  {
   "cell_type": "code",
   "execution_count": 206,
   "id": "d4253db9",
   "metadata": {},
   "outputs": [],
   "source": [
    "# df['입장 가능 동물 크기'].unique()"
   ]
  },
  {
   "cell_type": "code",
   "execution_count": 207,
   "id": "fa303904",
   "metadata": {},
   "outputs": [],
   "source": [
    "# df['반려동물 제한사항'].unique()"
   ]
  },
  {
   "cell_type": "code",
   "execution_count": 208,
   "id": "8a2743c7",
   "metadata": {},
   "outputs": [
    {
     "data": {
      "text/plain": [
       "array(['반려동물업'], dtype=object)"
      ]
     },
     "execution_count": 208,
     "metadata": {},
     "output_type": "execute_result"
    }
   ],
   "source": [
    "df['카테고리1'].unique()"
   ]
  },
  {
   "cell_type": "code",
   "execution_count": 209,
   "id": "621624f2",
   "metadata": {},
   "outputs": [
    {
     "data": {
      "text/plain": [
       "array(['반려의료', '반려동반여행', '반려동물식당카페', '반려동물 서비스', '반려문화시설'], dtype=object)"
      ]
     },
     "execution_count": 209,
     "metadata": {},
     "output_type": "execute_result"
    }
   ],
   "source": [
    "df['카테고리2'].unique()"
   ]
  },
  {
   "cell_type": "markdown",
   "id": "d64e6c8d",
   "metadata": {},
   "source": [
    "### 동반 가능한 곳만 데이터 추려내기"
   ]
  },
  {
   "cell_type": "code",
   "execution_count": 210,
   "id": "dc5110e5",
   "metadata": {},
   "outputs": [
    {
     "data": {
      "text/plain": [
       "(23929, 31)"
      ]
     },
     "execution_count": 210,
     "metadata": {},
     "output_type": "execute_result"
    }
   ],
   "source": [
    "df.shape"
   ]
  },
  {
   "cell_type": "code",
   "execution_count": 211,
   "id": "28e674da",
   "metadata": {},
   "outputs": [
    {
     "data": {
      "text/plain": [
       "(21139, 31)"
      ]
     },
     "execution_count": 211,
     "metadata": {},
     "output_type": "execute_result"
    }
   ],
   "source": [
    "filter = df['반려동물 동반 가능정보'] == '동반가능'\n",
    "df = df[filter]\n",
    "df.shape"
   ]
  },
  {
   "cell_type": "markdown",
   "id": "3bb17e6d",
   "metadata": {},
   "source": [
    "### 컬럼명 변경하고 사용하지 않는 데이터 제거"
   ]
  },
  {
   "cell_type": "code",
   "execution_count": 212,
   "id": "aec2e25a",
   "metadata": {},
   "outputs": [
    {
     "data": {
      "text/plain": [
       "['시설명',\n",
       " '시도 명칭',\n",
       " '시군구 명칭',\n",
       " '카테고리3',\n",
       " '위도',\n",
       " '경도',\n",
       " '도로명주소',\n",
       " '지번주소',\n",
       " '전화번호',\n",
       " '홈페이지',\n",
       " '휴무일',\n",
       " '운영시간',\n",
       " '주차 가능여부',\n",
       " '입장(이용료)가격 정보',\n",
       " '입장 가능 동물 크기',\n",
       " '반려동물 제한사항',\n",
       " '기본 정보_장소설명',\n",
       " '애견 동반 추가 요금']"
      ]
     },
     "execution_count": 212,
     "metadata": {},
     "output_type": "execute_result"
    }
   ],
   "source": [
    "columns = ['시설명', '시도 명칭', '시군구 명칭', '카테고리3', '위도', '경도', '도로명주소',\n",
    "            '지번주소', '전화번호', '홈페이지', '휴무일', '운영시간',\n",
    "            '주차 가능여부', '입장(이용료)가격 정보', '입장 가능 동물 크기',\n",
    "            '반려동물 제한사항', '기본 정보_장소설명', '애견 동반 추가 요금']\n",
    "columns"
   ]
  },
  {
   "cell_type": "code",
   "execution_count": 213,
   "id": "6a6f2e82",
   "metadata": {},
   "outputs": [],
   "source": [
    "df = df[columns].copy()"
   ]
  },
  {
   "cell_type": "code",
   "execution_count": 214,
   "id": "3ca398e0",
   "metadata": {},
   "outputs": [
    {
     "data": {
      "text/plain": [
       "['시설명',\n",
       " '행정구역',\n",
       " '시군구',\n",
       " '시설분류',\n",
       " '위도',\n",
       " '경도',\n",
       " '도로명주소',\n",
       " '지번주소',\n",
       " '전화번호',\n",
       " '홈페이지',\n",
       " '휴무일',\n",
       " '운영시간',\n",
       " '주차가능여부',\n",
       " '이용료정보',\n",
       " '크기제한',\n",
       " '기타제한사항',\n",
       " '장소요약',\n",
       " '동반시추가요금']"
      ]
     },
     "execution_count": 214,
     "metadata": {},
     "output_type": "execute_result"
    }
   ],
   "source": [
    "# 새로운 컬럼 이름\n",
    "col_names = ['시설명', '행정구역', '시군구', '시설분류', '위도', '경도', '도로명주소',\n",
    "             '지번주소', '전화번호', '홈페이지', '휴무일', '운영시간',\n",
    "            '주차가능여부', '이용료정보', '크기제한', '기타제한사항',\n",
    "            '장소요약', '동반시추가요금']\n",
    "col_names"
   ]
  },
  {
   "cell_type": "code",
   "execution_count": 215,
   "id": "a864dd9c",
   "metadata": {},
   "outputs": [],
   "source": [
    "df.columns = col_names"
   ]
  },
  {
   "cell_type": "code",
   "execution_count": 216,
   "id": "127702dc",
   "metadata": {},
   "outputs": [
    {
     "data": {
      "text/html": [
       "<div>\n",
       "<style scoped>\n",
       "    .dataframe tbody tr th:only-of-type {\n",
       "        vertical-align: middle;\n",
       "    }\n",
       "\n",
       "    .dataframe tbody tr th {\n",
       "        vertical-align: top;\n",
       "    }\n",
       "\n",
       "    .dataframe thead th {\n",
       "        text-align: right;\n",
       "    }\n",
       "</style>\n",
       "<table border=\"1\" class=\"dataframe\">\n",
       "  <thead>\n",
       "    <tr style=\"text-align: right;\">\n",
       "      <th></th>\n",
       "      <th>시설명</th>\n",
       "      <th>행정구역</th>\n",
       "      <th>시군구</th>\n",
       "      <th>시설분류</th>\n",
       "      <th>위도</th>\n",
       "      <th>경도</th>\n",
       "      <th>도로명주소</th>\n",
       "      <th>지번주소</th>\n",
       "      <th>전화번호</th>\n",
       "      <th>홈페이지</th>\n",
       "      <th>휴무일</th>\n",
       "      <th>운영시간</th>\n",
       "      <th>주차가능여부</th>\n",
       "      <th>이용료정보</th>\n",
       "      <th>크기제한</th>\n",
       "      <th>기타제한사항</th>\n",
       "      <th>장소요약</th>\n",
       "      <th>동반시추가요금</th>\n",
       "    </tr>\n",
       "  </thead>\n",
       "  <tbody>\n",
       "    <tr>\n",
       "      <th>0</th>\n",
       "      <td>1004 약국</td>\n",
       "      <td>경기도</td>\n",
       "      <td>고양시 덕양구</td>\n",
       "      <td>동물약국</td>\n",
       "      <td>37.644543</td>\n",
       "      <td>126.886336</td>\n",
       "      <td>경기도 고양시 덕양구 동세로 19</td>\n",
       "      <td>경기도 고양시 덕양구 동산동 352-1</td>\n",
       "      <td>02-381-5052</td>\n",
       "      <td>정보없음</td>\n",
       "      <td>매주 토, 일, 법정공휴일</td>\n",
       "      <td>월~금 09:00~18:00</td>\n",
       "      <td>주차가능</td>\n",
       "      <td>변동</td>\n",
       "      <td>모두 가능</td>\n",
       "      <td>제한사항 없음</td>\n",
       "      <td>동물약국</td>\n",
       "      <td>없음</td>\n",
       "    </tr>\n",
       "    <tr>\n",
       "      <th>2</th>\n",
       "      <td>100세건강약국</td>\n",
       "      <td>경기도</td>\n",
       "      <td>안양시 만안구</td>\n",
       "      <td>동물약국</td>\n",
       "      <td>37.407150</td>\n",
       "      <td>126.914837</td>\n",
       "      <td>경기도 안양시 만안구 안양로 408</td>\n",
       "      <td>경기도 안양시 만안구 안양동 856-4</td>\n",
       "      <td>031-465-1320</td>\n",
       "      <td>정보없음</td>\n",
       "      <td>매주 일요일, 법정공휴일</td>\n",
       "      <td>월~금 09:00~21:00, 토 09:00~20:00</td>\n",
       "      <td>주차 불가</td>\n",
       "      <td>변동</td>\n",
       "      <td>모두 가능</td>\n",
       "      <td>제한사항 없음</td>\n",
       "      <td>동물약국</td>\n",
       "      <td>없음</td>\n",
       "    </tr>\n",
       "    <tr>\n",
       "      <th>3</th>\n",
       "      <td>100세약국</td>\n",
       "      <td>서울특별시</td>\n",
       "      <td>영등포구</td>\n",
       "      <td>동물약국</td>\n",
       "      <td>37.533260</td>\n",
       "      <td>126.903741</td>\n",
       "      <td>서울특별시 영등포구 양평로 24</td>\n",
       "      <td>서울특별시 영등포구 당산동6가 217-4</td>\n",
       "      <td>02-2678-8217</td>\n",
       "      <td>정보없음</td>\n",
       "      <td>매주 일요일, 법정공휴일</td>\n",
       "      <td>월~금 08:30~21:00, 토 08:30~18:30</td>\n",
       "      <td>주차 불가</td>\n",
       "      <td>변동</td>\n",
       "      <td>모두 가능</td>\n",
       "      <td>제한사항 없음</td>\n",
       "      <td>동물약국</td>\n",
       "      <td>없음</td>\n",
       "    </tr>\n",
       "    <tr>\n",
       "      <th>4</th>\n",
       "      <td>100세약국</td>\n",
       "      <td>경기도</td>\n",
       "      <td>수원시 팔달구</td>\n",
       "      <td>동물약국</td>\n",
       "      <td>37.276272</td>\n",
       "      <td>127.030911</td>\n",
       "      <td>경기도 수원시 팔달구 경수대로 568</td>\n",
       "      <td>경기도 수원시 팔달구 인계동 942-4</td>\n",
       "      <td>031-239-4801</td>\n",
       "      <td>정보없음</td>\n",
       "      <td>매주 일요일, 법정공휴일</td>\n",
       "      <td>월~금 09:00~19:00, 토 09:00~15:00</td>\n",
       "      <td>주차 불가</td>\n",
       "      <td>변동</td>\n",
       "      <td>모두 가능</td>\n",
       "      <td>제한사항 없음</td>\n",
       "      <td>동물약국</td>\n",
       "      <td>없음</td>\n",
       "    </tr>\n",
       "    <tr>\n",
       "      <th>5</th>\n",
       "      <td>100세약국</td>\n",
       "      <td>인천광역시</td>\n",
       "      <td>남동구</td>\n",
       "      <td>동물약국</td>\n",
       "      <td>37.462072</td>\n",
       "      <td>126.708644</td>\n",
       "      <td>인천광역시 남동구 남동대로 892</td>\n",
       "      <td>인천광역시 남동구 간석동 207-3</td>\n",
       "      <td>032-427-7585</td>\n",
       "      <td>정보없음</td>\n",
       "      <td>매주 토, 일</td>\n",
       "      <td>월~금 08:30~22:00</td>\n",
       "      <td>주차 불가</td>\n",
       "      <td>변동</td>\n",
       "      <td>모두 가능</td>\n",
       "      <td>제한사항 없음</td>\n",
       "      <td>동물약국</td>\n",
       "      <td>없음</td>\n",
       "    </tr>\n",
       "  </tbody>\n",
       "</table>\n",
       "</div>"
      ],
      "text/plain": [
       "        시설명   행정구역      시군구  시설분류         위도          경도  \\\n",
       "0   1004 약국    경기도  고양시 덕양구  동물약국  37.644543  126.886336   \n",
       "2  100세건강약국    경기도  안양시 만안구  동물약국  37.407150  126.914837   \n",
       "3    100세약국  서울특별시     영등포구  동물약국  37.533260  126.903741   \n",
       "4    100세약국    경기도  수원시 팔달구  동물약국  37.276272  127.030911   \n",
       "5    100세약국  인천광역시      남동구  동물약국  37.462072  126.708644   \n",
       "\n",
       "                  도로명주소                    지번주소          전화번호  홈페이지  \\\n",
       "0    경기도 고양시 덕양구 동세로 19   경기도 고양시 덕양구 동산동 352-1   02-381-5052  정보없음   \n",
       "2   경기도 안양시 만안구 안양로 408   경기도 안양시 만안구 안양동 856-4  031-465-1320  정보없음   \n",
       "3     서울특별시 영등포구 양평로 24  서울특별시 영등포구 당산동6가 217-4  02-2678-8217  정보없음   \n",
       "4  경기도 수원시 팔달구 경수대로 568   경기도 수원시 팔달구 인계동 942-4  031-239-4801  정보없음   \n",
       "5    인천광역시 남동구 남동대로 892     인천광역시 남동구 간석동 207-3  032-427-7585  정보없음   \n",
       "\n",
       "              휴무일                            운영시간 주차가능여부 이용료정보   크기제한  \\\n",
       "0  매주 토, 일, 법정공휴일                 월~금 09:00~18:00   주차가능    변동  모두 가능   \n",
       "2   매주 일요일, 법정공휴일  월~금 09:00~21:00, 토 09:00~20:00  주차 불가    변동  모두 가능   \n",
       "3   매주 일요일, 법정공휴일  월~금 08:30~21:00, 토 08:30~18:30  주차 불가    변동  모두 가능   \n",
       "4   매주 일요일, 법정공휴일  월~금 09:00~19:00, 토 09:00~15:00  주차 불가    변동  모두 가능   \n",
       "5         매주 토, 일                 월~금 08:30~22:00  주차 불가    변동  모두 가능   \n",
       "\n",
       "    기타제한사항  장소요약 동반시추가요금  \n",
       "0  제한사항 없음  동물약국      없음  \n",
       "2  제한사항 없음  동물약국      없음  \n",
       "3  제한사항 없음  동물약국      없음  \n",
       "4  제한사항 없음  동물약국      없음  \n",
       "5  제한사항 없음  동물약국      없음  "
      ]
     },
     "execution_count": 216,
     "metadata": {},
     "output_type": "execute_result"
    }
   ],
   "source": [
    "df.head(5)"
   ]
  },
  {
   "cell_type": "code",
   "execution_count": 217,
   "id": "8c2214e2",
   "metadata": {},
   "outputs": [
    {
     "data": {
      "text/plain": [
       "count     21139\n",
       "unique       17\n",
       "top         경기도\n",
       "freq       5918\n",
       "Name: 행정구역, dtype: object"
      ]
     },
     "execution_count": 217,
     "metadata": {},
     "output_type": "execute_result"
    }
   ],
   "source": [
    "df['행정구역'].describe()"
   ]
  },
  {
   "cell_type": "code",
   "execution_count": 218,
   "id": "0b49f71b",
   "metadata": {},
   "outputs": [
    {
     "data": {
      "text/plain": [
       "count     21139\n",
       "unique       13\n",
       "top        동물약국\n",
       "freq       8440\n",
       "Name: 시설분류, dtype: object"
      ]
     },
     "execution_count": 218,
     "metadata": {},
     "output_type": "execute_result"
    }
   ],
   "source": [
    "df['시설분류'].describe()"
   ]
  },
  {
   "cell_type": "code",
   "execution_count": 219,
   "id": "5e1f220d",
   "metadata": {},
   "outputs": [
    {
     "data": {
      "text/plain": [
       "array(['동물약국', '카페', '동물병원', '반려동물용품', '미용', '문예회관', '펜션', '식당', '여행지',\n",
       "       '위탁관리', '박물관', '미술관', '호텔'], dtype=object)"
      ]
     },
     "execution_count": 219,
     "metadata": {},
     "output_type": "execute_result"
    }
   ],
   "source": [
    "df['시설분류'].unique()"
   ]
  },
  {
   "cell_type": "code",
   "execution_count": 220,
   "id": "62ad1c68",
   "metadata": {},
   "outputs": [],
   "source": [
    "# df.dtypes"
   ]
  },
  {
   "cell_type": "markdown",
   "id": "d3ee0da9",
   "metadata": {},
   "source": [
    "### 중복확인"
   ]
  },
  {
   "cell_type": "code",
   "execution_count": 221,
   "id": "418c58ff",
   "metadata": {},
   "outputs": [
    {
     "data": {
      "text/plain": [
       "0"
      ]
     },
     "execution_count": 221,
     "metadata": {},
     "output_type": "execute_result"
    }
   ],
   "source": [
    "df.duplicated().sum()"
   ]
  },
  {
   "cell_type": "markdown",
   "id": "d42d8db9",
   "metadata": {},
   "source": [
    "## 결측치 확인"
   ]
  },
  {
   "cell_type": "markdown",
   "id": "33f1e850",
   "metadata": {},
   "source": [
    "### 결측치 합계"
   ]
  },
  {
   "cell_type": "code",
   "execution_count": 222,
   "id": "5492eb55",
   "metadata": {},
   "outputs": [
    {
     "data": {
      "text/plain": [
       "시설명          0\n",
       "행정구역         0\n",
       "시군구        134\n",
       "시설분류         0\n",
       "위도           0\n",
       "경도           0\n",
       "도로명주소      306\n",
       "지번주소         0\n",
       "전화번호         0\n",
       "홈페이지         0\n",
       "휴무일          0\n",
       "운영시간         0\n",
       "주차가능여부       0\n",
       "이용료정보        0\n",
       "크기제한         0\n",
       "기타제한사항       0\n",
       "장소요약         0\n",
       "동반시추가요금      0\n",
       "dtype: int64"
      ]
     },
     "execution_count": 222,
     "metadata": {},
     "output_type": "execute_result"
    }
   ],
   "source": [
    "df.isnull().sum()"
   ]
  },
  {
   "cell_type": "markdown",
   "id": "ccf92600",
   "metadata": {},
   "source": [
    "### 결측치 비율"
   ]
  },
  {
   "cell_type": "code",
   "execution_count": 223,
   "id": "5ebf9e09",
   "metadata": {},
   "outputs": [
    {
     "data": {
      "text/plain": [
       "시설명        0.000000\n",
       "행정구역       0.000000\n",
       "시군구        0.633899\n",
       "시설분류       0.000000\n",
       "위도         0.000000\n",
       "경도         0.000000\n",
       "도로명주소      1.447561\n",
       "지번주소       0.000000\n",
       "전화번호       0.000000\n",
       "홈페이지       0.000000\n",
       "휴무일        0.000000\n",
       "운영시간       0.000000\n",
       "주차가능여부     0.000000\n",
       "이용료정보      0.000000\n",
       "크기제한       0.000000\n",
       "기타제한사항     0.000000\n",
       "장소요약       0.000000\n",
       "동반시추가요금    0.000000\n",
       "dtype: float64"
      ]
     },
     "execution_count": 223,
     "metadata": {},
     "output_type": "execute_result"
    }
   ],
   "source": [
    "df.isnull().mean() * 100"
   ]
  },
  {
   "cell_type": "markdown",
   "id": "abb506b9",
   "metadata": {},
   "source": [
    "### 도로명주소 결측치값 '정보없음'으로 변경"
   ]
  },
  {
   "cell_type": "code",
   "execution_count": 224,
   "id": "7c28d37a",
   "metadata": {},
   "outputs": [],
   "source": [
    "df['도로명주소'] = df['도로명주소'].fillna('정보없음')"
   ]
  },
  {
   "cell_type": "code",
   "execution_count": 225,
   "id": "9a95594b",
   "metadata": {},
   "outputs": [
    {
     "data": {
      "text/plain": [
       "306"
      ]
     },
     "execution_count": 225,
     "metadata": {},
     "output_type": "execute_result"
    }
   ],
   "source": [
    "(df['도로명주소'] == '정보없음').sum()"
   ]
  },
  {
   "cell_type": "markdown",
   "id": "3683e668",
   "metadata": {},
   "source": [
    "## 파일 저장하기"
   ]
  },
  {
   "cell_type": "code",
   "execution_count": 226,
   "id": "59a2790a",
   "metadata": {},
   "outputs": [],
   "source": [
    "df.to_csv('data/animal_facility.csv', encoding='cp949', index=False)"
   ]
  },
  {
   "cell_type": "markdown",
   "id": "aa2f644c",
   "metadata": {},
   "source": [
    "## 파일 불러오기"
   ]
  },
  {
   "cell_type": "code",
   "execution_count": 231,
   "id": "d53f7c66",
   "metadata": {},
   "outputs": [],
   "source": [
    "df = pd.read_csv('data/animal_facility.csv', encoding='cp949')"
   ]
  },
  {
   "cell_type": "code",
   "execution_count": 232,
   "id": "62fe92ac",
   "metadata": {},
   "outputs": [
    {
     "data": {
      "text/html": [
       "<div>\n",
       "<style scoped>\n",
       "    .dataframe tbody tr th:only-of-type {\n",
       "        vertical-align: middle;\n",
       "    }\n",
       "\n",
       "    .dataframe tbody tr th {\n",
       "        vertical-align: top;\n",
       "    }\n",
       "\n",
       "    .dataframe thead th {\n",
       "        text-align: right;\n",
       "    }\n",
       "</style>\n",
       "<table border=\"1\" class=\"dataframe\">\n",
       "  <thead>\n",
       "    <tr style=\"text-align: right;\">\n",
       "      <th></th>\n",
       "      <th>시설명</th>\n",
       "      <th>행정구역</th>\n",
       "      <th>시군구</th>\n",
       "      <th>시설분류</th>\n",
       "      <th>위도</th>\n",
       "      <th>경도</th>\n",
       "      <th>도로명주소</th>\n",
       "      <th>지번주소</th>\n",
       "      <th>전화번호</th>\n",
       "      <th>홈페이지</th>\n",
       "      <th>휴무일</th>\n",
       "      <th>운영시간</th>\n",
       "      <th>주차가능여부</th>\n",
       "      <th>이용료정보</th>\n",
       "      <th>크기제한</th>\n",
       "      <th>기타제한사항</th>\n",
       "      <th>장소요약</th>\n",
       "      <th>동반시추가요금</th>\n",
       "    </tr>\n",
       "  </thead>\n",
       "  <tbody>\n",
       "    <tr>\n",
       "      <th>0</th>\n",
       "      <td>1004 약국</td>\n",
       "      <td>경기도</td>\n",
       "      <td>고양시 덕양구</td>\n",
       "      <td>동물약국</td>\n",
       "      <td>37.644543</td>\n",
       "      <td>126.886336</td>\n",
       "      <td>경기도 고양시 덕양구 동세로 19</td>\n",
       "      <td>경기도 고양시 덕양구 동산동 352-1</td>\n",
       "      <td>02-381-5052</td>\n",
       "      <td>정보없음</td>\n",
       "      <td>매주 토, 일, 법정공휴일</td>\n",
       "      <td>월~금 09:00~18:00</td>\n",
       "      <td>주차가능</td>\n",
       "      <td>변동</td>\n",
       "      <td>모두 가능</td>\n",
       "      <td>제한사항 없음</td>\n",
       "      <td>동물약국</td>\n",
       "      <td>없음</td>\n",
       "    </tr>\n",
       "    <tr>\n",
       "      <th>1</th>\n",
       "      <td>100세건강약국</td>\n",
       "      <td>경기도</td>\n",
       "      <td>안양시 만안구</td>\n",
       "      <td>동물약국</td>\n",
       "      <td>37.407150</td>\n",
       "      <td>126.914837</td>\n",
       "      <td>경기도 안양시 만안구 안양로 408</td>\n",
       "      <td>경기도 안양시 만안구 안양동 856-4</td>\n",
       "      <td>031-465-1320</td>\n",
       "      <td>정보없음</td>\n",
       "      <td>매주 일요일, 법정공휴일</td>\n",
       "      <td>월~금 09:00~21:00, 토 09:00~20:00</td>\n",
       "      <td>주차 불가</td>\n",
       "      <td>변동</td>\n",
       "      <td>모두 가능</td>\n",
       "      <td>제한사항 없음</td>\n",
       "      <td>동물약국</td>\n",
       "      <td>없음</td>\n",
       "    </tr>\n",
       "    <tr>\n",
       "      <th>2</th>\n",
       "      <td>100세약국</td>\n",
       "      <td>서울특별시</td>\n",
       "      <td>영등포구</td>\n",
       "      <td>동물약국</td>\n",
       "      <td>37.533260</td>\n",
       "      <td>126.903741</td>\n",
       "      <td>서울특별시 영등포구 양평로 24</td>\n",
       "      <td>서울특별시 영등포구 당산동6가 217-4</td>\n",
       "      <td>02-2678-8217</td>\n",
       "      <td>정보없음</td>\n",
       "      <td>매주 일요일, 법정공휴일</td>\n",
       "      <td>월~금 08:30~21:00, 토 08:30~18:30</td>\n",
       "      <td>주차 불가</td>\n",
       "      <td>변동</td>\n",
       "      <td>모두 가능</td>\n",
       "      <td>제한사항 없음</td>\n",
       "      <td>동물약국</td>\n",
       "      <td>없음</td>\n",
       "    </tr>\n",
       "    <tr>\n",
       "      <th>3</th>\n",
       "      <td>100세약국</td>\n",
       "      <td>경기도</td>\n",
       "      <td>수원시 팔달구</td>\n",
       "      <td>동물약국</td>\n",
       "      <td>37.276272</td>\n",
       "      <td>127.030911</td>\n",
       "      <td>경기도 수원시 팔달구 경수대로 568</td>\n",
       "      <td>경기도 수원시 팔달구 인계동 942-4</td>\n",
       "      <td>031-239-4801</td>\n",
       "      <td>정보없음</td>\n",
       "      <td>매주 일요일, 법정공휴일</td>\n",
       "      <td>월~금 09:00~19:00, 토 09:00~15:00</td>\n",
       "      <td>주차 불가</td>\n",
       "      <td>변동</td>\n",
       "      <td>모두 가능</td>\n",
       "      <td>제한사항 없음</td>\n",
       "      <td>동물약국</td>\n",
       "      <td>없음</td>\n",
       "    </tr>\n",
       "    <tr>\n",
       "      <th>4</th>\n",
       "      <td>100세약국</td>\n",
       "      <td>인천광역시</td>\n",
       "      <td>남동구</td>\n",
       "      <td>동물약국</td>\n",
       "      <td>37.462072</td>\n",
       "      <td>126.708644</td>\n",
       "      <td>인천광역시 남동구 남동대로 892</td>\n",
       "      <td>인천광역시 남동구 간석동 207-3</td>\n",
       "      <td>032-427-7585</td>\n",
       "      <td>정보없음</td>\n",
       "      <td>매주 토, 일</td>\n",
       "      <td>월~금 08:30~22:00</td>\n",
       "      <td>주차 불가</td>\n",
       "      <td>변동</td>\n",
       "      <td>모두 가능</td>\n",
       "      <td>제한사항 없음</td>\n",
       "      <td>동물약국</td>\n",
       "      <td>없음</td>\n",
       "    </tr>\n",
       "    <tr>\n",
       "      <th>...</th>\n",
       "      <td>...</td>\n",
       "      <td>...</td>\n",
       "      <td>...</td>\n",
       "      <td>...</td>\n",
       "      <td>...</td>\n",
       "      <td>...</td>\n",
       "      <td>...</td>\n",
       "      <td>...</td>\n",
       "      <td>...</td>\n",
       "      <td>...</td>\n",
       "      <td>...</td>\n",
       "      <td>...</td>\n",
       "      <td>...</td>\n",
       "      <td>...</td>\n",
       "      <td>...</td>\n",
       "      <td>...</td>\n",
       "      <td>...</td>\n",
       "      <td>...</td>\n",
       "    </tr>\n",
       "    <tr>\n",
       "      <th>21134</th>\n",
       "      <td>y동물병원</td>\n",
       "      <td>대구광역시</td>\n",
       "      <td>수성구</td>\n",
       "      <td>동물병원</td>\n",
       "      <td>35.842243</td>\n",
       "      <td>128.697815</td>\n",
       "      <td>대구광역시 수성구 달구벌대로 3116-1</td>\n",
       "      <td>대구광역시 수성구 시지동 258-14</td>\n",
       "      <td>053-791-7532</td>\n",
       "      <td>정보없음</td>\n",
       "      <td>매주 일요일</td>\n",
       "      <td>월~금 09:30~19:00, 토 09:30~18:30</td>\n",
       "      <td>주차가능</td>\n",
       "      <td>변동</td>\n",
       "      <td>모두 가능</td>\n",
       "      <td>제한사항 없음</td>\n",
       "      <td>일반동물병원, 일요일 야간 예약진료 가능</td>\n",
       "      <td>없음</td>\n",
       "    </tr>\n",
       "    <tr>\n",
       "      <th>21135</th>\n",
       "      <td>YOLO오시개</td>\n",
       "      <td>부산광역시</td>\n",
       "      <td>사상구</td>\n",
       "      <td>카페</td>\n",
       "      <td>35.150589</td>\n",
       "      <td>129.012454</td>\n",
       "      <td>부산광역시 사상구 가야대로366번길 10</td>\n",
       "      <td>부산광역시 사상구 주례동 60-55</td>\n",
       "      <td>0507-1318-4786</td>\n",
       "      <td>http://instagram.com/yolo_playdogs</td>\n",
       "      <td>매주 화요일</td>\n",
       "      <td>수~월 13:00~20:00</td>\n",
       "      <td>주차가능</td>\n",
       "      <td>10000원</td>\n",
       "      <td>모두 가능</td>\n",
       "      <td>제한사항 없음</td>\n",
       "      <td>애견카페, 호텔</td>\n",
       "      <td>2,000~6,000원</td>\n",
       "    </tr>\n",
       "    <tr>\n",
       "      <th>21136</th>\n",
       "      <td>YS유통</td>\n",
       "      <td>경기도</td>\n",
       "      <td>파주시</td>\n",
       "      <td>반려동물용품</td>\n",
       "      <td>37.751561</td>\n",
       "      <td>126.844647</td>\n",
       "      <td>경기도 파주시 조리읍 장곡로 120-35</td>\n",
       "      <td>경기도 파주시 조리읍 장곡리 73-3</td>\n",
       "      <td>031-942-8377</td>\n",
       "      <td>http://www.irina.co.kr/</td>\n",
       "      <td>매주 토, 일</td>\n",
       "      <td>월~금 10:00~17:00</td>\n",
       "      <td>주차가능</td>\n",
       "      <td>없음</td>\n",
       "      <td>모두 가능</td>\n",
       "      <td>제한사항 없음</td>\n",
       "      <td>온라인쇼핑몰, 강아지용품, 반려동물 원목가구</td>\n",
       "      <td>없음</td>\n",
       "    </tr>\n",
       "    <tr>\n",
       "      <th>21137</th>\n",
       "      <td>ZOO동물병원</td>\n",
       "      <td>서울특별시</td>\n",
       "      <td>성북구</td>\n",
       "      <td>동물병원</td>\n",
       "      <td>37.601998</td>\n",
       "      <td>127.019541</td>\n",
       "      <td>서울특별시 성북구 정릉로 328</td>\n",
       "      <td>서울특별시 성북구 정릉동 16-162</td>\n",
       "      <td>02-914-5545</td>\n",
       "      <td>정보없음</td>\n",
       "      <td>매주 일요일</td>\n",
       "      <td>월~금 10:00~19:00, 토 10:00~17:00</td>\n",
       "      <td>주차 불가</td>\n",
       "      <td>변동</td>\n",
       "      <td>모두 가능</td>\n",
       "      <td>제한사항 없음</td>\n",
       "      <td>일반동물병원</td>\n",
       "      <td>없음</td>\n",
       "    </tr>\n",
       "    <tr>\n",
       "      <th>21138</th>\n",
       "      <td>ZOO동물병원</td>\n",
       "      <td>울산광역시</td>\n",
       "      <td>남구</td>\n",
       "      <td>동물병원</td>\n",
       "      <td>35.543654</td>\n",
       "      <td>129.347126</td>\n",
       "      <td>울산광역시 남구 돋질로 385-1</td>\n",
       "      <td>울산광역시 남구 삼산동 180-33</td>\n",
       "      <td>052-903-8275</td>\n",
       "      <td>정보없음</td>\n",
       "      <td>매주 일요일</td>\n",
       "      <td>월~토 09:30~19:00</td>\n",
       "      <td>주차가능</td>\n",
       "      <td>변동</td>\n",
       "      <td>모두 가능</td>\n",
       "      <td>제한사항 없음</td>\n",
       "      <td>일반동물병원</td>\n",
       "      <td>없음</td>\n",
       "    </tr>\n",
       "  </tbody>\n",
       "</table>\n",
       "<p>21139 rows × 18 columns</p>\n",
       "</div>"
      ],
      "text/plain": [
       "            시설명   행정구역      시군구    시설분류         위도          경도  \\\n",
       "0       1004 약국    경기도  고양시 덕양구    동물약국  37.644543  126.886336   \n",
       "1      100세건강약국    경기도  안양시 만안구    동물약국  37.407150  126.914837   \n",
       "2        100세약국  서울특별시     영등포구    동물약국  37.533260  126.903741   \n",
       "3        100세약국    경기도  수원시 팔달구    동물약국  37.276272  127.030911   \n",
       "4        100세약국  인천광역시      남동구    동물약국  37.462072  126.708644   \n",
       "...         ...    ...      ...     ...        ...         ...   \n",
       "21134     y동물병원  대구광역시      수성구    동물병원  35.842243  128.697815   \n",
       "21135   YOLO오시개  부산광역시      사상구      카페  35.150589  129.012454   \n",
       "21136      YS유통    경기도      파주시  반려동물용품  37.751561  126.844647   \n",
       "21137   ZOO동물병원  서울특별시      성북구    동물병원  37.601998  127.019541   \n",
       "21138   ZOO동물병원  울산광역시       남구    동물병원  35.543654  129.347126   \n",
       "\n",
       "                        도로명주소                    지번주소            전화번호  \\\n",
       "0          경기도 고양시 덕양구 동세로 19   경기도 고양시 덕양구 동산동 352-1     02-381-5052   \n",
       "1         경기도 안양시 만안구 안양로 408   경기도 안양시 만안구 안양동 856-4    031-465-1320   \n",
       "2           서울특별시 영등포구 양평로 24  서울특별시 영등포구 당산동6가 217-4    02-2678-8217   \n",
       "3        경기도 수원시 팔달구 경수대로 568   경기도 수원시 팔달구 인계동 942-4    031-239-4801   \n",
       "4          인천광역시 남동구 남동대로 892     인천광역시 남동구 간석동 207-3    032-427-7585   \n",
       "...                       ...                     ...             ...   \n",
       "21134  대구광역시 수성구 달구벌대로 3116-1    대구광역시 수성구 시지동 258-14    053-791-7532   \n",
       "21135  부산광역시 사상구 가야대로366번길 10     부산광역시 사상구 주례동 60-55  0507-1318-4786   \n",
       "21136  경기도 파주시 조리읍 장곡로 120-35    경기도 파주시 조리읍 장곡리 73-3    031-942-8377   \n",
       "21137       서울특별시 성북구 정릉로 328    서울특별시 성북구 정릉동 16-162     02-914-5545   \n",
       "21138      울산광역시 남구 돋질로 385-1     울산광역시 남구 삼산동 180-33    052-903-8275   \n",
       "\n",
       "                                     홈페이지             휴무일  \\\n",
       "0                                    정보없음  매주 토, 일, 법정공휴일   \n",
       "1                                    정보없음   매주 일요일, 법정공휴일   \n",
       "2                                    정보없음   매주 일요일, 법정공휴일   \n",
       "3                                    정보없음   매주 일요일, 법정공휴일   \n",
       "4                                    정보없음         매주 토, 일   \n",
       "...                                   ...             ...   \n",
       "21134                                정보없음          매주 일요일   \n",
       "21135  http://instagram.com/yolo_playdogs          매주 화요일   \n",
       "21136             http://www.irina.co.kr/         매주 토, 일   \n",
       "21137                                정보없음          매주 일요일   \n",
       "21138                                정보없음          매주 일요일   \n",
       "\n",
       "                                 운영시간 주차가능여부   이용료정보   크기제한   기타제한사항  \\\n",
       "0                     월~금 09:00~18:00   주차가능      변동  모두 가능  제한사항 없음   \n",
       "1      월~금 09:00~21:00, 토 09:00~20:00  주차 불가      변동  모두 가능  제한사항 없음   \n",
       "2      월~금 08:30~21:00, 토 08:30~18:30  주차 불가      변동  모두 가능  제한사항 없음   \n",
       "3      월~금 09:00~19:00, 토 09:00~15:00  주차 불가      변동  모두 가능  제한사항 없음   \n",
       "4                     월~금 08:30~22:00  주차 불가      변동  모두 가능  제한사항 없음   \n",
       "...                               ...    ...     ...    ...      ...   \n",
       "21134  월~금 09:30~19:00, 토 09:30~18:30   주차가능      변동  모두 가능  제한사항 없음   \n",
       "21135                 수~월 13:00~20:00   주차가능  10000원  모두 가능  제한사항 없음   \n",
       "21136                 월~금 10:00~17:00   주차가능      없음  모두 가능  제한사항 없음   \n",
       "21137  월~금 10:00~19:00, 토 10:00~17:00  주차 불가      변동  모두 가능  제한사항 없음   \n",
       "21138                 월~토 09:30~19:00   주차가능      변동  모두 가능  제한사항 없음   \n",
       "\n",
       "                           장소요약       동반시추가요금  \n",
       "0                          동물약국            없음  \n",
       "1                          동물약국            없음  \n",
       "2                          동물약국            없음  \n",
       "3                          동물약국            없음  \n",
       "4                          동물약국            없음  \n",
       "...                         ...           ...  \n",
       "21134    일반동물병원, 일요일 야간 예약진료 가능            없음  \n",
       "21135                  애견카페, 호텔  2,000~6,000원  \n",
       "21136  온라인쇼핑몰, 강아지용품, 반려동물 원목가구            없음  \n",
       "21137                    일반동물병원            없음  \n",
       "21138                    일반동물병원            없음  \n",
       "\n",
       "[21139 rows x 18 columns]"
      ]
     },
     "execution_count": 232,
     "metadata": {},
     "output_type": "execute_result"
    }
   ],
   "source": [
    "df"
   ]
  },
  {
   "cell_type": "markdown",
   "id": "f1a0aefb",
   "metadata": {},
   "source": [
    "## 두개의 수치 비교 데이터"
   ]
  },
  {
   "cell_type": "code",
   "execution_count": 234,
   "id": "909b755d",
   "metadata": {},
   "outputs": [],
   "source": [
    "ulsan_df = df[df['행정구역'] == '울산광역시']"
   ]
  },
  {
   "cell_type": "code",
   "execution_count": 235,
   "id": "70023ea5",
   "metadata": {},
   "outputs": [
    {
     "data": {
      "text/plain": [
       "<matplotlib.legend.Legend at 0x1fce172f390>"
      ]
     },
     "execution_count": 235,
     "metadata": {},
     "output_type": "execute_result"
    },
    {
     "data": {
      "image/png": "[encoded data removed]",
      "text/plain": [
       "<Figure size 1200x1000 with 1 Axes>"
      ]
     },
     "metadata": {},
     "output_type": "display_data"
    }
   ],
   "source": [
    "plt.figure(figsize=(12, 10)) # 도화지를 그리고(도화지사이즈)\n",
    "\n",
    "sns.scatterplot(data=ulsan_df, x='경도', y='위도', hue='시설분류')\n",
    "plt.legend(bbox_to_anchor=(1,1))"
   ]
  },
  {
   "cell_type": "code",
   "execution_count": null,
   "id": "6be62716",
   "metadata": {},
   "outputs": [],
   "source": []
  },
  {
   "cell_type": "code",
   "execution_count": null,
   "id": "bc2fb23b",
   "metadata": {},
   "outputs": [],
   "source": []
  },
  {
   "cell_type": "code",
   "execution_count": null,
   "id": "2c2b94d2",
   "metadata": {},
   "outputs": [],
   "source": []
  },
  {
   "cell_type": "code",
   "execution_count": null,
   "id": "a4496bd4",
   "metadata": {},
   "outputs": [],
   "source": []
  },
  {
   "cell_type": "markdown",
   "id": "2549140c",
   "metadata": {},
   "source": [
    "***\n",
    "***\n",
    "***\n",
    "↓↓↓↓↓↓↓↓↓↓↓↓↓ **여기는 테스트 지워도됨** ↓↓↓↓↓↓↓↓↓↓↓↓↓↓↓↓↓↓↓"
   ]
  },
  {
   "cell_type": "markdown",
   "id": "3335d3a2",
   "metadata": {},
   "source": [
    "## 테스트"
   ]
  },
  {
   "cell_type": "markdown",
   "id": "8573e779",
   "metadata": {},
   "source": [
    "### 울산광역시"
   ]
  },
  {
   "cell_type": "code",
   "execution_count": null,
   "id": "8034bd5a",
   "metadata": {},
   "outputs": [],
   "source": [
    "ulsan_df = df[df['행정구역'] == '울산광역시']"
   ]
  },
  {
   "cell_type": "code",
   "execution_count": null,
   "id": "41074cfa",
   "metadata": {},
   "outputs": [],
   "source": [
    "lat = ulsan_df['위도'].mean()\n",
    "lng = ulsan_df['경도'].mean()"
   ]
  },
  {
   "cell_type": "code",
   "execution_count": null,
   "id": "c622ad3e",
   "metadata": {},
   "outputs": [],
   "source": [
    "# map = folium.Map(location=[lat, lng], zoom_start=10)\n",
    "\n",
    "# # 마커 표시\n",
    "# for row in ulsan_df.index:\n",
    "#     lat = df.loc[row, '위도']\n",
    "#     lng = df.loc[row, '경도']\n",
    "#     facility_name = df.loc[row, '시설명']\n",
    "    \n",
    "#     folium.Marker(\n",
    "#         location=[lat, lng],\n",
    "#         tooltip=facility_name,\n",
    "#         icon=folium.Icon(icon='cloud'),\n",
    "#         ).add_to(map)\n",
    "    \n",
    "# # LayerControl 추가\n",
    "# folium.LayerControl().add_to(map)\n",
    "# map"
   ]
  },
  {
   "cell_type": "code",
   "execution_count": null,
   "id": "3d0c4a33",
   "metadata": {},
   "outputs": [],
   "source": [
    "import folium\n",
    "\n",
    "# 울산광역시의 경도와 위도 평균 계산\n",
    "lat = ulsan_df['위도'].mean()\n",
    "lng = ulsan_df['경도'].mean()\n",
    "\n",
    "# Folium을 사용하여 지도 생성\n",
    "map = folium.Map(location=[lat, lng], zoom_start=10)\n",
    "\n",
    "# 시설분류 리스트\n",
    "facilities = ['동물약국', '카페', '동물병원', '반려동물용품', '미용', '문예회관',\n",
    "              '펜션', '식당', '여행지', '위탁관리', '박물관', '미술관', '호텔']\n",
    "\n",
    "# 레이어 생성\n",
    "layer_dict = {}  # 각 시설분류에 해당하는 레이어를 담을 딕셔너리\n",
    "\n",
    "# 시설분류 별로 레이어 생성 및 마커 추가\n",
    "for facility in facilities:\n",
    "    layer_dict[facility] = folium.FeatureGroup(name=facility)  # 시설분류를 이름으로 하는 레이어 생성\n",
    "    \n",
    "    # 해당 시설분류에 해당하는 마커 추가\n",
    "    for index, row in ulsan_df[ulsan_df['시설분류'] == facility].iterrows():\n",
    "        lat = row['위도']\n",
    "        lng = row['경도']\n",
    "        facility_name = row['시설분류']\n",
    "        \n",
    "        folium.Marker(\n",
    "            location=[lat, lng],\n",
    "            tooltip=row['시설명'],\n",
    "            icon=folium.Icon(icon='cloud'),\n",
    "        ).add_to(layer_dict[facility])  # 해당 레이어에 마커 추가\n",
    "\n",
    "# 모든 레이어를 지도에 추가\n",
    "for layer in layer_dict.values():\n",
    "    layer.add_to(map)\n",
    "\n",
    "# LayerControl을 시설분류로 추가\n",
    "folium.LayerControl().add_to(map)\n",
    "\n",
    "# 지도 표시\n",
    "map\n"
   ]
  },
  {
   "cell_type": "code",
   "execution_count": null,
   "id": "4949c080",
   "metadata": {},
   "outputs": [],
   "source": [
    "# import folium\n",
    "\n",
    "# # 울산광역시의 경도와 위도 평균 계산\n",
    "# lat = ulsan_df['위도'].mean()\n",
    "# lng = ulsan_df['경도'].mean()\n",
    "\n",
    "# # Folium을 사용하여 지도 생성\n",
    "# map = folium.Map(location=[lat, lng], zoom_start=10)\n",
    "\n",
    "# # 시설분류 리스트\n",
    "# facilities = ['동물약국', '카페', '동물병원', '반려동물용품', '미용', '문예회관', '펜션', '식당', '여행지', '위탁관리', '박물관', '미술관', '호텔']\n",
    "\n",
    "# # 레이어 생성\n",
    "# layer_dict = {}  # 각 시설분류에 해당하는 레이어를 담을 딕셔너리\n",
    "\n",
    "# # 시설분류 별로 레이어 생성 및 마커 추가\n",
    "# for facility in facilities:\n",
    "#     layer_dict[facility] = folium.FeatureGroup(name=facility)  # 시설분류를 이름으로 하는 레이어 생성\n",
    "    \n",
    "#     # 해당 시설분류에 해당하는 마커 추가\n",
    "#     for index, row in ulsan_df[ulsan_df['시설분류'] == facility].iterrows():\n",
    "#         lat = row['위도']\n",
    "#         lng = row['경도']\n",
    "#         facility_name = row['시설분류']\n",
    "        \n",
    "#         # 시설별로 아이콘 선택\n",
    "#         if facility == '동물약국':\n",
    "#             icon_type = 'hospital'\n",
    "#         elif facility == '카페':\n",
    "#             icon_type = 'coffee'\n",
    "#         else:\n",
    "#             icon_type = 'cloud'  # 기본 아이콘은 구름으로 설정\n",
    "        \n",
    "#         folium.Marker(\n",
    "#             location=[lat, lng],\n",
    "#             tooltip=facility_name,\n",
    "#             icon=folium.Icon(icon=icon_type),\n",
    "#         ).add_to(layer_dict[facility])  # 해당 레이어에 마커 추가\n",
    "\n",
    "# # 모든 레이어를 지도에 추가\n",
    "# for layer in layer_dict.values():\n",
    "#     layer.add_to(map)\n",
    "\n",
    "# # LayerControl 추가\n",
    "# folium.LayerControl().add_to(map)\n",
    "\n",
    "# # 지도 표시\n",
    "# map\n"
   ]
  },
  {
   "cell_type": "code",
   "execution_count": 236,
   "id": "7faa0a23",
   "metadata": {},
   "outputs": [
    {
     "data": {
      "text/html": [
       "<div>\n",
       "<style scoped>\n",
       "    .dataframe tbody tr th:only-of-type {\n",
       "        vertical-align: middle;\n",
       "    }\n",
       "\n",
       "    .dataframe tbody tr th {\n",
       "        vertical-align: top;\n",
       "    }\n",
       "\n",
       "    .dataframe thead th {\n",
       "        text-align: right;\n",
       "    }\n",
       "</style>\n",
       "<table border=\"1\" class=\"dataframe\">\n",
       "  <thead>\n",
       "    <tr style=\"text-align: right;\">\n",
       "      <th></th>\n",
       "      <th>시설명</th>\n",
       "      <th>행정구역</th>\n",
       "      <th>시군구</th>\n",
       "      <th>시설분류</th>\n",
       "      <th>위도</th>\n",
       "      <th>경도</th>\n",
       "      <th>도로명주소</th>\n",
       "      <th>지번주소</th>\n",
       "      <th>전화번호</th>\n",
       "      <th>홈페이지</th>\n",
       "      <th>휴무일</th>\n",
       "      <th>운영시간</th>\n",
       "      <th>주차가능여부</th>\n",
       "      <th>이용료정보</th>\n",
       "      <th>크기제한</th>\n",
       "      <th>기타제한사항</th>\n",
       "      <th>장소요약</th>\n",
       "      <th>동반시추가요금</th>\n",
       "    </tr>\n",
       "  </thead>\n",
       "  <tbody>\n",
       "    <tr>\n",
       "      <th>0</th>\n",
       "      <td>1004 약국</td>\n",
       "      <td>경기도</td>\n",
       "      <td>고양시 덕양구</td>\n",
       "      <td>동물약국</td>\n",
       "      <td>37.644543</td>\n",
       "      <td>126.886336</td>\n",
       "      <td>경기도 고양시 덕양구 동세로 19</td>\n",
       "      <td>경기도 고양시 덕양구 동산동 352-1</td>\n",
       "      <td>02-381-5052</td>\n",
       "      <td>정보없음</td>\n",
       "      <td>매주 토, 일, 법정공휴일</td>\n",
       "      <td>월~금 09:00~18:00</td>\n",
       "      <td>주차가능</td>\n",
       "      <td>변동</td>\n",
       "      <td>모두 가능</td>\n",
       "      <td>제한사항 없음</td>\n",
       "      <td>동물약국</td>\n",
       "      <td>없음</td>\n",
       "    </tr>\n",
       "    <tr>\n",
       "      <th>1</th>\n",
       "      <td>100세건강약국</td>\n",
       "      <td>경기도</td>\n",
       "      <td>안양시 만안구</td>\n",
       "      <td>동물약국</td>\n",
       "      <td>37.407150</td>\n",
       "      <td>126.914837</td>\n",
       "      <td>경기도 안양시 만안구 안양로 408</td>\n",
       "      <td>경기도 안양시 만안구 안양동 856-4</td>\n",
       "      <td>031-465-1320</td>\n",
       "      <td>정보없음</td>\n",
       "      <td>매주 일요일, 법정공휴일</td>\n",
       "      <td>월~금 09:00~21:00, 토 09:00~20:00</td>\n",
       "      <td>주차 불가</td>\n",
       "      <td>변동</td>\n",
       "      <td>모두 가능</td>\n",
       "      <td>제한사항 없음</td>\n",
       "      <td>동물약국</td>\n",
       "      <td>없음</td>\n",
       "    </tr>\n",
       "    <tr>\n",
       "      <th>2</th>\n",
       "      <td>100세약국</td>\n",
       "      <td>서울특별시</td>\n",
       "      <td>영등포구</td>\n",
       "      <td>동물약국</td>\n",
       "      <td>37.533260</td>\n",
       "      <td>126.903741</td>\n",
       "      <td>서울특별시 영등포구 양평로 24</td>\n",
       "      <td>서울특별시 영등포구 당산동6가 217-4</td>\n",
       "      <td>02-2678-8217</td>\n",
       "      <td>정보없음</td>\n",
       "      <td>매주 일요일, 법정공휴일</td>\n",
       "      <td>월~금 08:30~21:00, 토 08:30~18:30</td>\n",
       "      <td>주차 불가</td>\n",
       "      <td>변동</td>\n",
       "      <td>모두 가능</td>\n",
       "      <td>제한사항 없음</td>\n",
       "      <td>동물약국</td>\n",
       "      <td>없음</td>\n",
       "    </tr>\n",
       "    <tr>\n",
       "      <th>3</th>\n",
       "      <td>100세약국</td>\n",
       "      <td>경기도</td>\n",
       "      <td>수원시 팔달구</td>\n",
       "      <td>동물약국</td>\n",
       "      <td>37.276272</td>\n",
       "      <td>127.030911</td>\n",
       "      <td>경기도 수원시 팔달구 경수대로 568</td>\n",
       "      <td>경기도 수원시 팔달구 인계동 942-4</td>\n",
       "      <td>031-239-4801</td>\n",
       "      <td>정보없음</td>\n",
       "      <td>매주 일요일, 법정공휴일</td>\n",
       "      <td>월~금 09:00~19:00, 토 09:00~15:00</td>\n",
       "      <td>주차 불가</td>\n",
       "      <td>변동</td>\n",
       "      <td>모두 가능</td>\n",
       "      <td>제한사항 없음</td>\n",
       "      <td>동물약국</td>\n",
       "      <td>없음</td>\n",
       "    </tr>\n",
       "    <tr>\n",
       "      <th>4</th>\n",
       "      <td>100세약국</td>\n",
       "      <td>인천광역시</td>\n",
       "      <td>남동구</td>\n",
       "      <td>동물약국</td>\n",
       "      <td>37.462072</td>\n",
       "      <td>126.708644</td>\n",
       "      <td>인천광역시 남동구 남동대로 892</td>\n",
       "      <td>인천광역시 남동구 간석동 207-3</td>\n",
       "      <td>032-427-7585</td>\n",
       "      <td>정보없음</td>\n",
       "      <td>매주 토, 일</td>\n",
       "      <td>월~금 08:30~22:00</td>\n",
       "      <td>주차 불가</td>\n",
       "      <td>변동</td>\n",
       "      <td>모두 가능</td>\n",
       "      <td>제한사항 없음</td>\n",
       "      <td>동물약국</td>\n",
       "      <td>없음</td>\n",
       "    </tr>\n",
       "    <tr>\n",
       "      <th>...</th>\n",
       "      <td>...</td>\n",
       "      <td>...</td>\n",
       "      <td>...</td>\n",
       "      <td>...</td>\n",
       "      <td>...</td>\n",
       "      <td>...</td>\n",
       "      <td>...</td>\n",
       "      <td>...</td>\n",
       "      <td>...</td>\n",
       "      <td>...</td>\n",
       "      <td>...</td>\n",
       "      <td>...</td>\n",
       "      <td>...</td>\n",
       "      <td>...</td>\n",
       "      <td>...</td>\n",
       "      <td>...</td>\n",
       "      <td>...</td>\n",
       "      <td>...</td>\n",
       "    </tr>\n",
       "    <tr>\n",
       "      <th>21134</th>\n",
       "      <td>y동물병원</td>\n",
       "      <td>대구광역시</td>\n",
       "      <td>수성구</td>\n",
       "      <td>동물병원</td>\n",
       "      <td>35.842243</td>\n",
       "      <td>128.697815</td>\n",
       "      <td>대구광역시 수성구 달구벌대로 3116-1</td>\n",
       "      <td>대구광역시 수성구 시지동 258-14</td>\n",
       "      <td>053-791-7532</td>\n",
       "      <td>정보없음</td>\n",
       "      <td>매주 일요일</td>\n",
       "      <td>월~금 09:30~19:00, 토 09:30~18:30</td>\n",
       "      <td>주차가능</td>\n",
       "      <td>변동</td>\n",
       "      <td>모두 가능</td>\n",
       "      <td>제한사항 없음</td>\n",
       "      <td>일반동물병원, 일요일 야간 예약진료 가능</td>\n",
       "      <td>없음</td>\n",
       "    </tr>\n",
       "    <tr>\n",
       "      <th>21135</th>\n",
       "      <td>YOLO오시개</td>\n",
       "      <td>부산광역시</td>\n",
       "      <td>사상구</td>\n",
       "      <td>카페</td>\n",
       "      <td>35.150589</td>\n",
       "      <td>129.012454</td>\n",
       "      <td>부산광역시 사상구 가야대로366번길 10</td>\n",
       "      <td>부산광역시 사상구 주례동 60-55</td>\n",
       "      <td>0507-1318-4786</td>\n",
       "      <td>http://instagram.com/yolo_playdogs</td>\n",
       "      <td>매주 화요일</td>\n",
       "      <td>수~월 13:00~20:00</td>\n",
       "      <td>주차가능</td>\n",
       "      <td>10000원</td>\n",
       "      <td>모두 가능</td>\n",
       "      <td>제한사항 없음</td>\n",
       "      <td>애견카페, 호텔</td>\n",
       "      <td>2,000~6,000원</td>\n",
       "    </tr>\n",
       "    <tr>\n",
       "      <th>21136</th>\n",
       "      <td>YS유통</td>\n",
       "      <td>경기도</td>\n",
       "      <td>파주시</td>\n",
       "      <td>반려동물용품</td>\n",
       "      <td>37.751561</td>\n",
       "      <td>126.844647</td>\n",
       "      <td>경기도 파주시 조리읍 장곡로 120-35</td>\n",
       "      <td>경기도 파주시 조리읍 장곡리 73-3</td>\n",
       "      <td>031-942-8377</td>\n",
       "      <td>http://www.irina.co.kr/</td>\n",
       "      <td>매주 토, 일</td>\n",
       "      <td>월~금 10:00~17:00</td>\n",
       "      <td>주차가능</td>\n",
       "      <td>없음</td>\n",
       "      <td>모두 가능</td>\n",
       "      <td>제한사항 없음</td>\n",
       "      <td>온라인쇼핑몰, 강아지용품, 반려동물 원목가구</td>\n",
       "      <td>없음</td>\n",
       "    </tr>\n",
       "    <tr>\n",
       "      <th>21137</th>\n",
       "      <td>ZOO동물병원</td>\n",
       "      <td>서울특별시</td>\n",
       "      <td>성북구</td>\n",
       "      <td>동물병원</td>\n",
       "      <td>37.601998</td>\n",
       "      <td>127.019541</td>\n",
       "      <td>서울특별시 성북구 정릉로 328</td>\n",
       "      <td>서울특별시 성북구 정릉동 16-162</td>\n",
       "      <td>02-914-5545</td>\n",
       "      <td>정보없음</td>\n",
       "      <td>매주 일요일</td>\n",
       "      <td>월~금 10:00~19:00, 토 10:00~17:00</td>\n",
       "      <td>주차 불가</td>\n",
       "      <td>변동</td>\n",
       "      <td>모두 가능</td>\n",
       "      <td>제한사항 없음</td>\n",
       "      <td>일반동물병원</td>\n",
       "      <td>없음</td>\n",
       "    </tr>\n",
       "    <tr>\n",
       "      <th>21138</th>\n",
       "      <td>ZOO동물병원</td>\n",
       "      <td>울산광역시</td>\n",
       "      <td>남구</td>\n",
       "      <td>동물병원</td>\n",
       "      <td>35.543654</td>\n",
       "      <td>129.347126</td>\n",
       "      <td>울산광역시 남구 돋질로 385-1</td>\n",
       "      <td>울산광역시 남구 삼산동 180-33</td>\n",
       "      <td>052-903-8275</td>\n",
       "      <td>정보없음</td>\n",
       "      <td>매주 일요일</td>\n",
       "      <td>월~토 09:30~19:00</td>\n",
       "      <td>주차가능</td>\n",
       "      <td>변동</td>\n",
       "      <td>모두 가능</td>\n",
       "      <td>제한사항 없음</td>\n",
       "      <td>일반동물병원</td>\n",
       "      <td>없음</td>\n",
       "    </tr>\n",
       "  </tbody>\n",
       "</table>\n",
       "<p>21139 rows × 18 columns</p>\n",
       "</div>"
      ],
      "text/plain": [
       "            시설명   행정구역      시군구    시설분류         위도          경도  \\\n",
       "0       1004 약국    경기도  고양시 덕양구    동물약국  37.644543  126.886336   \n",
       "1      100세건강약국    경기도  안양시 만안구    동물약국  37.407150  126.914837   \n",
       "2        100세약국  서울특별시     영등포구    동물약국  37.533260  126.903741   \n",
       "3        100세약국    경기도  수원시 팔달구    동물약국  37.276272  127.030911   \n",
       "4        100세약국  인천광역시      남동구    동물약국  37.462072  126.708644   \n",
       "...         ...    ...      ...     ...        ...         ...   \n",
       "21134     y동물병원  대구광역시      수성구    동물병원  35.842243  128.697815   \n",
       "21135   YOLO오시개  부산광역시      사상구      카페  35.150589  129.012454   \n",
       "21136      YS유통    경기도      파주시  반려동물용품  37.751561  126.844647   \n",
       "21137   ZOO동물병원  서울특별시      성북구    동물병원  37.601998  127.019541   \n",
       "21138   ZOO동물병원  울산광역시       남구    동물병원  35.543654  129.347126   \n",
       "\n",
       "                        도로명주소                    지번주소            전화번호  \\\n",
       "0          경기도 고양시 덕양구 동세로 19   경기도 고양시 덕양구 동산동 352-1     02-381-5052   \n",
       "1         경기도 안양시 만안구 안양로 408   경기도 안양시 만안구 안양동 856-4    031-465-1320   \n",
       "2           서울특별시 영등포구 양평로 24  서울특별시 영등포구 당산동6가 217-4    02-2678-8217   \n",
       "3        경기도 수원시 팔달구 경수대로 568   경기도 수원시 팔달구 인계동 942-4    031-239-4801   \n",
       "4          인천광역시 남동구 남동대로 892     인천광역시 남동구 간석동 207-3    032-427-7585   \n",
       "...                       ...                     ...             ...   \n",
       "21134  대구광역시 수성구 달구벌대로 3116-1    대구광역시 수성구 시지동 258-14    053-791-7532   \n",
       "21135  부산광역시 사상구 가야대로366번길 10     부산광역시 사상구 주례동 60-55  0507-1318-4786   \n",
       "21136  경기도 파주시 조리읍 장곡로 120-35    경기도 파주시 조리읍 장곡리 73-3    031-942-8377   \n",
       "21137       서울특별시 성북구 정릉로 328    서울특별시 성북구 정릉동 16-162     02-914-5545   \n",
       "21138      울산광역시 남구 돋질로 385-1     울산광역시 남구 삼산동 180-33    052-903-8275   \n",
       "\n",
       "                                     홈페이지             휴무일  \\\n",
       "0                                    정보없음  매주 토, 일, 법정공휴일   \n",
       "1                                    정보없음   매주 일요일, 법정공휴일   \n",
       "2                                    정보없음   매주 일요일, 법정공휴일   \n",
       "3                                    정보없음   매주 일요일, 법정공휴일   \n",
       "4                                    정보없음         매주 토, 일   \n",
       "...                                   ...             ...   \n",
       "21134                                정보없음          매주 일요일   \n",
       "21135  http://instagram.com/yolo_playdogs          매주 화요일   \n",
       "21136             http://www.irina.co.kr/         매주 토, 일   \n",
       "21137                                정보없음          매주 일요일   \n",
       "21138                                정보없음          매주 일요일   \n",
       "\n",
       "                                 운영시간 주차가능여부   이용료정보   크기제한   기타제한사항  \\\n",
       "0                     월~금 09:00~18:00   주차가능      변동  모두 가능  제한사항 없음   \n",
       "1      월~금 09:00~21:00, 토 09:00~20:00  주차 불가      변동  모두 가능  제한사항 없음   \n",
       "2      월~금 08:30~21:00, 토 08:30~18:30  주차 불가      변동  모두 가능  제한사항 없음   \n",
       "3      월~금 09:00~19:00, 토 09:00~15:00  주차 불가      변동  모두 가능  제한사항 없음   \n",
       "4                     월~금 08:30~22:00  주차 불가      변동  모두 가능  제한사항 없음   \n",
       "...                               ...    ...     ...    ...      ...   \n",
       "21134  월~금 09:30~19:00, 토 09:30~18:30   주차가능      변동  모두 가능  제한사항 없음   \n",
       "21135                 수~월 13:00~20:00   주차가능  10000원  모두 가능  제한사항 없음   \n",
       "21136                 월~금 10:00~17:00   주차가능      없음  모두 가능  제한사항 없음   \n",
       "21137  월~금 10:00~19:00, 토 10:00~17:00  주차 불가      변동  모두 가능  제한사항 없음   \n",
       "21138                 월~토 09:30~19:00   주차가능      변동  모두 가능  제한사항 없음   \n",
       "\n",
       "                           장소요약       동반시추가요금  \n",
       "0                          동물약국            없음  \n",
       "1                          동물약국            없음  \n",
       "2                          동물약국            없음  \n",
       "3                          동물약국            없음  \n",
       "4                          동물약국            없음  \n",
       "...                         ...           ...  \n",
       "21134    일반동물병원, 일요일 야간 예약진료 가능            없음  \n",
       "21135                  애견카페, 호텔  2,000~6,000원  \n",
       "21136  온라인쇼핑몰, 강아지용품, 반려동물 원목가구            없음  \n",
       "21137                    일반동물병원            없음  \n",
       "21138                    일반동물병원            없음  \n",
       "\n",
       "[21139 rows x 18 columns]"
      ]
     },
     "execution_count": 236,
     "metadata": {},
     "output_type": "execute_result"
    }
   ],
   "source": [
    "df"
   ]
  },
  {
   "cell_type": "code",
   "execution_count": 237,
   "id": "e422b9d1",
   "metadata": {},
   "outputs": [],
   "source": [
    "grouped = df.groupby(by='행정구역').size().reset_index(name='시설 개수')"
   ]
  },
  {
   "cell_type": "code",
   "execution_count": 238,
   "id": "17cf87b0",
   "metadata": {},
   "outputs": [
    {
     "data": {
      "text/html": [
       "<div>\n",
       "<style scoped>\n",
       "    .dataframe tbody tr th:only-of-type {\n",
       "        vertical-align: middle;\n",
       "    }\n",
       "\n",
       "    .dataframe tbody tr th {\n",
       "        vertical-align: top;\n",
       "    }\n",
       "\n",
       "    .dataframe thead th {\n",
       "        text-align: right;\n",
       "    }\n",
       "</style>\n",
       "<table border=\"1\" class=\"dataframe\">\n",
       "  <thead>\n",
       "    <tr style=\"text-align: right;\">\n",
       "      <th></th>\n",
       "      <th>행정구역</th>\n",
       "      <th>시설 개수</th>\n",
       "    </tr>\n",
       "  </thead>\n",
       "  <tbody>\n",
       "    <tr>\n",
       "      <th>0</th>\n",
       "      <td>강원도</td>\n",
       "      <td>689</td>\n",
       "    </tr>\n",
       "    <tr>\n",
       "      <th>1</th>\n",
       "      <td>경기도</td>\n",
       "      <td>5918</td>\n",
       "    </tr>\n",
       "    <tr>\n",
       "      <th>2</th>\n",
       "      <td>경상남도</td>\n",
       "      <td>1280</td>\n",
       "    </tr>\n",
       "    <tr>\n",
       "      <th>3</th>\n",
       "      <td>경상북도</td>\n",
       "      <td>931</td>\n",
       "    </tr>\n",
       "    <tr>\n",
       "      <th>4</th>\n",
       "      <td>광주광역시</td>\n",
       "      <td>526</td>\n",
       "    </tr>\n",
       "    <tr>\n",
       "      <th>5</th>\n",
       "      <td>대구광역시</td>\n",
       "      <td>895</td>\n",
       "    </tr>\n",
       "    <tr>\n",
       "      <th>6</th>\n",
       "      <td>대전광역시</td>\n",
       "      <td>576</td>\n",
       "    </tr>\n",
       "    <tr>\n",
       "      <th>7</th>\n",
       "      <td>부산광역시</td>\n",
       "      <td>1310</td>\n",
       "    </tr>\n",
       "    <tr>\n",
       "      <th>8</th>\n",
       "      <td>서울특별시</td>\n",
       "      <td>3915</td>\n",
       "    </tr>\n",
       "    <tr>\n",
       "      <th>9</th>\n",
       "      <td>세종특별자치시</td>\n",
       "      <td>134</td>\n",
       "    </tr>\n",
       "    <tr>\n",
       "      <th>10</th>\n",
       "      <td>울산광역시</td>\n",
       "      <td>404</td>\n",
       "    </tr>\n",
       "    <tr>\n",
       "      <th>11</th>\n",
       "      <td>인천광역시</td>\n",
       "      <td>1229</td>\n",
       "    </tr>\n",
       "    <tr>\n",
       "      <th>12</th>\n",
       "      <td>전라남도</td>\n",
       "      <td>719</td>\n",
       "    </tr>\n",
       "    <tr>\n",
       "      <th>13</th>\n",
       "      <td>전라북도</td>\n",
       "      <td>765</td>\n",
       "    </tr>\n",
       "    <tr>\n",
       "      <th>14</th>\n",
       "      <td>제주특별자치도</td>\n",
       "      <td>465</td>\n",
       "    </tr>\n",
       "    <tr>\n",
       "      <th>15</th>\n",
       "      <td>충청남도</td>\n",
       "      <td>839</td>\n",
       "    </tr>\n",
       "    <tr>\n",
       "      <th>16</th>\n",
       "      <td>충청북도</td>\n",
       "      <td>544</td>\n",
       "    </tr>\n",
       "  </tbody>\n",
       "</table>\n",
       "</div>"
      ],
      "text/plain": [
       "       행정구역  시설 개수\n",
       "0       강원도    689\n",
       "1       경기도   5918\n",
       "2      경상남도   1280\n",
       "3      경상북도    931\n",
       "4     광주광역시    526\n",
       "5     대구광역시    895\n",
       "6     대전광역시    576\n",
       "7     부산광역시   1310\n",
       "8     서울특별시   3915\n",
       "9   세종특별자치시    134\n",
       "10    울산광역시    404\n",
       "11    인천광역시   1229\n",
       "12     전라남도    719\n",
       "13     전라북도    765\n",
       "14  제주특별자치도    465\n",
       "15     충청남도    839\n",
       "16     충청북도    544"
      ]
     },
     "execution_count": 238,
     "metadata": {},
     "output_type": "execute_result"
    }
   ],
   "source": [
    "grouped"
   ]
  },
  {
   "cell_type": "code",
   "execution_count": 253,
   "id": "6ce41d06",
   "metadata": {},
   "outputs": [
    {
     "data": {
      "text/plain": [
       "<Axes: xlabel='시설 개수', ylabel='행정구역'>"
      ]
     },
     "execution_count": 253,
     "metadata": {},
     "output_type": "execute_result"
    },
    {
     "data": {
      "image/png": "[encoded data removed]",
      "text/plain": [
       "<Figure size 640x480 with 1 Axes>"
      ]
     },
     "metadata": {},
     "output_type": "display_data"
    }
   ],
   "source": [
    "sns.barplot(data=grouped, x='시설 개수', y='행정구역')"
   ]
  },
  {
   "cell_type": "code",
   "execution_count": 262,
   "id": "898a21cc",
   "metadata": {},
   "outputs": [
    {
     "data": {
      "text/plain": [
       "<Axes: xlabel='count', ylabel='행정구역'>"
      ]
     },
     "execution_count": 262,
     "metadata": {},
     "output_type": "execute_result"
    },
    {
     "data": {
      "image/png": "[encoded data removed]",
      "text/plain": [
       "<Figure size 1000x600 with 1 Axes>"
      ]
     },
     "metadata": {},
     "output_type": "display_data"
    }
   ],
   "source": [
    "plt.figure(figsize=(10, 6))\n",
    "sns.countplot(data=df, y='행정구역', hue='주차가능여부')"
   ]
  },
  {
   "cell_type": "code",
   "execution_count": null,
   "id": "84457f06",
   "metadata": {},
   "outputs": [],
   "source": []
  }
 ],
 "metadata": {
  "kernelspec": {
   "display_name": "Python 3 (ipykernel)",
   "language": "python",
   "name": "python3"
  },
  "language_info": {
   "codemirror_mode": {
    "name": "ipython",
    "version": 3
   },
   "file_extension": ".py",
   "mimetype": "text/x-python",
   "name": "python",
   "nbconvert_exporter": "python",
   "pygments_lexer": "ipython3",
   "version": "3.11.5"
  },
  "toc": {
   "base_numbering": 1,
   "nav_menu": {},
   "number_sections": true,
   "sideBar": true,
   "skip_h1_title": false,
   "title_cell": "Table of Contents",
   "title_sidebar": "Contents",
   "toc_cell": false,
   "toc_position": {},
   "toc_section_display": true,
   "toc_window_display": false
  },
  "varInspector": {
   "cols": {
    "lenName": 16,
    "lenType": 16,
    "lenVar": 40
   },
   "kernels_config": {
    "python": {
     "delete_cmd_postfix": "",
     "delete_cmd_prefix": "del ",
     "library": "var_list.py",
     "varRefreshCmd": "print(var_dic_list())"
    },
    "r": {
     "delete_cmd_postfix": ") ",
     "delete_cmd_prefix": "rm(",
     "library": "var_list.r",
     "varRefreshCmd": "cat(var_dic_list()) "
    }
   },
   "types_to_exclude": [
    "module",
    "function",
    "builtin_function_or_method",
    "instance",
    "_Feature"
   ],
   "window_display": false
  }
 },
 "nbformat": 4,
 "nbformat_minor": 5
}
