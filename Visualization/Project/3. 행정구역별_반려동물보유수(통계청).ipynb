{
 "cells": [
  {
   "cell_type": "markdown",
   "id": "59047252",
   "metadata": {},
   "source": [
    "## Import"
   ]
  },
  {
   "cell_type": "code",
   "execution_count": 59,
   "id": "85fe29eb",
   "metadata": {},
   "outputs": [],
   "source": [
    "import pandas as pd                # 데이터 분석을 위해 pandas\n",
    "import numpy as np                 # 수치계산을 위해 numpy\n",
    "import matplotlib.pyplot as plt    # 시각화를 위해 mapplotlib, seaborn를 불러온다.\n",
    "import seaborn as sns"
   ]
  },
  {
   "cell_type": "code",
   "execution_count": 60,
   "id": "f93be0de",
   "metadata": {},
   "outputs": [],
   "source": [
    "# 한글 설정 & 마이너스 표시\n",
    "plt.rc('font', family='Malgun Gothic')\n",
    "plt.rc('axes', unicode_minus=False)"
   ]
  },
  {
   "cell_type": "markdown",
   "id": "8a0f9a33",
   "metadata": {},
   "source": [
    "## 데이터 가져오기 (data/housing_data.csv)"
   ]
  },
  {
   "cell_type": "code",
   "execution_count": 61,
   "id": "4a77b55a",
   "metadata": {},
   "outputs": [
    {
     "data": {
      "text/html": [
       "<div>\n",
       "<style scoped>\n",
       "    .dataframe tbody tr th:only-of-type {\n",
       "        vertical-align: middle;\n",
       "    }\n",
       "\n",
       "    .dataframe tbody tr th {\n",
       "        vertical-align: top;\n",
       "    }\n",
       "\n",
       "    .dataframe thead th {\n",
       "        text-align: right;\n",
       "    }\n",
       "</style>\n",
       "<table border=\"1\" class=\"dataframe\">\n",
       "  <thead>\n",
       "    <tr style=\"text-align: right;\">\n",
       "      <th></th>\n",
       "      <th>행정구역별(시도)</th>\n",
       "      <th>연령대</th>\n",
       "      <th>가구구분</th>\n",
       "      <th>2020</th>\n",
       "      <th>2020.1</th>\n",
       "      <th>2020.2</th>\n",
       "      <th>2020.3</th>\n",
       "      <th>2020.4</th>\n",
       "      <th>2020.5</th>\n",
       "      <th>2020.6</th>\n",
       "      <th>2020.7</th>\n",
       "      <th>2020.8</th>\n",
       "      <th>2020.9</th>\n",
       "      <th>2020.10</th>\n",
       "      <th>2020.11</th>\n",
       "    </tr>\n",
       "  </thead>\n",
       "  <tbody>\n",
       "    <tr>\n",
       "      <th>0</th>\n",
       "      <td>행정구역별(시도)</td>\n",
       "      <td>연령대</td>\n",
       "      <td>가구구분</td>\n",
       "      <td>가구-계</td>\n",
       "      <td>반려동물미보유가구-계</td>\n",
       "      <td>반려동물보유가구-계</td>\n",
       "      <td>단일-계</td>\n",
       "      <td>단일-개</td>\n",
       "      <td>단일-고양이</td>\n",
       "      <td>단일-기타</td>\n",
       "      <td>복합-계</td>\n",
       "      <td>복합-개+고양이</td>\n",
       "      <td>복합-개+기타</td>\n",
       "      <td>복합-고양이+기타</td>\n",
       "      <td>복합-개+고양이+기타</td>\n",
       "    </tr>\n",
       "    <tr>\n",
       "      <th>1</th>\n",
       "      <td>전국</td>\n",
       "      <td>계</td>\n",
       "      <td>계</td>\n",
       "      <td>20926710</td>\n",
       "      <td>17797748</td>\n",
       "      <td>3128962</td>\n",
       "      <td>2970999</td>\n",
       "      <td>2268514</td>\n",
       "      <td>571045</td>\n",
       "      <td>131440</td>\n",
       "      <td>157963</td>\n",
       "      <td>139644</td>\n",
       "      <td>11787</td>\n",
       "      <td>3060</td>\n",
       "      <td>3472</td>\n",
       "    </tr>\n",
       "    <tr>\n",
       "      <th>2</th>\n",
       "      <td>동부</td>\n",
       "      <td>계</td>\n",
       "      <td>계</td>\n",
       "      <td>16898553</td>\n",
       "      <td>14567149</td>\n",
       "      <td>2331404</td>\n",
       "      <td>2234509</td>\n",
       "      <td>1651735</td>\n",
       "      <td>471844</td>\n",
       "      <td>110930</td>\n",
       "      <td>96895</td>\n",
       "      <td>86821</td>\n",
       "      <td>5986</td>\n",
       "      <td>2482</td>\n",
       "      <td>1606</td>\n",
       "    </tr>\n",
       "    <tr>\n",
       "      <th>3</th>\n",
       "      <td>읍부</td>\n",
       "      <td>계</td>\n",
       "      <td>계</td>\n",
       "      <td>2022526</td>\n",
       "      <td>1679440</td>\n",
       "      <td>343086</td>\n",
       "      <td>322110</td>\n",
       "      <td>253849</td>\n",
       "      <td>55846</td>\n",
       "      <td>12415</td>\n",
       "      <td>20976</td>\n",
       "      <td>18411</td>\n",
       "      <td>1681</td>\n",
       "      <td>313</td>\n",
       "      <td>571</td>\n",
       "    </tr>\n",
       "    <tr>\n",
       "      <th>4</th>\n",
       "      <td>면부</td>\n",
       "      <td>계</td>\n",
       "      <td>계</td>\n",
       "      <td>2005631</td>\n",
       "      <td>1551159</td>\n",
       "      <td>454472</td>\n",
       "      <td>414380</td>\n",
       "      <td>362930</td>\n",
       "      <td>43355</td>\n",
       "      <td>8095</td>\n",
       "      <td>40092</td>\n",
       "      <td>34412</td>\n",
       "      <td>4120</td>\n",
       "      <td>265</td>\n",
       "      <td>1295</td>\n",
       "    </tr>\n",
       "    <tr>\n",
       "      <th>5</th>\n",
       "      <td>서울특별시</td>\n",
       "      <td>계</td>\n",
       "      <td>계</td>\n",
       "      <td>3982290</td>\n",
       "      <td>3484177</td>\n",
       "      <td>498113</td>\n",
       "      <td>479284</td>\n",
       "      <td>344419</td>\n",
       "      <td>110065</td>\n",
       "      <td>24800</td>\n",
       "      <td>18829</td>\n",
       "      <td>16740</td>\n",
       "      <td>1190</td>\n",
       "      <td>602</td>\n",
       "      <td>297</td>\n",
       "    </tr>\n",
       "    <tr>\n",
       "      <th>6</th>\n",
       "      <td>부산광역시</td>\n",
       "      <td>계</td>\n",
       "      <td>계</td>\n",
       "      <td>1405037</td>\n",
       "      <td>1220755</td>\n",
       "      <td>184282</td>\n",
       "      <td>176379</td>\n",
       "      <td>129190</td>\n",
       "      <td>39051</td>\n",
       "      <td>8138</td>\n",
       "      <td>7903</td>\n",
       "      <td>7182</td>\n",
       "      <td>434</td>\n",
       "      <td>201</td>\n",
       "      <td>86</td>\n",
       "    </tr>\n",
       "  </tbody>\n",
       "</table>\n",
       "</div>"
      ],
      "text/plain": [
       "   행정구역별(시도)  연령대  가구구분      2020       2020.1      2020.2   2020.3   2020.4  \\\n",
       "0  행정구역별(시도)  연령대  가구구분      가구-계  반려동물미보유가구-계  반려동물보유가구-계     단일-계     단일-개   \n",
       "1         전국    계     계  20926710     17797748     3128962  2970999  2268514   \n",
       "2         동부    계     계  16898553     14567149     2331404  2234509  1651735   \n",
       "3         읍부    계     계   2022526      1679440      343086   322110   253849   \n",
       "4         면부    계     계   2005631      1551159      454472   414380   362930   \n",
       "5      서울특별시    계     계   3982290      3484177      498113   479284   344419   \n",
       "6      부산광역시    계     계   1405037      1220755      184282   176379   129190   \n",
       "\n",
       "   2020.5  2020.6  2020.7    2020.8   2020.9    2020.10      2020.11  \n",
       "0  단일-고양이   단일-기타    복합-계  복합-개+고양이  복합-개+기타  복합-고양이+기타  복합-개+고양이+기타  \n",
       "1  571045  131440  157963    139644    11787       3060         3472  \n",
       "2  471844  110930   96895     86821     5986       2482         1606  \n",
       "3   55846   12415   20976     18411     1681        313          571  \n",
       "4   43355    8095   40092     34412     4120        265         1295  \n",
       "5  110065   24800   18829     16740     1190        602          297  \n",
       "6   39051    8138    7903      7182      434        201           86  "
      ]
     },
     "execution_count": 61,
     "metadata": {},
     "output_type": "execute_result"
    }
   ],
   "source": [
    "# CSV 파일 읽기\n",
    "df = pd.read_csv('data/housing_data.csv', encoding='cp949')\n",
    "df.head(7)"
   ]
  },
  {
   "cell_type": "markdown",
   "id": "d4bd0f68",
   "metadata": {},
   "source": [
    "## 데이터 전처리"
   ]
  },
  {
   "cell_type": "markdown",
   "id": "3741e504",
   "metadata": {},
   "source": [
    "### 0행의 값을 컬럼에 넣고 불필요한 행 제거"
   ]
  },
  {
   "cell_type": "code",
   "execution_count": 62,
   "id": "cfc4c83e",
   "metadata": {},
   "outputs": [],
   "source": [
    "columns = df.iloc[0]"
   ]
  },
  {
   "cell_type": "code",
   "execution_count": 63,
   "id": "d7082925",
   "metadata": {},
   "outputs": [],
   "source": [
    "df.columns = columns"
   ]
  },
  {
   "cell_type": "code",
   "execution_count": 64,
   "id": "fc3de7b0",
   "metadata": {},
   "outputs": [],
   "source": [
    "df = df.drop(df.index[0:5]).reset_index(drop=True)"
   ]
  },
  {
   "cell_type": "code",
   "execution_count": 65,
   "id": "a5b482e4",
   "metadata": {},
   "outputs": [
    {
     "data": {
      "text/html": [
       "<div>\n",
       "<style scoped>\n",
       "    .dataframe tbody tr th:only-of-type {\n",
       "        vertical-align: middle;\n",
       "    }\n",
       "\n",
       "    .dataframe tbody tr th {\n",
       "        vertical-align: top;\n",
       "    }\n",
       "\n",
       "    .dataframe thead th {\n",
       "        text-align: right;\n",
       "    }\n",
       "</style>\n",
       "<table border=\"1\" class=\"dataframe\">\n",
       "  <thead>\n",
       "    <tr style=\"text-align: right;\">\n",
       "      <th></th>\n",
       "      <th>행정구역별(시도)</th>\n",
       "      <th>연령대</th>\n",
       "      <th>가구구분</th>\n",
       "      <th>가구-계</th>\n",
       "      <th>반려동물미보유가구-계</th>\n",
       "      <th>반려동물보유가구-계</th>\n",
       "      <th>단일-계</th>\n",
       "      <th>단일-개</th>\n",
       "      <th>단일-고양이</th>\n",
       "      <th>단일-기타</th>\n",
       "      <th>복합-계</th>\n",
       "      <th>복합-개+고양이</th>\n",
       "      <th>복합-개+기타</th>\n",
       "      <th>복합-고양이+기타</th>\n",
       "      <th>복합-개+고양이+기타</th>\n",
       "    </tr>\n",
       "  </thead>\n",
       "  <tbody>\n",
       "    <tr>\n",
       "      <th>0</th>\n",
       "      <td>서울특별시</td>\n",
       "      <td>계</td>\n",
       "      <td>계</td>\n",
       "      <td>3982290</td>\n",
       "      <td>3484177</td>\n",
       "      <td>498113</td>\n",
       "      <td>479284</td>\n",
       "      <td>344419</td>\n",
       "      <td>110065</td>\n",
       "      <td>24800</td>\n",
       "      <td>18829</td>\n",
       "      <td>16740</td>\n",
       "      <td>1190</td>\n",
       "      <td>602</td>\n",
       "      <td>297</td>\n",
       "    </tr>\n",
       "    <tr>\n",
       "      <th>1</th>\n",
       "      <td>부산광역시</td>\n",
       "      <td>계</td>\n",
       "      <td>계</td>\n",
       "      <td>1405037</td>\n",
       "      <td>1220755</td>\n",
       "      <td>184282</td>\n",
       "      <td>176379</td>\n",
       "      <td>129190</td>\n",
       "      <td>39051</td>\n",
       "      <td>8138</td>\n",
       "      <td>7903</td>\n",
       "      <td>7182</td>\n",
       "      <td>434</td>\n",
       "      <td>201</td>\n",
       "      <td>86</td>\n",
       "    </tr>\n",
       "  </tbody>\n",
       "</table>\n",
       "</div>"
      ],
      "text/plain": [
       "0 행정구역별(시도) 연령대 가구구분     가구-계 반려동물미보유가구-계 반려동물보유가구-계    단일-계    단일-개  단일-고양이  \\\n",
       "0     서울특별시   계    계  3982290     3484177     498113  479284  344419  110065   \n",
       "1     부산광역시   계    계  1405037     1220755     184282  176379  129190   39051   \n",
       "\n",
       "0  단일-기타   복합-계 복합-개+고양이 복합-개+기타 복합-고양이+기타 복합-개+고양이+기타  \n",
       "0  24800  18829    16740    1190       602         297  \n",
       "1   8138   7903     7182     434       201          86  "
      ]
     },
     "execution_count": 65,
     "metadata": {},
     "output_type": "execute_result"
    }
   ],
   "source": [
    "df.head(2)"
   ]
  },
  {
   "cell_type": "markdown",
   "id": "5bc564bd",
   "metadata": {},
   "source": [
    "### 불필요한 컬럼 제거"
   ]
  },
  {
   "cell_type": "code",
   "execution_count": 66,
   "id": "c3fb5d78",
   "metadata": {},
   "outputs": [
    {
     "data": {
      "text/html": [
       "<div>\n",
       "<style scoped>\n",
       "    .dataframe tbody tr th:only-of-type {\n",
       "        vertical-align: middle;\n",
       "    }\n",
       "\n",
       "    .dataframe tbody tr th {\n",
       "        vertical-align: top;\n",
       "    }\n",
       "\n",
       "    .dataframe thead th {\n",
       "        text-align: right;\n",
       "    }\n",
       "</style>\n",
       "<table border=\"1\" class=\"dataframe\">\n",
       "  <thead>\n",
       "    <tr style=\"text-align: right;\">\n",
       "      <th></th>\n",
       "      <th>행정구역별(시도)</th>\n",
       "      <th>반려동물보유가구-계</th>\n",
       "      <th>단일-개</th>\n",
       "      <th>단일-고양이</th>\n",
       "      <th>복합-계</th>\n",
       "    </tr>\n",
       "  </thead>\n",
       "  <tbody>\n",
       "    <tr>\n",
       "      <th>0</th>\n",
       "      <td>서울특별시</td>\n",
       "      <td>498113</td>\n",
       "      <td>344419</td>\n",
       "      <td>110065</td>\n",
       "      <td>18829</td>\n",
       "    </tr>\n",
       "    <tr>\n",
       "      <th>1</th>\n",
       "      <td>부산광역시</td>\n",
       "      <td>184282</td>\n",
       "      <td>129190</td>\n",
       "      <td>39051</td>\n",
       "      <td>7903</td>\n",
       "    </tr>\n",
       "    <tr>\n",
       "      <th>2</th>\n",
       "      <td>대구광역시</td>\n",
       "      <td>120096</td>\n",
       "      <td>86371</td>\n",
       "      <td>23450</td>\n",
       "      <td>4715</td>\n",
       "    </tr>\n",
       "    <tr>\n",
       "      <th>3</th>\n",
       "      <td>인천광역시</td>\n",
       "      <td>194387</td>\n",
       "      <td>143348</td>\n",
       "      <td>34515</td>\n",
       "      <td>8975</td>\n",
       "    </tr>\n",
       "    <tr>\n",
       "      <th>4</th>\n",
       "      <td>광주광역시</td>\n",
       "      <td>74499</td>\n",
       "      <td>52779</td>\n",
       "      <td>15487</td>\n",
       "      <td>3095</td>\n",
       "    </tr>\n",
       "  </tbody>\n",
       "</table>\n",
       "</div>"
      ],
      "text/plain": [
       "0 행정구역별(시도) 반려동물보유가구-계    단일-개  단일-고양이   복합-계\n",
       "0     서울특별시     498113  344419  110065  18829\n",
       "1     부산광역시     184282  129190   39051   7903\n",
       "2     대구광역시     120096   86371   23450   4715\n",
       "3     인천광역시     194387  143348   34515   8975\n",
       "4     광주광역시      74499   52779   15487   3095"
      ]
     },
     "execution_count": 66,
     "metadata": {},
     "output_type": "execute_result"
    }
   ],
   "source": [
    "df = df.drop(df.columns[[1, 2, 3, 4, 6, 9, 11, 12, 13, 14]], axis=1)\n",
    "df.head()"
   ]
  },
  {
   "cell_type": "markdown",
   "id": "00658c11",
   "metadata": {},
   "source": [
    "### 범례형 타입 -> 수치형 데이터로 변환"
   ]
  },
  {
   "cell_type": "code",
   "execution_count": 67,
   "id": "f9f2cc85",
   "metadata": {},
   "outputs": [
    {
     "name": "stdout",
     "output_type": "stream",
     "text": [
      "<class 'pandas.core.frame.DataFrame'>\n",
      "RangeIndex: 17 entries, 0 to 16\n",
      "Data columns (total 5 columns):\n",
      " #   Column      Non-Null Count  Dtype \n",
      "---  ------      --------------  ----- \n",
      " 0   행정구역별(시도)   17 non-null     object\n",
      " 1   반려동물보유가구-계  17 non-null     object\n",
      " 2   단일-개        17 non-null     object\n",
      " 3   단일-고양이      17 non-null     object\n",
      " 4   복합-계        17 non-null     object\n",
      "dtypes: object(5)\n",
      "memory usage: 812.0+ bytes\n"
     ]
    }
   ],
   "source": [
    "df.info()"
   ]
  },
  {
   "cell_type": "code",
   "execution_count": 68,
   "id": "3aa2468e",
   "metadata": {},
   "outputs": [],
   "source": [
    "for col in df.columns[1:]:\n",
    "    df[col] = pd.to_numeric(df[col], errors='coerce') # errors='coerce' 변환할 수 없는값을 NaN으로"
   ]
  },
  {
   "cell_type": "code",
   "execution_count": 69,
   "id": "441d2862",
   "metadata": {},
   "outputs": [
    {
     "name": "stdout",
     "output_type": "stream",
     "text": [
      "<class 'pandas.core.frame.DataFrame'>\n",
      "RangeIndex: 17 entries, 0 to 16\n",
      "Data columns (total 5 columns):\n",
      " #   Column      Non-Null Count  Dtype \n",
      "---  ------      --------------  ----- \n",
      " 0   행정구역별(시도)   17 non-null     object\n",
      " 1   반려동물보유가구-계  17 non-null     int64 \n",
      " 2   단일-개        17 non-null     int64 \n",
      " 3   단일-고양이      17 non-null     int64 \n",
      " 4   복합-계        17 non-null     int64 \n",
      "dtypes: int64(4), object(1)\n",
      "memory usage: 812.0+ bytes\n"
     ]
    }
   ],
   "source": [
    "df.info()"
   ]
  },
  {
   "cell_type": "markdown",
   "id": "5cfe9e66",
   "metadata": {},
   "source": [
    "### 컬럼이름 재설정"
   ]
  },
  {
   "cell_type": "code",
   "execution_count": 70,
   "id": "bac8fc44",
   "metadata": {},
   "outputs": [],
   "source": [
    "columns = ['행정구역', '보유가구', '개', '고양이', '복합']\n",
    "df.columns = columns"
   ]
  },
  {
   "cell_type": "code",
   "execution_count": 71,
   "id": "7e69c4c6",
   "metadata": {},
   "outputs": [
    {
     "data": {
      "text/html": [
       "<div>\n",
       "<style scoped>\n",
       "    .dataframe tbody tr th:only-of-type {\n",
       "        vertical-align: middle;\n",
       "    }\n",
       "\n",
       "    .dataframe tbody tr th {\n",
       "        vertical-align: top;\n",
       "    }\n",
       "\n",
       "    .dataframe thead th {\n",
       "        text-align: right;\n",
       "    }\n",
       "</style>\n",
       "<table border=\"1\" class=\"dataframe\">\n",
       "  <thead>\n",
       "    <tr style=\"text-align: right;\">\n",
       "      <th></th>\n",
       "      <th>행정구역</th>\n",
       "      <th>보유가구</th>\n",
       "      <th>개</th>\n",
       "      <th>고양이</th>\n",
       "      <th>복합</th>\n",
       "    </tr>\n",
       "  </thead>\n",
       "  <tbody>\n",
       "    <tr>\n",
       "      <th>0</th>\n",
       "      <td>서울특별시</td>\n",
       "      <td>498113</td>\n",
       "      <td>344419</td>\n",
       "      <td>110065</td>\n",
       "      <td>18829</td>\n",
       "    </tr>\n",
       "    <tr>\n",
       "      <th>1</th>\n",
       "      <td>부산광역시</td>\n",
       "      <td>184282</td>\n",
       "      <td>129190</td>\n",
       "      <td>39051</td>\n",
       "      <td>7903</td>\n",
       "    </tr>\n",
       "    <tr>\n",
       "      <th>2</th>\n",
       "      <td>대구광역시</td>\n",
       "      <td>120096</td>\n",
       "      <td>86371</td>\n",
       "      <td>23450</td>\n",
       "      <td>4715</td>\n",
       "    </tr>\n",
       "    <tr>\n",
       "      <th>3</th>\n",
       "      <td>인천광역시</td>\n",
       "      <td>194387</td>\n",
       "      <td>143348</td>\n",
       "      <td>34515</td>\n",
       "      <td>8975</td>\n",
       "    </tr>\n",
       "    <tr>\n",
       "      <th>4</th>\n",
       "      <td>광주광역시</td>\n",
       "      <td>74499</td>\n",
       "      <td>52779</td>\n",
       "      <td>15487</td>\n",
       "      <td>3095</td>\n",
       "    </tr>\n",
       "    <tr>\n",
       "      <th>5</th>\n",
       "      <td>대전광역시</td>\n",
       "      <td>80156</td>\n",
       "      <td>56910</td>\n",
       "      <td>16081</td>\n",
       "      <td>3118</td>\n",
       "    </tr>\n",
       "    <tr>\n",
       "      <th>6</th>\n",
       "      <td>울산광역시</td>\n",
       "      <td>59242</td>\n",
       "      <td>41040</td>\n",
       "      <td>12425</td>\n",
       "      <td>2851</td>\n",
       "    </tr>\n",
       "    <tr>\n",
       "      <th>7</th>\n",
       "      <td>세종특별자치시</td>\n",
       "      <td>18494</td>\n",
       "      <td>12641</td>\n",
       "      <td>3557</td>\n",
       "      <td>1152</td>\n",
       "    </tr>\n",
       "    <tr>\n",
       "      <th>8</th>\n",
       "      <td>경기도</td>\n",
       "      <td>862173</td>\n",
       "      <td>623960</td>\n",
       "      <td>157807</td>\n",
       "      <td>41995</td>\n",
       "    </tr>\n",
       "    <tr>\n",
       "      <th>9</th>\n",
       "      <td>강원도</td>\n",
       "      <td>113644</td>\n",
       "      <td>86273</td>\n",
       "      <td>16121</td>\n",
       "      <td>7723</td>\n",
       "    </tr>\n",
       "    <tr>\n",
       "      <th>10</th>\n",
       "      <td>충청북도</td>\n",
       "      <td>109696</td>\n",
       "      <td>82132</td>\n",
       "      <td>16736</td>\n",
       "      <td>6590</td>\n",
       "    </tr>\n",
       "    <tr>\n",
       "      <th>11</th>\n",
       "      <td>충청남도</td>\n",
       "      <td>157360</td>\n",
       "      <td>115810</td>\n",
       "      <td>24638</td>\n",
       "      <td>11506</td>\n",
       "    </tr>\n",
       "    <tr>\n",
       "      <th>12</th>\n",
       "      <td>전라북도</td>\n",
       "      <td>109761</td>\n",
       "      <td>83750</td>\n",
       "      <td>15846</td>\n",
       "      <td>6523</td>\n",
       "    </tr>\n",
       "    <tr>\n",
       "      <th>13</th>\n",
       "      <td>전라남도</td>\n",
       "      <td>136952</td>\n",
       "      <td>107247</td>\n",
       "      <td>16897</td>\n",
       "      <td>9514</td>\n",
       "    </tr>\n",
       "    <tr>\n",
       "      <th>14</th>\n",
       "      <td>경상북도</td>\n",
       "      <td>169659</td>\n",
       "      <td>129626</td>\n",
       "      <td>23756</td>\n",
       "      <td>10242</td>\n",
       "    </tr>\n",
       "    <tr>\n",
       "      <th>15</th>\n",
       "      <td>경상남도</td>\n",
       "      <td>199496</td>\n",
       "      <td>141713</td>\n",
       "      <td>38206</td>\n",
       "      <td>11234</td>\n",
       "    </tr>\n",
       "    <tr>\n",
       "      <th>16</th>\n",
       "      <td>제주특별자치도</td>\n",
       "      <td>40952</td>\n",
       "      <td>31305</td>\n",
       "      <td>6407</td>\n",
       "      <td>1998</td>\n",
       "    </tr>\n",
       "  </tbody>\n",
       "</table>\n",
       "</div>"
      ],
      "text/plain": [
       "       행정구역    보유가구       개     고양이     복합\n",
       "0     서울특별시  498113  344419  110065  18829\n",
       "1     부산광역시  184282  129190   39051   7903\n",
       "2     대구광역시  120096   86371   23450   4715\n",
       "3     인천광역시  194387  143348   34515   8975\n",
       "4     광주광역시   74499   52779   15487   3095\n",
       "5     대전광역시   80156   56910   16081   3118\n",
       "6     울산광역시   59242   41040   12425   2851\n",
       "7   세종특별자치시   18494   12641    3557   1152\n",
       "8       경기도  862173  623960  157807  41995\n",
       "9       강원도  113644   86273   16121   7723\n",
       "10     충청북도  109696   82132   16736   6590\n",
       "11     충청남도  157360  115810   24638  11506\n",
       "12     전라북도  109761   83750   15846   6523\n",
       "13     전라남도  136952  107247   16897   9514\n",
       "14     경상북도  169659  129626   23756  10242\n",
       "15     경상남도  199496  141713   38206  11234\n",
       "16  제주특별자치도   40952   31305    6407   1998"
      ]
     },
     "execution_count": 71,
     "metadata": {},
     "output_type": "execute_result"
    }
   ],
   "source": [
    "df"
   ]
  },
  {
   "cell_type": "code",
   "execution_count": 72,
   "id": "833b0ec3",
   "metadata": {},
   "outputs": [],
   "source": [
    "# df = df.sort_values(by='행정구역')"
   ]
  },
  {
   "cell_type": "code",
   "execution_count": null,
   "id": "a222255e",
   "metadata": {},
   "outputs": [],
   "source": []
  },
  {
   "cell_type": "code",
   "execution_count": null,
   "id": "8371cf8d",
   "metadata": {},
   "outputs": [],
   "source": []
  },
  {
   "cell_type": "code",
   "execution_count": null,
   "id": "0701e7d8",
   "metadata": {},
   "outputs": [],
   "source": []
  },
  {
   "cell_type": "code",
   "execution_count": 73,
   "id": "2848869b",
   "metadata": {},
   "outputs": [],
   "source": [
    "# df2 = pd.read_csv('합칠꺼.csv', encoding='cp949')"
   ]
  },
  {
   "cell_type": "code",
   "execution_count": 74,
   "id": "79662e69",
   "metadata": {},
   "outputs": [],
   "source": [
    "# df2.drop(columns=['비율'], inplace=True)"
   ]
  },
  {
   "cell_type": "code",
   "execution_count": 75,
   "id": "531cb99f",
   "metadata": {},
   "outputs": [],
   "source": [
    "# df2"
   ]
  },
  {
   "cell_type": "code",
   "execution_count": 76,
   "id": "39755420",
   "metadata": {},
   "outputs": [],
   "source": [
    "# df['시설갯수'] = df2['시설갯수']"
   ]
  },
  {
   "cell_type": "code",
   "execution_count": 77,
   "id": "f1dfd43b",
   "metadata": {},
   "outputs": [],
   "source": [
    "# df"
   ]
  },
  {
   "cell_type": "code",
   "execution_count": null,
   "id": "41c49b67",
   "metadata": {},
   "outputs": [],
   "source": []
  },
  {
   "cell_type": "code",
   "execution_count": null,
   "id": "f18e1c59",
   "metadata": {},
   "outputs": [],
   "source": []
  },
  {
   "cell_type": "code",
   "execution_count": null,
   "id": "0f7770bb",
   "metadata": {},
   "outputs": [],
   "source": []
  },
  {
   "cell_type": "code",
   "execution_count": null,
   "id": "53a02ac5",
   "metadata": {},
   "outputs": [],
   "source": []
  },
  {
   "cell_type": "code",
   "execution_count": null,
   "id": "d6afd89e",
   "metadata": {},
   "outputs": [],
   "source": []
  },
  {
   "cell_type": "markdown",
   "id": "fcf48622",
   "metadata": {},
   "source": [
    "## 시각화"
   ]
  },
  {
   "cell_type": "markdown",
   "id": "2963a612",
   "metadata": {},
   "source": [
    "### 행정구역별 반려동물 보유가구"
   ]
  },
  {
   "cell_type": "code",
   "execution_count": 78,
   "id": "43357913",
   "metadata": {},
   "outputs": [],
   "source": [
    "index = np.arange(len(df))"
   ]
  },
  {
   "cell_type": "code",
   "execution_count": 79,
   "id": "d3b76765",
   "metadata": {},
   "outputs": [
    {
     "data": {
      "image/png": "[encoded data removed]",
      "text/plain": [
       "<Figure size 1000x500 with 1 Axes>"
      ]
     },
     "metadata": {},
     "output_type": "display_data"
    }
   ],
   "source": [
    "plt.figure(figsize=(10, 5))\n",
    "plt.title('(통계청) 2020년 행정구역별-반려동물 보유가구 막대 그래프', fontsize=20, pad=20)\n",
    "plt.bar(index, df['보유가구'].sort_values(ascending=False))\n",
    "plt.xticks(index, df['행정구역'], rotation=55)\n",
    "plt.show()"
   ]
  },
  {
   "cell_type": "markdown",
   "id": "71727f98",
   "metadata": {},
   "source": [
    "### 행정구역별 반려종 보유가구"
   ]
  },
  {
   "cell_type": "code",
   "execution_count": 80,
   "id": "1983c9c7",
   "metadata": {},
   "outputs": [
    {
     "data": {
      "image/png": "[encoded data removed]",
      "text/plain": [
       "<Figure size 1000x500 with 1 Axes>"
      ]
     },
     "metadata": {},
     "output_type": "display_data"
    }
   ],
   "source": [
    "w = 0.25\n",
    "plt.figure(figsize=(10, 5))\n",
    "plt.title('(통계청) 2020년 행정구역별-반려종 보유가구 막대 그래프', fontsize=20, pad=20)\n",
    "\n",
    "plt.bar(index - w, df['개'].sort_values(ascending=False), width=w, label='개')\n",
    "plt.bar(index, df['고양이'].sort_values(ascending=False), width=w, label='고양이')\n",
    "plt.bar(index + w, df['복합'].sort_values(ascending=False), width=w, label='복합')\n",
    "plt.legend(ncol=3)\n",
    "plt.xticks(index, df['행정구역'], rotation=55)\n",
    "plt.show()"
   ]
  },
  {
   "cell_type": "code",
   "execution_count": null,
   "id": "7ac01f01",
   "metadata": {},
   "outputs": [],
   "source": []
  },
  {
   "cell_type": "code",
   "execution_count": 82,
   "id": "a0182fd6",
   "metadata": {},
   "outputs": [],
   "source": [
    "# w = 0.2  # 간격 조정\n",
    "\n",
    "# plt.figure(figsize=(10, 5))\n",
    "# plt.title('(통계청) 2020년 행정구역별-반려종 보유가구 막대 그래프', fontsize=20, pad=20)\n",
    "\n",
    "# plt.bar(index - (1.5 * w), df['개'].sort_values(ascending=False), width=w, label='개')\n",
    "# plt.bar(index - (0.5 * w), df['고양이'].sort_values(ascending=False), width=w, label='고양이')\n",
    "# plt.bar(index + (0.5 * w), df['복합'].sort_values(ascending=False), width=w, label='복합')\n",
    "# plt.bar(index + (1.5 * w), df['시설갯수'].sort_values(ascending=False), width=w, label='시설갯수')\n",
    "\n",
    "# plt.legend(ncol=4)\n",
    "# plt.xticks(index, df['행정구역'], rotation=55)\n",
    "# plt.show()"
   ]
  },
  {
   "cell_type": "code",
   "execution_count": null,
   "id": "9481a034",
   "metadata": {},
   "outputs": [],
   "source": []
  },
  {
   "cell_type": "code",
   "execution_count": null,
   "id": "2f9d726d",
   "metadata": {},
   "outputs": [],
   "source": []
  }
 ],
 "metadata": {
  "kernelspec": {
   "display_name": "Python 3 (ipykernel)",
   "language": "python",
   "name": "python3"
  },
  "language_info": {
   "codemirror_mode": {
    "name": "ipython",
    "version": 3
   },
   "file_extension": ".py",
   "mimetype": "text/x-python",
   "name": "python",
   "nbconvert_exporter": "python",
   "pygments_lexer": "ipython3",
   "version": "3.11.5"
  },
  "toc": {
   "base_numbering": 1,
   "nav_menu": {},
   "number_sections": true,
   "sideBar": true,
   "skip_h1_title": false,
   "title_cell": "Table of Contents",
   "title_sidebar": "Contents",
   "toc_cell": false,
   "toc_position": {},
   "toc_section_display": true,
   "toc_window_display": false
  },
  "varInspector": {
   "cols": {
    "lenName": 16,
    "lenType": 16,
    "lenVar": 40
   },
   "kernels_config": {
    "python": {
     "delete_cmd_postfix": "",
     "delete_cmd_prefix": "del ",
     "library": "var_list.py",
     "varRefreshCmd": "print(var_dic_list())"
    },
    "r": {
     "delete_cmd_postfix": ") ",
     "delete_cmd_prefix": "rm(",
     "library": "var_list.r",
     "varRefreshCmd": "cat(var_dic_list()) "
    }
   },
   "types_to_exclude": [
    "module",
    "function",
    "builtin_function_or_method",
    "instance",
    "_Feature"
   ],
   "window_display": false
  }
 },
 "nbformat": 4,
 "nbformat_minor": 5
}
