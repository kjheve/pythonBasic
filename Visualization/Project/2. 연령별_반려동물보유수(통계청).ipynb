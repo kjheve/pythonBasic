{
 "cells": [
  {
   "cell_type": "markdown",
   "id": "fd28a886",
   "metadata": {},
   "source": [
    "## import"
   ]
  },
  {
   "cell_type": "code",
   "execution_count": 2,
   "id": "1f364d23",
   "metadata": {},
   "outputs": [],
   "source": [
    "import pandas as pd                # 데이터 분석을 위해 pandas\n",
    "import numpy as np                 # 수치계산을 위해 numpy\n",
    "import matplotlib.pyplot as plt    # 시각화를 위해 mapplotlib, seaborn를 불러온다.\n",
    "import seaborn as sns\n",
    "# import folium                      # 지도 시각화를 위한 라이브러리\n",
    "# import json"
   ]
  },
  {
   "cell_type": "code",
   "execution_count": 3,
   "id": "c129db76",
   "metadata": {},
   "outputs": [],
   "source": [
    "# 한글 설정 & 마이너스 표시\n",
    "plt.rc('font', family='Malgun Gothic')\n",
    "plt.rc('axes', unicode_minus=False)"
   ]
  },
  {
   "cell_type": "markdown",
   "id": "8fa9eb5a",
   "metadata": {},
   "source": [
    "## 데이터 가져오기 (data/pet_age_data.csv)"
   ]
  },
  {
   "cell_type": "code",
   "execution_count": 4,
   "id": "ec13a32b",
   "metadata": {},
   "outputs": [
    {
     "data": {
      "text/html": [
       "<div>\n",
       "<style scoped>\n",
       "    .dataframe tbody tr th:only-of-type {\n",
       "        vertical-align: middle;\n",
       "    }\n",
       "\n",
       "    .dataframe tbody tr th {\n",
       "        vertical-align: top;\n",
       "    }\n",
       "\n",
       "    .dataframe thead th {\n",
       "        text-align: right;\n",
       "    }\n",
       "</style>\n",
       "<table border=\"1\" class=\"dataframe\">\n",
       "  <thead>\n",
       "    <tr style=\"text-align: right;\">\n",
       "      <th></th>\n",
       "      <th>행정구역별(시도)</th>\n",
       "      <th>연령대</th>\n",
       "      <th>가구구분</th>\n",
       "      <th>2020</th>\n",
       "      <th>2020.1</th>\n",
       "      <th>2020.2</th>\n",
       "      <th>2020.3</th>\n",
       "      <th>2020.4</th>\n",
       "      <th>2020.5</th>\n",
       "      <th>2020.6</th>\n",
       "      <th>2020.7</th>\n",
       "      <th>2020.8</th>\n",
       "      <th>2020.9</th>\n",
       "      <th>2020.10</th>\n",
       "      <th>2020.11</th>\n",
       "    </tr>\n",
       "  </thead>\n",
       "  <tbody>\n",
       "    <tr>\n",
       "      <th>0</th>\n",
       "      <td>행정구역별(시도)</td>\n",
       "      <td>연령대</td>\n",
       "      <td>가구구분</td>\n",
       "      <td>가구-계</td>\n",
       "      <td>반려동물미보유가구-계</td>\n",
       "      <td>반려동물보유가구-계</td>\n",
       "      <td>단일-계</td>\n",
       "      <td>단일-개</td>\n",
       "      <td>단일-고양이</td>\n",
       "      <td>단일-기타</td>\n",
       "      <td>복합-계</td>\n",
       "      <td>복합-개+고양이</td>\n",
       "      <td>복합-개+기타</td>\n",
       "      <td>복합-고양이+기타</td>\n",
       "      <td>복합-개+고양이+기타</td>\n",
       "    </tr>\n",
       "    <tr>\n",
       "      <th>1</th>\n",
       "      <td>전국</td>\n",
       "      <td>계</td>\n",
       "      <td>계</td>\n",
       "      <td>20926710</td>\n",
       "      <td>17797748</td>\n",
       "      <td>3128962</td>\n",
       "      <td>2970999</td>\n",
       "      <td>2268514</td>\n",
       "      <td>571045</td>\n",
       "      <td>131440</td>\n",
       "      <td>157963</td>\n",
       "      <td>139644</td>\n",
       "      <td>11787</td>\n",
       "      <td>3060</td>\n",
       "      <td>3472</td>\n",
       "    </tr>\n",
       "  </tbody>\n",
       "</table>\n",
       "</div>"
      ],
      "text/plain": [
       "   행정구역별(시도)  연령대  가구구분      2020       2020.1      2020.2   2020.3   2020.4  \\\n",
       "0  행정구역별(시도)  연령대  가구구분      가구-계  반려동물미보유가구-계  반려동물보유가구-계     단일-계     단일-개   \n",
       "1         전국    계     계  20926710     17797748     3128962  2970999  2268514   \n",
       "\n",
       "   2020.5  2020.6  2020.7    2020.8   2020.9    2020.10      2020.11  \n",
       "0  단일-고양이   단일-기타    복합-계  복합-개+고양이  복합-개+기타  복합-고양이+기타  복합-개+고양이+기타  \n",
       "1  571045  131440  157963    139644    11787       3060         3472  "
      ]
     },
     "execution_count": 4,
     "metadata": {},
     "output_type": "execute_result"
    }
   ],
   "source": [
    "# CSV 파일 읽기\n",
    "df = pd.read_csv('data/pet_age_data.csv', encoding='cp949')\n",
    "df.head(2)"
   ]
  },
  {
   "cell_type": "markdown",
   "id": "3a25ab44",
   "metadata": {},
   "source": [
    "## 데이터 전처리"
   ]
  },
  {
   "cell_type": "markdown",
   "id": "0aa8ff99",
   "metadata": {},
   "source": [
    "### 0행의 값을 컬럼으로 넣고 0, 1행 제거"
   ]
  },
  {
   "cell_type": "code",
   "execution_count": 5,
   "id": "bc5bde4d",
   "metadata": {},
   "outputs": [],
   "source": [
    "columns = df.iloc[0]"
   ]
  },
  {
   "cell_type": "code",
   "execution_count": 6,
   "id": "f79f4f0e",
   "metadata": {},
   "outputs": [],
   "source": [
    "df.columns = columns"
   ]
  },
  {
   "cell_type": "code",
   "execution_count": 7,
   "id": "09da6286",
   "metadata": {},
   "outputs": [],
   "source": [
    "df = df.drop([0, 1]).reset_index(drop=True)"
   ]
  },
  {
   "cell_type": "code",
   "execution_count": 8,
   "id": "0a2271cb",
   "metadata": {},
   "outputs": [
    {
     "data": {
      "text/html": [
       "<div>\n",
       "<style scoped>\n",
       "    .dataframe tbody tr th:only-of-type {\n",
       "        vertical-align: middle;\n",
       "    }\n",
       "\n",
       "    .dataframe tbody tr th {\n",
       "        vertical-align: top;\n",
       "    }\n",
       "\n",
       "    .dataframe thead th {\n",
       "        text-align: right;\n",
       "    }\n",
       "</style>\n",
       "<table border=\"1\" class=\"dataframe\">\n",
       "  <thead>\n",
       "    <tr style=\"text-align: right;\">\n",
       "      <th></th>\n",
       "      <th>행정구역별(시도)</th>\n",
       "      <th>연령대</th>\n",
       "      <th>가구구분</th>\n",
       "      <th>가구-계</th>\n",
       "      <th>반려동물미보유가구-계</th>\n",
       "      <th>반려동물보유가구-계</th>\n",
       "      <th>단일-계</th>\n",
       "      <th>단일-개</th>\n",
       "      <th>단일-고양이</th>\n",
       "      <th>단일-기타</th>\n",
       "      <th>복합-계</th>\n",
       "      <th>복합-개+고양이</th>\n",
       "      <th>복합-개+기타</th>\n",
       "      <th>복합-고양이+기타</th>\n",
       "      <th>복합-개+고양이+기타</th>\n",
       "    </tr>\n",
       "  </thead>\n",
       "  <tbody>\n",
       "    <tr>\n",
       "      <th>0</th>\n",
       "      <td>전국</td>\n",
       "      <td>20세미만</td>\n",
       "      <td>계</td>\n",
       "      <td>77462</td>\n",
       "      <td>72806</td>\n",
       "      <td>4656</td>\n",
       "      <td>4457</td>\n",
       "      <td>2565</td>\n",
       "      <td>1533</td>\n",
       "      <td>359</td>\n",
       "      <td>199</td>\n",
       "      <td>144</td>\n",
       "      <td>26</td>\n",
       "      <td>29</td>\n",
       "      <td>-</td>\n",
       "    </tr>\n",
       "    <tr>\n",
       "      <th>1</th>\n",
       "      <td>전국</td>\n",
       "      <td>20-24세</td>\n",
       "      <td>계</td>\n",
       "      <td>584263</td>\n",
       "      <td>528217</td>\n",
       "      <td>56046</td>\n",
       "      <td>53582</td>\n",
       "      <td>32039</td>\n",
       "      <td>18343</td>\n",
       "      <td>3200</td>\n",
       "      <td>2464</td>\n",
       "      <td>2178</td>\n",
       "      <td>112</td>\n",
       "      <td>99</td>\n",
       "      <td>75</td>\n",
       "    </tr>\n",
       "  </tbody>\n",
       "</table>\n",
       "</div>"
      ],
      "text/plain": [
       "0 행정구역별(시도)     연령대 가구구분    가구-계 반려동물미보유가구-계 반려동물보유가구-계   단일-계   단일-개 단일-고양이  \\\n",
       "0        전국   20세미만    계   77462       72806       4656   4457   2565   1533   \n",
       "1        전국  20-24세    계  584263      528217      56046  53582  32039  18343   \n",
       "\n",
       "0 단일-기타  복합-계 복합-개+고양이 복합-개+기타 복합-고양이+기타 복합-개+고양이+기타  \n",
       "0   359   199      144      26        29           -  \n",
       "1  3200  2464     2178     112        99          75  "
      ]
     },
     "execution_count": 8,
     "metadata": {},
     "output_type": "execute_result"
    }
   ],
   "source": [
    "df.head(2)"
   ]
  },
  {
   "cell_type": "markdown",
   "id": "26d55969",
   "metadata": {},
   "source": [
    "### 불필요한 컬럼 제거"
   ]
  },
  {
   "cell_type": "code",
   "execution_count": 9,
   "id": "b6648e25",
   "metadata": {},
   "outputs": [
    {
     "data": {
      "text/html": [
       "<div>\n",
       "<style scoped>\n",
       "    .dataframe tbody tr th:only-of-type {\n",
       "        vertical-align: middle;\n",
       "    }\n",
       "\n",
       "    .dataframe tbody tr th {\n",
       "        vertical-align: top;\n",
       "    }\n",
       "\n",
       "    .dataframe thead th {\n",
       "        text-align: right;\n",
       "    }\n",
       "</style>\n",
       "<table border=\"1\" class=\"dataframe\">\n",
       "  <thead>\n",
       "    <tr style=\"text-align: right;\">\n",
       "      <th></th>\n",
       "      <th>연령대</th>\n",
       "      <th>반려동물미보유가구-계</th>\n",
       "      <th>반려동물보유가구-계</th>\n",
       "      <th>단일-개</th>\n",
       "      <th>단일-고양이</th>\n",
       "      <th>단일-기타</th>\n",
       "      <th>복합-계</th>\n",
       "    </tr>\n",
       "  </thead>\n",
       "  <tbody>\n",
       "    <tr>\n",
       "      <th>0</th>\n",
       "      <td>20세미만</td>\n",
       "      <td>72806</td>\n",
       "      <td>4656</td>\n",
       "      <td>2565</td>\n",
       "      <td>1533</td>\n",
       "      <td>359</td>\n",
       "      <td>199</td>\n",
       "    </tr>\n",
       "    <tr>\n",
       "      <th>1</th>\n",
       "      <td>20-24세</td>\n",
       "      <td>528217</td>\n",
       "      <td>56046</td>\n",
       "      <td>32039</td>\n",
       "      <td>18343</td>\n",
       "      <td>3200</td>\n",
       "      <td>2464</td>\n",
       "    </tr>\n",
       "  </tbody>\n",
       "</table>\n",
       "</div>"
      ],
      "text/plain": [
       "0     연령대 반려동물미보유가구-계 반려동물보유가구-계   단일-개 단일-고양이 단일-기타  복합-계\n",
       "0   20세미만       72806       4656   2565   1533   359   199\n",
       "1  20-24세      528217      56046  32039  18343  3200  2464"
      ]
     },
     "execution_count": 9,
     "metadata": {},
     "output_type": "execute_result"
    }
   ],
   "source": [
    "df = df.drop(df.columns[[0, 2, 3, 6, 11, 12, 13, 14]], axis=1)\n",
    "df.head(2)"
   ]
  },
  {
   "cell_type": "markdown",
   "id": "0202fcc2",
   "metadata": {},
   "source": [
    "### 범례형 타입 데이터 -> 수치형으로 변환"
   ]
  },
  {
   "cell_type": "code",
   "execution_count": 10,
   "id": "9e58046c",
   "metadata": {},
   "outputs": [
    {
     "name": "stdout",
     "output_type": "stream",
     "text": [
      "<class 'pandas.core.frame.DataFrame'>\n",
      "RangeIndex: 13 entries, 0 to 12\n",
      "Data columns (total 7 columns):\n",
      " #   Column       Non-Null Count  Dtype \n",
      "---  ------       --------------  ----- \n",
      " 0   연령대          13 non-null     object\n",
      " 1   반려동물미보유가구-계  13 non-null     object\n",
      " 2   반려동물보유가구-계   13 non-null     object\n",
      " 3   단일-개         13 non-null     object\n",
      " 4   단일-고양이       13 non-null     object\n",
      " 5   단일-기타        13 non-null     object\n",
      " 6   복합-계         13 non-null     object\n",
      "dtypes: object(7)\n",
      "memory usage: 860.0+ bytes\n"
     ]
    }
   ],
   "source": [
    "df.info()"
   ]
  },
  {
   "cell_type": "code",
   "execution_count": 11,
   "id": "7862af38",
   "metadata": {},
   "outputs": [],
   "source": [
    "for col in df.columns[1:]:\n",
    "    df[col] = pd.to_numeric(df[col], errors='coerce') # errors='coerce' 변환할 수 없는값을 NaN으로"
   ]
  },
  {
   "cell_type": "code",
   "execution_count": 12,
   "id": "43f9db2b",
   "metadata": {},
   "outputs": [
    {
     "name": "stdout",
     "output_type": "stream",
     "text": [
      "<class 'pandas.core.frame.DataFrame'>\n",
      "RangeIndex: 13 entries, 0 to 12\n",
      "Data columns (total 7 columns):\n",
      " #   Column       Non-Null Count  Dtype \n",
      "---  ------       --------------  ----- \n",
      " 0   연령대          13 non-null     object\n",
      " 1   반려동물미보유가구-계  13 non-null     int64 \n",
      " 2   반려동물보유가구-계   13 non-null     int64 \n",
      " 3   단일-개         13 non-null     int64 \n",
      " 4   단일-고양이       13 non-null     int64 \n",
      " 5   단일-기타        13 non-null     int64 \n",
      " 6   복합-계         13 non-null     int64 \n",
      "dtypes: int64(6), object(1)\n",
      "memory usage: 860.0+ bytes\n"
     ]
    }
   ],
   "source": [
    "df.info()"
   ]
  },
  {
   "cell_type": "markdown",
   "id": "71171fc5",
   "metadata": {},
   "source": [
    "### 컬럼이름 재설정"
   ]
  },
  {
   "cell_type": "code",
   "execution_count": 13,
   "id": "7b6ca448",
   "metadata": {},
   "outputs": [],
   "source": [
    "columns = ['연령대', '미보유가구', '보유가구', '개', '고양이', '기타', '복합']\n",
    "df.columns = columns"
   ]
  },
  {
   "cell_type": "code",
   "execution_count": 14,
   "id": "b7b95f21",
   "metadata": {},
   "outputs": [
    {
     "data": {
      "text/html": [
       "<div>\n",
       "<style scoped>\n",
       "    .dataframe tbody tr th:only-of-type {\n",
       "        vertical-align: middle;\n",
       "    }\n",
       "\n",
       "    .dataframe tbody tr th {\n",
       "        vertical-align: top;\n",
       "    }\n",
       "\n",
       "    .dataframe thead th {\n",
       "        text-align: right;\n",
       "    }\n",
       "</style>\n",
       "<table border=\"1\" class=\"dataframe\">\n",
       "  <thead>\n",
       "    <tr style=\"text-align: right;\">\n",
       "      <th></th>\n",
       "      <th>연령대</th>\n",
       "      <th>미보유가구</th>\n",
       "      <th>보유가구</th>\n",
       "      <th>개</th>\n",
       "      <th>고양이</th>\n",
       "      <th>기타</th>\n",
       "      <th>복합</th>\n",
       "    </tr>\n",
       "  </thead>\n",
       "  <tbody>\n",
       "    <tr>\n",
       "      <th>0</th>\n",
       "      <td>20세미만</td>\n",
       "      <td>72806</td>\n",
       "      <td>4656</td>\n",
       "      <td>2565</td>\n",
       "      <td>1533</td>\n",
       "      <td>359</td>\n",
       "      <td>199</td>\n",
       "    </tr>\n",
       "    <tr>\n",
       "      <th>1</th>\n",
       "      <td>20-24세</td>\n",
       "      <td>528217</td>\n",
       "      <td>56046</td>\n",
       "      <td>32039</td>\n",
       "      <td>18343</td>\n",
       "      <td>3200</td>\n",
       "      <td>2464</td>\n",
       "    </tr>\n",
       "    <tr>\n",
       "      <th>2</th>\n",
       "      <td>25-29세</td>\n",
       "      <td>951993</td>\n",
       "      <td>159992</td>\n",
       "      <td>94833</td>\n",
       "      <td>53021</td>\n",
       "      <td>5745</td>\n",
       "      <td>6393</td>\n",
       "    </tr>\n",
       "    <tr>\n",
       "      <th>3</th>\n",
       "      <td>30-34세</td>\n",
       "      <td>1137233</td>\n",
       "      <td>196602</td>\n",
       "      <td>120571</td>\n",
       "      <td>60283</td>\n",
       "      <td>7605</td>\n",
       "      <td>8143</td>\n",
       "    </tr>\n",
       "    <tr>\n",
       "      <th>4</th>\n",
       "      <td>35-39세</td>\n",
       "      <td>1547463</td>\n",
       "      <td>241237</td>\n",
       "      <td>151121</td>\n",
       "      <td>63828</td>\n",
       "      <td>14949</td>\n",
       "      <td>11339</td>\n",
       "    </tr>\n",
       "    <tr>\n",
       "      <th>5</th>\n",
       "      <td>40-44세</td>\n",
       "      <td>1669940</td>\n",
       "      <td>289394</td>\n",
       "      <td>186119</td>\n",
       "      <td>63558</td>\n",
       "      <td>25015</td>\n",
       "      <td>14702</td>\n",
       "    </tr>\n",
       "    <tr>\n",
       "      <th>6</th>\n",
       "      <td>45-49세</td>\n",
       "      <td>1886012</td>\n",
       "      <td>414157</td>\n",
       "      <td>285380</td>\n",
       "      <td>82078</td>\n",
       "      <td>25235</td>\n",
       "      <td>21464</td>\n",
       "    </tr>\n",
       "    <tr>\n",
       "      <th>7</th>\n",
       "      <td>50-54세</td>\n",
       "      <td>1951910</td>\n",
       "      <td>468757</td>\n",
       "      <td>348617</td>\n",
       "      <td>77848</td>\n",
       "      <td>17102</td>\n",
       "      <td>25190</td>\n",
       "    </tr>\n",
       "    <tr>\n",
       "      <th>8</th>\n",
       "      <td>55-59세</td>\n",
       "      <td>1947197</td>\n",
       "      <td>441875</td>\n",
       "      <td>346456</td>\n",
       "      <td>61355</td>\n",
       "      <td>10627</td>\n",
       "      <td>23437</td>\n",
       "    </tr>\n",
       "    <tr>\n",
       "      <th>9</th>\n",
       "      <td>60-64세</td>\n",
       "      <td>1876600</td>\n",
       "      <td>352259</td>\n",
       "      <td>284522</td>\n",
       "      <td>41895</td>\n",
       "      <td>7501</td>\n",
       "      <td>18341</td>\n",
       "    </tr>\n",
       "    <tr>\n",
       "      <th>10</th>\n",
       "      <td>65-69세</td>\n",
       "      <td>1364878</td>\n",
       "      <td>193224</td>\n",
       "      <td>159326</td>\n",
       "      <td>18662</td>\n",
       "      <td>5103</td>\n",
       "      <td>10133</td>\n",
       "    </tr>\n",
       "    <tr>\n",
       "      <th>11</th>\n",
       "      <td>70-74세</td>\n",
       "      <td>1073344</td>\n",
       "      <td>127745</td>\n",
       "      <td>105816</td>\n",
       "      <td>11306</td>\n",
       "      <td>3901</td>\n",
       "      <td>6722</td>\n",
       "    </tr>\n",
       "    <tr>\n",
       "      <th>12</th>\n",
       "      <td>75세이상</td>\n",
       "      <td>1790155</td>\n",
       "      <td>183018</td>\n",
       "      <td>151149</td>\n",
       "      <td>17335</td>\n",
       "      <td>5098</td>\n",
       "      <td>9436</td>\n",
       "    </tr>\n",
       "  </tbody>\n",
       "</table>\n",
       "</div>"
      ],
      "text/plain": [
       "       연령대    미보유가구    보유가구       개    고양이     기타     복합\n",
       "0    20세미만    72806    4656    2565   1533    359    199\n",
       "1   20-24세   528217   56046   32039  18343   3200   2464\n",
       "2   25-29세   951993  159992   94833  53021   5745   6393\n",
       "3   30-34세  1137233  196602  120571  60283   7605   8143\n",
       "4   35-39세  1547463  241237  151121  63828  14949  11339\n",
       "5   40-44세  1669940  289394  186119  63558  25015  14702\n",
       "6   45-49세  1886012  414157  285380  82078  25235  21464\n",
       "7   50-54세  1951910  468757  348617  77848  17102  25190\n",
       "8   55-59세  1947197  441875  346456  61355  10627  23437\n",
       "9   60-64세  1876600  352259  284522  41895   7501  18341\n",
       "10  65-69세  1364878  193224  159326  18662   5103  10133\n",
       "11  70-74세  1073344  127745  105816  11306   3901   6722\n",
       "12   75세이상  1790155  183018  151149  17335   5098   9436"
      ]
     },
     "execution_count": 14,
     "metadata": {},
     "output_type": "execute_result"
    }
   ],
   "source": [
    "df"
   ]
  },
  {
   "cell_type": "markdown",
   "id": "1cd31978",
   "metadata": {},
   "source": [
    "### rows 연령대별로 값 합치기"
   ]
  },
  {
   "cell_type": "code",
   "execution_count": 15,
   "id": "7fa690dc",
   "metadata": {},
   "outputs": [
    {
     "data": {
      "text/html": [
       "<div>\n",
       "<style scoped>\n",
       "    .dataframe tbody tr th:only-of-type {\n",
       "        vertical-align: middle;\n",
       "    }\n",
       "\n",
       "    .dataframe tbody tr th {\n",
       "        vertical-align: top;\n",
       "    }\n",
       "\n",
       "    .dataframe thead th {\n",
       "        text-align: right;\n",
       "    }\n",
       "</style>\n",
       "<table border=\"1\" class=\"dataframe\">\n",
       "  <thead>\n",
       "    <tr style=\"text-align: right;\">\n",
       "      <th></th>\n",
       "      <th>연령대</th>\n",
       "      <th>미보유가구</th>\n",
       "      <th>보유가구</th>\n",
       "      <th>개</th>\n",
       "      <th>고양이</th>\n",
       "      <th>기타</th>\n",
       "      <th>복합</th>\n",
       "    </tr>\n",
       "  </thead>\n",
       "  <tbody>\n",
       "    <tr>\n",
       "      <th>0</th>\n",
       "      <td>20세미만</td>\n",
       "      <td>72806</td>\n",
       "      <td>4656</td>\n",
       "      <td>2565</td>\n",
       "      <td>1533</td>\n",
       "      <td>359</td>\n",
       "      <td>199</td>\n",
       "    </tr>\n",
       "    <tr>\n",
       "      <th>1</th>\n",
       "      <td>20-24세25-29세</td>\n",
       "      <td>1480210</td>\n",
       "      <td>216038</td>\n",
       "      <td>126872</td>\n",
       "      <td>71364</td>\n",
       "      <td>8945</td>\n",
       "      <td>8857</td>\n",
       "    </tr>\n",
       "    <tr>\n",
       "      <th>2</th>\n",
       "      <td>25-29세</td>\n",
       "      <td>951993</td>\n",
       "      <td>159992</td>\n",
       "      <td>94833</td>\n",
       "      <td>53021</td>\n",
       "      <td>5745</td>\n",
       "      <td>6393</td>\n",
       "    </tr>\n",
       "    <tr>\n",
       "      <th>3</th>\n",
       "      <td>30-34세35-39세</td>\n",
       "      <td>2684696</td>\n",
       "      <td>437839</td>\n",
       "      <td>271692</td>\n",
       "      <td>124111</td>\n",
       "      <td>22554</td>\n",
       "      <td>19482</td>\n",
       "    </tr>\n",
       "    <tr>\n",
       "      <th>4</th>\n",
       "      <td>35-39세</td>\n",
       "      <td>1547463</td>\n",
       "      <td>241237</td>\n",
       "      <td>151121</td>\n",
       "      <td>63828</td>\n",
       "      <td>14949</td>\n",
       "      <td>11339</td>\n",
       "    </tr>\n",
       "    <tr>\n",
       "      <th>5</th>\n",
       "      <td>40-44세45-49세</td>\n",
       "      <td>3555952</td>\n",
       "      <td>703551</td>\n",
       "      <td>471499</td>\n",
       "      <td>145636</td>\n",
       "      <td>50250</td>\n",
       "      <td>36166</td>\n",
       "    </tr>\n",
       "    <tr>\n",
       "      <th>6</th>\n",
       "      <td>45-49세</td>\n",
       "      <td>1886012</td>\n",
       "      <td>414157</td>\n",
       "      <td>285380</td>\n",
       "      <td>82078</td>\n",
       "      <td>25235</td>\n",
       "      <td>21464</td>\n",
       "    </tr>\n",
       "    <tr>\n",
       "      <th>7</th>\n",
       "      <td>50-54세55-59세</td>\n",
       "      <td>3899107</td>\n",
       "      <td>910632</td>\n",
       "      <td>695073</td>\n",
       "      <td>139203</td>\n",
       "      <td>27729</td>\n",
       "      <td>48627</td>\n",
       "    </tr>\n",
       "    <tr>\n",
       "      <th>8</th>\n",
       "      <td>55-59세</td>\n",
       "      <td>1947197</td>\n",
       "      <td>441875</td>\n",
       "      <td>346456</td>\n",
       "      <td>61355</td>\n",
       "      <td>10627</td>\n",
       "      <td>23437</td>\n",
       "    </tr>\n",
       "    <tr>\n",
       "      <th>9</th>\n",
       "      <td>60-64세65-69세</td>\n",
       "      <td>3241478</td>\n",
       "      <td>545483</td>\n",
       "      <td>443848</td>\n",
       "      <td>60557</td>\n",
       "      <td>12604</td>\n",
       "      <td>28474</td>\n",
       "    </tr>\n",
       "    <tr>\n",
       "      <th>10</th>\n",
       "      <td>65-69세</td>\n",
       "      <td>1364878</td>\n",
       "      <td>193224</td>\n",
       "      <td>159326</td>\n",
       "      <td>18662</td>\n",
       "      <td>5103</td>\n",
       "      <td>10133</td>\n",
       "    </tr>\n",
       "    <tr>\n",
       "      <th>11</th>\n",
       "      <td>70-74세75세이상</td>\n",
       "      <td>2863499</td>\n",
       "      <td>310763</td>\n",
       "      <td>256965</td>\n",
       "      <td>28641</td>\n",
       "      <td>8999</td>\n",
       "      <td>16158</td>\n",
       "    </tr>\n",
       "    <tr>\n",
       "      <th>12</th>\n",
       "      <td>75세이상</td>\n",
       "      <td>1790155</td>\n",
       "      <td>183018</td>\n",
       "      <td>151149</td>\n",
       "      <td>17335</td>\n",
       "      <td>5098</td>\n",
       "      <td>9436</td>\n",
       "    </tr>\n",
       "  </tbody>\n",
       "</table>\n",
       "</div>"
      ],
      "text/plain": [
       "             연령대    미보유가구    보유가구       개     고양이     기타     복합\n",
       "0          20세미만    72806    4656    2565    1533    359    199\n",
       "1   20-24세25-29세  1480210  216038  126872   71364   8945   8857\n",
       "2         25-29세   951993  159992   94833   53021   5745   6393\n",
       "3   30-34세35-39세  2684696  437839  271692  124111  22554  19482\n",
       "4         35-39세  1547463  241237  151121   63828  14949  11339\n",
       "5   40-44세45-49세  3555952  703551  471499  145636  50250  36166\n",
       "6         45-49세  1886012  414157  285380   82078  25235  21464\n",
       "7   50-54세55-59세  3899107  910632  695073  139203  27729  48627\n",
       "8         55-59세  1947197  441875  346456   61355  10627  23437\n",
       "9   60-64세65-69세  3241478  545483  443848   60557  12604  28474\n",
       "10        65-69세  1364878  193224  159326   18662   5103  10133\n",
       "11   70-74세75세이상  2863499  310763  256965   28641   8999  16158\n",
       "12         75세이상  1790155  183018  151149   17335   5098   9436"
      ]
     },
     "execution_count": 15,
     "metadata": {},
     "output_type": "execute_result"
    }
   ],
   "source": [
    "df.iloc[1] = df.iloc[1] + df.iloc[2]\n",
    "df.iloc[3] = df.iloc[3] + df.iloc[4]\n",
    "df.iloc[5] = df.iloc[5] + df.iloc[6]\n",
    "df.iloc[7] = df.iloc[7] + df.iloc[8]\n",
    "df.iloc[9] = df.iloc[9] + df.iloc[10]\n",
    "df.iloc[11] = df.iloc[11] + df.iloc[12]\n",
    "df"
   ]
  },
  {
   "cell_type": "code",
   "execution_count": 16,
   "id": "1b5152ea",
   "metadata": {},
   "outputs": [],
   "source": [
    "# 불필요한 행 제거\n",
    "rows_to_remove = [2, 4, 6, 8, 10, 12]\n",
    "df = df.drop(rows_to_remove)\n",
    "df = df.reset_index(drop=True)"
   ]
  },
  {
   "cell_type": "code",
   "execution_count": 17,
   "id": "76434116",
   "metadata": {},
   "outputs": [],
   "source": [
    "# '연령대'값 이름 변경\n",
    "df.loc[0, '연령대'] = '20대미만'\n",
    "df.loc[1, '연령대'] = '20대'\n",
    "df.loc[2, '연령대'] = '30대'\n",
    "df.loc[3, '연령대'] = '40대'\n",
    "df.loc[4, '연령대'] = '50대'\n",
    "df.loc[5, '연령대'] = '60대'\n",
    "df.loc[6, '연령대'] = '70대이상'"
   ]
  },
  {
   "cell_type": "code",
   "execution_count": 18,
   "id": "e8dd4dc5",
   "metadata": {},
   "outputs": [
    {
     "data": {
      "text/html": [
       "<div>\n",
       "<style scoped>\n",
       "    .dataframe tbody tr th:only-of-type {\n",
       "        vertical-align: middle;\n",
       "    }\n",
       "\n",
       "    .dataframe tbody tr th {\n",
       "        vertical-align: top;\n",
       "    }\n",
       "\n",
       "    .dataframe thead th {\n",
       "        text-align: right;\n",
       "    }\n",
       "</style>\n",
       "<table border=\"1\" class=\"dataframe\">\n",
       "  <thead>\n",
       "    <tr style=\"text-align: right;\">\n",
       "      <th></th>\n",
       "      <th>연령대</th>\n",
       "      <th>미보유가구</th>\n",
       "      <th>보유가구</th>\n",
       "      <th>개</th>\n",
       "      <th>고양이</th>\n",
       "      <th>기타</th>\n",
       "      <th>복합</th>\n",
       "    </tr>\n",
       "  </thead>\n",
       "  <tbody>\n",
       "    <tr>\n",
       "      <th>0</th>\n",
       "      <td>20대미만</td>\n",
       "      <td>72806</td>\n",
       "      <td>4656</td>\n",
       "      <td>2565</td>\n",
       "      <td>1533</td>\n",
       "      <td>359</td>\n",
       "      <td>199</td>\n",
       "    </tr>\n",
       "    <tr>\n",
       "      <th>1</th>\n",
       "      <td>20대</td>\n",
       "      <td>1480210</td>\n",
       "      <td>216038</td>\n",
       "      <td>126872</td>\n",
       "      <td>71364</td>\n",
       "      <td>8945</td>\n",
       "      <td>8857</td>\n",
       "    </tr>\n",
       "    <tr>\n",
       "      <th>2</th>\n",
       "      <td>30대</td>\n",
       "      <td>2684696</td>\n",
       "      <td>437839</td>\n",
       "      <td>271692</td>\n",
       "      <td>124111</td>\n",
       "      <td>22554</td>\n",
       "      <td>19482</td>\n",
       "    </tr>\n",
       "    <tr>\n",
       "      <th>3</th>\n",
       "      <td>40대</td>\n",
       "      <td>3555952</td>\n",
       "      <td>703551</td>\n",
       "      <td>471499</td>\n",
       "      <td>145636</td>\n",
       "      <td>50250</td>\n",
       "      <td>36166</td>\n",
       "    </tr>\n",
       "    <tr>\n",
       "      <th>4</th>\n",
       "      <td>50대</td>\n",
       "      <td>3899107</td>\n",
       "      <td>910632</td>\n",
       "      <td>695073</td>\n",
       "      <td>139203</td>\n",
       "      <td>27729</td>\n",
       "      <td>48627</td>\n",
       "    </tr>\n",
       "    <tr>\n",
       "      <th>5</th>\n",
       "      <td>60대</td>\n",
       "      <td>3241478</td>\n",
       "      <td>545483</td>\n",
       "      <td>443848</td>\n",
       "      <td>60557</td>\n",
       "      <td>12604</td>\n",
       "      <td>28474</td>\n",
       "    </tr>\n",
       "    <tr>\n",
       "      <th>6</th>\n",
       "      <td>70대이상</td>\n",
       "      <td>2863499</td>\n",
       "      <td>310763</td>\n",
       "      <td>256965</td>\n",
       "      <td>28641</td>\n",
       "      <td>8999</td>\n",
       "      <td>16158</td>\n",
       "    </tr>\n",
       "  </tbody>\n",
       "</table>\n",
       "</div>"
      ],
      "text/plain": [
       "     연령대    미보유가구    보유가구       개     고양이     기타     복합\n",
       "0  20대미만    72806    4656    2565    1533    359    199\n",
       "1    20대  1480210  216038  126872   71364   8945   8857\n",
       "2    30대  2684696  437839  271692  124111  22554  19482\n",
       "3    40대  3555952  703551  471499  145636  50250  36166\n",
       "4    50대  3899107  910632  695073  139203  27729  48627\n",
       "5    60대  3241478  545483  443848   60557  12604  28474\n",
       "6  70대이상  2863499  310763  256965   28641   8999  16158"
      ]
     },
     "execution_count": 18,
     "metadata": {},
     "output_type": "execute_result"
    }
   ],
   "source": [
    "df"
   ]
  },
  {
   "cell_type": "markdown",
   "id": "f8bb6ab8",
   "metadata": {},
   "source": [
    "## 시각화"
   ]
  },
  {
   "cell_type": "markdown",
   "id": "a6384267",
   "metadata": {},
   "source": [
    "### 반려동물 미보유가구 vs 보유가구 파이차트"
   ]
  },
  {
   "cell_type": "code",
   "execution_count": 36,
   "id": "d194eaff",
   "metadata": {},
   "outputs": [
    {
     "data": {
      "image/png": "[encoded data removed]",
      "text/plain": [
       "<Figure size 800x800 with 1 Axes>"
      ]
     },
     "metadata": {},
     "output_type": "display_data"
    }
   ],
   "source": [
    "labels = ['미보유가구', '보유가구']\n",
    "sizes = [df['미보유가구'].sum(), df['보유가구'].sum()]\n",
    "explodes = (0, 0.1)\n",
    "\n",
    "# 파이 차트 그리기\n",
    "plt.figure(figsize=(8, 8))\n",
    "plt.pie(sizes,\n",
    "        explode=explodes,  # 원에서 조금 벗어나게 함\n",
    "        labels=labels,     # 라벨\n",
    "        autopct='%1.1f%%', # 포맷형식\n",
    "        startangle=45,      # 앵글 시작 위치\n",
    "        textprops={'fontsize': 14}  # autopct 글자 크기 조절\n",
    "       )\n",
    "plt.title('(통계청) 2020년 미보유가구와 보유가구 비교', fontsize=20)\n",
    "plt.axis('equal')      # 가로축, 세로축의 스케일을 동일하게 설정\n",
    "plt.show()"
   ]
  },
  {
   "cell_type": "markdown",
   "id": "583f8d9f",
   "metadata": {},
   "source": [
    "### 연령별 반려종별 파이차트"
   ]
  },
  {
   "cell_type": "code",
   "execution_count": 20,
   "id": "b7790b92",
   "metadata": {},
   "outputs": [
    {
     "data": {
      "text/plain": [
       "['20대미만', '20대', '30대', '40대', '50대', '60대', '70대이상']"
      ]
     },
     "execution_count": 20,
     "metadata": {},
     "output_type": "execute_result"
    }
   ],
   "source": [
    "df['연령대'].tolist()"
   ]
  },
  {
   "cell_type": "code",
   "execution_count": 21,
   "id": "9f13fab4",
   "metadata": {},
   "outputs": [
    {
     "data": {
      "text/plain": [
       "4656"
      ]
     },
     "execution_count": 21,
     "metadata": {},
     "output_type": "execute_result"
    }
   ],
   "source": [
    "df.iloc[0]['보유가구']"
   ]
  },
  {
   "cell_type": "code",
   "execution_count": 22,
   "id": "40c4e577",
   "metadata": {},
   "outputs": [
    {
     "name": "stdout",
     "output_type": "stream",
     "text": [
      "4656\n",
      "216038\n",
      "437839\n",
      "703551\n",
      "910632\n",
      "545483\n",
      "310763\n"
     ]
    }
   ],
   "source": [
    "for i in range(len(df)):\n",
    "    print(df.iloc[i]['보유가구'])"
   ]
  },
  {
   "cell_type": "code",
   "execution_count": 23,
   "id": "d6d887cf",
   "metadata": {},
   "outputs": [
    {
     "data": {
      "text/html": [
       "<div>\n",
       "<style scoped>\n",
       "    .dataframe tbody tr th:only-of-type {\n",
       "        vertical-align: middle;\n",
       "    }\n",
       "\n",
       "    .dataframe tbody tr th {\n",
       "        vertical-align: top;\n",
       "    }\n",
       "\n",
       "    .dataframe thead th {\n",
       "        text-align: right;\n",
       "    }\n",
       "</style>\n",
       "<table border=\"1\" class=\"dataframe\">\n",
       "  <thead>\n",
       "    <tr style=\"text-align: right;\">\n",
       "      <th></th>\n",
       "      <th>연령대</th>\n",
       "      <th>미보유가구</th>\n",
       "      <th>보유가구</th>\n",
       "      <th>개</th>\n",
       "      <th>고양이</th>\n",
       "      <th>기타</th>\n",
       "      <th>복합</th>\n",
       "    </tr>\n",
       "  </thead>\n",
       "  <tbody>\n",
       "    <tr>\n",
       "      <th>0</th>\n",
       "      <td>20대미만</td>\n",
       "      <td>72806</td>\n",
       "      <td>4656</td>\n",
       "      <td>2565</td>\n",
       "      <td>1533</td>\n",
       "      <td>359</td>\n",
       "      <td>199</td>\n",
       "    </tr>\n",
       "    <tr>\n",
       "      <th>1</th>\n",
       "      <td>20대</td>\n",
       "      <td>1480210</td>\n",
       "      <td>216038</td>\n",
       "      <td>126872</td>\n",
       "      <td>71364</td>\n",
       "      <td>8945</td>\n",
       "      <td>8857</td>\n",
       "    </tr>\n",
       "    <tr>\n",
       "      <th>2</th>\n",
       "      <td>30대</td>\n",
       "      <td>2684696</td>\n",
       "      <td>437839</td>\n",
       "      <td>271692</td>\n",
       "      <td>124111</td>\n",
       "      <td>22554</td>\n",
       "      <td>19482</td>\n",
       "    </tr>\n",
       "    <tr>\n",
       "      <th>3</th>\n",
       "      <td>40대</td>\n",
       "      <td>3555952</td>\n",
       "      <td>703551</td>\n",
       "      <td>471499</td>\n",
       "      <td>145636</td>\n",
       "      <td>50250</td>\n",
       "      <td>36166</td>\n",
       "    </tr>\n",
       "    <tr>\n",
       "      <th>4</th>\n",
       "      <td>50대</td>\n",
       "      <td>3899107</td>\n",
       "      <td>910632</td>\n",
       "      <td>695073</td>\n",
       "      <td>139203</td>\n",
       "      <td>27729</td>\n",
       "      <td>48627</td>\n",
       "    </tr>\n",
       "    <tr>\n",
       "      <th>5</th>\n",
       "      <td>60대</td>\n",
       "      <td>3241478</td>\n",
       "      <td>545483</td>\n",
       "      <td>443848</td>\n",
       "      <td>60557</td>\n",
       "      <td>12604</td>\n",
       "      <td>28474</td>\n",
       "    </tr>\n",
       "    <tr>\n",
       "      <th>6</th>\n",
       "      <td>70대이상</td>\n",
       "      <td>2863499</td>\n",
       "      <td>310763</td>\n",
       "      <td>256965</td>\n",
       "      <td>28641</td>\n",
       "      <td>8999</td>\n",
       "      <td>16158</td>\n",
       "    </tr>\n",
       "  </tbody>\n",
       "</table>\n",
       "</div>"
      ],
      "text/plain": [
       "     연령대    미보유가구    보유가구       개     고양이     기타     복합\n",
       "0  20대미만    72806    4656    2565    1533    359    199\n",
       "1    20대  1480210  216038  126872   71364   8945   8857\n",
       "2    30대  2684696  437839  271692  124111  22554  19482\n",
       "3    40대  3555952  703551  471499  145636  50250  36166\n",
       "4    50대  3899107  910632  695073  139203  27729  48627\n",
       "5    60대  3241478  545483  443848   60557  12604  28474\n",
       "6  70대이상  2863499  310763  256965   28641   8999  16158"
      ]
     },
     "execution_count": 23,
     "metadata": {},
     "output_type": "execute_result"
    }
   ],
   "source": [
    "df"
   ]
  },
  {
   "cell_type": "code",
   "execution_count": 24,
   "id": "df372c7e",
   "metadata": {},
   "outputs": [
    {
     "data": {
      "text/plain": [
       "['20대미만', '20대', '30대', '40대', '50대', '60대', '70대이상']"
      ]
     },
     "execution_count": 24,
     "metadata": {},
     "output_type": "execute_result"
    }
   ],
   "source": [
    "df['연령대'].tolist()"
   ]
  },
  {
   "cell_type": "code",
   "execution_count": 25,
   "id": "cb8f097e",
   "metadata": {},
   "outputs": [
    {
     "data": {
      "text/plain": [
       "[4656, 216038, 437839, 703551, 910632, 545483, 310763]"
      ]
     },
     "execution_count": 25,
     "metadata": {},
     "output_type": "execute_result"
    }
   ],
   "source": [
    "a = [ df.iloc[i]['보유가구'] for i in range(len(df)) ]\n",
    "a"
   ]
  },
  {
   "cell_type": "code",
   "execution_count": 26,
   "id": "c8031441",
   "metadata": {},
   "outputs": [
    {
     "data": {
      "text/plain": [
       "[4656, 216038, 437839, 703551, 910632, 545483, 310763]"
      ]
     },
     "execution_count": 26,
     "metadata": {},
     "output_type": "execute_result"
    }
   ],
   "source": [
    "df['보유가구'].tolist()"
   ]
  },
  {
   "cell_type": "code",
   "execution_count": 27,
   "id": "da3ee314",
   "metadata": {},
   "outputs": [],
   "source": [
    "group_names = df['연령대'].tolist()      # 연령대 list"
   ]
  },
  {
   "cell_type": "code",
   "execution_count": 28,
   "id": "ad758598",
   "metadata": {},
   "outputs": [],
   "source": [
    "# subgroup_names를 연령대와 반려동물 종류의 조합으로 새로 생성\n",
    "subgroup_names_combined = []\n",
    "for age_group in group_names:\n",
    "    for pet_type in ['개', '고양이', '기타', '복합']:\n",
    "        subgroup_names_combined.append(f'{age_group} {pet_type}')\n",
    "# subgroup_names_combined"
   ]
  },
  {
   "cell_type": "code",
   "execution_count": 29,
   "id": "23b4affe",
   "metadata": {},
   "outputs": [
    {
     "data": {
      "text/plain": [
       "[2565,\n",
       " 1533,\n",
       " 359,\n",
       " 199,\n",
       " 126872,\n",
       " 71364,\n",
       " 8945,\n",
       " 8857,\n",
       " 271692,\n",
       " 124111,\n",
       " 22554,\n",
       " 19482,\n",
       " 471499,\n",
       " 145636,\n",
       " 50250,\n",
       " 36166,\n",
       " 695073,\n",
       " 139203,\n",
       " 27729,\n",
       " 48627,\n",
       " 443848,\n",
       " 60557,\n",
       " 12604,\n",
       " 28474,\n",
       " 256965,\n",
       " 28641,\n",
       " 8999,\n",
       " 16158]"
      ]
     },
     "execution_count": 29,
     "metadata": {},
     "output_type": "execute_result"
    }
   ],
   "source": [
    "subgroup_sizes = []\n",
    "for age_group in group_names:\n",
    "    # 각 연령대에 해당하는 행을 가져와서 '개', '고양이', '기타', '복합' 열의 값을 합산하여 리스트에 추가\n",
    "    subgroup_data = df[df['연령대'] == age_group][['개', '고양이', '기타', '복합']].sum().tolist()\n",
    "    subgroup_sizes.extend(subgroup_data)\n",
    "subgroup_sizes"
   ]
  },
  {
   "cell_type": "code",
   "execution_count": 30,
   "id": "778c6474",
   "metadata": {},
   "outputs": [
    {
     "data": {
      "text/html": [
       "<div>\n",
       "<style scoped>\n",
       "    .dataframe tbody tr th:only-of-type {\n",
       "        vertical-align: middle;\n",
       "    }\n",
       "\n",
       "    .dataframe tbody tr th {\n",
       "        vertical-align: top;\n",
       "    }\n",
       "\n",
       "    .dataframe thead th {\n",
       "        text-align: right;\n",
       "    }\n",
       "</style>\n",
       "<table border=\"1\" class=\"dataframe\">\n",
       "  <thead>\n",
       "    <tr style=\"text-align: right;\">\n",
       "      <th></th>\n",
       "      <th>연령대</th>\n",
       "      <th>미보유가구</th>\n",
       "      <th>보유가구</th>\n",
       "      <th>개</th>\n",
       "      <th>고양이</th>\n",
       "      <th>기타</th>\n",
       "      <th>복합</th>\n",
       "    </tr>\n",
       "  </thead>\n",
       "  <tbody>\n",
       "    <tr>\n",
       "      <th>0</th>\n",
       "      <td>20대미만</td>\n",
       "      <td>72806</td>\n",
       "      <td>4656</td>\n",
       "      <td>2565</td>\n",
       "      <td>1533</td>\n",
       "      <td>359</td>\n",
       "      <td>199</td>\n",
       "    </tr>\n",
       "    <tr>\n",
       "      <th>1</th>\n",
       "      <td>20대</td>\n",
       "      <td>1480210</td>\n",
       "      <td>216038</td>\n",
       "      <td>126872</td>\n",
       "      <td>71364</td>\n",
       "      <td>8945</td>\n",
       "      <td>8857</td>\n",
       "    </tr>\n",
       "    <tr>\n",
       "      <th>2</th>\n",
       "      <td>30대</td>\n",
       "      <td>2684696</td>\n",
       "      <td>437839</td>\n",
       "      <td>271692</td>\n",
       "      <td>124111</td>\n",
       "      <td>22554</td>\n",
       "      <td>19482</td>\n",
       "    </tr>\n",
       "    <tr>\n",
       "      <th>3</th>\n",
       "      <td>40대</td>\n",
       "      <td>3555952</td>\n",
       "      <td>703551</td>\n",
       "      <td>471499</td>\n",
       "      <td>145636</td>\n",
       "      <td>50250</td>\n",
       "      <td>36166</td>\n",
       "    </tr>\n",
       "    <tr>\n",
       "      <th>4</th>\n",
       "      <td>50대</td>\n",
       "      <td>3899107</td>\n",
       "      <td>910632</td>\n",
       "      <td>695073</td>\n",
       "      <td>139203</td>\n",
       "      <td>27729</td>\n",
       "      <td>48627</td>\n",
       "    </tr>\n",
       "    <tr>\n",
       "      <th>5</th>\n",
       "      <td>60대</td>\n",
       "      <td>3241478</td>\n",
       "      <td>545483</td>\n",
       "      <td>443848</td>\n",
       "      <td>60557</td>\n",
       "      <td>12604</td>\n",
       "      <td>28474</td>\n",
       "    </tr>\n",
       "    <tr>\n",
       "      <th>6</th>\n",
       "      <td>70대이상</td>\n",
       "      <td>2863499</td>\n",
       "      <td>310763</td>\n",
       "      <td>256965</td>\n",
       "      <td>28641</td>\n",
       "      <td>8999</td>\n",
       "      <td>16158</td>\n",
       "    </tr>\n",
       "  </tbody>\n",
       "</table>\n",
       "</div>"
      ],
      "text/plain": [
       "     연령대    미보유가구    보유가구       개     고양이     기타     복합\n",
       "0  20대미만    72806    4656    2565    1533    359    199\n",
       "1    20대  1480210  216038  126872   71364   8945   8857\n",
       "2    30대  2684696  437839  271692  124111  22554  19482\n",
       "3    40대  3555952  703551  471499  145636  50250  36166\n",
       "4    50대  3899107  910632  695073  139203  27729  48627\n",
       "5    60대  3241478  545483  443848   60557  12604  28474\n",
       "6  70대이상  2863499  310763  256965   28641   8999  16158"
      ]
     },
     "execution_count": 30,
     "metadata": {},
     "output_type": "execute_result"
    }
   ],
   "source": [
    "df"
   ]
  },
  {
   "cell_type": "markdown",
   "id": "63c63fef",
   "metadata": {},
   "source": [
    "***"
   ]
  },
  {
   "cell_type": "markdown",
   "id": "d5a7522d",
   "metadata": {},
   "source": [
    "최종"
   ]
  },
  {
   "cell_type": "code",
   "execution_count": 50,
   "id": "354c09ca",
   "metadata": {},
   "outputs": [
    {
     "data": {
      "image/png": "[encoded data removed]",
      "text/plain": [
       "<Figure size 800x1200 with 1 Axes>"
      ]
     },
     "metadata": {},
     "output_type": "display_data"
    }
   ],
   "source": [
    "plt.figure(figsize=(8, 12))               # 차트 크기\n",
    "# 파이 그리기 위한 데이터 --------------------------------------\n",
    "\n",
    "# 밖의 원 데이터 연령대 - 보유가구\n",
    "group_names = df['연령대'].tolist()      # out pie차트 이름\n",
    "group_sizes = df['보유가구'].tolist()     # out pie차트 데이터\n",
    "\n",
    "# wedgeprops={'width':0.8, 'edgecolor':'w', 'linewidth':1} # 구멍뚫기\n",
    "explode= [0.05] * 7      # 중심에서 띄우기\n",
    "\n",
    "# colors\n",
    "main_colors = ['#008F7A', '#0081CF', '#D65DB1',\n",
    "          '#FF6F91', '#FF9671', '#FFC75F', '#F9F871']\n",
    "\n",
    "# 파이차트 그리기 ----------------------------------------------\n",
    "plt.pie(group_sizes,         # 밖의 원 데이터\n",
    "        counterclock=False, # 시계방향으로\n",
    "        radius=1.3,          # 파이차트 반지름\n",
    "        labels=group_names,  # 라벨 이름\n",
    "        labeldistance=0.8,   # 라벨 위치\n",
    "        autopct='%1.1f%%',   # 수치값\n",
    "        textprops={'fontsize': 16},  # autopct 글자 크기 조절\n",
    "#         wedgeprops=wedgeprops,\n",
    "        explode=explode,\n",
    "        colors=main_colors)  # 색상\n",
    "\n",
    "plt.title('(통계청) 2020년 연령별-반려동물 보유가구 비율 파이차트', fontsize=20, pad=40)\n",
    "plt.show()"
   ]
  },
  {
   "cell_type": "code",
   "execution_count": 53,
   "id": "7ce1a483",
   "metadata": {},
   "outputs": [
    {
     "data": {
      "text/plain": [
       "<Figure size 1500x1500 with 0 Axes>"
      ]
     },
     "metadata": {},
     "output_type": "display_data"
    },
    {
     "data": {
      "image/png": "[encoded data removed]",
      "text/plain": [
       "<Figure size 640x480 with 1 Axes>"
      ]
     },
     "metadata": {},
     "output_type": "display_data"
    }
   ],
   "source": [
    "import matplotlib.patches as mpatches  # Patch 객체를 위해 추가 (범례 수동생성 때문에)\n",
    "\n",
    "plt.figure(figsize=(15, 15))               # 차트 크기\n",
    "# 파이 그리기 위한 데이터 --------------------------------------\n",
    "\n",
    "# 밖의 원 데이터 연령대 - 보유가구\n",
    "group_names = df['연령대'].tolist()      # out pie차트 이름\n",
    "group_sizes = df['보유가구'].tolist()     # out pie차트 데이터\n",
    "\n",
    "#안의 원 데이터 연령대별 - 반려종 - 보유가구\n",
    "subgroup_names = []\n",
    "for age_group in group_names:\n",
    "    for pet_type in ['개', '고양이', '기타', '복합']:\n",
    "        subgroup_names.append(f'{age_group} {pet_type}')\n",
    "# 각 연령대별로 '개', '고양이', '기타', '복합' 등의 보유가구 수를 합산하여 subgroup_sizes 리스트 생성\n",
    "subgroup_sizes = []\n",
    "for age_group in group_names:\n",
    "    # 각 연령대에 해당하는 행을 가져와서 '개', '고양이', '기타', '복합' 열의 값을 합산하여 리스트에 추가\n",
    "    subgroup_data = df[df['연령대'] == age_group][['개', '고양이', '기타', '복합']].sum().tolist()\n",
    "    subgroup_sizes.extend(subgroup_data)\n",
    "\n",
    "\n",
    "# TEST) 이제 subgroup_sizes의 길이는 연령대 수 * 반려동물 종류 수와 일치해야 함\n",
    "# assert len(subgroup_sizes) == len(subgroup_names) * len(subgroup_sizes), \"subgroup_sizes의 길이가 예상과 다름\"\n",
    "\n",
    "# colors\n",
    "main_colors = ['#008F7A', '#0081CF', '#D65DB1',\n",
    "          '#FF6F91', '#FF9671', '#FFC75F', '#F9F871']\n",
    "sub_colors = ['#43B5FF', '#F9F871', '#F48BBD', '#3BC08E']\n",
    "\n",
    "# width (plt.setp()의 파이조각 넓이)\n",
    "width_num = 0.4\n",
    "\n",
    "# 1.6% 이상만 수치 표시\n",
    "autopct=lambda p: '{:.1f}%'.format(p) if p > 1.6 else ''\n",
    "\n",
    "# 파이차트 그리기 ----------------------------------------------\n",
    "\n",
    "# 밖의 원\n",
    "fig, ax = plt.subplots()\n",
    "ax.axis('equal')\n",
    "pie_outside, _ = ax.pie(group_sizes,         # 밖의 원 데이터\n",
    "                        counterclock=False, # 시계방향으로\n",
    "                        radius=1.3,          # 파이차트 반지름\n",
    "                        labels=group_names,  # 라벨 이름\n",
    "                        labeldistance=0.8,   # 라벨 위치\n",
    "                        colors=main_colors)  # 색상\n",
    "# 밖의원 위치 설정\n",
    "plt.setp(pie_outside, \n",
    "         width=width_num,   # 파이조각 넓이\n",
    "         edgecolor='white') # edge 색상\n",
    "\n",
    "# 안의 원\n",
    "pie_inside, plt_labels, junk = \\\n",
    "    ax.pie(subgroup_sizes,              # 안의 원 데이터\n",
    "           radius=(1.3 - width_num),   # 주 반지름 - 0.4\n",
    "           counterclock=False, # 시계방향으로\n",
    "#            labels=subgroup_names,      # 라벨 이름\n",
    "#            labeldistance=0.8,         # 라벨 위치\n",
    "           autopct=autopct,          # 수치값\n",
    "           pctdistance=0.7,           # 수치값의 위치\n",
    "           colors=sub_colors)          # 색상\n",
    "# 안의원 위치 설정\n",
    "plt.setp(pie_inside, \n",
    "         width=width_num, \n",
    "         edgecolor='white')\n",
    "\n",
    "# 범례 항목을 직접 생성\n",
    "legend_labels = ['개', '고양이', '기타', '복합']\n",
    "legend_handles = [mpatches.Patch(color=sub_colors[i], label=legend_labels[i]) for i in range(len(legend_labels))]\n",
    "\n",
    "# 범례 추가\n",
    "plt.legend(handles=legend_handles, loc=(0.9, 0.7))\n",
    "\n",
    "plt.title('(통계청) 2020년 연령별-반려종별 보유가구 파이차트', fontsize=20, pad=20)\n",
    "plt.show()"
   ]
  },
  {
   "cell_type": "code",
   "execution_count": null,
   "id": "dbbc047e",
   "metadata": {},
   "outputs": [],
   "source": []
  },
  {
   "cell_type": "code",
   "execution_count": null,
   "id": "c6330312",
   "metadata": {},
   "outputs": [],
   "source": []
  },
  {
   "cell_type": "code",
   "execution_count": null,
   "id": "c2052adb",
   "metadata": {},
   "outputs": [],
   "source": []
  },
  {
   "cell_type": "code",
   "execution_count": null,
   "id": "06c7b71d",
   "metadata": {},
   "outputs": [],
   "source": []
  },
  {
   "cell_type": "code",
   "execution_count": null,
   "id": "ce077440",
   "metadata": {},
   "outputs": [],
   "source": []
  },
  {
   "cell_type": "code",
   "execution_count": null,
   "id": "020c6ccc",
   "metadata": {},
   "outputs": [],
   "source": []
  },
  {
   "cell_type": "code",
   "execution_count": null,
   "id": "d7430d61",
   "metadata": {},
   "outputs": [],
   "source": []
  },
  {
   "cell_type": "code",
   "execution_count": null,
   "id": "c85649a9",
   "metadata": {},
   "outputs": [],
   "source": []
  },
  {
   "cell_type": "code",
   "execution_count": null,
   "id": "d7a708f8",
   "metadata": {},
   "outputs": [],
   "source": []
  },
  {
   "cell_type": "markdown",
   "id": "ec1a5803",
   "metadata": {},
   "source": [
    "파이차트 안의 파이차트 예제"
   ]
  },
  {
   "cell_type": "code",
   "execution_count": 103,
   "id": "b88dcc4d",
   "metadata": {},
   "outputs": [
    {
     "data": {
      "image/png": "[encoded data removed]",
      "text/plain": [
       "<Figure size 1200x800 with 1 Axes>"
      ]
     },
     "metadata": {},
     "output_type": "display_data"
    }
   ],
   "source": [
    "plt.rcParams['figure.figsize'] = [12, 8]\n",
    "    # info. of groups\n",
    "group_names = ['Group_A', 'Group_B', 'Group_C']\n",
    "group_sizes = [95, 54, 25]\n",
    "\n",
    "# info. of subgroups\n",
    "subgroup_names = ['A_1', 'A_2', 'A_3', 'A_4', \n",
    "                  'B_1', 'B_2', 'B_3', \n",
    "                  'C_1', 'C_2']\n",
    "\n",
    "subgroup_sizes = [50, 30, 10, 5, 30, 20, 4, 20, 5]\n",
    "\n",
    "# colors\n",
    "a, b, c = [plt.cm.Reds, plt.cm.Greens, plt.cm.Blues]\n",
    "\n",
    "# width\n",
    "width_num = 0.4\n",
    "\n",
    "# Outside Ring\n",
    "\n",
    "fig, ax = plt.subplots()\n",
    "ax.axis('equal')\n",
    "pie_outside, _ = ax.pie(group_sizes, \n",
    "                        radius=1.3, \n",
    "                        labels=group_names, \n",
    "                        labeldistance=0.8,\n",
    "                        colors=[a(0.6), b(0.6), c(0.6)])\n",
    "plt.setp(pie_outside, \n",
    "         width=width_num, \n",
    "         edgecolor='white')\n",
    "\n",
    "# Inside Ring\n",
    "pie_inside, plt_labels, junk = \\\n",
    "    ax.pie(subgroup_sizes, \n",
    "           radius=(1.3 - width_num), \n",
    "           labels=subgroup_names, \n",
    "           labeldistance=0.75, \n",
    "           autopct='%1.1f%%', \n",
    "           colors=[a(0.5), a(0.4), a(0.3), a(0.2), \n",
    "                   b(0.5), b(0.4), b(0.3), \n",
    "                   c(0.5), c(0.4)])\n",
    "\n",
    "plt.setp(pie_inside, \n",
    "         width=width_num, \n",
    "         edgecolor='white')\n",
    "plt.title('Donut Plot with Subgroups', fontsize=20)\n",
    "plt.show()"
   ]
  },
  {
   "cell_type": "code",
   "execution_count": null,
   "id": "434acade",
   "metadata": {},
   "outputs": [],
   "source": []
  }
 ],
 "metadata": {
  "kernelspec": {
   "display_name": "Python 3 (ipykernel)",
   "language": "python",
   "name": "python3"
  },
  "language_info": {
   "codemirror_mode": {
    "name": "ipython",
    "version": 3
   },
   "file_extension": ".py",
   "mimetype": "text/x-python",
   "name": "python",
   "nbconvert_exporter": "python",
   "pygments_lexer": "ipython3",
   "version": "3.11.5"
  },
  "toc": {
   "base_numbering": 1,
   "nav_menu": {},
   "number_sections": true,
   "sideBar": true,
   "skip_h1_title": false,
   "title_cell": "Table of Contents",
   "title_sidebar": "Contents",
   "toc_cell": false,
   "toc_position": {
    "height": "calc(100% - 180px)",
    "left": "10px",
    "top": "150px",
    "width": "426.667px"
   },
   "toc_section_display": true,
   "toc_window_display": false
  },
  "varInspector": {
   "cols": {
    "lenName": 16,
    "lenType": 16,
    "lenVar": 40
   },
   "kernels_config": {
    "python": {
     "delete_cmd_postfix": "",
     "delete_cmd_prefix": "del ",
     "library": "var_list.py",
     "varRefreshCmd": "print(var_dic_list())"
    },
    "r": {
     "delete_cmd_postfix": ") ",
     "delete_cmd_prefix": "rm(",
     "library": "var_list.r",
     "varRefreshCmd": "cat(var_dic_list()) "
    }
   },
   "types_to_exclude": [
    "module",
    "function",
    "builtin_function_or_method",
    "instance",
    "_Feature"
   ],
   "window_display": false
  }
 },
 "nbformat": 4,
 "nbformat_minor": 5
}
