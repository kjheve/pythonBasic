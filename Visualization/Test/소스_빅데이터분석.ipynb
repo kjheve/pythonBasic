{
 "cells": [
  {
   "cell_type": "code",
   "execution_count": 144,
   "id": "c69544ea",
   "metadata": {},
   "outputs": [],
   "source": [
    "import pandas as pd\n",
    "import numpy as np"
   ]
  },
  {
   "cell_type": "markdown",
   "id": "d7ede42e",
   "metadata": {},
   "source": [
    "## 데이터셋을 불러와서 처음 5개의 행을 출력하시오"
   ]
  },
  {
   "cell_type": "code",
   "execution_count": 145,
   "id": "ca994a94",
   "metadata": {},
   "outputs": [
    {
     "data": {
      "text/html": [
       "<div>\n",
       "<style scoped>\n",
       "    .dataframe tbody tr th:only-of-type {\n",
       "        vertical-align: middle;\n",
       "    }\n",
       "\n",
       "    .dataframe tbody tr th {\n",
       "        vertical-align: top;\n",
       "    }\n",
       "\n",
       "    .dataframe thead th {\n",
       "        text-align: right;\n",
       "    }\n",
       "</style>\n",
       "<table border=\"1\" class=\"dataframe\">\n",
       "  <thead>\n",
       "    <tr style=\"text-align: right;\">\n",
       "      <th></th>\n",
       "      <th>상품ID</th>\n",
       "      <th>상품명</th>\n",
       "      <th>카테고리</th>\n",
       "      <th>가격</th>\n",
       "      <th>판매수량</th>\n",
       "      <th>판매날짜</th>\n",
       "    </tr>\n",
       "  </thead>\n",
       "  <tbody>\n",
       "    <tr>\n",
       "      <th>0</th>\n",
       "      <td>1</td>\n",
       "      <td>상품1</td>\n",
       "      <td>전자기기</td>\n",
       "      <td>98210</td>\n",
       "      <td>21</td>\n",
       "      <td>2023-01-01</td>\n",
       "    </tr>\n",
       "    <tr>\n",
       "      <th>1</th>\n",
       "      <td>2</td>\n",
       "      <td>상품2</td>\n",
       "      <td>식품</td>\n",
       "      <td>46253</td>\n",
       "      <td>39</td>\n",
       "      <td>2023-01-02</td>\n",
       "    </tr>\n",
       "    <tr>\n",
       "      <th>2</th>\n",
       "      <td>3</td>\n",
       "      <td>상품3</td>\n",
       "      <td>전자기기</td>\n",
       "      <td>72432</td>\n",
       "      <td>49</td>\n",
       "      <td>2023-01-03</td>\n",
       "    </tr>\n",
       "    <tr>\n",
       "      <th>3</th>\n",
       "      <td>4</td>\n",
       "      <td>상품4</td>\n",
       "      <td>전자기기</td>\n",
       "      <td>46147</td>\n",
       "      <td>26</td>\n",
       "      <td>2023-01-04</td>\n",
       "    </tr>\n",
       "    <tr>\n",
       "      <th>4</th>\n",
       "      <td>5</td>\n",
       "      <td>상품5</td>\n",
       "      <td>패션</td>\n",
       "      <td>96757</td>\n",
       "      <td>20</td>\n",
       "      <td>2023-01-05</td>\n",
       "    </tr>\n",
       "  </tbody>\n",
       "</table>\n",
       "</div>"
      ],
      "text/plain": [
       "   상품ID  상품명  카테고리     가격  판매수량        판매날짜\n",
       "0     1  상품1  전자기기  98210    21  2023-01-01\n",
       "1     2  상품2    식품  46253    39  2023-01-02\n",
       "2     3  상품3  전자기기  72432    49  2023-01-03\n",
       "3     4  상품4  전자기기  46147    26  2023-01-04\n",
       "4     5  상품5    패션  96757    20  2023-01-05"
      ]
     },
     "execution_count": 145,
     "metadata": {},
     "output_type": "execute_result"
    }
   ],
   "source": [
    "df = pd.read_csv('data.csv', encoding='utf-8')\n",
    "df.head(5)"
   ]
  },
  {
   "cell_type": "markdown",
   "id": "e26a670f",
   "metadata": {},
   "source": [
    "## '카테고리'별로 몇개의 상품이 있는지 각각 세어 출력하시오."
   ]
  },
  {
   "cell_type": "code",
   "execution_count": 146,
   "id": "f85e73b6",
   "metadata": {},
   "outputs": [
    {
     "data": {
      "text/plain": [
       "카테고리\n",
       "패션      23\n",
       "전자기기    22\n",
       "식품      21\n",
       "도서      18\n",
       "생활용품    16\n",
       "Name: count, dtype: int64"
      ]
     },
     "execution_count": 146,
     "metadata": {},
     "output_type": "execute_result"
    }
   ],
   "source": [
    "df['카테고리'].value_counts()"
   ]
  },
  {
   "cell_type": "code",
   "execution_count": 147,
   "id": "59bfcb67",
   "metadata": {},
   "outputs": [
    {
     "data": {
      "text/plain": [
       "카테고리\n",
       "도서      18\n",
       "생활용품    16\n",
       "식품      21\n",
       "전자기기    22\n",
       "패션      23\n",
       "Name: 카테고리, dtype: int64"
      ]
     },
     "execution_count": 147,
     "metadata": {},
     "output_type": "execute_result"
    }
   ],
   "source": [
    "df.groupby('카테고리')['카테고리'].count()"
   ]
  },
  {
   "cell_type": "markdown",
   "id": "f3b6313e",
   "metadata": {},
   "source": [
    "## 모든 상품의 평균 가격을 계산하시오"
   ]
  },
  {
   "cell_type": "code",
   "execution_count": 148,
   "id": "78ee6575",
   "metadata": {},
   "outputs": [
    {
     "data": {
      "text/plain": [
       "58998.4"
      ]
     },
     "execution_count": 148,
     "metadata": {},
     "output_type": "execute_result"
    }
   ],
   "source": [
    "df['가격'].mean()"
   ]
  },
  {
   "cell_type": "markdown",
   "id": "14d92a1e",
   "metadata": {},
   "source": [
    "## '판매수량'이 가장 높은 상위 10개 상품을 출력하시오"
   ]
  },
  {
   "cell_type": "code",
   "execution_count": 164,
   "id": "b5cd9b6a",
   "metadata": {},
   "outputs": [
    {
     "data": {
      "text/html": [
       "<div>\n",
       "<style scoped>\n",
       "    .dataframe tbody tr th:only-of-type {\n",
       "        vertical-align: middle;\n",
       "    }\n",
       "\n",
       "    .dataframe tbody tr th {\n",
       "        vertical-align: top;\n",
       "    }\n",
       "\n",
       "    .dataframe thead th {\n",
       "        text-align: right;\n",
       "    }\n",
       "</style>\n",
       "<table border=\"1\" class=\"dataframe\">\n",
       "  <thead>\n",
       "    <tr style=\"text-align: right;\">\n",
       "      <th></th>\n",
       "      <th>상품ID</th>\n",
       "      <th>상품명</th>\n",
       "      <th>카테고리</th>\n",
       "      <th>가격</th>\n",
       "      <th>판매수량</th>\n",
       "      <th>판매날짜</th>\n",
       "      <th>판매액</th>\n",
       "    </tr>\n",
       "  </thead>\n",
       "  <tbody>\n",
       "    <tr>\n",
       "      <th>2</th>\n",
       "      <td>3</td>\n",
       "      <td>상품3</td>\n",
       "      <td>전자기기</td>\n",
       "      <td>72432</td>\n",
       "      <td>49</td>\n",
       "      <td>2023-01-03</td>\n",
       "      <td>3549168</td>\n",
       "    </tr>\n",
       "    <tr>\n",
       "      <th>69</th>\n",
       "      <td>70</td>\n",
       "      <td>상품70</td>\n",
       "      <td>패션</td>\n",
       "      <td>62855</td>\n",
       "      <td>48</td>\n",
       "      <td>2023-03-11</td>\n",
       "      <td>3017040</td>\n",
       "    </tr>\n",
       "    <tr>\n",
       "      <th>15</th>\n",
       "      <td>16</td>\n",
       "      <td>상품16</td>\n",
       "      <td>식품</td>\n",
       "      <td>79337</td>\n",
       "      <td>46</td>\n",
       "      <td>2023-01-16</td>\n",
       "      <td>3649502</td>\n",
       "    </tr>\n",
       "    <tr>\n",
       "      <th>47</th>\n",
       "      <td>48</td>\n",
       "      <td>상품48</td>\n",
       "      <td>패션</td>\n",
       "      <td>71499</td>\n",
       "      <td>46</td>\n",
       "      <td>2023-02-17</td>\n",
       "      <td>3288954</td>\n",
       "    </tr>\n",
       "    <tr>\n",
       "      <th>75</th>\n",
       "      <td>76</td>\n",
       "      <td>상품76</td>\n",
       "      <td>식품</td>\n",
       "      <td>29160</td>\n",
       "      <td>46</td>\n",
       "      <td>2023-03-17</td>\n",
       "      <td>1341360</td>\n",
       "    </tr>\n",
       "    <tr>\n",
       "      <th>27</th>\n",
       "      <td>28</td>\n",
       "      <td>상품28</td>\n",
       "      <td>도서</td>\n",
       "      <td>53170</td>\n",
       "      <td>45</td>\n",
       "      <td>2023-01-28</td>\n",
       "      <td>2392650</td>\n",
       "    </tr>\n",
       "    <tr>\n",
       "      <th>92</th>\n",
       "      <td>93</td>\n",
       "      <td>상품93</td>\n",
       "      <td>도서</td>\n",
       "      <td>21589</td>\n",
       "      <td>45</td>\n",
       "      <td>2023-04-03</td>\n",
       "      <td>971505</td>\n",
       "    </tr>\n",
       "    <tr>\n",
       "      <th>22</th>\n",
       "      <td>23</td>\n",
       "      <td>상품23</td>\n",
       "      <td>도서</td>\n",
       "      <td>17576</td>\n",
       "      <td>44</td>\n",
       "      <td>2023-01-23</td>\n",
       "      <td>773344</td>\n",
       "    </tr>\n",
       "    <tr>\n",
       "      <th>94</th>\n",
       "      <td>95</td>\n",
       "      <td>상품95</td>\n",
       "      <td>전자기기</td>\n",
       "      <td>16985</td>\n",
       "      <td>44</td>\n",
       "      <td>2023-04-05</td>\n",
       "      <td>747340</td>\n",
       "    </tr>\n",
       "    <tr>\n",
       "      <th>33</th>\n",
       "      <td>34</td>\n",
       "      <td>상품34</td>\n",
       "      <td>식품</td>\n",
       "      <td>73025</td>\n",
       "      <td>44</td>\n",
       "      <td>2023-02-03</td>\n",
       "      <td>3213100</td>\n",
       "    </tr>\n",
       "  </tbody>\n",
       "</table>\n",
       "</div>"
      ],
      "text/plain": [
       "    상품ID   상품명  카테고리     가격  판매수량       판매날짜      판매액\n",
       "2      3   상품3  전자기기  72432    49 2023-01-03  3549168\n",
       "69    70  상품70    패션  62855    48 2023-03-11  3017040\n",
       "15    16  상품16    식품  79337    46 2023-01-16  3649502\n",
       "47    48  상품48    패션  71499    46 2023-02-17  3288954\n",
       "75    76  상품76    식품  29160    46 2023-03-17  1341360\n",
       "27    28  상품28    도서  53170    45 2023-01-28  2392650\n",
       "92    93  상품93    도서  21589    45 2023-04-03   971505\n",
       "22    23  상품23    도서  17576    44 2023-01-23   773344\n",
       "94    95  상품95  전자기기  16985    44 2023-04-05   747340\n",
       "33    34  상품34    식품  73025    44 2023-02-03  3213100"
      ]
     },
     "metadata": {},
     "output_type": "display_data"
    },
    {
     "data": {
      "text/html": [
       "<div>\n",
       "<style scoped>\n",
       "    .dataframe tbody tr th:only-of-type {\n",
       "        vertical-align: middle;\n",
       "    }\n",
       "\n",
       "    .dataframe tbody tr th {\n",
       "        vertical-align: top;\n",
       "    }\n",
       "\n",
       "    .dataframe thead th {\n",
       "        text-align: right;\n",
       "    }\n",
       "</style>\n",
       "<table border=\"1\" class=\"dataframe\">\n",
       "  <thead>\n",
       "    <tr style=\"text-align: right;\">\n",
       "      <th></th>\n",
       "      <th>상품ID</th>\n",
       "      <th>상품명</th>\n",
       "      <th>카테고리</th>\n",
       "      <th>가격</th>\n",
       "      <th>판매수량</th>\n",
       "      <th>판매날짜</th>\n",
       "      <th>판매액</th>\n",
       "    </tr>\n",
       "  </thead>\n",
       "  <tbody>\n",
       "    <tr>\n",
       "      <th>2</th>\n",
       "      <td>3</td>\n",
       "      <td>상품3</td>\n",
       "      <td>전자기기</td>\n",
       "      <td>72432</td>\n",
       "      <td>49</td>\n",
       "      <td>2023-01-03</td>\n",
       "      <td>3549168</td>\n",
       "    </tr>\n",
       "    <tr>\n",
       "      <th>69</th>\n",
       "      <td>70</td>\n",
       "      <td>상품70</td>\n",
       "      <td>패션</td>\n",
       "      <td>62855</td>\n",
       "      <td>48</td>\n",
       "      <td>2023-03-11</td>\n",
       "      <td>3017040</td>\n",
       "    </tr>\n",
       "    <tr>\n",
       "      <th>15</th>\n",
       "      <td>16</td>\n",
       "      <td>상품16</td>\n",
       "      <td>식품</td>\n",
       "      <td>79337</td>\n",
       "      <td>46</td>\n",
       "      <td>2023-01-16</td>\n",
       "      <td>3649502</td>\n",
       "    </tr>\n",
       "    <tr>\n",
       "      <th>47</th>\n",
       "      <td>48</td>\n",
       "      <td>상품48</td>\n",
       "      <td>패션</td>\n",
       "      <td>71499</td>\n",
       "      <td>46</td>\n",
       "      <td>2023-02-17</td>\n",
       "      <td>3288954</td>\n",
       "    </tr>\n",
       "    <tr>\n",
       "      <th>75</th>\n",
       "      <td>76</td>\n",
       "      <td>상품76</td>\n",
       "      <td>식품</td>\n",
       "      <td>29160</td>\n",
       "      <td>46</td>\n",
       "      <td>2023-03-17</td>\n",
       "      <td>1341360</td>\n",
       "    </tr>\n",
       "    <tr>\n",
       "      <th>27</th>\n",
       "      <td>28</td>\n",
       "      <td>상품28</td>\n",
       "      <td>도서</td>\n",
       "      <td>53170</td>\n",
       "      <td>45</td>\n",
       "      <td>2023-01-28</td>\n",
       "      <td>2392650</td>\n",
       "    </tr>\n",
       "    <tr>\n",
       "      <th>92</th>\n",
       "      <td>93</td>\n",
       "      <td>상품93</td>\n",
       "      <td>도서</td>\n",
       "      <td>21589</td>\n",
       "      <td>45</td>\n",
       "      <td>2023-04-03</td>\n",
       "      <td>971505</td>\n",
       "    </tr>\n",
       "    <tr>\n",
       "      <th>22</th>\n",
       "      <td>23</td>\n",
       "      <td>상품23</td>\n",
       "      <td>도서</td>\n",
       "      <td>17576</td>\n",
       "      <td>44</td>\n",
       "      <td>2023-01-23</td>\n",
       "      <td>773344</td>\n",
       "    </tr>\n",
       "    <tr>\n",
       "      <th>33</th>\n",
       "      <td>34</td>\n",
       "      <td>상품34</td>\n",
       "      <td>식품</td>\n",
       "      <td>73025</td>\n",
       "      <td>44</td>\n",
       "      <td>2023-02-03</td>\n",
       "      <td>3213100</td>\n",
       "    </tr>\n",
       "    <tr>\n",
       "      <th>37</th>\n",
       "      <td>38</td>\n",
       "      <td>상품38</td>\n",
       "      <td>전자기기</td>\n",
       "      <td>88065</td>\n",
       "      <td>44</td>\n",
       "      <td>2023-02-07</td>\n",
       "      <td>3874860</td>\n",
       "    </tr>\n",
       "  </tbody>\n",
       "</table>\n",
       "</div>"
      ],
      "text/plain": [
       "    상품ID   상품명  카테고리     가격  판매수량       판매날짜      판매액\n",
       "2      3   상품3  전자기기  72432    49 2023-01-03  3549168\n",
       "69    70  상품70    패션  62855    48 2023-03-11  3017040\n",
       "15    16  상품16    식품  79337    46 2023-01-16  3649502\n",
       "47    48  상품48    패션  71499    46 2023-02-17  3288954\n",
       "75    76  상품76    식품  29160    46 2023-03-17  1341360\n",
       "27    28  상품28    도서  53170    45 2023-01-28  2392650\n",
       "92    93  상품93    도서  21589    45 2023-04-03   971505\n",
       "22    23  상품23    도서  17576    44 2023-01-23   773344\n",
       "33    34  상품34    식품  73025    44 2023-02-03  3213100\n",
       "37    38  상품38  전자기기  88065    44 2023-02-07  3874860"
      ]
     },
     "metadata": {},
     "output_type": "display_data"
    }
   ],
   "source": [
    "display(df.sort_values(by='판매수량', ascending=False).head(10))\n",
    "display(df.nlargest(10, '판매수량'))"
   ]
  },
  {
   "cell_type": "markdown",
   "id": "e33236f9",
   "metadata": {},
   "source": [
    "## 각 '카테고리'별 평균 판매수량을 계산하시오."
   ]
  },
  {
   "cell_type": "code",
   "execution_count": 150,
   "id": "6cef8284",
   "metadata": {},
   "outputs": [
    {
     "data": {
      "text/plain": [
       "카테고리\n",
       "도서      23.722222\n",
       "생활용품    26.000000\n",
       "식품      27.666667\n",
       "전자기기    22.863636\n",
       "패션      28.347826\n",
       "Name: 판매수량, dtype: float64"
      ]
     },
     "execution_count": 150,
     "metadata": {},
     "output_type": "execute_result"
    }
   ],
   "source": [
    "df.groupby('카테고리')['판매수량'].mean()"
   ]
  },
  {
   "cell_type": "markdown",
   "id": "02cd2429",
   "metadata": {},
   "source": [
    "## '판매날짜'를 기준으로 데이터를 정렬하시오(오래된 순)"
   ]
  },
  {
   "cell_type": "code",
   "execution_count": 151,
   "id": "dad00819",
   "metadata": {},
   "outputs": [
    {
     "data": {
      "text/html": [
       "<div>\n",
       "<style scoped>\n",
       "    .dataframe tbody tr th:only-of-type {\n",
       "        vertical-align: middle;\n",
       "    }\n",
       "\n",
       "    .dataframe tbody tr th {\n",
       "        vertical-align: top;\n",
       "    }\n",
       "\n",
       "    .dataframe thead th {\n",
       "        text-align: right;\n",
       "    }\n",
       "</style>\n",
       "<table border=\"1\" class=\"dataframe\">\n",
       "  <thead>\n",
       "    <tr style=\"text-align: right;\">\n",
       "      <th></th>\n",
       "      <th>상품ID</th>\n",
       "      <th>상품명</th>\n",
       "      <th>카테고리</th>\n",
       "      <th>가격</th>\n",
       "      <th>판매수량</th>\n",
       "      <th>판매날짜</th>\n",
       "    </tr>\n",
       "  </thead>\n",
       "  <tbody>\n",
       "    <tr>\n",
       "      <th>0</th>\n",
       "      <td>1</td>\n",
       "      <td>상품1</td>\n",
       "      <td>전자기기</td>\n",
       "      <td>98210</td>\n",
       "      <td>21</td>\n",
       "      <td>2023-01-01</td>\n",
       "    </tr>\n",
       "    <tr>\n",
       "      <th>1</th>\n",
       "      <td>2</td>\n",
       "      <td>상품2</td>\n",
       "      <td>식품</td>\n",
       "      <td>46253</td>\n",
       "      <td>39</td>\n",
       "      <td>2023-01-02</td>\n",
       "    </tr>\n",
       "    <tr>\n",
       "      <th>2</th>\n",
       "      <td>3</td>\n",
       "      <td>상품3</td>\n",
       "      <td>전자기기</td>\n",
       "      <td>72432</td>\n",
       "      <td>49</td>\n",
       "      <td>2023-01-03</td>\n",
       "    </tr>\n",
       "    <tr>\n",
       "      <th>3</th>\n",
       "      <td>4</td>\n",
       "      <td>상품4</td>\n",
       "      <td>전자기기</td>\n",
       "      <td>46147</td>\n",
       "      <td>26</td>\n",
       "      <td>2023-01-04</td>\n",
       "    </tr>\n",
       "    <tr>\n",
       "      <th>4</th>\n",
       "      <td>5</td>\n",
       "      <td>상품5</td>\n",
       "      <td>패션</td>\n",
       "      <td>96757</td>\n",
       "      <td>20</td>\n",
       "      <td>2023-01-05</td>\n",
       "    </tr>\n",
       "    <tr>\n",
       "      <th>...</th>\n",
       "      <td>...</td>\n",
       "      <td>...</td>\n",
       "      <td>...</td>\n",
       "      <td>...</td>\n",
       "      <td>...</td>\n",
       "      <td>...</td>\n",
       "    </tr>\n",
       "    <tr>\n",
       "      <th>95</th>\n",
       "      <td>96</td>\n",
       "      <td>상품96</td>\n",
       "      <td>패션</td>\n",
       "      <td>57557</td>\n",
       "      <td>30</td>\n",
       "      <td>2023-04-06</td>\n",
       "    </tr>\n",
       "    <tr>\n",
       "      <th>96</th>\n",
       "      <td>97</td>\n",
       "      <td>상품97</td>\n",
       "      <td>식품</td>\n",
       "      <td>90969</td>\n",
       "      <td>20</td>\n",
       "      <td>2023-04-07</td>\n",
       "    </tr>\n",
       "    <tr>\n",
       "      <th>97</th>\n",
       "      <td>98</td>\n",
       "      <td>상품98</td>\n",
       "      <td>식품</td>\n",
       "      <td>91867</td>\n",
       "      <td>27</td>\n",
       "      <td>2023-04-08</td>\n",
       "    </tr>\n",
       "    <tr>\n",
       "      <th>98</th>\n",
       "      <td>99</td>\n",
       "      <td>상품99</td>\n",
       "      <td>생활용품</td>\n",
       "      <td>68288</td>\n",
       "      <td>38</td>\n",
       "      <td>2023-04-09</td>\n",
       "    </tr>\n",
       "    <tr>\n",
       "      <th>99</th>\n",
       "      <td>100</td>\n",
       "      <td>상품100</td>\n",
       "      <td>패션</td>\n",
       "      <td>97389</td>\n",
       "      <td>21</td>\n",
       "      <td>2023-04-10</td>\n",
       "    </tr>\n",
       "  </tbody>\n",
       "</table>\n",
       "<p>100 rows × 6 columns</p>\n",
       "</div>"
      ],
      "text/plain": [
       "    상품ID    상품명  카테고리     가격  판매수량        판매날짜\n",
       "0      1    상품1  전자기기  98210    21  2023-01-01\n",
       "1      2    상품2    식품  46253    39  2023-01-02\n",
       "2      3    상품3  전자기기  72432    49  2023-01-03\n",
       "3      4    상품4  전자기기  46147    26  2023-01-04\n",
       "4      5    상품5    패션  96757    20  2023-01-05\n",
       "..   ...    ...   ...    ...   ...         ...\n",
       "95    96   상품96    패션  57557    30  2023-04-06\n",
       "96    97   상품97    식품  90969    20  2023-04-07\n",
       "97    98   상품98    식품  91867    27  2023-04-08\n",
       "98    99   상품99  생활용품  68288    38  2023-04-09\n",
       "99   100  상품100    패션  97389    21  2023-04-10\n",
       "\n",
       "[100 rows x 6 columns]"
      ]
     },
     "execution_count": 151,
     "metadata": {},
     "output_type": "execute_result"
    }
   ],
   "source": [
    "df.sort_values(by='판매날짜')"
   ]
  },
  {
   "cell_type": "markdown",
   "id": "c959e1c2",
   "metadata": {},
   "source": [
    "## 각 '카테고리'별로 최고 가격을 가진 상품의 이름을 출력하시오."
   ]
  },
  {
   "cell_type": "code",
   "execution_count": 152,
   "id": "1f6f9d9a",
   "metadata": {},
   "outputs": [
    {
     "data": {
      "text/html": [
       "<div>\n",
       "<style scoped>\n",
       "    .dataframe tbody tr th:only-of-type {\n",
       "        vertical-align: middle;\n",
       "    }\n",
       "\n",
       "    .dataframe tbody tr th {\n",
       "        vertical-align: top;\n",
       "    }\n",
       "\n",
       "    .dataframe thead th {\n",
       "        text-align: right;\n",
       "    }\n",
       "</style>\n",
       "<table border=\"1\" class=\"dataframe\">\n",
       "  <thead>\n",
       "    <tr style=\"text-align: right;\">\n",
       "      <th></th>\n",
       "      <th>카테고리</th>\n",
       "      <th>상품명</th>\n",
       "      <th>가격</th>\n",
       "    </tr>\n",
       "  </thead>\n",
       "  <tbody>\n",
       "    <tr>\n",
       "      <th>0</th>\n",
       "      <td>도서</td>\n",
       "      <td>상품6</td>\n",
       "      <td>99763</td>\n",
       "    </tr>\n",
       "    <tr>\n",
       "      <th>1</th>\n",
       "      <td>생활용품</td>\n",
       "      <td>상품49</td>\n",
       "      <td>97156</td>\n",
       "    </tr>\n",
       "    <tr>\n",
       "      <th>2</th>\n",
       "      <td>식품</td>\n",
       "      <td>상품11</td>\n",
       "      <td>99012</td>\n",
       "    </tr>\n",
       "    <tr>\n",
       "      <th>3</th>\n",
       "      <td>전자기기</td>\n",
       "      <td>상품1</td>\n",
       "      <td>98210</td>\n",
       "    </tr>\n",
       "    <tr>\n",
       "      <th>4</th>\n",
       "      <td>패션</td>\n",
       "      <td>상품100</td>\n",
       "      <td>97389</td>\n",
       "    </tr>\n",
       "  </tbody>\n",
       "</table>\n",
       "</div>"
      ],
      "text/plain": [
       "   카테고리    상품명     가격\n",
       "0    도서    상품6  99763\n",
       "1  생활용품   상품49  97156\n",
       "2    식품   상품11  99012\n",
       "3  전자기기    상품1  98210\n",
       "4    패션  상품100  97389"
      ]
     },
     "execution_count": 152,
     "metadata": {},
     "output_type": "execute_result"
    }
   ],
   "source": [
    "filt = df.groupby('카테고리')['가격'].idxmax()\n",
    "df.iloc[filt][['카테고리', '상품명', '가격']].reset_index(drop=True)"
   ]
  },
  {
   "cell_type": "markdown",
   "id": "d8baa3b6",
   "metadata": {},
   "source": [
    "## 모든 상품의 총 판매액(가격 * 판매수량)을 계산하시오."
   ]
  },
  {
   "cell_type": "code",
   "execution_count": 165,
   "id": "908fb340",
   "metadata": {},
   "outputs": [
    {
     "data": {
      "text/plain": [
       "146926750"
      ]
     },
     "execution_count": 165,
     "metadata": {},
     "output_type": "execute_result"
    }
   ],
   "source": [
    "(df['가격'] * df['판매수량']).sum()"
   ]
  },
  {
   "cell_type": "markdown",
   "id": "0b494ed0",
   "metadata": {},
   "source": [
    "## 각 상품별로 '판매액'을 새로운 파생열로 추가하시오."
   ]
  },
  {
   "cell_type": "code",
   "execution_count": 154,
   "id": "b3e23c1b",
   "metadata": {},
   "outputs": [],
   "source": [
    "df['판매액'] = df['가격'] * df['판매수량']"
   ]
  },
  {
   "cell_type": "markdown",
   "id": "38dfa458",
   "metadata": {},
   "source": [
    "## 각 '카테고리'별 총 판매액을 계산하시오."
   ]
  },
  {
   "cell_type": "code",
   "execution_count": 155,
   "id": "52d0c3ff",
   "metadata": {},
   "outputs": [
    {
     "data": {
      "text/plain": [
       "카테고리\n",
       "도서      20836671\n",
       "생활용품    23319311\n",
       "식품      35534412\n",
       "전자기기    29309289\n",
       "패션      37927067\n",
       "Name: 판매액, dtype: int64"
      ]
     },
     "execution_count": 155,
     "metadata": {},
     "output_type": "execute_result"
    }
   ],
   "source": [
    "df.groupby('카테고리')['판매액'].sum()"
   ]
  },
  {
   "cell_type": "markdown",
   "id": "daa2d7d9",
   "metadata": {},
   "source": [
    "## 각 '카테고리'별 평균 판매액을 계산하고, 평균 판매액이 가장 높은 카테고리를 출력하시오."
   ]
  },
  {
   "cell_type": "code",
   "execution_count": 156,
   "id": "41e239bc",
   "metadata": {},
   "outputs": [
    {
     "data": {
      "text/plain": [
       "'식품'"
      ]
     },
     "execution_count": 156,
     "metadata": {},
     "output_type": "execute_result"
    }
   ],
   "source": [
    "df.groupby('카테고리')['판매액'].mean().idxmax()"
   ]
  },
  {
   "cell_type": "markdown",
   "id": "e94c71ca",
   "metadata": {},
   "source": [
    "## 판매 데이터 중에서 '판매수량' 상위 25%에 해당하는 상품들만 선택하여, 그 상품들의 평균 '가격'을 계산하시오."
   ]
  },
  {
   "cell_type": "code",
   "execution_count": 157,
   "id": "bc6b4979",
   "metadata": {},
   "outputs": [
    {
     "data": {
      "text/html": [
       "<div>\n",
       "<style scoped>\n",
       "    .dataframe tbody tr th:only-of-type {\n",
       "        vertical-align: middle;\n",
       "    }\n",
       "\n",
       "    .dataframe tbody tr th {\n",
       "        vertical-align: top;\n",
       "    }\n",
       "\n",
       "    .dataframe thead th {\n",
       "        text-align: right;\n",
       "    }\n",
       "</style>\n",
       "<table border=\"1\" class=\"dataframe\">\n",
       "  <thead>\n",
       "    <tr style=\"text-align: right;\">\n",
       "      <th></th>\n",
       "      <th>상품ID</th>\n",
       "      <th>가격</th>\n",
       "      <th>판매수량</th>\n",
       "      <th>판매액</th>\n",
       "    </tr>\n",
       "  </thead>\n",
       "  <tbody>\n",
       "    <tr>\n",
       "      <th>count</th>\n",
       "      <td>100.000</td>\n",
       "      <td>100.000</td>\n",
       "      <td>100.00</td>\n",
       "      <td>100.00</td>\n",
       "    </tr>\n",
       "    <tr>\n",
       "      <th>mean</th>\n",
       "      <td>50.500</td>\n",
       "      <td>58998.400</td>\n",
       "      <td>25.79</td>\n",
       "      <td>1469267.50</td>\n",
       "    </tr>\n",
       "    <tr>\n",
       "      <th>std</th>\n",
       "      <td>29.011</td>\n",
       "      <td>25703.805</td>\n",
       "      <td>13.12</td>\n",
       "      <td>977913.22</td>\n",
       "    </tr>\n",
       "    <tr>\n",
       "      <th>min</th>\n",
       "      <td>1.000</td>\n",
       "      <td>10564.000</td>\n",
       "      <td>1.00</td>\n",
       "      <td>13350.00</td>\n",
       "    </tr>\n",
       "    <tr>\n",
       "      <th>25%</th>\n",
       "      <td>25.750</td>\n",
       "      <td>39669.500</td>\n",
       "      <td>16.00</td>\n",
       "      <td>742785.00</td>\n",
       "    </tr>\n",
       "    <tr>\n",
       "      <th>50%</th>\n",
       "      <td>50.500</td>\n",
       "      <td>60695.500</td>\n",
       "      <td>26.00</td>\n",
       "      <td>1237418.50</td>\n",
       "    </tr>\n",
       "    <tr>\n",
       "      <th>75%</th>\n",
       "      <td>75.250</td>\n",
       "      <td>79925.250</td>\n",
       "      <td>38.00</td>\n",
       "      <td>2094176.25</td>\n",
       "    </tr>\n",
       "    <tr>\n",
       "      <th>max</th>\n",
       "      <td>100.000</td>\n",
       "      <td>99763.000</td>\n",
       "      <td>49.00</td>\n",
       "      <td>3874860.00</td>\n",
       "    </tr>\n",
       "  </tbody>\n",
       "</table>\n",
       "</div>"
      ],
      "text/plain": [
       "          상품ID         가격    판매수량         판매액\n",
       "count  100.000    100.000  100.00      100.00\n",
       "mean    50.500  58998.400   25.79  1469267.50\n",
       "std     29.011  25703.805   13.12   977913.22\n",
       "min      1.000  10564.000    1.00    13350.00\n",
       "25%     25.750  39669.500   16.00   742785.00\n",
       "50%     50.500  60695.500   26.00  1237418.50\n",
       "75%     75.250  79925.250   38.00  2094176.25\n",
       "max    100.000  99763.000   49.00  3874860.00"
      ]
     },
     "execution_count": 157,
     "metadata": {},
     "output_type": "execute_result"
    }
   ],
   "source": [
    "df.describe().round(3)"
   ]
  },
  {
   "cell_type": "code",
   "execution_count": 169,
   "id": "546e7e49",
   "metadata": {},
   "outputs": [
    {
     "data": {
      "text/plain": [
       "49329.74074074074"
      ]
     },
     "execution_count": 169,
     "metadata": {},
     "output_type": "execute_result"
    }
   ],
   "source": [
    "x = df['판매수량'].quantile(0.75) # 상위 25%\n",
    "filt = df['판매수량'] >= x\n",
    "df[filt]['가격'].mean()"
   ]
  },
  {
   "cell_type": "markdown",
   "id": "1bf24e13",
   "metadata": {},
   "source": [
    "## '판매날짜'를 datetime 타입으로 변환하고, 연도별 총 판매수량을 계산하시오."
   ]
  },
  {
   "cell_type": "code",
   "execution_count": 159,
   "id": "d973a8ac",
   "metadata": {},
   "outputs": [
    {
     "name": "stdout",
     "output_type": "stream",
     "text": [
      "<class 'pandas.core.series.Series'>\n",
      "RangeIndex: 100 entries, 0 to 99\n",
      "Series name: 판매날짜\n",
      "Non-Null Count  Dtype \n",
      "--------------  ----- \n",
      "100 non-null    object\n",
      "dtypes: object(1)\n",
      "memory usage: 932.0+ bytes\n"
     ]
    }
   ],
   "source": [
    "df['판매날짜'].info()"
   ]
  },
  {
   "cell_type": "code",
   "execution_count": 160,
   "id": "af913419",
   "metadata": {},
   "outputs": [
    {
     "name": "stdout",
     "output_type": "stream",
     "text": [
      "<class 'pandas.core.series.Series'>\n",
      "RangeIndex: 100 entries, 0 to 99\n",
      "Series name: 판매날짜\n",
      "Non-Null Count  Dtype         \n",
      "--------------  -----         \n",
      "100 non-null    datetime64[ns]\n",
      "dtypes: datetime64[ns](1)\n",
      "memory usage: 932.0 bytes\n"
     ]
    }
   ],
   "source": [
    "df['판매날짜'] = pd.to_datetime(df['판매날짜'])\n",
    "df['판매날짜'].info()"
   ]
  },
  {
   "cell_type": "code",
   "execution_count": 161,
   "id": "48223f29",
   "metadata": {},
   "outputs": [
    {
     "data": {
      "text/plain": [
       "판매날짜\n",
       "2023    2579\n",
       "Name: 판매수량, dtype: int64"
      ]
     },
     "execution_count": 161,
     "metadata": {},
     "output_type": "execute_result"
    }
   ],
   "source": [
    "group_year = df['판매날짜'].dt.year\n",
    "df.groupby(group_year)['판매수량'].sum()"
   ]
  },
  {
   "cell_type": "markdown",
   "id": "a16925a1",
   "metadata": {},
   "source": [
    "## 각 카테고리 내에서 '가격' 상위 10%에 해당하는 상품들의 목록을 출력하시오."
   ]
  },
  {
   "cell_type": "code",
   "execution_count": 183,
   "id": "57bfbc08",
   "metadata": {},
   "outputs": [
    {
     "data": {
      "text/plain": [
       "<pandas.core.groupby.generic.DataFrameGroupBy object at 0x000001B32BD68BD0>"
      ]
     },
     "execution_count": 183,
     "metadata": {},
     "output_type": "execute_result"
    }
   ],
   "source": [
    "x = df['가격'].quantile(0.9) # 가격 상위 10%\n",
    "filt = df['가격'] >= x\n",
    "df[filt].reset_index(drop=True).groupby('카테고리')"
   ]
  },
  {
   "cell_type": "code",
   "execution_count": 184,
   "id": "ae05ea8c",
   "metadata": {},
   "outputs": [
    {
     "data": {
      "text/html": [
       "<div>\n",
       "<style scoped>\n",
       "    .dataframe tbody tr th:only-of-type {\n",
       "        vertical-align: middle;\n",
       "    }\n",
       "\n",
       "    .dataframe tbody tr th {\n",
       "        vertical-align: top;\n",
       "    }\n",
       "\n",
       "    .dataframe thead th {\n",
       "        text-align: right;\n",
       "    }\n",
       "</style>\n",
       "<table border=\"1\" class=\"dataframe\">\n",
       "  <thead>\n",
       "    <tr style=\"text-align: right;\">\n",
       "      <th></th>\n",
       "      <th></th>\n",
       "      <th>상품ID</th>\n",
       "      <th>상품명</th>\n",
       "      <th>카테고리</th>\n",
       "      <th>가격</th>\n",
       "      <th>판매수량</th>\n",
       "      <th>판매날짜</th>\n",
       "      <th>판매액</th>\n",
       "    </tr>\n",
       "    <tr>\n",
       "      <th>카테고리</th>\n",
       "      <th></th>\n",
       "      <th></th>\n",
       "      <th></th>\n",
       "      <th></th>\n",
       "      <th></th>\n",
       "      <th></th>\n",
       "      <th></th>\n",
       "      <th></th>\n",
       "    </tr>\n",
       "  </thead>\n",
       "  <tbody>\n",
       "    <tr>\n",
       "      <th rowspan=\"2\" valign=\"top\">도서</th>\n",
       "      <th>5</th>\n",
       "      <td>6</td>\n",
       "      <td>상품6</td>\n",
       "      <td>도서</td>\n",
       "      <td>99763</td>\n",
       "      <td>36</td>\n",
       "      <td>2023-01-06</td>\n",
       "      <td>3591468</td>\n",
       "    </tr>\n",
       "    <tr>\n",
       "      <th>74</th>\n",
       "      <td>75</td>\n",
       "      <td>상품75</td>\n",
       "      <td>도서</td>\n",
       "      <td>99357</td>\n",
       "      <td>7</td>\n",
       "      <td>2023-03-16</td>\n",
       "      <td>695499</td>\n",
       "    </tr>\n",
       "    <tr>\n",
       "      <th rowspan=\"2\" valign=\"top\">생활용품</th>\n",
       "      <th>48</th>\n",
       "      <td>49</td>\n",
       "      <td>상품49</td>\n",
       "      <td>생활용품</td>\n",
       "      <td>97156</td>\n",
       "      <td>28</td>\n",
       "      <td>2023-02-18</td>\n",
       "      <td>2720368</td>\n",
       "    </tr>\n",
       "    <tr>\n",
       "      <th>63</th>\n",
       "      <td>64</td>\n",
       "      <td>상품64</td>\n",
       "      <td>생활용품</td>\n",
       "      <td>89052</td>\n",
       "      <td>27</td>\n",
       "      <td>2023-03-05</td>\n",
       "      <td>2404404</td>\n",
       "    </tr>\n",
       "    <tr>\n",
       "      <th rowspan=\"3\" valign=\"top\">식품</th>\n",
       "      <th>10</th>\n",
       "      <td>11</td>\n",
       "      <td>상품11</td>\n",
       "      <td>식품</td>\n",
       "      <td>99012</td>\n",
       "      <td>18</td>\n",
       "      <td>2023-01-11</td>\n",
       "      <td>1782216</td>\n",
       "    </tr>\n",
       "    <tr>\n",
       "      <th>31</th>\n",
       "      <td>32</td>\n",
       "      <td>상품32</td>\n",
       "      <td>식품</td>\n",
       "      <td>92845</td>\n",
       "      <td>18</td>\n",
       "      <td>2023-02-01</td>\n",
       "      <td>1671210</td>\n",
       "    </tr>\n",
       "    <tr>\n",
       "      <th>97</th>\n",
       "      <td>98</td>\n",
       "      <td>상품98</td>\n",
       "      <td>식품</td>\n",
       "      <td>91867</td>\n",
       "      <td>27</td>\n",
       "      <td>2023-04-08</td>\n",
       "      <td>2480409</td>\n",
       "    </tr>\n",
       "    <tr>\n",
       "      <th rowspan=\"3\" valign=\"top\">전자기기</th>\n",
       "      <th>0</th>\n",
       "      <td>1</td>\n",
       "      <td>상품1</td>\n",
       "      <td>전자기기</td>\n",
       "      <td>98210</td>\n",
       "      <td>21</td>\n",
       "      <td>2023-01-01</td>\n",
       "      <td>2062410</td>\n",
       "    </tr>\n",
       "    <tr>\n",
       "      <th>37</th>\n",
       "      <td>38</td>\n",
       "      <td>상품38</td>\n",
       "      <td>전자기기</td>\n",
       "      <td>88065</td>\n",
       "      <td>44</td>\n",
       "      <td>2023-02-07</td>\n",
       "      <td>3874860</td>\n",
       "    </tr>\n",
       "    <tr>\n",
       "      <th>43</th>\n",
       "      <td>44</td>\n",
       "      <td>상품44</td>\n",
       "      <td>전자기기</td>\n",
       "      <td>90079</td>\n",
       "      <td>8</td>\n",
       "      <td>2023-02-13</td>\n",
       "      <td>720632</td>\n",
       "    </tr>\n",
       "    <tr>\n",
       "      <th rowspan=\"3\" valign=\"top\">패션</th>\n",
       "      <th>4</th>\n",
       "      <td>5</td>\n",
       "      <td>상품5</td>\n",
       "      <td>패션</td>\n",
       "      <td>96757</td>\n",
       "      <td>20</td>\n",
       "      <td>2023-01-05</td>\n",
       "      <td>1935140</td>\n",
       "    </tr>\n",
       "    <tr>\n",
       "      <th>55</th>\n",
       "      <td>56</td>\n",
       "      <td>상품56</td>\n",
       "      <td>패션</td>\n",
       "      <td>88588</td>\n",
       "      <td>40</td>\n",
       "      <td>2023-02-25</td>\n",
       "      <td>3543520</td>\n",
       "    </tr>\n",
       "    <tr>\n",
       "      <th>99</th>\n",
       "      <td>100</td>\n",
       "      <td>상품100</td>\n",
       "      <td>패션</td>\n",
       "      <td>97389</td>\n",
       "      <td>21</td>\n",
       "      <td>2023-04-10</td>\n",
       "      <td>2045169</td>\n",
       "    </tr>\n",
       "  </tbody>\n",
       "</table>\n",
       "</div>"
      ],
      "text/plain": [
       "         상품ID    상품명  카테고리     가격  판매수량       판매날짜      판매액\n",
       "카테고리                                                       \n",
       "도서   5      6    상품6    도서  99763    36 2023-01-06  3591468\n",
       "     74    75   상품75    도서  99357     7 2023-03-16   695499\n",
       "생활용품 48    49   상품49  생활용품  97156    28 2023-02-18  2720368\n",
       "     63    64   상품64  생활용품  89052    27 2023-03-05  2404404\n",
       "식품   10    11   상품11    식품  99012    18 2023-01-11  1782216\n",
       "     31    32   상품32    식품  92845    18 2023-02-01  1671210\n",
       "     97    98   상품98    식품  91867    27 2023-04-08  2480409\n",
       "전자기기 0      1    상품1  전자기기  98210    21 2023-01-01  2062410\n",
       "     37    38   상품38  전자기기  88065    44 2023-02-07  3874860\n",
       "     43    44   상품44  전자기기  90079     8 2023-02-13   720632\n",
       "패션   4      5    상품5    패션  96757    20 2023-01-05  1935140\n",
       "     55    56   상품56    패션  88588    40 2023-02-25  3543520\n",
       "     99   100  상품100    패션  97389    21 2023-04-10  2045169"
      ]
     },
     "execution_count": 184,
     "metadata": {},
     "output_type": "execute_result"
    }
   ],
   "source": [
    "df.groupby('카테고리').apply(lambda x: x[x['가격'] >= x['가격'].quantile(0.9)])"
   ]
  },
  {
   "cell_type": "markdown",
   "id": "fbb1011c",
   "metadata": {},
   "source": [
    "## '판매날짜'를 기준으로 각 달의 총 판매액을 계산하고, 판매액이 가장 높은 달을 출력하시오."
   ]
  },
  {
   "cell_type": "code",
   "execution_count": 163,
   "id": "0ea749b0",
   "metadata": {},
   "outputs": [
    {
     "data": {
      "text/plain": [
       "1"
      ]
     },
     "execution_count": 163,
     "metadata": {},
     "output_type": "execute_result"
    }
   ],
   "source": [
    "group_month = df['판매날짜'].dt.month\n",
    "df.groupby(group_month)['판매액'].sum().idxmax()"
   ]
  },
  {
   "cell_type": "code",
   "execution_count": null,
   "id": "99976deb",
   "metadata": {},
   "outputs": [],
   "source": []
  }
 ],
 "metadata": {
  "kernelspec": {
   "display_name": "Python 3 (ipykernel)",
   "language": "python",
   "name": "python3"
  },
  "language_info": {
   "codemirror_mode": {
    "name": "ipython",
    "version": 3
   },
   "file_extension": ".py",
   "mimetype": "text/x-python",
   "name": "python",
   "nbconvert_exporter": "python",
   "pygments_lexer": "ipython3",
   "version": "3.11.5"
  },
  "toc": {
   "base_numbering": 1,
   "nav_menu": {},
   "number_sections": true,
   "sideBar": true,
   "skip_h1_title": false,
   "title_cell": "Table of Contents",
   "title_sidebar": "Contents",
   "toc_cell": false,
   "toc_position": {},
   "toc_section_display": true,
   "toc_window_display": false
  },
  "varInspector": {
   "cols": {
    "lenName": 16,
    "lenType": 16,
    "lenVar": 40
   },
   "kernels_config": {
    "python": {
     "delete_cmd_postfix": "",
     "delete_cmd_prefix": "del ",
     "library": "var_list.py",
     "varRefreshCmd": "print(var_dic_list())"
    },
    "r": {
     "delete_cmd_postfix": ") ",
     "delete_cmd_prefix": "rm(",
     "library": "var_list.r",
     "varRefreshCmd": "cat(var_dic_list()) "
    }
   },
   "types_to_exclude": [
    "module",
    "function",
    "builtin_function_or_method",
    "instance",
    "_Feature"
   ],
   "window_display": false
  }
 },
 "nbformat": 4,
 "nbformat_minor": 5
}
