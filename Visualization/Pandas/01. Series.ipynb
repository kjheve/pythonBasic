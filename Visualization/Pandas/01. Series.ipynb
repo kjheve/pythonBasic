{
 "cells": [
  {
   "cell_type": "markdown",
   "id": "47c5c8f2-de15-4ce6-8b0f-faca8343ed6f",
   "metadata": {},
   "source": [
    "# Pandas\n",
    "파이썬에서 사용하는 데이터 분석 라이브러리"
   ]
  },
  {
   "cell_type": "code",
   "execution_count": 1,
   "id": "e49939f1-a07c-44f9-94ae-ae97e923432e",
   "metadata": {},
   "outputs": [],
   "source": [
    "import pandas as pd"
   ]
  },
  {
   "cell_type": "markdown",
   "id": "3cf112b5-6014-47a3-bad3-171fc88b40fb",
   "metadata": {},
   "source": [
    "# 1. Series\n",
    "1차원 데이터 (정수, 실수, 문자열 등)"
   ]
  },
  {
   "cell_type": "markdown",
   "id": "35cc7ccd-2867-4ac0-88ac-6fe0d13dafb8",
   "metadata": {},
   "source": [
    "## Series 객체 생성\n",
    "예) 1월부터 4월까지 평균 온도 데이터 (-20, -10, 10, 20)"
   ]
  },
  {
   "cell_type": "code",
   "execution_count": 5,
   "id": "91063fd6-897a-4930-a114-f71b92297bf4",
   "metadata": {},
   "outputs": [
    {
     "data": {
      "text/plain": [
       "0   -20\n",
       "1   -10\n",
       "2    10\n",
       "3    20\n",
       "dtype: int64"
      ]
     },
     "execution_count": 5,
     "metadata": {},
     "output_type": "execute_result"
    }
   ],
   "source": [
    "temp = pd.Series([-20, -10, 10, 20])\n",
    "temp"
   ]
  },
  {
   "cell_type": "code",
   "execution_count": 8,
   "id": "f490f5b1-6ba9-4655-b770-fccdea165f35",
   "metadata": {},
   "outputs": [
    {
     "data": {
      "text/plain": [
       "-20"
      ]
     },
     "execution_count": 8,
     "metadata": {},
     "output_type": "execute_result"
    }
   ],
   "source": [
    "temp[0] # 1월 온도"
   ]
  },
  {
   "cell_type": "code",
   "execution_count": 9,
   "id": "959d15a6-492d-4b6c-8ca2-6bf924579630",
   "metadata": {},
   "outputs": [
    {
     "data": {
      "text/plain": [
       "10"
      ]
     },
     "execution_count": 9,
     "metadata": {},
     "output_type": "execute_result"
    }
   ],
   "source": [
    "temp[2] # 3월 온도"
   ]
  },
  {
   "cell_type": "markdown",
   "id": "0f772352-78d3-4389-9bf2-cbb387e5d267",
   "metadata": {},
   "source": [
    "## Series 객체 생성 (Index 지정)"
   ]
  },
  {
   "cell_type": "code",
   "execution_count": 11,
   "id": "00ccece0-8955-468c-b00d-cd5273b194cf",
   "metadata": {},
   "outputs": [
    {
     "data": {
      "text/plain": [
       "Jan   -20\n",
       "Feb   -10\n",
       "Mar    10\n",
       "Apr    20\n",
       "dtype: int64"
      ]
     },
     "execution_count": 11,
     "metadata": {},
     "output_type": "execute_result"
    }
   ],
   "source": [
    "temp = pd.Series([-20, -10, 10, 20], index=['Jan', 'Feb', 'Mar', 'Apr'])\n",
    "temp"
   ]
  },
  {
   "cell_type": "code",
   "execution_count": 14,
   "id": "027fb365-15bc-4339-99d6-c3514ab0f801",
   "metadata": {},
   "outputs": [
    {
     "data": {
      "text/plain": [
       "20"
      ]
     },
     "execution_count": 14,
     "metadata": {},
     "output_type": "execute_result"
    }
   ],
   "source": [
    "temp['Apr']"
   ]
  },
  {
   "cell_type": "code",
   "execution_count": null,
   "id": "d54964a1-0dc4-4ae8-b097-9bd90063045e",
   "metadata": {},
   "outputs": [],
   "source": [
    "temp['Jan'] # Index Jan(1월)에 해당하는 데이터 출력"
   ]
  },
  {
   "cell_type": "code",
   "execution_count": null,
   "id": "7b756455-6cab-4e0c-a4cd-b090fb8173f1",
   "metadata": {},
   "outputs": [],
   "source": []
  },
  {
   "cell_type": "code",
   "execution_count": null,
   "id": "13c7b9d8-e082-4219-b60b-0d913cdf7f57",
   "metadata": {},
   "outputs": [],
   "source": []
  },
  {
   "cell_type": "code",
   "execution_count": null,
   "id": "98e3817a-d314-4a3d-8465-bd4d52d9b24a",
   "metadata": {},
   "outputs": [],
   "source": []
  }
 ],
 "metadata": {
  "kernelspec": {
   "display_name": "Python 3 (ipykernel)",
   "language": "python",
   "name": "python3"
  },
  "language_info": {
   "codemirror_mode": {
    "name": "ipython",
    "version": 3
   },
   "file_extension": ".py",
   "mimetype": "text/x-python",
   "name": "python",
   "nbconvert_exporter": "python",
   "pygments_lexer": "ipython3",
   "version": "3.11.7"
  }
 },
 "nbformat": 4,
 "nbformat_minor": 5
}
